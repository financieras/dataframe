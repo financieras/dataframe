{
  "nbformat": 4,
  "nbformat_minor": 0,
  "metadata": {
    "colab": {
      "provenance": [],
      "authorship_tag": "ABX9TyMp4CTlaIyzZYygTb0nVEKI",
      "include_colab_link": true
    },
    "kernelspec": {
      "name": "python3",
      "display_name": "Python 3"
    },
    "language_info": {
      "name": "python"
    }
  },
  "cells": [
    {
      "cell_type": "markdown",
      "metadata": {
        "id": "view-in-github",
        "colab_type": "text"
      },
      "source": [
        "<a href=\"https://colab.research.google.com/github/financieras/dataframe/blob/main/2024/00_previo.ipynb\" target=\"_parent\"><img src=\"https://colab.research.google.com/assets/colab-badge.svg\" alt=\"Open In Colab\"/></a>"
      ]
    },
    {
      "cell_type": "code",
      "execution_count": 2,
      "metadata": {
        "colab": {
          "base_uri": "https://localhost:8080/"
        },
        "id": "tBq4zeLbfQ52",
        "outputId": "7b24a040-6e00-4f52-8045-28eeeb63122a"
      },
      "outputs": [
        {
          "output_type": "stream",
          "name": "stdout",
          "text": [
            "Cloning into 'dataframe'...\n",
            "remote: Enumerating objects: 41, done.\u001b[K\n",
            "remote: Counting objects: 100% (41/41), done.\u001b[K\n",
            "remote: Compressing objects: 100% (39/39), done.\u001b[K\n",
            "remote: Total 41 (delta 22), reused 0 (delta 0), pack-reused 0 (from 0)\u001b[K\n",
            "Receiving objects: 100% (41/41), 373.93 KiB | 3.56 MiB/s, done.\n",
            "Resolving deltas: 100% (22/22), done.\n"
          ]
        }
      ],
      "source": [
        "!git clone https://github.com/financieras/dataframe.git"
      ]
    },
    {
      "cell_type": "code",
      "source": [
        "!pwd\n",
        "!cd content/dataframe\n",
        "!mkdir 2024"
      ],
      "metadata": {
        "colab": {
          "base_uri": "https://localhost:8080/"
        },
        "id": "T138Csd0hMKA",
        "outputId": "190ba7d7-7699-46fe-ac08-93ceeb2bdc63"
      },
      "execution_count": 5,
      "outputs": [
        {
          "output_type": "stream",
          "name": "stdout",
          "text": [
            "/content\n"
          ]
        }
      ]
    },
    {
      "cell_type": "code",
      "source": [
        "# subir manualmente el archivo 'dataset_Modul0_2024.csv' a esta ruta:\n",
        "# '/content/dataframe/2024/dataset_Modul0_2024.csv'"
      ],
      "metadata": {
        "id": "pthHIQdBiCvD"
      },
      "execution_count": 15,
      "outputs": []
    },
    {
      "cell_type": "code",
      "source": [
        "import pandas as pd\n",
        "import numpy as np\n",
        "import matplotlib.pyplot as plt\n",
        "import seaborn as sns\n",
        "import warnings\n",
        "warnings.filterwarnings('ignore')"
      ],
      "metadata": {
        "id": "CmonKMSMiXsa"
      },
      "execution_count": 8,
      "outputs": []
    },
    {
      "cell_type": "code",
      "source": [
        "df = pd.read_csv('/content/dataframe/2024/dataset_Modul0_2024.csv')\n",
        "\n",
        "df.head()"
      ],
      "metadata": {
        "colab": {
          "base_uri": "https://localhost:8080/",
          "height": 206
        },
        "id": "rriX-XX9ijgH",
        "outputId": "e963f584-630c-40b1-8023-f147f54d9594"
      },
      "execution_count": 14,
      "outputs": [
        {
          "output_type": "execute_result",
          "data": {
            "text/plain": [
              "                                            Jobtitle     City        Date  \\\n",
              "0                      ['Urgente', 'Data Scientist']   Online  01/11/2024   \n",
              "1                       ['Urgente', 'Experto/a RPA']   Madrid  01/11/2024   \n",
              "2  ['Urgente', 'Team Leader Infraestructura y Hel...   Madrid  01/11/2024   \n",
              "3              ['Urgente', 'D365 BC/NAV Consultant']  Sevilla  01/11/2024   \n",
              "4                      ['Ingeniero QA Tester Banca']   Madrid  02/11/2024   \n",
              "\n",
              "                       Company  \\\n",
              "0               Gstock Web App   \n",
              "1                    NPR Spain   \n",
              "2                      Sedecal   \n",
              "3      nine twenty recruitment   \n",
              "4  PANEL Sistemas Informáticos   \n",
              "\n",
              "                                              Skills  \\\n",
              "0  ['machine learning', 'big data', 'business int...   \n",
              "1                                  ['rpa', 'uipath']   \n",
              "2  ['linux', 'azure', 'windows', 'cibersegurid da...   \n",
              "3   ['business central', 'dynamics 365', 'navision']   \n",
              "4                                   ['qa', 'devops']   \n",
              "\n",
              "                                  Profesion         Education         Salary  \\\n",
              "0  Inteligencia Artificial/Machine Learning       Universidad  no disponible   \n",
              "1                      Analista Programador                GM  no disponible   \n",
              "2                            Jefe de Equipo                GS        49500.0   \n",
              "3                            Arquitecto TIC  Bachillerato/COU  no disponible   \n",
              "4                                    Tester                GS  no disponible   \n",
              "\n",
              "   Jobs  Candidates        Copy  \n",
              "0     1          88  2024/11/03  \n",
              "1     1          13  2024/11/03  \n",
              "2     1          23  2024/11/03  \n",
              "3     1           0  2024/11/03  \n",
              "4     1           9  2024/11/03  "
            ],
            "text/html": [
              "\n",
              "  <div id=\"df-ec84dc99-b81b-4ac1-b819-5f7257129d94\" class=\"colab-df-container\">\n",
              "    <div>\n",
              "<style scoped>\n",
              "    .dataframe tbody tr th:only-of-type {\n",
              "        vertical-align: middle;\n",
              "    }\n",
              "\n",
              "    .dataframe tbody tr th {\n",
              "        vertical-align: top;\n",
              "    }\n",
              "\n",
              "    .dataframe thead th {\n",
              "        text-align: right;\n",
              "    }\n",
              "</style>\n",
              "<table border=\"1\" class=\"dataframe\">\n",
              "  <thead>\n",
              "    <tr style=\"text-align: right;\">\n",
              "      <th></th>\n",
              "      <th>Jobtitle</th>\n",
              "      <th>City</th>\n",
              "      <th>Date</th>\n",
              "      <th>Company</th>\n",
              "      <th>Skills</th>\n",
              "      <th>Profesion</th>\n",
              "      <th>Education</th>\n",
              "      <th>Salary</th>\n",
              "      <th>Jobs</th>\n",
              "      <th>Candidates</th>\n",
              "      <th>Copy</th>\n",
              "    </tr>\n",
              "  </thead>\n",
              "  <tbody>\n",
              "    <tr>\n",
              "      <th>0</th>\n",
              "      <td>['Urgente', 'Data Scientist']</td>\n",
              "      <td>Online</td>\n",
              "      <td>01/11/2024</td>\n",
              "      <td>Gstock Web App</td>\n",
              "      <td>['machine learning', 'big data', 'business int...</td>\n",
              "      <td>Inteligencia Artificial/Machine Learning</td>\n",
              "      <td>Universidad</td>\n",
              "      <td>no disponible</td>\n",
              "      <td>1</td>\n",
              "      <td>88</td>\n",
              "      <td>2024/11/03</td>\n",
              "    </tr>\n",
              "    <tr>\n",
              "      <th>1</th>\n",
              "      <td>['Urgente', 'Experto/a RPA']</td>\n",
              "      <td>Madrid</td>\n",
              "      <td>01/11/2024</td>\n",
              "      <td>NPR Spain</td>\n",
              "      <td>['rpa', 'uipath']</td>\n",
              "      <td>Analista Programador</td>\n",
              "      <td>GM</td>\n",
              "      <td>no disponible</td>\n",
              "      <td>1</td>\n",
              "      <td>13</td>\n",
              "      <td>2024/11/03</td>\n",
              "    </tr>\n",
              "    <tr>\n",
              "      <th>2</th>\n",
              "      <td>['Urgente', 'Team Leader Infraestructura y Hel...</td>\n",
              "      <td>Madrid</td>\n",
              "      <td>01/11/2024</td>\n",
              "      <td>Sedecal</td>\n",
              "      <td>['linux', 'azure', 'windows', 'cibersegurid da...</td>\n",
              "      <td>Jefe de Equipo</td>\n",
              "      <td>GS</td>\n",
              "      <td>49500.0</td>\n",
              "      <td>1</td>\n",
              "      <td>23</td>\n",
              "      <td>2024/11/03</td>\n",
              "    </tr>\n",
              "    <tr>\n",
              "      <th>3</th>\n",
              "      <td>['Urgente', 'D365 BC/NAV Consultant']</td>\n",
              "      <td>Sevilla</td>\n",
              "      <td>01/11/2024</td>\n",
              "      <td>nine twenty recruitment</td>\n",
              "      <td>['business central', 'dynamics 365', 'navision']</td>\n",
              "      <td>Arquitecto TIC</td>\n",
              "      <td>Bachillerato/COU</td>\n",
              "      <td>no disponible</td>\n",
              "      <td>1</td>\n",
              "      <td>0</td>\n",
              "      <td>2024/11/03</td>\n",
              "    </tr>\n",
              "    <tr>\n",
              "      <th>4</th>\n",
              "      <td>['Ingeniero QA Tester Banca']</td>\n",
              "      <td>Madrid</td>\n",
              "      <td>02/11/2024</td>\n",
              "      <td>PANEL Sistemas Informáticos</td>\n",
              "      <td>['qa', 'devops']</td>\n",
              "      <td>Tester</td>\n",
              "      <td>GS</td>\n",
              "      <td>no disponible</td>\n",
              "      <td>1</td>\n",
              "      <td>9</td>\n",
              "      <td>2024/11/03</td>\n",
              "    </tr>\n",
              "  </tbody>\n",
              "</table>\n",
              "</div>\n",
              "    <div class=\"colab-df-buttons\">\n",
              "\n",
              "  <div class=\"colab-df-container\">\n",
              "    <button class=\"colab-df-convert\" onclick=\"convertToInteractive('df-ec84dc99-b81b-4ac1-b819-5f7257129d94')\"\n",
              "            title=\"Convert this dataframe to an interactive table.\"\n",
              "            style=\"display:none;\">\n",
              "\n",
              "  <svg xmlns=\"http://www.w3.org/2000/svg\" height=\"24px\" viewBox=\"0 -960 960 960\">\n",
              "    <path d=\"M120-120v-720h720v720H120Zm60-500h600v-160H180v160Zm220 220h160v-160H400v160Zm0 220h160v-160H400v160ZM180-400h160v-160H180v160Zm440 0h160v-160H620v160ZM180-180h160v-160H180v160Zm440 0h160v-160H620v160Z\"/>\n",
              "  </svg>\n",
              "    </button>\n",
              "\n",
              "  <style>\n",
              "    .colab-df-container {\n",
              "      display:flex;\n",
              "      gap: 12px;\n",
              "    }\n",
              "\n",
              "    .colab-df-convert {\n",
              "      background-color: #E8F0FE;\n",
              "      border: none;\n",
              "      border-radius: 50%;\n",
              "      cursor: pointer;\n",
              "      display: none;\n",
              "      fill: #1967D2;\n",
              "      height: 32px;\n",
              "      padding: 0 0 0 0;\n",
              "      width: 32px;\n",
              "    }\n",
              "\n",
              "    .colab-df-convert:hover {\n",
              "      background-color: #E2EBFA;\n",
              "      box-shadow: 0px 1px 2px rgba(60, 64, 67, 0.3), 0px 1px 3px 1px rgba(60, 64, 67, 0.15);\n",
              "      fill: #174EA6;\n",
              "    }\n",
              "\n",
              "    .colab-df-buttons div {\n",
              "      margin-bottom: 4px;\n",
              "    }\n",
              "\n",
              "    [theme=dark] .colab-df-convert {\n",
              "      background-color: #3B4455;\n",
              "      fill: #D2E3FC;\n",
              "    }\n",
              "\n",
              "    [theme=dark] .colab-df-convert:hover {\n",
              "      background-color: #434B5C;\n",
              "      box-shadow: 0px 1px 3px 1px rgba(0, 0, 0, 0.15);\n",
              "      filter: drop-shadow(0px 1px 2px rgba(0, 0, 0, 0.3));\n",
              "      fill: #FFFFFF;\n",
              "    }\n",
              "  </style>\n",
              "\n",
              "    <script>\n",
              "      const buttonEl =\n",
              "        document.querySelector('#df-ec84dc99-b81b-4ac1-b819-5f7257129d94 button.colab-df-convert');\n",
              "      buttonEl.style.display =\n",
              "        google.colab.kernel.accessAllowed ? 'block' : 'none';\n",
              "\n",
              "      async function convertToInteractive(key) {\n",
              "        const element = document.querySelector('#df-ec84dc99-b81b-4ac1-b819-5f7257129d94');\n",
              "        const dataTable =\n",
              "          await google.colab.kernel.invokeFunction('convertToInteractive',\n",
              "                                                    [key], {});\n",
              "        if (!dataTable) return;\n",
              "\n",
              "        const docLinkHtml = 'Like what you see? Visit the ' +\n",
              "          '<a target=\"_blank\" href=https://colab.research.google.com/notebooks/data_table.ipynb>data table notebook</a>'\n",
              "          + ' to learn more about interactive tables.';\n",
              "        element.innerHTML = '';\n",
              "        dataTable['output_type'] = 'display_data';\n",
              "        await google.colab.output.renderOutput(dataTable, element);\n",
              "        const docLink = document.createElement('div');\n",
              "        docLink.innerHTML = docLinkHtml;\n",
              "        element.appendChild(docLink);\n",
              "      }\n",
              "    </script>\n",
              "  </div>\n",
              "\n",
              "\n",
              "    <div id=\"df-2be61c4c-14c8-4628-98a5-8821bad96aa0\">\n",
              "      <button class=\"colab-df-quickchart\" onclick=\"quickchart('df-2be61c4c-14c8-4628-98a5-8821bad96aa0')\"\n",
              "                title=\"Suggest charts\"\n",
              "                style=\"display:none;\">\n",
              "\n",
              "<svg xmlns=\"http://www.w3.org/2000/svg\" height=\"24px\"viewBox=\"0 0 24 24\"\n",
              "     width=\"24px\">\n",
              "    <g>\n",
              "        <path d=\"M19 3H5c-1.1 0-2 .9-2 2v14c0 1.1.9 2 2 2h14c1.1 0 2-.9 2-2V5c0-1.1-.9-2-2-2zM9 17H7v-7h2v7zm4 0h-2V7h2v10zm4 0h-2v-4h2v4z\"/>\n",
              "    </g>\n",
              "</svg>\n",
              "      </button>\n",
              "\n",
              "<style>\n",
              "  .colab-df-quickchart {\n",
              "      --bg-color: #E8F0FE;\n",
              "      --fill-color: #1967D2;\n",
              "      --hover-bg-color: #E2EBFA;\n",
              "      --hover-fill-color: #174EA6;\n",
              "      --disabled-fill-color: #AAA;\n",
              "      --disabled-bg-color: #DDD;\n",
              "  }\n",
              "\n",
              "  [theme=dark] .colab-df-quickchart {\n",
              "      --bg-color: #3B4455;\n",
              "      --fill-color: #D2E3FC;\n",
              "      --hover-bg-color: #434B5C;\n",
              "      --hover-fill-color: #FFFFFF;\n",
              "      --disabled-bg-color: #3B4455;\n",
              "      --disabled-fill-color: #666;\n",
              "  }\n",
              "\n",
              "  .colab-df-quickchart {\n",
              "    background-color: var(--bg-color);\n",
              "    border: none;\n",
              "    border-radius: 50%;\n",
              "    cursor: pointer;\n",
              "    display: none;\n",
              "    fill: var(--fill-color);\n",
              "    height: 32px;\n",
              "    padding: 0;\n",
              "    width: 32px;\n",
              "  }\n",
              "\n",
              "  .colab-df-quickchart:hover {\n",
              "    background-color: var(--hover-bg-color);\n",
              "    box-shadow: 0 1px 2px rgba(60, 64, 67, 0.3), 0 1px 3px 1px rgba(60, 64, 67, 0.15);\n",
              "    fill: var(--button-hover-fill-color);\n",
              "  }\n",
              "\n",
              "  .colab-df-quickchart-complete:disabled,\n",
              "  .colab-df-quickchart-complete:disabled:hover {\n",
              "    background-color: var(--disabled-bg-color);\n",
              "    fill: var(--disabled-fill-color);\n",
              "    box-shadow: none;\n",
              "  }\n",
              "\n",
              "  .colab-df-spinner {\n",
              "    border: 2px solid var(--fill-color);\n",
              "    border-color: transparent;\n",
              "    border-bottom-color: var(--fill-color);\n",
              "    animation:\n",
              "      spin 1s steps(1) infinite;\n",
              "  }\n",
              "\n",
              "  @keyframes spin {\n",
              "    0% {\n",
              "      border-color: transparent;\n",
              "      border-bottom-color: var(--fill-color);\n",
              "      border-left-color: var(--fill-color);\n",
              "    }\n",
              "    20% {\n",
              "      border-color: transparent;\n",
              "      border-left-color: var(--fill-color);\n",
              "      border-top-color: var(--fill-color);\n",
              "    }\n",
              "    30% {\n",
              "      border-color: transparent;\n",
              "      border-left-color: var(--fill-color);\n",
              "      border-top-color: var(--fill-color);\n",
              "      border-right-color: var(--fill-color);\n",
              "    }\n",
              "    40% {\n",
              "      border-color: transparent;\n",
              "      border-right-color: var(--fill-color);\n",
              "      border-top-color: var(--fill-color);\n",
              "    }\n",
              "    60% {\n",
              "      border-color: transparent;\n",
              "      border-right-color: var(--fill-color);\n",
              "    }\n",
              "    80% {\n",
              "      border-color: transparent;\n",
              "      border-right-color: var(--fill-color);\n",
              "      border-bottom-color: var(--fill-color);\n",
              "    }\n",
              "    90% {\n",
              "      border-color: transparent;\n",
              "      border-bottom-color: var(--fill-color);\n",
              "    }\n",
              "  }\n",
              "</style>\n",
              "\n",
              "      <script>\n",
              "        async function quickchart(key) {\n",
              "          const quickchartButtonEl =\n",
              "            document.querySelector('#' + key + ' button');\n",
              "          quickchartButtonEl.disabled = true;  // To prevent multiple clicks.\n",
              "          quickchartButtonEl.classList.add('colab-df-spinner');\n",
              "          try {\n",
              "            const charts = await google.colab.kernel.invokeFunction(\n",
              "                'suggestCharts', [key], {});\n",
              "          } catch (error) {\n",
              "            console.error('Error during call to suggestCharts:', error);\n",
              "          }\n",
              "          quickchartButtonEl.classList.remove('colab-df-spinner');\n",
              "          quickchartButtonEl.classList.add('colab-df-quickchart-complete');\n",
              "        }\n",
              "        (() => {\n",
              "          let quickchartButtonEl =\n",
              "            document.querySelector('#df-2be61c4c-14c8-4628-98a5-8821bad96aa0 button');\n",
              "          quickchartButtonEl.style.display =\n",
              "            google.colab.kernel.accessAllowed ? 'block' : 'none';\n",
              "        })();\n",
              "      </script>\n",
              "    </div>\n",
              "\n",
              "    </div>\n",
              "  </div>\n"
            ],
            "application/vnd.google.colaboratory.intrinsic+json": {
              "type": "dataframe",
              "variable_name": "df",
              "summary": "{\n  \"name\": \"df\",\n  \"rows\": 4354,\n  \"fields\": [\n    {\n      \"column\": \"Jobtitle\",\n      \"properties\": {\n        \"dtype\": \"string\",\n        \"num_unique_values\": 3782,\n        \"samples\": [\n          \"['Ingeniero/a junior de algoritmos']\",\n          \"['Desarrollador/a Android (100% remoto)']\",\n          \"['Solution Architect (I&D)']\"\n        ],\n        \"semantic_type\": \"\",\n        \"description\": \"\"\n      }\n    },\n    {\n      \"column\": \"City\",\n      \"properties\": {\n        \"dtype\": \"category\",\n        \"num_unique_values\": 56,\n        \"samples\": [\n          \"Online\",\n          \"Barcelona\",\n          \"La Rioja\"\n        ],\n        \"semantic_type\": \"\",\n        \"description\": \"\"\n      }\n    },\n    {\n      \"column\": \"Date\",\n      \"properties\": {\n        \"dtype\": \"category\",\n        \"num_unique_values\": 292,\n        \"samples\": [\n          \"20/08/2024\",\n          \"28/10/2022\",\n          \"29/08/2024\"\n        ],\n        \"semantic_type\": \"\",\n        \"description\": \"\"\n      }\n    },\n    {\n      \"column\": \"Company\",\n      \"properties\": {\n        \"dtype\": \"category\",\n        \"num_unique_values\": 341,\n        \"samples\": [\n          \"Plexus Tech\",\n          \"SERVINFOR\",\n          \"OmniStock\"\n        ],\n        \"semantic_type\": \"\",\n        \"description\": \"\"\n      }\n    },\n    {\n      \"column\": \"Skills\",\n      \"properties\": {\n        \"dtype\": \"string\",\n        \"num_unique_values\": 3031,\n        \"samples\": [\n          \"['java', 'ddd', 'spring', 'openapi', 'api', 'maven', 'kafka', 'scrum', 'arquitectura distribuida hexagonal', 'asyncapi', 'protobuf grpc.']\",\n          \"['mongo db', 'node.js', 'express']\",\n          \"['cto']\"\n        ],\n        \"semantic_type\": \"\",\n        \"description\": \"\"\n      }\n    },\n    {\n      \"column\": \"Profesion\",\n      \"properties\": {\n        \"dtype\": \"category\",\n        \"num_unique_values\": 48,\n        \"samples\": [\n          \"Responsable de Producto\",\n          \"T\\u0102\\u00a9cnico de Gesti\\u0102\\u00b3n\",\n          \"Comercial\"\n        ],\n        \"semantic_type\": \"\",\n        \"description\": \"\"\n      }\n    },\n    {\n      \"column\": \"Education\",\n      \"properties\": {\n        \"dtype\": \"category\",\n        \"num_unique_values\": 11,\n        \"samples\": [\n          \"Otros titulos\",\n          \"Universidad\",\n          \"Doctorado\"\n        ],\n        \"semantic_type\": \"\",\n        \"description\": \"\"\n      }\n    },\n    {\n      \"column\": \"Salary\",\n      \"properties\": {\n        \"dtype\": \"category\",\n        \"num_unique_values\": 73,\n        \"samples\": [\n          \"31500.0\",\n          \"21.599999999999998\",\n          \"48000.0\"\n        ],\n        \"semantic_type\": \"\",\n        \"description\": \"\"\n      }\n    },\n    {\n      \"column\": \"Jobs\",\n      \"properties\": {\n        \"dtype\": \"number\",\n        \"std\": 1,\n        \"min\": 1,\n        \"max\": 50,\n        \"num_unique_values\": 16,\n        \"samples\": [\n          1,\n          15,\n          2\n        ],\n        \"semantic_type\": \"\",\n        \"description\": \"\"\n      }\n    },\n    {\n      \"column\": \"Candidates\",\n      \"properties\": {\n        \"dtype\": \"number\",\n        \"std\": 110,\n        \"min\": 0,\n        \"max\": 2342,\n        \"num_unique_values\": 286,\n        \"samples\": [\n          17,\n          235,\n          155\n        ],\n        \"semantic_type\": \"\",\n        \"description\": \"\"\n      }\n    },\n    {\n      \"column\": \"Copy\",\n      \"properties\": {\n        \"dtype\": \"object\",\n        \"num_unique_values\": 6,\n        \"samples\": [\n          \"2024/11/03\",\n          \"2024/11/17\",\n          \"2024/09/29\"\n        ],\n        \"semantic_type\": \"\",\n        \"description\": \"\"\n      }\n    }\n  ]\n}"
            }
          },
          "metadata": {},
          "execution_count": 14
        }
      ]
    },
    {
      "cell_type": "code",
      "source": [
        "primera_lista = df[\"Skills\"][0]\n",
        "print(type(primera_lista))\n",
        "primera_lista"
      ],
      "metadata": {
        "colab": {
          "base_uri": "https://localhost:8080/",
          "height": 53
        },
        "id": "DRVAfVd_pYr8",
        "outputId": "f91a15b3-0e9d-4bdc-ff2d-3cf0bd75ac2b"
      },
      "execution_count": 22,
      "outputs": [
        {
          "output_type": "stream",
          "name": "stdout",
          "text": [
            "<class 'str'>\n"
          ]
        },
        {
          "output_type": "execute_result",
          "data": {
            "text/plain": [
              "\"['machine learning', 'big data', 'business intelligence', 'python', 'sql', 'nlp', 'llm', 'git', 'aws']\""
            ],
            "application/vnd.google.colaboratory.intrinsic+json": {
              "type": "string"
            }
          },
          "metadata": {},
          "execution_count": 22
        }
      ]
    },
    {
      "cell_type": "code",
      "source": [
        "import json\n",
        "import pandas as pd\n",
        "\n",
        "# Convertir strings a listas usando eval\n",
        "skills_matrix = [eval(skill) for skill in df[\"Skills\"]]\n",
        "\n",
        "#print(skills_matrix)\n",
        "print(skills_matrix[0])\n",
        "print(skills_matrix[0][0])\n",
        "\n",
        "contador = 0\n",
        "for fila in skills_matrix:\n",
        "    for habilidad in fila:\n",
        "        if habilidad == \"python\":\n",
        "            contador += 1\n",
        "\n",
        "print(contador)"
      ],
      "metadata": {
        "colab": {
          "base_uri": "https://localhost:8080/"
        },
        "id": "-jMzBmDQjEg6",
        "outputId": "4f6203b9-9147-438f-d860-c4335aca2dea"
      },
      "execution_count": 23,
      "outputs": [
        {
          "output_type": "stream",
          "name": "stdout",
          "text": [
            "['machine learning', 'big data', 'business intelligence', 'python', 'sql', 'nlp', 'llm', 'git', 'aws']\n",
            "machine learning\n",
            "355\n"
          ]
        }
      ]
    }
  ]
}