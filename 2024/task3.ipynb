{
  "nbformat": 4,
  "nbformat_minor": 0,
  "metadata": {
    "colab": {
      "provenance": [],
      "authorship_tag": "ABX9TyP7EFKdrMJW45iCYf5rhyOK",
      "include_colab_link": true
    },
    "kernelspec": {
      "name": "python3",
      "display_name": "Python 3"
    },
    "language_info": {
      "name": "python"
    }
  },
  "cells": [
    {
      "cell_type": "markdown",
      "metadata": {
        "id": "view-in-github",
        "colab_type": "text"
      },
      "source": [
        "<a href=\"https://colab.research.google.com/github/financieras/dataframe/blob/main/2024/task3.ipynb\" target=\"_parent\"><img src=\"https://colab.research.google.com/assets/colab-badge.svg\" alt=\"Open In Colab\"/></a>"
      ]
    },
    {
      "cell_type": "markdown",
      "source": [
        "# Task 3\n",
        "Ahora nos toca un poco de estadística.\n",
        "\n",
        "A Winston Churchill (¿quién era Winston Churchill?), se le atribuye la sentencia que él solo se fía de las estadísticas que el mismo ha trucado. Nosotros desde luego no hemos falsificado nada, pero la verdad es que siempre hay muchas formas de crear estadísticas, y por esto es importante echar un vistazo a los datos que utilizamos, y pensar si el promedio es el método adecuado, o si preferimos aplicar la mediana.\n",
        "\n",
        "En realidad, nos hemos saltado unos pasos importantes en la exploración de los datos. Siempre hay que comprobar si los datos son completos (en nuestro caso lo son) y si hay valores atípicos que cambian los resultados, sobre todo cuando trabajamos con el promedio.\n",
        "\n",
        "Os doy un ejemplo:\n",
        "\n",
        "Queremos saber cuál es el país más rico, el país A o el país B. Lo primero que hacemos es fijarnos en el PIB (¿qué es el PIB?). Entonces, el país B es el más rico. No obstante, si tomamos en cuenta que el país B es mucho más grande, esto cambia. Si dividimos el PiB por el número de habitantes, resulta que el país A sale mucho mejor parado. Esto significa que los habitantes del país A son más ricos?\n",
        "\n",
        "Depende: en el país A hay una persona muy rica, y el resto es bastante pobre. Esto hace que casi todo el mundo dispone de mucho menos que la renta media, es decir el valor atípico (la persona rica) afecta mucho el promedio. Entonces aplicamos la mediana en vez del promedio, y vemos que el valor mediano en el país A es mucho más bajo que en el país B, mientras el promedio es más alto en A que en B."
      ],
      "metadata": {
        "id": "QWh579ETlO4Z"
      }
    },
    {
      "cell_type": "markdown",
      "source": [
        "### Ejemplo\n",
        "\n",
        "| Indicador   | País A        | País B        |\n",
        "|-------------|--------------|---------------|\n",
        "| PIB         | 1000         | 2000          |\n",
        "| Habitantes  | 10           | 40            |\n",
        "| Media       | 100/hab.     | 50/hab.       |\n",
        "| H1          | 700          | 200           |\n",
        "| H2          | 100          | 100           |\n",
        "| H3-H8       | 30           | 50            |\n",
        "| H9-H10      | 10           | -             |\n",
        "| H31-H40     | -            | 10            |\n",
        "| Mediana     | 30           | 50            |\n"
      ],
      "metadata": {
        "id": "9PV0ck80l_Yt"
      }
    },
    {
      "cell_type": "markdown",
      "source": [
        "#### Notación de la tabla\n",
        "La notación H1, H2, ..., H40 representa magnitudes asociadas a la distribución de la renta, donde cada H indica un grupo o individuo dentro una muestra ordenada por ingresos (por ejemplo, H1 sería el que más renta tiene, H40 el de menor renta en una muestra de 40 habitantes). Esto se utiliza en tablas que resumen cómo está repartido el PIB entre los distintos habitantes o grupos del país, indicando cuánto recibe cada uno.\n",
        "\n",
        "- H1: Puede representar el individuo o grupo con mayor ingreso o renta dentro del país, según la distribución ordenada del PIB per cápita.\n",
        "- H40: Sería el individuo o grupo de menor renta si se tienen 40 habitantes y se han ordenado de mayor a menor según ingresos.\n",
        "\n",
        "Esta notación suele usarse cuando se analiza desigualdad económica, por ejemplo mostrando la concentración de riqueza en los primeros (H1, H2) frente al resto (H3-H40), y permite calcular indicadores como la mediana, la media y visualizar la distribución de la renta de manera sencilla."
      ],
      "metadata": {
        "id": "BeA9jpXpnzEi"
      }
    },
    {
      "cell_type": "markdown",
      "source": [
        "Resulta que con el promedio gana el país A porque hay un habitante con una renta muy alta, y con la mediana el  país B, porque en el cálculo de la mediana el habitante superrico del país A ya no tiene tanto peso. Al final y al cabo, tenemos que decidir si utilizamos el PIB, el promedio de la renta per cápita, o el valor mediano de renta per cápita, para sacar nuestras conclusiones."
      ],
      "metadata": {
        "id": "tRUGa2TzmIDQ"
      }
    },
    {
      "cell_type": "markdown",
      "source": [
        "## Introducción a la Task 3.1\n",
        "> A ver qué pasa si utilizamos la mediana en vez del promedio.\n",
        "\n",
        "**Añadir a la tabla de la Task 2.2. una columna con la mediana de candidatos, y crea el scatterplot de task 2.3 basado en el valor mediano de candidatos.**\n",
        "\n",
        "Ahora, nos toca investigar si en el caso de los candidatos queremos aplicar el promedio (tal y como lo hemos hecho) o la mediana. Es interesante ver que, en algunas tecnologías, el valor promedio y mediano varía bastante. Juega con la nueva tabla, ordenándola según el promedio, y la mediana, y compara el scatterplot con el promedio con el scatterplot con la mediana."
      ],
      "metadata": {
        "id": "670gOux8oMyu"
      }
    },
    {
      "cell_type": "markdown",
      "source": [
        "# Preguntas Task 3.1.\n",
        "¿Cuáles de las siguientes tecnologías (Git, Java, Python y Windows) mejora su posición con respecto al resto si se aplica la mediana en vez del promedio?\n",
        "\n",
        "Esta es la pregunta tal y como aparece en el test:\n",
        "\n",
        "¿Cuáles de las siguientes tecnologías mejoran su posición con respecto al resto si se aplica la mediana en vez del promedio?\n",
        "Select one or more:\n",
        "\n",
        "- ☐ Linux\n",
        "- ☐ Python\n",
        "- ☐ SQL\n",
        "- ☐ Java"
      ],
      "metadata": {
        "id": "UEABGS_Pojtw"
      }
    },
    {
      "cell_type": "code",
      "execution_count": 8,
      "metadata": {
        "colab": {
          "base_uri": "https://localhost:8080/"
        },
        "id": "FnPn4xK162RI",
        "outputId": "afa023dc-391c-42cd-d5da-8a835ab4c487"
      },
      "outputs": [
        {
          "output_type": "stream",
          "name": "stdout",
          "text": [
            "fatal: destination path 'dataframe' already exists and is not an empty directory.\n"
          ]
        }
      ],
      "source": [
        "!git clone https://github.com/financieras/dataframe.git"
      ]
    },
    {
      "cell_type": "code",
      "source": [
        "# Código completo para la Task 3.1, sin depender de seaborn\n",
        "import pandas as pd\n",
        "import matplotlib.pyplot as plt\n",
        "import ast\n",
        "\n",
        "# Cargar el dataset\n",
        "df = pd.read_csv('/content/dataframe/2024/dataset_Modul0_2024.csv')\n",
        "\n",
        "# ---\n",
        "# Paso 1: Crear una columna 'skill_list' de forma segura y consistente.\n",
        "# ---\n",
        "def safe_literal_eval(x):\n",
        "    try:\n",
        "        return ast.literal_eval(x)\n",
        "    except (ValueError, SyntaxError):\n",
        "        return []  # En caso de error, devolvemos una lista vacía\n",
        "\n",
        "# Parsear y normalizar las habilidades\n",
        "df['skill_list'] = df['Skills'].apply(safe_literal_eval)\n",
        "df['skill_list'] = df['skill_list'].apply(lambda lst: [s.strip().lower() for s in lst])\n",
        "\n",
        "# ---\n",
        "# Paso 2: Explotar la lista de habilidades y quedarnos con las top 50.\n",
        "# ---\n",
        "skills_exploded = df.explode('skill_list')\n",
        "top_skills = skills_exploded['skill_list'].value_counts().head(50).index\n",
        "\n",
        "# Filtramos el dataframe explotado para solo las top 50 tecnologías.\n",
        "df_top50 = skills_exploded[skills_exploded['skill_list'].isin(top_skills)]\n",
        "\n",
        "# ---\n",
        "# Paso 3: Calcular la media y la mediana de candidatos para cada tecnología.\n",
        "# ---\n",
        "df_stats = df_top50.groupby('skill_list').agg(\n",
        "    Count=('skill_list', 'size'),\n",
        "    Cand_mean=('Candidates', 'mean'),\n",
        "    Cand_median=('Candidates', 'median')\n",
        ").reset_index()\n",
        "\n",
        "# Redondeamos para facilitar la lectura.\n",
        "df_stats['Cand_mean'] = df_stats['Cand_mean'].round(1)\n",
        "df_stats['Cand_median'] = df_stats['Cand_median'].round(1)\n",
        "\n",
        "# ---\n",
        "# Paso 4: Responder a la pregunta de la Task 3.1.\n",
        "# Comparamos la media y la mediana para las tecnologías dadas.\n",
        "# Una tecnología \"mejora su posición\" si su mediana es menor que su media.\n",
        "# ---\n",
        "tecnologias_pregunta = ['linux', 'python', 'sql', 'java']\n",
        "\n",
        "print(\"Análisis para la Task 3.1:\")\n",
        "print(\"Una tecnología mejora su posición si su mediana de candidatos es menor que su media.\\n\")\n",
        "\n",
        "mejoran = []\n",
        "for tech in tecnologias_pregunta:\n",
        "    if tech in df_stats['skill_list'].values:\n",
        "        row = df_stats[df_stats['skill_list'] == tech].iloc[0]\n",
        "        mejora = row['Cand_median'] < row['Cand_mean']\n",
        "        if mejora:\n",
        "            mejoran.append(tech.capitalize())\n",
        "\n",
        "        print(f\"- {tech.capitalize()}:\")\n",
        "        print(f\"    Media de candidatos: {row['Cand_mean']}\")\n",
        "        print(f\"    Mediana de candidatos: {row['Cand_median']}\")\n",
        "        print(f\"    ¿Mejora con la mediana en términos absolutos? {'Sí' if mejora else 'No'}\")\n",
        "        print()\n",
        "    else:\n",
        "        print(f\"- {tech.capitalize()}: No está en el top 50 de tecnologías.\\n\")\n"
      ],
      "metadata": {
        "colab": {
          "base_uri": "https://localhost:8080/"
        },
        "id": "_Y17eQ0nCPnc",
        "outputId": "9d959123-9ddf-41d7-c448-86c6880e101f"
      },
      "execution_count": 11,
      "outputs": [
        {
          "output_type": "stream",
          "name": "stdout",
          "text": [
            "Análisis para la Task 3.1:\n",
            "Una tecnología mejora su posición si su mediana de candidatos es menor que su media.\n",
            "\n",
            "- Linux:\n",
            "    Media de candidatos: 43.5\n",
            "    Mediana de candidatos: 17.0\n",
            "    ¿Mejora con la mediana en términos absolutos? Sí\n",
            "\n",
            "- Python:\n",
            "    Media de candidatos: 36.4\n",
            "    Mediana de candidatos: 14.0\n",
            "    ¿Mejora con la mediana en términos absolutos? Sí\n",
            "\n",
            "- Sql:\n",
            "    Media de candidatos: 29.4\n",
            "    Mediana de candidatos: 15.0\n",
            "    ¿Mejora con la mediana en términos absolutos? Sí\n",
            "\n",
            "- Java:\n",
            "    Media de candidatos: 52.8\n",
            "    Mediana de candidatos: 16.0\n",
            "    ¿Mejora con la mediana en términos absolutos? Sí\n",
            "\n"
          ]
        }
      ]
    },
    {
      "cell_type": "markdown",
      "source": [
        "La pregunta que nos haces nos piden identificar las tecnologías que mejoran en términos relativos, justo cuando dicen \"con respecto al resto\".\n",
        "\n",
        "Por lo tanto, tenemos que crear un RANKING."
      ],
      "metadata": {
        "id": "H_fWpCtLCfYT"
      }
    },
    {
      "cell_type": "code",
      "source": [
        "import pandas as pd\n",
        "import ast\n",
        "\n",
        "# Cargar datos\n",
        "df = pd.read_csv('/content/dataframe/2024/dataset_Modul0_2024.csv')\n",
        "\n",
        "# Parsear y normalizar habilidades\n",
        "def safe_literal_eval(x):\n",
        "    try:\n",
        "        return ast.literal_eval(x)\n",
        "    except:\n",
        "        return []\n",
        "\n",
        "df['skill_list'] = df['Skills'].apply(safe_literal_eval)\n",
        "df['skill_list'] = df['skill_list'].apply(lambda lst: [s.strip().lower() for s in lst])\n",
        "\n",
        "# Explotar y tomar top 50\n",
        "skills_exploded = df.explode('skill_list')\n",
        "top_skills = skills_exploded['skill_list'].value_counts().head(50).index\n",
        "df_top50 = skills_exploded[skills_exploded['skill_list'].isin(top_skills)]\n",
        "\n",
        "# Agregar estadísticas\n",
        "df_stats = df_top50.groupby('skill_list').agg(\n",
        "    Count=('skill_list', 'size'),\n",
        "    Cand_mean=('Candidates', 'mean'),\n",
        "    Cand_median=('Candidates', 'median')\n",
        ").reset_index()\n",
        "\n",
        "# Crear rankings (1 = mejor, valor más bajo de candidatos)\n",
        "df_stats = df_stats.sort_values('Cand_mean').reset_index(drop=True)\n",
        "df_stats['rank_mean'] = df_stats.index + 1\n",
        "\n",
        "df_stats = df_stats.sort_values('Cand_median').reset_index(drop=True)\n",
        "df_stats['rank_median'] = df_stats.index + 1\n",
        "\n",
        "# Ahora, para cada tecnología, ver si mejora su ranking\n",
        "tecnologias = ['linux', 'python', 'sql', 'java']\n",
        "print(\"Task 3.1: ¿Mejora la posición relativa al usar mediana en vez de media?\\n\")\n",
        "\n",
        "mejoran = []\n",
        "for tech in tecnologias:\n",
        "    if tech in df_stats['skill_list'].values:\n",
        "        row = df_stats[df_stats['skill_list'] == tech].iloc[0]\n",
        "        rank_mean = row['rank_mean']\n",
        "        rank_median = row['rank_median']\n",
        "        mejora = rank_median < rank_mean  # sube en el ranking (número más bajo)\n",
        "        if mejora:\n",
        "            mejoran.append(tech.capitalize())\n",
        "\n",
        "        print(f\"- {tech.capitalize()}:\")\n",
        "        print(f\"    Ranking con media: {rank_mean}\")\n",
        "        print(f\"    Ranking con mediana: {rank_median}\")\n",
        "        print(f\"    ¿Mejora posición relativa? {'Sí' if mejora else 'No'}\")\n",
        "        print()\n",
        "    else:\n",
        "        print(f\"- {tech.capitalize()}: No está en el top 50.\\n\")\n",
        "\n",
        "print(\"=== RESPUESTA FINAL ===\")\n",
        "print(\"Tecnologías que mejoran su posición *con respecto al resto*:\")\n",
        "for t in mejoran:\n",
        "    print(f\"☑️  {t}\")"
      ],
      "metadata": {
        "colab": {
          "base_uri": "https://localhost:8080/"
        },
        "id": "zpsFCedW7Kqi",
        "outputId": "82db04fd-e9ce-48b2-e2d5-804ba3fb425f"
      },
      "execution_count": 12,
      "outputs": [
        {
          "output_type": "stream",
          "name": "stdout",
          "text": [
            "Task 3.1: ¿Mejora la posición relativa al usar mediana en vez de media?\n",
            "\n",
            "- Linux:\n",
            "    Ranking con media: 35\n",
            "    Ranking con mediana: 34\n",
            "    ¿Mejora posición relativa? Sí\n",
            "\n",
            "- Python:\n",
            "    Ranking con media: 26\n",
            "    Ranking con mediana: 21\n",
            "    ¿Mejora posición relativa? Sí\n",
            "\n",
            "- Sql:\n",
            "    Ranking con media: 21\n",
            "    Ranking con mediana: 23\n",
            "    ¿Mejora posición relativa? No\n",
            "\n",
            "- Java:\n",
            "    Ranking con media: 39\n",
            "    Ranking con mediana: 27\n",
            "    ¿Mejora posición relativa? Sí\n",
            "\n",
            "=== RESPUESTA FINAL ===\n",
            "Tecnologías que mejoran su posición *con respecto al resto*:\n",
            "☑️  Linux\n",
            "☑️  Python\n",
            "☑️  Java\n"
          ]
        }
      ]
    },
    {
      "cell_type": "markdown",
      "source": [
        "la interpretación correcta de la pregunta es la relativa (ranking), no la absoluta (media vs mediana).\n",
        "\n",
        "Vamos a desglosar por qué **SQL no mejora su posición *con respecto al resto***, a pesar de que su mediana sea mucho menor que su media.\n",
        "\n",
        "---\n",
        "\n",
        "### 📊 Tus resultados para SQL:\n",
        "\n",
        "- **Media**: 29.4  \n",
        "- **Mediana**: 15.0  \n",
        "- **Ranking con media**: 21.º  \n",
        "- **Ranking con mediana**: 23.º  \n",
        "\n",
        "✅ **Sí, su mediana < media** → esto significa que **en términos absolutos**, usar la mediana hace que SQL parezca **menos saturado** (solo 15 candidatos típicos en lugar de 29.4 en promedio).  \n",
        "❌ **Pero su ranking empeora**: pasa de la **posición 21** a la **23**.\n",
        "\n",
        "---\n",
        "\n",
        "### ❓ ¿Cómo es posible que empeore el ranking si la mediana es más baja?\n",
        "\n",
        "Porque **el ranking depende de cómo se mueven *todas las demás tecnologías***.\n",
        "\n",
        "Cuando cambias de **media → mediana**, **no solo cambia el valor de SQL**, sino **el de las otras 49 tecnologías del top 50**.\n",
        "\n",
        "#### Escenario probable:\n",
        "- Tecnologías como **Python** y **Java** tienen **outliers mucho más extremos** que SQL.\n",
        "  - Ej: Python tiene algunas ofertas con **miles** de candidatos, lo que infla su media a, digamos, 100, pero su mediana es 20.\n",
        "  - Al pasar a mediana, **Python \"cae\" mucho más en valor absoluto** que SQL (de 100 → 20, una caída de 80 puntos).\n",
        "- Mientras tanto, SQL solo cae de 29.4 → 15.0 (caída de ~14 puntos).\n",
        "- Pero **otras tecnologías** (quizá más especializadas o con distribuciones más simétricas) **cambian poco**.\n",
        "- Entonces, al reordenar **todas juntas**, **algunas tecnologías que antes estaban por debajo de SQL (peor ranking) ahora tienen valores de mediana aún más bajos que los 15.0 de SQL**, y **la adelantan**.\n",
        "\n",
        "#### Ejemplo ilustrativo:\n",
        "Supón que antes (con media):\n",
        "- Tecnología X: media = 30 → **posición 22**\n",
        "- **SQL**: media = 29.4 → **posición 21**\n",
        "- Tecnología Y: media = 29 → **posición 20**\n",
        "\n",
        "Después (con mediana):\n",
        "- Tecnología X: mediana = **14** → ahora está **por delante** de SQL\n",
        "- **SQL**: mediana = 15 → **posición 23**\n",
        "- Tecnología Y: mediana = **14.5** → también por delante\n",
        "\n",
        "→ Aunque SQL mejoró en valor absoluto (29.4 → 15), **mejoraron *más* otras tecnologías**, así que **SQL pierde posiciones relativas**.\n",
        "\n",
        "---\n",
        "\n",
        "### ✅ Conclusión:\n",
        "\n",
        "- **\"Mejora con la mediana\" (absoluto)**: solo mira si `mediana < media` para esa tecnología.  \n",
        "  → **SQL sí mejora** en este sentido.\n",
        "\n",
        "- **\"Mejora su posición con respecto al resto\" (relativo)**: mira si **sube en el ranking comparado con las demás**.  \n",
        "  → **SQL no mejora**, porque **otras tecnologías se benefician *más*** del cambio a mediana (especialmente Python y Java, que suben mucho: Python de 26 → 21, Java de 39 → 27).\n",
        "\n",
        "---\n",
        "\n",
        "### 🎯 Por tanto, la respuesta correcta a la **Task 3.1** es:\n",
        "\n",
        "> **☑️ Linux**  \n",
        "> **☑️ Python**  \n",
        "> **☐ SQL**  \n",
        "> **☑️ Java**"
      ],
      "metadata": {
        "id": "k6iL-Wi1Bz1J"
      }
    }
  ]
}