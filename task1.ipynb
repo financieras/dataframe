{
  "nbformat": 4,
  "nbformat_minor": 0,
  "metadata": {
    "colab": {
      "provenance": [],
      "authorship_tag": "ABX9TyNy/Z8sHtelleRGTfTJEIFF",
      "include_colab_link": true
    },
    "kernelspec": {
      "name": "python3",
      "display_name": "Python 3"
    },
    "language_info": {
      "name": "python"
    }
  },
  "cells": [
    {
      "cell_type": "markdown",
      "metadata": {
        "id": "view-in-github",
        "colab_type": "text"
      },
      "source": [
        "<a href=\"https://colab.research.google.com/github/financieras/bigdata/blob/main/task1.ipynb\" target=\"_parent\"><img src=\"https://colab.research.google.com/assets/colab-badge.svg\" alt=\"Open In Colab\"/></a>"
      ]
    },
    {
      "cell_type": "markdown",
      "source": [
        "# Task 1\n",
        "https://www.ahk.es/es/servicios/formacion/proyecto-big-data-programa-dual-analisis-de-datos-y-procesos"
      ],
      "metadata": {
        "id": "xbkCkelHF9Kb"
      }
    },
    {
      "cell_type": "markdown",
      "source": [
        "## Tasl 1.1\n",
        "\n",
        "### ¿Qué porcentaje de ofertas hay en Madrid?\n",
        "* Total registros: 5423\n",
        "* Contar Madrid: 2023\n",
        "* Porcentaje Madrid: 37.30%\n",
        "\n",
        "### ¿Qué ciudad está en el 10º lugar?\n",
        "* Alicante (si consideramos `online` como si fura una city)"
      ],
      "metadata": {
        "id": "H_TL44-9GFHI"
      }
    },
    {
      "cell_type": "code",
      "source": [
        "!git clone https://github.com/financieras/bigdata.git"
      ],
      "metadata": {
        "colab": {
          "base_uri": "https://localhost:8080/"
        },
        "id": "TsVGy4sSIqH1",
        "outputId": "8d98da36-2bc0-4335-b15a-160afbfcee8b"
      },
      "execution_count": null,
      "outputs": [
        {
          "output_type": "stream",
          "name": "stdout",
          "text": [
            "Cloning into 'bigdata'...\n",
            "remote: Enumerating objects: 12, done.\u001b[K\n",
            "remote: Counting objects: 100% (12/12), done.\u001b[K\n",
            "remote: Compressing objects: 100% (10/10), done.\u001b[K\n",
            "remote: Total 12 (delta 3), reused 0 (delta 0), pack-reused 0\u001b[K\n",
            "Receiving objects: 100% (12/12), 133.61 KiB | 888.00 KiB/s, done.\n",
            "Resolving deltas: 100% (3/3), done.\n"
          ]
        }
      ]
    },
    {
      "cell_type": "code",
      "source": [
        "import pandas as pd\n",
        "pth = \"bigdata/dataset_reto.csv\"\n",
        "df = pd.read_csv(pth)"
      ],
      "metadata": {
        "id": "kB0x_pJfG1vy"
      },
      "execution_count": null,
      "outputs": []
    },
    {
      "cell_type": "code",
      "source": [
        "df.shape        # nos da las dimensiones de la tabla"
      ],
      "metadata": {
        "colab": {
          "base_uri": "https://localhost:8080/"
        },
        "id": "8dI7V0PtI_fI",
        "outputId": "e110a0c8-987a-46d3-8158-6f320798b28a"
      },
      "execution_count": null,
      "outputs": [
        {
          "output_type": "execute_result",
          "data": {
            "text/plain": [
              "(5423, 7)"
            ]
          },
          "metadata": {},
          "execution_count": 3
        }
      ]
    },
    {
      "cell_type": "code",
      "source": [
        "df.head()       # mustra las cinco primeras filas de la tabla"
      ],
      "metadata": {
        "colab": {
          "base_uri": "https://localhost:8080/",
          "height": 206
        },
        "id": "P_P8WFq0JKmB",
        "outputId": "d5d7769a-4e11-4a1a-90e2-97e4f802455e"
      },
      "execution_count": null,
      "outputs": [
        {
          "output_type": "execute_result",
          "data": {
            "text/plain": [
              "                                   Jobtitle       City        Date  \\\n",
              "0                 desarrollador/a php-moodl     Madrid  2022-09-30   \n",
              "1          analista programador spark/scala     Madrid  2022-09-30   \n",
              "2                  desarrollador de android     Madrid  2022-10-02   \n",
              "3  administrador/a microsoft azure - remoto     Online  2022-10-02   \n",
              "4       hardware test engineer (automoción)  Tarragona  2022-10-02   \n",
              "\n",
              "                                           Skills         Salary  Candidates  \\\n",
              "0               ['php', 'lms', 'moodle', 'mysql']        31500.0           7   \n",
              "1                              ['scala', 'spark']        31500.0           0   \n",
              "2                                     ['android']  no disponible           2   \n",
              "3  ['hyper v', 'azure', 'itil', 'mcafee', 'o365']        31500.0          22   \n",
              "4                           ['python', 'testing']  no disponible           2   \n",
              "\n",
              "         Copy  \n",
              "0  2022-10-02  \n",
              "1  2022-10-02  \n",
              "2  2022-10-02  \n",
              "3  2022-10-02  \n",
              "4  2022-10-02  "
            ],
            "text/html": [
              "\n",
              "  <div id=\"df-48a915bd-956e-4b6a-a572-179c5dc4c252\" class=\"colab-df-container\">\n",
              "    <div>\n",
              "<style scoped>\n",
              "    .dataframe tbody tr th:only-of-type {\n",
              "        vertical-align: middle;\n",
              "    }\n",
              "\n",
              "    .dataframe tbody tr th {\n",
              "        vertical-align: top;\n",
              "    }\n",
              "\n",
              "    .dataframe thead th {\n",
              "        text-align: right;\n",
              "    }\n",
              "</style>\n",
              "<table border=\"1\" class=\"dataframe\">\n",
              "  <thead>\n",
              "    <tr style=\"text-align: right;\">\n",
              "      <th></th>\n",
              "      <th>Jobtitle</th>\n",
              "      <th>City</th>\n",
              "      <th>Date</th>\n",
              "      <th>Skills</th>\n",
              "      <th>Salary</th>\n",
              "      <th>Candidates</th>\n",
              "      <th>Copy</th>\n",
              "    </tr>\n",
              "  </thead>\n",
              "  <tbody>\n",
              "    <tr>\n",
              "      <th>0</th>\n",
              "      <td>desarrollador/a php-moodl</td>\n",
              "      <td>Madrid</td>\n",
              "      <td>2022-09-30</td>\n",
              "      <td>['php', 'lms', 'moodle', 'mysql']</td>\n",
              "      <td>31500.0</td>\n",
              "      <td>7</td>\n",
              "      <td>2022-10-02</td>\n",
              "    </tr>\n",
              "    <tr>\n",
              "      <th>1</th>\n",
              "      <td>analista programador spark/scala</td>\n",
              "      <td>Madrid</td>\n",
              "      <td>2022-09-30</td>\n",
              "      <td>['scala', 'spark']</td>\n",
              "      <td>31500.0</td>\n",
              "      <td>0</td>\n",
              "      <td>2022-10-02</td>\n",
              "    </tr>\n",
              "    <tr>\n",
              "      <th>2</th>\n",
              "      <td>desarrollador de android</td>\n",
              "      <td>Madrid</td>\n",
              "      <td>2022-10-02</td>\n",
              "      <td>['android']</td>\n",
              "      <td>no disponible</td>\n",
              "      <td>2</td>\n",
              "      <td>2022-10-02</td>\n",
              "    </tr>\n",
              "    <tr>\n",
              "      <th>3</th>\n",
              "      <td>administrador/a microsoft azure - remoto</td>\n",
              "      <td>Online</td>\n",
              "      <td>2022-10-02</td>\n",
              "      <td>['hyper v', 'azure', 'itil', 'mcafee', 'o365']</td>\n",
              "      <td>31500.0</td>\n",
              "      <td>22</td>\n",
              "      <td>2022-10-02</td>\n",
              "    </tr>\n",
              "    <tr>\n",
              "      <th>4</th>\n",
              "      <td>hardware test engineer (automoción)</td>\n",
              "      <td>Tarragona</td>\n",
              "      <td>2022-10-02</td>\n",
              "      <td>['python', 'testing']</td>\n",
              "      <td>no disponible</td>\n",
              "      <td>2</td>\n",
              "      <td>2022-10-02</td>\n",
              "    </tr>\n",
              "  </tbody>\n",
              "</table>\n",
              "</div>\n",
              "    <div class=\"colab-df-buttons\">\n",
              "\n",
              "  <div class=\"colab-df-container\">\n",
              "    <button class=\"colab-df-convert\" onclick=\"convertToInteractive('df-48a915bd-956e-4b6a-a572-179c5dc4c252')\"\n",
              "            title=\"Convert this dataframe to an interactive table.\"\n",
              "            style=\"display:none;\">\n",
              "\n",
              "  <svg xmlns=\"http://www.w3.org/2000/svg\" height=\"24px\" viewBox=\"0 -960 960 960\">\n",
              "    <path d=\"M120-120v-720h720v720H120Zm60-500h600v-160H180v160Zm220 220h160v-160H400v160Zm0 220h160v-160H400v160ZM180-400h160v-160H180v160Zm440 0h160v-160H620v160ZM180-180h160v-160H180v160Zm440 0h160v-160H620v160Z\"/>\n",
              "  </svg>\n",
              "    </button>\n",
              "\n",
              "  <style>\n",
              "    .colab-df-container {\n",
              "      display:flex;\n",
              "      gap: 12px;\n",
              "    }\n",
              "\n",
              "    .colab-df-convert {\n",
              "      background-color: #E8F0FE;\n",
              "      border: none;\n",
              "      border-radius: 50%;\n",
              "      cursor: pointer;\n",
              "      display: none;\n",
              "      fill: #1967D2;\n",
              "      height: 32px;\n",
              "      padding: 0 0 0 0;\n",
              "      width: 32px;\n",
              "    }\n",
              "\n",
              "    .colab-df-convert:hover {\n",
              "      background-color: #E2EBFA;\n",
              "      box-shadow: 0px 1px 2px rgba(60, 64, 67, 0.3), 0px 1px 3px 1px rgba(60, 64, 67, 0.15);\n",
              "      fill: #174EA6;\n",
              "    }\n",
              "\n",
              "    .colab-df-buttons div {\n",
              "      margin-bottom: 4px;\n",
              "    }\n",
              "\n",
              "    [theme=dark] .colab-df-convert {\n",
              "      background-color: #3B4455;\n",
              "      fill: #D2E3FC;\n",
              "    }\n",
              "\n",
              "    [theme=dark] .colab-df-convert:hover {\n",
              "      background-color: #434B5C;\n",
              "      box-shadow: 0px 1px 3px 1px rgba(0, 0, 0, 0.15);\n",
              "      filter: drop-shadow(0px 1px 2px rgba(0, 0, 0, 0.3));\n",
              "      fill: #FFFFFF;\n",
              "    }\n",
              "  </style>\n",
              "\n",
              "    <script>\n",
              "      const buttonEl =\n",
              "        document.querySelector('#df-48a915bd-956e-4b6a-a572-179c5dc4c252 button.colab-df-convert');\n",
              "      buttonEl.style.display =\n",
              "        google.colab.kernel.accessAllowed ? 'block' : 'none';\n",
              "\n",
              "      async function convertToInteractive(key) {\n",
              "        const element = document.querySelector('#df-48a915bd-956e-4b6a-a572-179c5dc4c252');\n",
              "        const dataTable =\n",
              "          await google.colab.kernel.invokeFunction('convertToInteractive',\n",
              "                                                    [key], {});\n",
              "        if (!dataTable) return;\n",
              "\n",
              "        const docLinkHtml = 'Like what you see? Visit the ' +\n",
              "          '<a target=\"_blank\" href=https://colab.research.google.com/notebooks/data_table.ipynb>data table notebook</a>'\n",
              "          + ' to learn more about interactive tables.';\n",
              "        element.innerHTML = '';\n",
              "        dataTable['output_type'] = 'display_data';\n",
              "        await google.colab.output.renderOutput(dataTable, element);\n",
              "        const docLink = document.createElement('div');\n",
              "        docLink.innerHTML = docLinkHtml;\n",
              "        element.appendChild(docLink);\n",
              "      }\n",
              "    </script>\n",
              "  </div>\n",
              "\n",
              "\n",
              "<div id=\"df-7e3fea51-7d80-4646-a1c9-cbbb81fa1343\">\n",
              "  <button class=\"colab-df-quickchart\" onclick=\"quickchart('df-7e3fea51-7d80-4646-a1c9-cbbb81fa1343')\"\n",
              "            title=\"Suggest charts\"\n",
              "            style=\"display:none;\">\n",
              "\n",
              "<svg xmlns=\"http://www.w3.org/2000/svg\" height=\"24px\"viewBox=\"0 0 24 24\"\n",
              "     width=\"24px\">\n",
              "    <g>\n",
              "        <path d=\"M19 3H5c-1.1 0-2 .9-2 2v14c0 1.1.9 2 2 2h14c1.1 0 2-.9 2-2V5c0-1.1-.9-2-2-2zM9 17H7v-7h2v7zm4 0h-2V7h2v10zm4 0h-2v-4h2v4z\"/>\n",
              "    </g>\n",
              "</svg>\n",
              "  </button>\n",
              "\n",
              "<style>\n",
              "  .colab-df-quickchart {\n",
              "      --bg-color: #E8F0FE;\n",
              "      --fill-color: #1967D2;\n",
              "      --hover-bg-color: #E2EBFA;\n",
              "      --hover-fill-color: #174EA6;\n",
              "      --disabled-fill-color: #AAA;\n",
              "      --disabled-bg-color: #DDD;\n",
              "  }\n",
              "\n",
              "  [theme=dark] .colab-df-quickchart {\n",
              "      --bg-color: #3B4455;\n",
              "      --fill-color: #D2E3FC;\n",
              "      --hover-bg-color: #434B5C;\n",
              "      --hover-fill-color: #FFFFFF;\n",
              "      --disabled-bg-color: #3B4455;\n",
              "      --disabled-fill-color: #666;\n",
              "  }\n",
              "\n",
              "  .colab-df-quickchart {\n",
              "    background-color: var(--bg-color);\n",
              "    border: none;\n",
              "    border-radius: 50%;\n",
              "    cursor: pointer;\n",
              "    display: none;\n",
              "    fill: var(--fill-color);\n",
              "    height: 32px;\n",
              "    padding: 0;\n",
              "    width: 32px;\n",
              "  }\n",
              "\n",
              "  .colab-df-quickchart:hover {\n",
              "    background-color: var(--hover-bg-color);\n",
              "    box-shadow: 0 1px 2px rgba(60, 64, 67, 0.3), 0 1px 3px 1px rgba(60, 64, 67, 0.15);\n",
              "    fill: var(--button-hover-fill-color);\n",
              "  }\n",
              "\n",
              "  .colab-df-quickchart-complete:disabled,\n",
              "  .colab-df-quickchart-complete:disabled:hover {\n",
              "    background-color: var(--disabled-bg-color);\n",
              "    fill: var(--disabled-fill-color);\n",
              "    box-shadow: none;\n",
              "  }\n",
              "\n",
              "  .colab-df-spinner {\n",
              "    border: 2px solid var(--fill-color);\n",
              "    border-color: transparent;\n",
              "    border-bottom-color: var(--fill-color);\n",
              "    animation:\n",
              "      spin 1s steps(1) infinite;\n",
              "  }\n",
              "\n",
              "  @keyframes spin {\n",
              "    0% {\n",
              "      border-color: transparent;\n",
              "      border-bottom-color: var(--fill-color);\n",
              "      border-left-color: var(--fill-color);\n",
              "    }\n",
              "    20% {\n",
              "      border-color: transparent;\n",
              "      border-left-color: var(--fill-color);\n",
              "      border-top-color: var(--fill-color);\n",
              "    }\n",
              "    30% {\n",
              "      border-color: transparent;\n",
              "      border-left-color: var(--fill-color);\n",
              "      border-top-color: var(--fill-color);\n",
              "      border-right-color: var(--fill-color);\n",
              "    }\n",
              "    40% {\n",
              "      border-color: transparent;\n",
              "      border-right-color: var(--fill-color);\n",
              "      border-top-color: var(--fill-color);\n",
              "    }\n",
              "    60% {\n",
              "      border-color: transparent;\n",
              "      border-right-color: var(--fill-color);\n",
              "    }\n",
              "    80% {\n",
              "      border-color: transparent;\n",
              "      border-right-color: var(--fill-color);\n",
              "      border-bottom-color: var(--fill-color);\n",
              "    }\n",
              "    90% {\n",
              "      border-color: transparent;\n",
              "      border-bottom-color: var(--fill-color);\n",
              "    }\n",
              "  }\n",
              "</style>\n",
              "\n",
              "  <script>\n",
              "    async function quickchart(key) {\n",
              "      const quickchartButtonEl =\n",
              "        document.querySelector('#' + key + ' button');\n",
              "      quickchartButtonEl.disabled = true;  // To prevent multiple clicks.\n",
              "      quickchartButtonEl.classList.add('colab-df-spinner');\n",
              "      try {\n",
              "        const charts = await google.colab.kernel.invokeFunction(\n",
              "            'suggestCharts', [key], {});\n",
              "      } catch (error) {\n",
              "        console.error('Error during call to suggestCharts:', error);\n",
              "      }\n",
              "      quickchartButtonEl.classList.remove('colab-df-spinner');\n",
              "      quickchartButtonEl.classList.add('colab-df-quickchart-complete');\n",
              "    }\n",
              "    (() => {\n",
              "      let quickchartButtonEl =\n",
              "        document.querySelector('#df-7e3fea51-7d80-4646-a1c9-cbbb81fa1343 button');\n",
              "      quickchartButtonEl.style.display =\n",
              "        google.colab.kernel.accessAllowed ? 'block' : 'none';\n",
              "    })();\n",
              "  </script>\n",
              "</div>\n",
              "    </div>\n",
              "  </div>\n"
            ],
            "application/vnd.google.colaboratory.intrinsic+json": {
              "type": "dataframe",
              "variable_name": "df",
              "summary": "{\n  \"name\": \"df\",\n  \"rows\": 5423,\n  \"fields\": [\n    {\n      \"column\": \"Jobtitle\",\n      \"properties\": {\n        \"dtype\": \"string\",\n        \"num_unique_values\": 4424,\n        \"samples\": [\n          \"consultor/a api managem\",\n          \"t\\u00e9cnico de sistemas cloud (h/m)\",\n          \"operador de red 24x7 (presencial)\"\n        ],\n        \"semantic_type\": \"\",\n        \"description\": \"\"\n      }\n    },\n    {\n      \"column\": \"City\",\n      \"properties\": {\n        \"dtype\": \"category\",\n        \"num_unique_values\": 54,\n        \"samples\": [\n          \"La Rioja\",\n          \"Lugo\",\n          \"Albacete\"\n        ],\n        \"semantic_type\": \"\",\n        \"description\": \"\"\n      }\n    },\n    {\n      \"column\": \"Date\",\n      \"properties\": {\n        \"dtype\": \"object\",\n        \"num_unique_values\": 212,\n        \"samples\": [\n          \"2022-07-27\",\n          \"2022-02-18\",\n          \"2022-10-31\"\n        ],\n        \"semantic_type\": \"\",\n        \"description\": \"\"\n      }\n    },\n    {\n      \"column\": \"Skills\",\n      \"properties\": {\n        \"dtype\": \"string\",\n        \"num_unique_values\": 3558,\n        \"samples\": [\n          \"['html', 'bootstrap', 'javascript', 'css']\",\n          \"['confluence', 'miro', 'tableau', 'jira']\",\n          \"['mongodb', 'c#', 'angularjs', 'microservicios', 'solid', '.net']\"\n        ],\n        \"semantic_type\": \"\",\n        \"description\": \"\"\n      }\n    },\n    {\n      \"column\": \"Salary\",\n      \"properties\": {\n        \"dtype\": \"category\",\n        \"num_unique_values\": 83,\n        \"samples\": [\n          \"16.200000000000003\",\n          \"31500.0\",\n          \"48000.0\"\n        ],\n        \"semantic_type\": \"\",\n        \"description\": \"\"\n      }\n    },\n    {\n      \"column\": \"Candidates\",\n      \"properties\": {\n        \"dtype\": \"number\",\n        \"std\": 70,\n        \"min\": 0,\n        \"max\": 2962,\n        \"num_unique_values\": 246,\n        \"samples\": [\n          15,\n          4,\n          202\n        ],\n        \"semantic_type\": \"\",\n        \"description\": \"\"\n      }\n    },\n    {\n      \"column\": \"Copy\",\n      \"properties\": {\n        \"dtype\": \"object\",\n        \"num_unique_values\": 9,\n        \"samples\": [\n          \"2022-11-20\",\n          \"2022-10-09\",\n          \"2022-11-06\"\n        ],\n        \"semantic_type\": \"\",\n        \"description\": \"\"\n      }\n    }\n  ]\n}"
            }
          },
          "metadata": {},
          "execution_count": 4
        }
      ]
    },
    {
      "cell_type": "code",
      "source": [
        "df['Salary'].value_counts()"
      ],
      "metadata": {
        "colab": {
          "base_uri": "https://localhost:8080/"
        },
        "id": "xWmaiigZJT83",
        "outputId": "7c778401-9173-42c5-804e-651c6f6c5112"
      },
      "execution_count": null,
      "outputs": [
        {
          "output_type": "execute_result",
          "data": {
            "text/plain": [
              "Salary\n",
              "no disponible        3679\n",
              "31500.0               112\n",
              "34500.0               111\n",
              "33000.0               111\n",
              "39000.0               101\n",
              "                     ... \n",
              "5407.200000000001       1\n",
              "5170.799999999999       1\n",
              "7500.0                  1\n",
              "10800.0                 1\n",
              "68000.0                 1\n",
              "Name: count, Length: 83, dtype: int64"
            ]
          },
          "metadata": {},
          "execution_count": 5
        }
      ]
    },
    {
      "cell_type": "code",
      "source": [
        "df['Copy'].value_counts()"
      ],
      "metadata": {
        "colab": {
          "base_uri": "https://localhost:8080/"
        },
        "id": "oDtz7W0OKJL7",
        "outputId": "8fb06db9-d4cd-405a-d00b-01bae94fc9f8"
      },
      "execution_count": null,
      "outputs": [
        {
          "output_type": "execute_result",
          "data": {
            "text/plain": [
              "Copy\n",
              "2022-11-27    2690\n",
              "2022-11-13     395\n",
              "2022-11-20     385\n",
              "2022-10-16     369\n",
              "2022-10-23     351\n",
              "2022-10-02     326\n",
              "2022-11-06     326\n",
              "2022-10-30     291\n",
              "2022-10-09     290\n",
              "Name: count, dtype: int64"
            ]
          },
          "metadata": {},
          "execution_count": 6
        }
      ]
    },
    {
      "cell_type": "code",
      "source": [
        "df['Jobtitle'].value_counts()[df['Jobtitle'].value_counts() == 9]"
      ],
      "metadata": {
        "colab": {
          "base_uri": "https://localhost:8080/"
        },
        "id": "uB9mUAx3KeWE",
        "outputId": "ac2b58cc-0de9-4c20-e53c-53813bfbc236"
      },
      "execution_count": null,
      "outputs": [
        {
          "output_type": "execute_result",
          "data": {
            "text/plain": [
              "Jobtitle\n",
              "it business analys    9\n",
              "devops engi           9\n",
              "frontend develop      9\n",
              "Name: count, dtype: int64"
            ]
          },
          "metadata": {},
          "execution_count": 7
        }
      ]
    },
    {
      "cell_type": "code",
      "source": [
        "df[df['Jobtitle'] == \"analista programador xamarin for android\"]"
      ],
      "metadata": {
        "colab": {
          "base_uri": "https://localhost:8080/",
          "height": 81
        },
        "id": "7f4i3_AuKQg-",
        "outputId": "d966943a-0cbd-4215-8db5-089337d3d57b"
      },
      "execution_count": null,
      "outputs": [
        {
          "output_type": "execute_result",
          "data": {
            "text/plain": [
              "                                      Jobtitle    City        Date  \\\n",
              "4228  analista programador xamarin for android  Madrid  2022-09-30   \n",
              "\n",
              "                      Skills   Salary  Candidates        Copy  \n",
              "4228  ['android', 'xamarin']  36000.0          13  2022-11-27  "
            ],
            "text/html": [
              "\n",
              "  <div id=\"df-3502389c-d6bf-47e0-a1d4-62ba383a59cd\" class=\"colab-df-container\">\n",
              "    <div>\n",
              "<style scoped>\n",
              "    .dataframe tbody tr th:only-of-type {\n",
              "        vertical-align: middle;\n",
              "    }\n",
              "\n",
              "    .dataframe tbody tr th {\n",
              "        vertical-align: top;\n",
              "    }\n",
              "\n",
              "    .dataframe thead th {\n",
              "        text-align: right;\n",
              "    }\n",
              "</style>\n",
              "<table border=\"1\" class=\"dataframe\">\n",
              "  <thead>\n",
              "    <tr style=\"text-align: right;\">\n",
              "      <th></th>\n",
              "      <th>Jobtitle</th>\n",
              "      <th>City</th>\n",
              "      <th>Date</th>\n",
              "      <th>Skills</th>\n",
              "      <th>Salary</th>\n",
              "      <th>Candidates</th>\n",
              "      <th>Copy</th>\n",
              "    </tr>\n",
              "  </thead>\n",
              "  <tbody>\n",
              "    <tr>\n",
              "      <th>4228</th>\n",
              "      <td>analista programador xamarin for android</td>\n",
              "      <td>Madrid</td>\n",
              "      <td>2022-09-30</td>\n",
              "      <td>['android', 'xamarin']</td>\n",
              "      <td>36000.0</td>\n",
              "      <td>13</td>\n",
              "      <td>2022-11-27</td>\n",
              "    </tr>\n",
              "  </tbody>\n",
              "</table>\n",
              "</div>\n",
              "    <div class=\"colab-df-buttons\">\n",
              "\n",
              "  <div class=\"colab-df-container\">\n",
              "    <button class=\"colab-df-convert\" onclick=\"convertToInteractive('df-3502389c-d6bf-47e0-a1d4-62ba383a59cd')\"\n",
              "            title=\"Convert this dataframe to an interactive table.\"\n",
              "            style=\"display:none;\">\n",
              "\n",
              "  <svg xmlns=\"http://www.w3.org/2000/svg\" height=\"24px\" viewBox=\"0 -960 960 960\">\n",
              "    <path d=\"M120-120v-720h720v720H120Zm60-500h600v-160H180v160Zm220 220h160v-160H400v160Zm0 220h160v-160H400v160ZM180-400h160v-160H180v160Zm440 0h160v-160H620v160ZM180-180h160v-160H180v160Zm440 0h160v-160H620v160Z\"/>\n",
              "  </svg>\n",
              "    </button>\n",
              "\n",
              "  <style>\n",
              "    .colab-df-container {\n",
              "      display:flex;\n",
              "      gap: 12px;\n",
              "    }\n",
              "\n",
              "    .colab-df-convert {\n",
              "      background-color: #E8F0FE;\n",
              "      border: none;\n",
              "      border-radius: 50%;\n",
              "      cursor: pointer;\n",
              "      display: none;\n",
              "      fill: #1967D2;\n",
              "      height: 32px;\n",
              "      padding: 0 0 0 0;\n",
              "      width: 32px;\n",
              "    }\n",
              "\n",
              "    .colab-df-convert:hover {\n",
              "      background-color: #E2EBFA;\n",
              "      box-shadow: 0px 1px 2px rgba(60, 64, 67, 0.3), 0px 1px 3px 1px rgba(60, 64, 67, 0.15);\n",
              "      fill: #174EA6;\n",
              "    }\n",
              "\n",
              "    .colab-df-buttons div {\n",
              "      margin-bottom: 4px;\n",
              "    }\n",
              "\n",
              "    [theme=dark] .colab-df-convert {\n",
              "      background-color: #3B4455;\n",
              "      fill: #D2E3FC;\n",
              "    }\n",
              "\n",
              "    [theme=dark] .colab-df-convert:hover {\n",
              "      background-color: #434B5C;\n",
              "      box-shadow: 0px 1px 3px 1px rgba(0, 0, 0, 0.15);\n",
              "      filter: drop-shadow(0px 1px 2px rgba(0, 0, 0, 0.3));\n",
              "      fill: #FFFFFF;\n",
              "    }\n",
              "  </style>\n",
              "\n",
              "    <script>\n",
              "      const buttonEl =\n",
              "        document.querySelector('#df-3502389c-d6bf-47e0-a1d4-62ba383a59cd button.colab-df-convert');\n",
              "      buttonEl.style.display =\n",
              "        google.colab.kernel.accessAllowed ? 'block' : 'none';\n",
              "\n",
              "      async function convertToInteractive(key) {\n",
              "        const element = document.querySelector('#df-3502389c-d6bf-47e0-a1d4-62ba383a59cd');\n",
              "        const dataTable =\n",
              "          await google.colab.kernel.invokeFunction('convertToInteractive',\n",
              "                                                    [key], {});\n",
              "        if (!dataTable) return;\n",
              "\n",
              "        const docLinkHtml = 'Like what you see? Visit the ' +\n",
              "          '<a target=\"_blank\" href=https://colab.research.google.com/notebooks/data_table.ipynb>data table notebook</a>'\n",
              "          + ' to learn more about interactive tables.';\n",
              "        element.innerHTML = '';\n",
              "        dataTable['output_type'] = 'display_data';\n",
              "        await google.colab.output.renderOutput(dataTable, element);\n",
              "        const docLink = document.createElement('div');\n",
              "        docLink.innerHTML = docLinkHtml;\n",
              "        element.appendChild(docLink);\n",
              "      }\n",
              "    </script>\n",
              "  </div>\n",
              "\n",
              "    </div>\n",
              "  </div>\n"
            ],
            "application/vnd.google.colaboratory.intrinsic+json": {
              "type": "dataframe",
              "repr_error": "0"
            }
          },
          "metadata": {},
          "execution_count": 8
        }
      ]
    },
    {
      "cell_type": "code",
      "source": [
        "#import pandas as pd\n",
        "\n",
        "# El DataFrame se llama df y la columna de la ciudad se llama 'City'\n",
        "frecuencia_ciudades = df['City'].value_counts()\n",
        "\n",
        "# Ordenar las frecuencias en orden descendente\n",
        "frecuencia_ciudades_ordenada = frecuencia_ciudades.sort_values(ascending=False)\n",
        "\n",
        "# Obtener el nombre de la ciudad en el décimo lugar\n",
        "ciudad_decimo_lugar = frecuencia_ciudades_ordenada.index[9]  # Index devuelve el índice y lo usamos para acceder al nombre de la ciudad\n",
        "\n",
        "print(\"La ciudad en el décimo lugar por frecuencia es:\", ciudad_decimo_lugar)       # Alicante\n"
      ],
      "metadata": {
        "id": "w0dQqLFZWJpq",
        "outputId": "749b4ff3-90ef-4b74-bf7b-5197a3bb4dcf",
        "colab": {
          "base_uri": "https://localhost:8080/"
        }
      },
      "execution_count": null,
      "outputs": [
        {
          "output_type": "stream",
          "name": "stdout",
          "text": [
            "La ciudad en el décimo lugar por frecuencia es: Alicante\n"
          ]
        }
      ]
    },
    {
      "cell_type": "code",
      "source": [
        "#import pandas as pd\n",
        "\n",
        "# El DataFrame se llama df y la columna de la ciudad se llama 'City'\n",
        "total_registros = len(df)  # Número total de registros en el DataFrame\n",
        "\n",
        "# Contar cuántos registros son de la ciudad de Madrid\n",
        "registros_madrid = df[df['City'] == 'Madrid'].shape[0]  # Filtrar registros de Madrid y contarlos\n",
        "\n",
        "# Calcular el porcentaje de registros que son de Madrid\n",
        "porcentaje_madrid = (registros_madrid / total_registros) * 100\n",
        "\n",
        "print(\"El porcentaje de registros que son de la ciudad de Madrid es:\", porcentaje_madrid, \"%\")\n"
      ],
      "metadata": {
        "id": "fKnwhKCOYB0c",
        "outputId": "73376240-865d-442b-9e18-d769a1416c5d",
        "colab": {
          "base_uri": "https://localhost:8080/"
        }
      },
      "execution_count": null,
      "outputs": [
        {
          "output_type": "stream",
          "name": "stdout",
          "text": [
            "El porcentaje de registros que son de la ciudad de Madrid es: 37.30407523510972 %\n"
          ]
        }
      ]
    },
    {
      "cell_type": "markdown",
      "source": [
        "## Tasl 1.2\n",
        "¿Cuál es la ciudad entre las 10 ciudades con más anuncios con la media de candidatos más baja?\n",
        "* Zaragoza con 8.9 candidatos por plaza ofertada.\n"
      ],
      "metadata": {
        "id": "xFIPafbzceFA"
      }
    },
    {
      "cell_type": "code",
      "source": [
        "#import pandas as pd\n",
        "\n",
        "# Suponiendo que tu DataFrame se llama df\n",
        "# Agrupar por ciudad y calcular el número total de anuncios y la media de candidatos\n",
        "city_stats = df.groupby('City').agg({'Candidates': 'mean', 'Jobtitle': 'count'})\n",
        "\n",
        "# Ordenar las ciudades por el número de anuncios en orden descendente y seleccionar las 10 primeras\n",
        "top_10_cities = city_stats.nlargest(10, 'Jobtitle')\n",
        "\n",
        "# Calcular la media de candidatos para las 10 ciudades\n",
        "mean_candidates_top_10 = top_10_cities['Candidates'].mean()\n",
        "\n",
        "# Encontrar la ciudad con la media de candidatos más baja\n",
        "city_with_lowest_avg_candidates = top_10_cities[top_10_cities['Candidates'] == top_10_cities['Candidates'].min()].index[0]\n",
        "\n",
        "print(f\"La ciudad entre las 10 ciudades con más anuncios con la media de candidatos más baja es: {city_with_lowest_avg_candidates}, con una media de {mean_candidates_top_10} candidatos.\")\n"
      ],
      "metadata": {
        "id": "cl2Vl6dH3gXx",
        "outputId": "d8644aed-704a-444e-a137-41343c749751",
        "colab": {
          "base_uri": "https://localhost:8080/"
        }
      },
      "execution_count": null,
      "outputs": [
        {
          "output_type": "stream",
          "name": "stdout",
          "text": [
            "La ciudad entre las 10 ciudades con más anuncios con la media de candidatos más baja es: Zaragoza, con una media de 24.515623817948132 candidatos.\n"
          ]
        }
      ]
    },
    {
      "cell_type": "code",
      "source": [
        "# Filtrar el DataFrame por la ciudad de \"Zaragoza\"\n",
        "zaragoza_jobs = df[df['City'] == 'Zaragoza']\n",
        "\n",
        "# Contar el número de ofertas de trabajo para Zaragoza\n",
        "num_zaragoza_jobs = zaragoza_jobs.shape[0]\n",
        "\n",
        "print(f\"El número de ofertas de trabajo para la ciudad de Zaragoza es: {num_zaragoza_jobs}\")"
      ],
      "metadata": {
        "id": "xlnZvk3e5dnU",
        "outputId": "95792af2-c359-4ceb-ddec-b15cc5ede572",
        "colab": {
          "base_uri": "https://localhost:8080/"
        }
      },
      "execution_count": null,
      "outputs": [
        {
          "output_type": "stream",
          "name": "stdout",
          "text": [
            "El número de ofertas de trabajo para la ciudad de Zaragoza es: 85\n"
          ]
        }
      ]
    },
    {
      "cell_type": "code",
      "source": [
        "# Filtrar el DataFrame por la ciudad de \"Zaragoza\"\n",
        "zaragoza_jobs = df[df['City'] == 'Zaragoza']\n",
        "\n",
        "# Calcular el número total de candidatos para las ofertas de trabajo en Zaragoza\n",
        "total_candidates_zaragoza = zaragoza_jobs['Candidates'].sum()\n",
        "\n",
        "print(f\"El número total de candidatos para todas las ofertas de trabajo en la ciudad de Zaragoza es: {total_candidates_zaragoza}\")"
      ],
      "metadata": {
        "id": "PUZt63RD5uSG",
        "outputId": "4ae88d0f-e3b1-42e5-fff2-9d2ba888e7d6",
        "colab": {
          "base_uri": "https://localhost:8080/"
        }
      },
      "execution_count": null,
      "outputs": [
        {
          "output_type": "stream",
          "name": "stdout",
          "text": [
            "El número total de candidatos para todas las ofertas de trabajo en la ciudad de Zaragoza es: 763\n"
          ]
        }
      ]
    },
    {
      "cell_type": "code",
      "source": [
        "763/85"
      ],
      "metadata": {
        "id": "8hZUQ64r6QBG",
        "outputId": "b9953988-b680-4408-f813-4d62a1300949",
        "colab": {
          "base_uri": "https://localhost:8080/"
        }
      },
      "execution_count": null,
      "outputs": [
        {
          "output_type": "execute_result",
          "data": {
            "text/plain": [
              "8.976470588235294"
            ]
          },
          "metadata": {},
          "execution_count": 15
        }
      ]
    },
    {
      "cell_type": "code",
      "source": [
        "# Agrupar por ciudad y calcular el número total de anuncios y la media de candidatos\n",
        "city_stats = df.groupby('City').agg({'Candidates': 'mean', 'Jobtitle': 'count'})\n",
        "city_stats"
      ],
      "metadata": {
        "id": "A9923M2V7lRG",
        "outputId": "d0bf050e-95e3-4a1c-ba89-b06b99b0ec98",
        "colab": {
          "base_uri": "https://localhost:8080/",
          "height": 1000
        }
      },
      "execution_count": null,
      "outputs": [
        {
          "output_type": "execute_result",
          "data": {
            "text/plain": [
              "                            Candidates  Jobtitle\n",
              "City                                            \n",
              "A Coruña                     17.195122        41\n",
              "Albacete                     15.666667         3\n",
              "Alicante                     22.333333        51\n",
              "Almería                      15.333333        15\n",
              "Asturias                     48.058824        34\n",
              "Badajoz                      10.375000         8\n",
              "Baleares                     17.416667        12\n",
              "Barcelona                    22.057652       954\n",
              "Bizkaia                      10.143939       132\n",
              "Burgos                       48.800000         5\n",
              "Cantabria                     6.250000        12\n",
              "Castellón                    20.500000        16\n",
              "Cuenca                       22.000000         1\n",
              "Cáceres                      67.666667         3\n",
              "Cádiz                        27.833333         6\n",
              "Córdoba                      11.555556        18\n",
              "Dubái                        14.666667         3\n",
              "Estonia                       1.000000         1\n",
              "Gibraltar                     7.000000         4\n",
              "Gipuzkoa                     21.613636        44\n",
              "Girona                       12.714286        14\n",
              "Granada                      21.615385        26\n",
              "Guadalajara                   6.000000         1\n",
              "Huelva                       13.750000         4\n",
              "Huesca                       20.000000         2\n",
              "Jaén                         17.000000         1\n",
              "La Rioja                      3.727273        11\n",
              "Las Palmas De Gran Canaria   15.714286        14\n",
              "Les Escaldes - Engordany     35.000000         1\n",
              "León                         16.800000         5\n",
              "Lisboa                        3.000000         1\n",
              "Lleida                        3.333333         3\n",
              "Lugo                          6.500000         2\n",
              "Madrid                       17.630252      2023\n",
              "Murcia                       53.245283        53\n",
              "Málaga                       13.915385       130\n",
              "Navarra                       6.055556        18\n",
              "Online                       44.007759      1160\n",
              "Ourense                      10.500000         8\n",
              "Palencia                     22.000000         3\n",
              "Pontevedra                   10.578947        19\n",
              "Salamanca                    16.500000         4\n",
              "Sevilla                      20.580247        81\n",
              "Soria                         3.333333         3\n",
              "Sta. Cruz De Tenerife        23.439024        41\n",
              "Tarragona                    22.714286         7\n",
              "Teruel                        9.000000         1\n",
              "Toledo                       41.888889         9\n",
              "Valencia                     32.265918       267\n",
              "Valladolid                   14.139535        43\n",
              "Zaragoza                      8.976471        85\n",
              "Álava                        10.555556        18\n",
              "Ávila                         4.000000         1\n",
              "Île-de-france                 0.000000         1"
            ],
            "text/html": [
              "\n",
              "  <div id=\"df-0e899bce-dfde-494f-8996-91380d2a2112\" class=\"colab-df-container\">\n",
              "    <div>\n",
              "<style scoped>\n",
              "    .dataframe tbody tr th:only-of-type {\n",
              "        vertical-align: middle;\n",
              "    }\n",
              "\n",
              "    .dataframe tbody tr th {\n",
              "        vertical-align: top;\n",
              "    }\n",
              "\n",
              "    .dataframe thead th {\n",
              "        text-align: right;\n",
              "    }\n",
              "</style>\n",
              "<table border=\"1\" class=\"dataframe\">\n",
              "  <thead>\n",
              "    <tr style=\"text-align: right;\">\n",
              "      <th></th>\n",
              "      <th>Candidates</th>\n",
              "      <th>Jobtitle</th>\n",
              "    </tr>\n",
              "    <tr>\n",
              "      <th>City</th>\n",
              "      <th></th>\n",
              "      <th></th>\n",
              "    </tr>\n",
              "  </thead>\n",
              "  <tbody>\n",
              "    <tr>\n",
              "      <th>A Coruña</th>\n",
              "      <td>17.195122</td>\n",
              "      <td>41</td>\n",
              "    </tr>\n",
              "    <tr>\n",
              "      <th>Albacete</th>\n",
              "      <td>15.666667</td>\n",
              "      <td>3</td>\n",
              "    </tr>\n",
              "    <tr>\n",
              "      <th>Alicante</th>\n",
              "      <td>22.333333</td>\n",
              "      <td>51</td>\n",
              "    </tr>\n",
              "    <tr>\n",
              "      <th>Almería</th>\n",
              "      <td>15.333333</td>\n",
              "      <td>15</td>\n",
              "    </tr>\n",
              "    <tr>\n",
              "      <th>Asturias</th>\n",
              "      <td>48.058824</td>\n",
              "      <td>34</td>\n",
              "    </tr>\n",
              "    <tr>\n",
              "      <th>Badajoz</th>\n",
              "      <td>10.375000</td>\n",
              "      <td>8</td>\n",
              "    </tr>\n",
              "    <tr>\n",
              "      <th>Baleares</th>\n",
              "      <td>17.416667</td>\n",
              "      <td>12</td>\n",
              "    </tr>\n",
              "    <tr>\n",
              "      <th>Barcelona</th>\n",
              "      <td>22.057652</td>\n",
              "      <td>954</td>\n",
              "    </tr>\n",
              "    <tr>\n",
              "      <th>Bizkaia</th>\n",
              "      <td>10.143939</td>\n",
              "      <td>132</td>\n",
              "    </tr>\n",
              "    <tr>\n",
              "      <th>Burgos</th>\n",
              "      <td>48.800000</td>\n",
              "      <td>5</td>\n",
              "    </tr>\n",
              "    <tr>\n",
              "      <th>Cantabria</th>\n",
              "      <td>6.250000</td>\n",
              "      <td>12</td>\n",
              "    </tr>\n",
              "    <tr>\n",
              "      <th>Castellón</th>\n",
              "      <td>20.500000</td>\n",
              "      <td>16</td>\n",
              "    </tr>\n",
              "    <tr>\n",
              "      <th>Cuenca</th>\n",
              "      <td>22.000000</td>\n",
              "      <td>1</td>\n",
              "    </tr>\n",
              "    <tr>\n",
              "      <th>Cáceres</th>\n",
              "      <td>67.666667</td>\n",
              "      <td>3</td>\n",
              "    </tr>\n",
              "    <tr>\n",
              "      <th>Cádiz</th>\n",
              "      <td>27.833333</td>\n",
              "      <td>6</td>\n",
              "    </tr>\n",
              "    <tr>\n",
              "      <th>Córdoba</th>\n",
              "      <td>11.555556</td>\n",
              "      <td>18</td>\n",
              "    </tr>\n",
              "    <tr>\n",
              "      <th>Dubái</th>\n",
              "      <td>14.666667</td>\n",
              "      <td>3</td>\n",
              "    </tr>\n",
              "    <tr>\n",
              "      <th>Estonia</th>\n",
              "      <td>1.000000</td>\n",
              "      <td>1</td>\n",
              "    </tr>\n",
              "    <tr>\n",
              "      <th>Gibraltar</th>\n",
              "      <td>7.000000</td>\n",
              "      <td>4</td>\n",
              "    </tr>\n",
              "    <tr>\n",
              "      <th>Gipuzkoa</th>\n",
              "      <td>21.613636</td>\n",
              "      <td>44</td>\n",
              "    </tr>\n",
              "    <tr>\n",
              "      <th>Girona</th>\n",
              "      <td>12.714286</td>\n",
              "      <td>14</td>\n",
              "    </tr>\n",
              "    <tr>\n",
              "      <th>Granada</th>\n",
              "      <td>21.615385</td>\n",
              "      <td>26</td>\n",
              "    </tr>\n",
              "    <tr>\n",
              "      <th>Guadalajara</th>\n",
              "      <td>6.000000</td>\n",
              "      <td>1</td>\n",
              "    </tr>\n",
              "    <tr>\n",
              "      <th>Huelva</th>\n",
              "      <td>13.750000</td>\n",
              "      <td>4</td>\n",
              "    </tr>\n",
              "    <tr>\n",
              "      <th>Huesca</th>\n",
              "      <td>20.000000</td>\n",
              "      <td>2</td>\n",
              "    </tr>\n",
              "    <tr>\n",
              "      <th>Jaén</th>\n",
              "      <td>17.000000</td>\n",
              "      <td>1</td>\n",
              "    </tr>\n",
              "    <tr>\n",
              "      <th>La Rioja</th>\n",
              "      <td>3.727273</td>\n",
              "      <td>11</td>\n",
              "    </tr>\n",
              "    <tr>\n",
              "      <th>Las Palmas De Gran Canaria</th>\n",
              "      <td>15.714286</td>\n",
              "      <td>14</td>\n",
              "    </tr>\n",
              "    <tr>\n",
              "      <th>Les Escaldes - Engordany</th>\n",
              "      <td>35.000000</td>\n",
              "      <td>1</td>\n",
              "    </tr>\n",
              "    <tr>\n",
              "      <th>León</th>\n",
              "      <td>16.800000</td>\n",
              "      <td>5</td>\n",
              "    </tr>\n",
              "    <tr>\n",
              "      <th>Lisboa</th>\n",
              "      <td>3.000000</td>\n",
              "      <td>1</td>\n",
              "    </tr>\n",
              "    <tr>\n",
              "      <th>Lleida</th>\n",
              "      <td>3.333333</td>\n",
              "      <td>3</td>\n",
              "    </tr>\n",
              "    <tr>\n",
              "      <th>Lugo</th>\n",
              "      <td>6.500000</td>\n",
              "      <td>2</td>\n",
              "    </tr>\n",
              "    <tr>\n",
              "      <th>Madrid</th>\n",
              "      <td>17.630252</td>\n",
              "      <td>2023</td>\n",
              "    </tr>\n",
              "    <tr>\n",
              "      <th>Murcia</th>\n",
              "      <td>53.245283</td>\n",
              "      <td>53</td>\n",
              "    </tr>\n",
              "    <tr>\n",
              "      <th>Málaga</th>\n",
              "      <td>13.915385</td>\n",
              "      <td>130</td>\n",
              "    </tr>\n",
              "    <tr>\n",
              "      <th>Navarra</th>\n",
              "      <td>6.055556</td>\n",
              "      <td>18</td>\n",
              "    </tr>\n",
              "    <tr>\n",
              "      <th>Online</th>\n",
              "      <td>44.007759</td>\n",
              "      <td>1160</td>\n",
              "    </tr>\n",
              "    <tr>\n",
              "      <th>Ourense</th>\n",
              "      <td>10.500000</td>\n",
              "      <td>8</td>\n",
              "    </tr>\n",
              "    <tr>\n",
              "      <th>Palencia</th>\n",
              "      <td>22.000000</td>\n",
              "      <td>3</td>\n",
              "    </tr>\n",
              "    <tr>\n",
              "      <th>Pontevedra</th>\n",
              "      <td>10.578947</td>\n",
              "      <td>19</td>\n",
              "    </tr>\n",
              "    <tr>\n",
              "      <th>Salamanca</th>\n",
              "      <td>16.500000</td>\n",
              "      <td>4</td>\n",
              "    </tr>\n",
              "    <tr>\n",
              "      <th>Sevilla</th>\n",
              "      <td>20.580247</td>\n",
              "      <td>81</td>\n",
              "    </tr>\n",
              "    <tr>\n",
              "      <th>Soria</th>\n",
              "      <td>3.333333</td>\n",
              "      <td>3</td>\n",
              "    </tr>\n",
              "    <tr>\n",
              "      <th>Sta. Cruz De Tenerife</th>\n",
              "      <td>23.439024</td>\n",
              "      <td>41</td>\n",
              "    </tr>\n",
              "    <tr>\n",
              "      <th>Tarragona</th>\n",
              "      <td>22.714286</td>\n",
              "      <td>7</td>\n",
              "    </tr>\n",
              "    <tr>\n",
              "      <th>Teruel</th>\n",
              "      <td>9.000000</td>\n",
              "      <td>1</td>\n",
              "    </tr>\n",
              "    <tr>\n",
              "      <th>Toledo</th>\n",
              "      <td>41.888889</td>\n",
              "      <td>9</td>\n",
              "    </tr>\n",
              "    <tr>\n",
              "      <th>Valencia</th>\n",
              "      <td>32.265918</td>\n",
              "      <td>267</td>\n",
              "    </tr>\n",
              "    <tr>\n",
              "      <th>Valladolid</th>\n",
              "      <td>14.139535</td>\n",
              "      <td>43</td>\n",
              "    </tr>\n",
              "    <tr>\n",
              "      <th>Zaragoza</th>\n",
              "      <td>8.976471</td>\n",
              "      <td>85</td>\n",
              "    </tr>\n",
              "    <tr>\n",
              "      <th>Álava</th>\n",
              "      <td>10.555556</td>\n",
              "      <td>18</td>\n",
              "    </tr>\n",
              "    <tr>\n",
              "      <th>Ávila</th>\n",
              "      <td>4.000000</td>\n",
              "      <td>1</td>\n",
              "    </tr>\n",
              "    <tr>\n",
              "      <th>Île-de-france</th>\n",
              "      <td>0.000000</td>\n",
              "      <td>1</td>\n",
              "    </tr>\n",
              "  </tbody>\n",
              "</table>\n",
              "</div>\n",
              "    <div class=\"colab-df-buttons\">\n",
              "\n",
              "  <div class=\"colab-df-container\">\n",
              "    <button class=\"colab-df-convert\" onclick=\"convertToInteractive('df-0e899bce-dfde-494f-8996-91380d2a2112')\"\n",
              "            title=\"Convert this dataframe to an interactive table.\"\n",
              "            style=\"display:none;\">\n",
              "\n",
              "  <svg xmlns=\"http://www.w3.org/2000/svg\" height=\"24px\" viewBox=\"0 -960 960 960\">\n",
              "    <path d=\"M120-120v-720h720v720H120Zm60-500h600v-160H180v160Zm220 220h160v-160H400v160Zm0 220h160v-160H400v160ZM180-400h160v-160H180v160Zm440 0h160v-160H620v160ZM180-180h160v-160H180v160Zm440 0h160v-160H620v160Z\"/>\n",
              "  </svg>\n",
              "    </button>\n",
              "\n",
              "  <style>\n",
              "    .colab-df-container {\n",
              "      display:flex;\n",
              "      gap: 12px;\n",
              "    }\n",
              "\n",
              "    .colab-df-convert {\n",
              "      background-color: #E8F0FE;\n",
              "      border: none;\n",
              "      border-radius: 50%;\n",
              "      cursor: pointer;\n",
              "      display: none;\n",
              "      fill: #1967D2;\n",
              "      height: 32px;\n",
              "      padding: 0 0 0 0;\n",
              "      width: 32px;\n",
              "    }\n",
              "\n",
              "    .colab-df-convert:hover {\n",
              "      background-color: #E2EBFA;\n",
              "      box-shadow: 0px 1px 2px rgba(60, 64, 67, 0.3), 0px 1px 3px 1px rgba(60, 64, 67, 0.15);\n",
              "      fill: #174EA6;\n",
              "    }\n",
              "\n",
              "    .colab-df-buttons div {\n",
              "      margin-bottom: 4px;\n",
              "    }\n",
              "\n",
              "    [theme=dark] .colab-df-convert {\n",
              "      background-color: #3B4455;\n",
              "      fill: #D2E3FC;\n",
              "    }\n",
              "\n",
              "    [theme=dark] .colab-df-convert:hover {\n",
              "      background-color: #434B5C;\n",
              "      box-shadow: 0px 1px 3px 1px rgba(0, 0, 0, 0.15);\n",
              "      filter: drop-shadow(0px 1px 2px rgba(0, 0, 0, 0.3));\n",
              "      fill: #FFFFFF;\n",
              "    }\n",
              "  </style>\n",
              "\n",
              "    <script>\n",
              "      const buttonEl =\n",
              "        document.querySelector('#df-0e899bce-dfde-494f-8996-91380d2a2112 button.colab-df-convert');\n",
              "      buttonEl.style.display =\n",
              "        google.colab.kernel.accessAllowed ? 'block' : 'none';\n",
              "\n",
              "      async function convertToInteractive(key) {\n",
              "        const element = document.querySelector('#df-0e899bce-dfde-494f-8996-91380d2a2112');\n",
              "        const dataTable =\n",
              "          await google.colab.kernel.invokeFunction('convertToInteractive',\n",
              "                                                    [key], {});\n",
              "        if (!dataTable) return;\n",
              "\n",
              "        const docLinkHtml = 'Like what you see? Visit the ' +\n",
              "          '<a target=\"_blank\" href=https://colab.research.google.com/notebooks/data_table.ipynb>data table notebook</a>'\n",
              "          + ' to learn more about interactive tables.';\n",
              "        element.innerHTML = '';\n",
              "        dataTable['output_type'] = 'display_data';\n",
              "        await google.colab.output.renderOutput(dataTable, element);\n",
              "        const docLink = document.createElement('div');\n",
              "        docLink.innerHTML = docLinkHtml;\n",
              "        element.appendChild(docLink);\n",
              "      }\n",
              "    </script>\n",
              "  </div>\n",
              "\n",
              "\n",
              "<div id=\"df-d0facf64-aac9-4b66-90e9-e63cbd70de59\">\n",
              "  <button class=\"colab-df-quickchart\" onclick=\"quickchart('df-d0facf64-aac9-4b66-90e9-e63cbd70de59')\"\n",
              "            title=\"Suggest charts\"\n",
              "            style=\"display:none;\">\n",
              "\n",
              "<svg xmlns=\"http://www.w3.org/2000/svg\" height=\"24px\"viewBox=\"0 0 24 24\"\n",
              "     width=\"24px\">\n",
              "    <g>\n",
              "        <path d=\"M19 3H5c-1.1 0-2 .9-2 2v14c0 1.1.9 2 2 2h14c1.1 0 2-.9 2-2V5c0-1.1-.9-2-2-2zM9 17H7v-7h2v7zm4 0h-2V7h2v10zm4 0h-2v-4h2v4z\"/>\n",
              "    </g>\n",
              "</svg>\n",
              "  </button>\n",
              "\n",
              "<style>\n",
              "  .colab-df-quickchart {\n",
              "      --bg-color: #E8F0FE;\n",
              "      --fill-color: #1967D2;\n",
              "      --hover-bg-color: #E2EBFA;\n",
              "      --hover-fill-color: #174EA6;\n",
              "      --disabled-fill-color: #AAA;\n",
              "      --disabled-bg-color: #DDD;\n",
              "  }\n",
              "\n",
              "  [theme=dark] .colab-df-quickchart {\n",
              "      --bg-color: #3B4455;\n",
              "      --fill-color: #D2E3FC;\n",
              "      --hover-bg-color: #434B5C;\n",
              "      --hover-fill-color: #FFFFFF;\n",
              "      --disabled-bg-color: #3B4455;\n",
              "      --disabled-fill-color: #666;\n",
              "  }\n",
              "\n",
              "  .colab-df-quickchart {\n",
              "    background-color: var(--bg-color);\n",
              "    border: none;\n",
              "    border-radius: 50%;\n",
              "    cursor: pointer;\n",
              "    display: none;\n",
              "    fill: var(--fill-color);\n",
              "    height: 32px;\n",
              "    padding: 0;\n",
              "    width: 32px;\n",
              "  }\n",
              "\n",
              "  .colab-df-quickchart:hover {\n",
              "    background-color: var(--hover-bg-color);\n",
              "    box-shadow: 0 1px 2px rgba(60, 64, 67, 0.3), 0 1px 3px 1px rgba(60, 64, 67, 0.15);\n",
              "    fill: var(--button-hover-fill-color);\n",
              "  }\n",
              "\n",
              "  .colab-df-quickchart-complete:disabled,\n",
              "  .colab-df-quickchart-complete:disabled:hover {\n",
              "    background-color: var(--disabled-bg-color);\n",
              "    fill: var(--disabled-fill-color);\n",
              "    box-shadow: none;\n",
              "  }\n",
              "\n",
              "  .colab-df-spinner {\n",
              "    border: 2px solid var(--fill-color);\n",
              "    border-color: transparent;\n",
              "    border-bottom-color: var(--fill-color);\n",
              "    animation:\n",
              "      spin 1s steps(1) infinite;\n",
              "  }\n",
              "\n",
              "  @keyframes spin {\n",
              "    0% {\n",
              "      border-color: transparent;\n",
              "      border-bottom-color: var(--fill-color);\n",
              "      border-left-color: var(--fill-color);\n",
              "    }\n",
              "    20% {\n",
              "      border-color: transparent;\n",
              "      border-left-color: var(--fill-color);\n",
              "      border-top-color: var(--fill-color);\n",
              "    }\n",
              "    30% {\n",
              "      border-color: transparent;\n",
              "      border-left-color: var(--fill-color);\n",
              "      border-top-color: var(--fill-color);\n",
              "      border-right-color: var(--fill-color);\n",
              "    }\n",
              "    40% {\n",
              "      border-color: transparent;\n",
              "      border-right-color: var(--fill-color);\n",
              "      border-top-color: var(--fill-color);\n",
              "    }\n",
              "    60% {\n",
              "      border-color: transparent;\n",
              "      border-right-color: var(--fill-color);\n",
              "    }\n",
              "    80% {\n",
              "      border-color: transparent;\n",
              "      border-right-color: var(--fill-color);\n",
              "      border-bottom-color: var(--fill-color);\n",
              "    }\n",
              "    90% {\n",
              "      border-color: transparent;\n",
              "      border-bottom-color: var(--fill-color);\n",
              "    }\n",
              "  }\n",
              "</style>\n",
              "\n",
              "  <script>\n",
              "    async function quickchart(key) {\n",
              "      const quickchartButtonEl =\n",
              "        document.querySelector('#' + key + ' button');\n",
              "      quickchartButtonEl.disabled = true;  // To prevent multiple clicks.\n",
              "      quickchartButtonEl.classList.add('colab-df-spinner');\n",
              "      try {\n",
              "        const charts = await google.colab.kernel.invokeFunction(\n",
              "            'suggestCharts', [key], {});\n",
              "      } catch (error) {\n",
              "        console.error('Error during call to suggestCharts:', error);\n",
              "      }\n",
              "      quickchartButtonEl.classList.remove('colab-df-spinner');\n",
              "      quickchartButtonEl.classList.add('colab-df-quickchart-complete');\n",
              "    }\n",
              "    (() => {\n",
              "      let quickchartButtonEl =\n",
              "        document.querySelector('#df-d0facf64-aac9-4b66-90e9-e63cbd70de59 button');\n",
              "      quickchartButtonEl.style.display =\n",
              "        google.colab.kernel.accessAllowed ? 'block' : 'none';\n",
              "    })();\n",
              "  </script>\n",
              "</div>\n",
              "    </div>\n",
              "  </div>\n"
            ],
            "application/vnd.google.colaboratory.intrinsic+json": {
              "type": "dataframe",
              "variable_name": "city_stats",
              "summary": "{\n  \"name\": \"city_stats\",\n  \"rows\": 54,\n  \"fields\": [\n    {\n      \"column\": \"City\",\n      \"properties\": {\n        \"dtype\": \"string\",\n        \"num_unique_values\": 54,\n        \"samples\": [\n          \"Gipuzkoa\",\n          \"Valladolid\",\n          \"Valencia\"\n        ],\n        \"semantic_type\": \"\",\n        \"description\": \"\"\n      }\n    },\n    {\n      \"column\": \"Candidates\",\n      \"properties\": {\n        \"dtype\": \"number\",\n        \"std\": 14.07769277664196,\n        \"min\": 0.0,\n        \"max\": 67.66666666666667,\n        \"num_unique_values\": 52,\n        \"samples\": [\n          21.613636363636363,\n          20.580246913580247,\n          14.13953488372093\n        ],\n        \"semantic_type\": \"\",\n        \"description\": \"\"\n      }\n    },\n    {\n      \"column\": \"Jobtitle\",\n      \"properties\": {\n        \"dtype\": \"number\",\n        \"std\": 334,\n        \"min\": 1,\n        \"max\": 2023,\n        \"num_unique_values\": 31,\n        \"samples\": [\n          9,\n          44,\n          1160\n        ],\n        \"semantic_type\": \"\",\n        \"description\": \"\"\n      }\n    }\n  ]\n}"
            }
          },
          "metadata": {},
          "execution_count": 17
        }
      ]
    },
    {
      "cell_type": "code",
      "source": [
        "# Suponiendo que tu DataFrame se llama df\n",
        "# Agrupar por ciudad y calcular el número total de anuncios y la media de candidatos\n",
        "city_stats = df.groupby('City').agg({'Candidates': 'mean', 'Jobtitle': 'count'})\n",
        "\n",
        "# Ordenar las ciudades por el número de anuncios en orden descendente y seleccionar las 10 primeras\n",
        "top_10_cities = city_stats.nlargest(10, 'Jobtitle')\n",
        "top_10_cities"
      ],
      "metadata": {
        "id": "tjTOkoSq8UO0",
        "outputId": "fb2cc7c5-4f28-4638-9d48-faa0fa6c0e5d",
        "colab": {
          "base_uri": "https://localhost:8080/",
          "height": 394
        }
      },
      "execution_count": null,
      "outputs": [
        {
          "output_type": "execute_result",
          "data": {
            "text/plain": [
              "           Candidates  Jobtitle\n",
              "City                           \n",
              "Madrid      17.630252      2023\n",
              "Online      44.007759      1160\n",
              "Barcelona   22.057652       954\n",
              "Valencia    32.265918       267\n",
              "Bizkaia     10.143939       132\n",
              "Málaga      13.915385       130\n",
              "Zaragoza     8.976471        85\n",
              "Sevilla     20.580247        81\n",
              "Murcia      53.245283        53\n",
              "Alicante    22.333333        51"
            ],
            "text/html": [
              "\n",
              "  <div id=\"df-246be580-2db3-4fbc-b31a-67d2d570b5f2\" class=\"colab-df-container\">\n",
              "    <div>\n",
              "<style scoped>\n",
              "    .dataframe tbody tr th:only-of-type {\n",
              "        vertical-align: middle;\n",
              "    }\n",
              "\n",
              "    .dataframe tbody tr th {\n",
              "        vertical-align: top;\n",
              "    }\n",
              "\n",
              "    .dataframe thead th {\n",
              "        text-align: right;\n",
              "    }\n",
              "</style>\n",
              "<table border=\"1\" class=\"dataframe\">\n",
              "  <thead>\n",
              "    <tr style=\"text-align: right;\">\n",
              "      <th></th>\n",
              "      <th>Candidates</th>\n",
              "      <th>Jobtitle</th>\n",
              "    </tr>\n",
              "    <tr>\n",
              "      <th>City</th>\n",
              "      <th></th>\n",
              "      <th></th>\n",
              "    </tr>\n",
              "  </thead>\n",
              "  <tbody>\n",
              "    <tr>\n",
              "      <th>Madrid</th>\n",
              "      <td>17.630252</td>\n",
              "      <td>2023</td>\n",
              "    </tr>\n",
              "    <tr>\n",
              "      <th>Online</th>\n",
              "      <td>44.007759</td>\n",
              "      <td>1160</td>\n",
              "    </tr>\n",
              "    <tr>\n",
              "      <th>Barcelona</th>\n",
              "      <td>22.057652</td>\n",
              "      <td>954</td>\n",
              "    </tr>\n",
              "    <tr>\n",
              "      <th>Valencia</th>\n",
              "      <td>32.265918</td>\n",
              "      <td>267</td>\n",
              "    </tr>\n",
              "    <tr>\n",
              "      <th>Bizkaia</th>\n",
              "      <td>10.143939</td>\n",
              "      <td>132</td>\n",
              "    </tr>\n",
              "    <tr>\n",
              "      <th>Málaga</th>\n",
              "      <td>13.915385</td>\n",
              "      <td>130</td>\n",
              "    </tr>\n",
              "    <tr>\n",
              "      <th>Zaragoza</th>\n",
              "      <td>8.976471</td>\n",
              "      <td>85</td>\n",
              "    </tr>\n",
              "    <tr>\n",
              "      <th>Sevilla</th>\n",
              "      <td>20.580247</td>\n",
              "      <td>81</td>\n",
              "    </tr>\n",
              "    <tr>\n",
              "      <th>Murcia</th>\n",
              "      <td>53.245283</td>\n",
              "      <td>53</td>\n",
              "    </tr>\n",
              "    <tr>\n",
              "      <th>Alicante</th>\n",
              "      <td>22.333333</td>\n",
              "      <td>51</td>\n",
              "    </tr>\n",
              "  </tbody>\n",
              "</table>\n",
              "</div>\n",
              "    <div class=\"colab-df-buttons\">\n",
              "\n",
              "  <div class=\"colab-df-container\">\n",
              "    <button class=\"colab-df-convert\" onclick=\"convertToInteractive('df-246be580-2db3-4fbc-b31a-67d2d570b5f2')\"\n",
              "            title=\"Convert this dataframe to an interactive table.\"\n",
              "            style=\"display:none;\">\n",
              "\n",
              "  <svg xmlns=\"http://www.w3.org/2000/svg\" height=\"24px\" viewBox=\"0 -960 960 960\">\n",
              "    <path d=\"M120-120v-720h720v720H120Zm60-500h600v-160H180v160Zm220 220h160v-160H400v160Zm0 220h160v-160H400v160ZM180-400h160v-160H180v160Zm440 0h160v-160H620v160ZM180-180h160v-160H180v160Zm440 0h160v-160H620v160Z\"/>\n",
              "  </svg>\n",
              "    </button>\n",
              "\n",
              "  <style>\n",
              "    .colab-df-container {\n",
              "      display:flex;\n",
              "      gap: 12px;\n",
              "    }\n",
              "\n",
              "    .colab-df-convert {\n",
              "      background-color: #E8F0FE;\n",
              "      border: none;\n",
              "      border-radius: 50%;\n",
              "      cursor: pointer;\n",
              "      display: none;\n",
              "      fill: #1967D2;\n",
              "      height: 32px;\n",
              "      padding: 0 0 0 0;\n",
              "      width: 32px;\n",
              "    }\n",
              "\n",
              "    .colab-df-convert:hover {\n",
              "      background-color: #E2EBFA;\n",
              "      box-shadow: 0px 1px 2px rgba(60, 64, 67, 0.3), 0px 1px 3px 1px rgba(60, 64, 67, 0.15);\n",
              "      fill: #174EA6;\n",
              "    }\n",
              "\n",
              "    .colab-df-buttons div {\n",
              "      margin-bottom: 4px;\n",
              "    }\n",
              "\n",
              "    [theme=dark] .colab-df-convert {\n",
              "      background-color: #3B4455;\n",
              "      fill: #D2E3FC;\n",
              "    }\n",
              "\n",
              "    [theme=dark] .colab-df-convert:hover {\n",
              "      background-color: #434B5C;\n",
              "      box-shadow: 0px 1px 3px 1px rgba(0, 0, 0, 0.15);\n",
              "      filter: drop-shadow(0px 1px 2px rgba(0, 0, 0, 0.3));\n",
              "      fill: #FFFFFF;\n",
              "    }\n",
              "  </style>\n",
              "\n",
              "    <script>\n",
              "      const buttonEl =\n",
              "        document.querySelector('#df-246be580-2db3-4fbc-b31a-67d2d570b5f2 button.colab-df-convert');\n",
              "      buttonEl.style.display =\n",
              "        google.colab.kernel.accessAllowed ? 'block' : 'none';\n",
              "\n",
              "      async function convertToInteractive(key) {\n",
              "        const element = document.querySelector('#df-246be580-2db3-4fbc-b31a-67d2d570b5f2');\n",
              "        const dataTable =\n",
              "          await google.colab.kernel.invokeFunction('convertToInteractive',\n",
              "                                                    [key], {});\n",
              "        if (!dataTable) return;\n",
              "\n",
              "        const docLinkHtml = 'Like what you see? Visit the ' +\n",
              "          '<a target=\"_blank\" href=https://colab.research.google.com/notebooks/data_table.ipynb>data table notebook</a>'\n",
              "          + ' to learn more about interactive tables.';\n",
              "        element.innerHTML = '';\n",
              "        dataTable['output_type'] = 'display_data';\n",
              "        await google.colab.output.renderOutput(dataTable, element);\n",
              "        const docLink = document.createElement('div');\n",
              "        docLink.innerHTML = docLinkHtml;\n",
              "        element.appendChild(docLink);\n",
              "      }\n",
              "    </script>\n",
              "  </div>\n",
              "\n",
              "\n",
              "<div id=\"df-820fce40-cfa3-4bfb-a6f2-1325e5a3dde0\">\n",
              "  <button class=\"colab-df-quickchart\" onclick=\"quickchart('df-820fce40-cfa3-4bfb-a6f2-1325e5a3dde0')\"\n",
              "            title=\"Suggest charts\"\n",
              "            style=\"display:none;\">\n",
              "\n",
              "<svg xmlns=\"http://www.w3.org/2000/svg\" height=\"24px\"viewBox=\"0 0 24 24\"\n",
              "     width=\"24px\">\n",
              "    <g>\n",
              "        <path d=\"M19 3H5c-1.1 0-2 .9-2 2v14c0 1.1.9 2 2 2h14c1.1 0 2-.9 2-2V5c0-1.1-.9-2-2-2zM9 17H7v-7h2v7zm4 0h-2V7h2v10zm4 0h-2v-4h2v4z\"/>\n",
              "    </g>\n",
              "</svg>\n",
              "  </button>\n",
              "\n",
              "<style>\n",
              "  .colab-df-quickchart {\n",
              "      --bg-color: #E8F0FE;\n",
              "      --fill-color: #1967D2;\n",
              "      --hover-bg-color: #E2EBFA;\n",
              "      --hover-fill-color: #174EA6;\n",
              "      --disabled-fill-color: #AAA;\n",
              "      --disabled-bg-color: #DDD;\n",
              "  }\n",
              "\n",
              "  [theme=dark] .colab-df-quickchart {\n",
              "      --bg-color: #3B4455;\n",
              "      --fill-color: #D2E3FC;\n",
              "      --hover-bg-color: #434B5C;\n",
              "      --hover-fill-color: #FFFFFF;\n",
              "      --disabled-bg-color: #3B4455;\n",
              "      --disabled-fill-color: #666;\n",
              "  }\n",
              "\n",
              "  .colab-df-quickchart {\n",
              "    background-color: var(--bg-color);\n",
              "    border: none;\n",
              "    border-radius: 50%;\n",
              "    cursor: pointer;\n",
              "    display: none;\n",
              "    fill: var(--fill-color);\n",
              "    height: 32px;\n",
              "    padding: 0;\n",
              "    width: 32px;\n",
              "  }\n",
              "\n",
              "  .colab-df-quickchart:hover {\n",
              "    background-color: var(--hover-bg-color);\n",
              "    box-shadow: 0 1px 2px rgba(60, 64, 67, 0.3), 0 1px 3px 1px rgba(60, 64, 67, 0.15);\n",
              "    fill: var(--button-hover-fill-color);\n",
              "  }\n",
              "\n",
              "  .colab-df-quickchart-complete:disabled,\n",
              "  .colab-df-quickchart-complete:disabled:hover {\n",
              "    background-color: var(--disabled-bg-color);\n",
              "    fill: var(--disabled-fill-color);\n",
              "    box-shadow: none;\n",
              "  }\n",
              "\n",
              "  .colab-df-spinner {\n",
              "    border: 2px solid var(--fill-color);\n",
              "    border-color: transparent;\n",
              "    border-bottom-color: var(--fill-color);\n",
              "    animation:\n",
              "      spin 1s steps(1) infinite;\n",
              "  }\n",
              "\n",
              "  @keyframes spin {\n",
              "    0% {\n",
              "      border-color: transparent;\n",
              "      border-bottom-color: var(--fill-color);\n",
              "      border-left-color: var(--fill-color);\n",
              "    }\n",
              "    20% {\n",
              "      border-color: transparent;\n",
              "      border-left-color: var(--fill-color);\n",
              "      border-top-color: var(--fill-color);\n",
              "    }\n",
              "    30% {\n",
              "      border-color: transparent;\n",
              "      border-left-color: var(--fill-color);\n",
              "      border-top-color: var(--fill-color);\n",
              "      border-right-color: var(--fill-color);\n",
              "    }\n",
              "    40% {\n",
              "      border-color: transparent;\n",
              "      border-right-color: var(--fill-color);\n",
              "      border-top-color: var(--fill-color);\n",
              "    }\n",
              "    60% {\n",
              "      border-color: transparent;\n",
              "      border-right-color: var(--fill-color);\n",
              "    }\n",
              "    80% {\n",
              "      border-color: transparent;\n",
              "      border-right-color: var(--fill-color);\n",
              "      border-bottom-color: var(--fill-color);\n",
              "    }\n",
              "    90% {\n",
              "      border-color: transparent;\n",
              "      border-bottom-color: var(--fill-color);\n",
              "    }\n",
              "  }\n",
              "</style>\n",
              "\n",
              "  <script>\n",
              "    async function quickchart(key) {\n",
              "      const quickchartButtonEl =\n",
              "        document.querySelector('#' + key + ' button');\n",
              "      quickchartButtonEl.disabled = true;  // To prevent multiple clicks.\n",
              "      quickchartButtonEl.classList.add('colab-df-spinner');\n",
              "      try {\n",
              "        const charts = await google.colab.kernel.invokeFunction(\n",
              "            'suggestCharts', [key], {});\n",
              "      } catch (error) {\n",
              "        console.error('Error during call to suggestCharts:', error);\n",
              "      }\n",
              "      quickchartButtonEl.classList.remove('colab-df-spinner');\n",
              "      quickchartButtonEl.classList.add('colab-df-quickchart-complete');\n",
              "    }\n",
              "    (() => {\n",
              "      let quickchartButtonEl =\n",
              "        document.querySelector('#df-820fce40-cfa3-4bfb-a6f2-1325e5a3dde0 button');\n",
              "      quickchartButtonEl.style.display =\n",
              "        google.colab.kernel.accessAllowed ? 'block' : 'none';\n",
              "    })();\n",
              "  </script>\n",
              "</div>\n",
              "    </div>\n",
              "  </div>\n"
            ],
            "application/vnd.google.colaboratory.intrinsic+json": {
              "type": "dataframe",
              "variable_name": "top_10_cities",
              "summary": "{\n  \"name\": \"top_10_cities\",\n  \"rows\": 10,\n  \"fields\": [\n    {\n      \"column\": \"City\",\n      \"properties\": {\n        \"dtype\": \"string\",\n        \"num_unique_values\": 10,\n        \"samples\": [\n          \"Murcia\",\n          \"Online\",\n          \"M\\u00e1laga\"\n        ],\n        \"semantic_type\": \"\",\n        \"description\": \"\"\n      }\n    },\n    {\n      \"column\": \"Candidates\",\n      \"properties\": {\n        \"dtype\": \"number\",\n        \"std\": 14.527670572912553,\n        \"min\": 8.976470588235294,\n        \"max\": 53.24528301886792,\n        \"num_unique_values\": 10,\n        \"samples\": [\n          53.24528301886792,\n          44.00775862068966,\n          13.915384615384616\n        ],\n        \"semantic_type\": \"\",\n        \"description\": \"\"\n      }\n    },\n    {\n      \"column\": \"Jobtitle\",\n      \"properties\": {\n        \"dtype\": \"number\",\n        \"std\": 669,\n        \"min\": 51,\n        \"max\": 2023,\n        \"num_unique_values\": 10,\n        \"samples\": [\n          53,\n          1160,\n          130\n        ],\n        \"semantic_type\": \"\",\n        \"description\": \"\"\n      }\n    }\n  ]\n}"
            }
          },
          "metadata": {},
          "execution_count": 18
        }
      ]
    },
    {
      "cell_type": "code",
      "source": [
        "# Agrupar por ciudad y calcular el número total de anuncios y la media de candidatos\n",
        "city_stats = df.groupby('City').agg({'Candidates': 'mean', 'Jobtitle': 'count'})\n",
        "\n",
        "# Ordenar las ciudades por el número de anuncios en orden descendente y seleccionar las 10 primeras\n",
        "top_10_cities = city_stats.nlargest(10, 'Jobtitle')\n",
        "\n",
        "# Calcular la media de candidatos para las 10 ciudades\n",
        "mean_candidates_top_10 = top_10_cities['Candidates'].mean()\n",
        "mean_candidates_top_10"
      ],
      "metadata": {
        "id": "BkO8y0df8kFo",
        "outputId": "c0a7a8dc-8c27-452d-be74-8156af2c074b",
        "colab": {
          "base_uri": "https://localhost:8080/"
        }
      },
      "execution_count": null,
      "outputs": [
        {
          "output_type": "execute_result",
          "data": {
            "text/plain": [
              "24.515623817948132"
            ]
          },
          "metadata": {},
          "execution_count": 19
        }
      ]
    },
    {
      "cell_type": "code",
      "source": [
        "#import pandas as pd\n",
        "\n",
        "# Filtrar el DataFrame por la ciudad de \"Zaragoza\"\n",
        "zaragoza_jobs = df[df['City'] == 'Zaragoza']\n",
        "\n",
        "# Calcular la media de candidatos para las ofertas de trabajo en Zaragoza\n",
        "mean_candidates_zaragoza = zaragoza_jobs['Candidates'].mean()\n",
        "\n",
        "print(f\"La media de candidatos para las ofertas de trabajo en la ciudad de Zaragoza es: {mean_candidates_zaragoza}\")\n"
      ],
      "metadata": {
        "id": "Tx-h6QpF9rX9",
        "outputId": "96189d58-8a77-40a6-97df-d85d3fc4734e",
        "colab": {
          "base_uri": "https://localhost:8080/"
        }
      },
      "execution_count": null,
      "outputs": [
        {
          "output_type": "stream",
          "name": "stdout",
          "text": [
            "La media de candidatos para las ofertas de trabajo en la ciudad de Zaragoza es: 8.976470588235294\n"
          ]
        }
      ]
    },
    {
      "cell_type": "markdown",
      "source": [
        "Task 1.3\n",
        "¿Cuál es la ciudad con las peores oportunidades, la que se encuentra más en la esquina derecha abajo?\n",
        "\n",
        "* Elegir entre:\n",
        "    1. Zaragoza\n",
        "    2. Murcia\n",
        "    3. Málaga\n",
        "    4. Oviedo"
      ],
      "metadata": {
        "id": "HgiDrpP9YwcT"
      }
    },
    {
      "cell_type": "code",
      "source": [
        "import matplotlib.pyplot as plt\n",
        "\n",
        "# Datos de ejemplo\n",
        "x = [1, 2, 3, 4, 5]\n",
        "y = [2, 3, 5, 7, 11]\n",
        "\n",
        "# Crear el gráfico de dispersión\n",
        "plt.scatter(x, y)\n",
        "\n",
        "# Agregar etiquetas y título\n",
        "plt.xlabel('Eje X')\n",
        "plt.ylabel('Eje Y')\n",
        "plt.title('Gráfico de dispersión')\n",
        "\n",
        "# Mostrar el gráfico\n",
        "plt.show()\n"
      ],
      "metadata": {
        "id": "jnpMPPLnYxbK",
        "outputId": "454facb9-fb94-4db1-915f-155ae647e2e0",
        "colab": {
          "base_uri": "https://localhost:8080/",
          "height": 472
        }
      },
      "execution_count": null,
      "outputs": [
        {
          "output_type": "display_data",
          "data": {
            "text/plain": [
              "<Figure size 640x480 with 1 Axes>"
            ],
            "image/png": "[encoded data removed]"
          },
          "metadata": {}
        }
      ]
    },
    {
      "cell_type": "code",
      "source": [
        "#import matplotlib.pyplot as plt\n",
        "\n",
        "# Datos de ejemplo\n",
        "x = [1, 2, 3, 4, 5]\n",
        "y = [2, 3, 5, 7, 11]\n",
        "\n",
        "# Crear el gráfico de dispersión\n",
        "plt.scatter(x, y)\n",
        "\n",
        "# Agregar etiquetas y título\n",
        "plt.xlabel('Eje X')\n",
        "plt.ylabel('Eje Y')\n",
        "plt.title('Gráfico de dispersión')\n",
        "\n",
        "# Dibujar línea horizontal en y=5\n",
        "plt.axhline(y=5, color='r', linestyle='--')\n",
        "\n",
        "# Dibujar línea vertical en x=3\n",
        "plt.axvline(x=3, color='g', linestyle='-.')\n",
        "\n",
        "# Mostrar el gráfico\n",
        "plt.show()\n"
      ],
      "metadata": {
        "id": "nfl-VPyFaCSp",
        "outputId": "e60802e2-21dc-4f5e-d1da-23de48a5a332",
        "colab": {
          "base_uri": "https://localhost:8080/",
          "height": 472
        }
      },
      "execution_count": null,
      "outputs": [
        {
          "output_type": "display_data",
          "data": {
            "text/plain": [
              "<Figure size 640x480 with 1 Axes>"
            ],
            "image/png": "[encoded data removed]"
          },
          "metadata": {}
        }
      ]
    },
    {
      "cell_type": "code",
      "source": [
        "#import matplotlib.pyplot as plt\n",
        "\n",
        "# Datos de ejemplo\n",
        "x = [1, 2, 3, 4, 5]\n",
        "y = [2, 3, 5, 7, 11]\n",
        "\n",
        "# Crear el gráfico de dispersión\n",
        "plt.scatter(x, y)\n",
        "\n",
        "# Agregar etiquetas y título\n",
        "plt.xlabel('Eje X')\n",
        "plt.ylabel('Eje Y')\n",
        "plt.title('Gráfico de dispersión')\n",
        "\n",
        "# Dibujar línea horizontal en y=5\n",
        "plt.axhline(y=5, color='r', linestyle='--')\n",
        "\n",
        "# Dibujar línea vertical en x=3\n",
        "plt.axvline(x=3, color='g', linestyle='-.')\n",
        "\n",
        "# Agregar etiquetas de texto\n",
        "plt.text(3, 6, 'Valor y=5', fontsize=10, color='red')\n",
        "plt.text(2.8, 10, 'Valor x=3', fontsize=10, color='green')\n",
        "\n",
        "# Mostrar el gráfico\n",
        "plt.show()\n"
      ],
      "metadata": {
        "id": "sTP1-6nkaYl6",
        "outputId": "db8e2c74-95d7-47f2-c5a2-d38813b295cf",
        "colab": {
          "base_uri": "https://localhost:8080/",
          "height": 472
        }
      },
      "execution_count": null,
      "outputs": [
        {
          "output_type": "display_data",
          "data": {
            "text/plain": [
              "<Figure size 640x480 with 1 Axes>"
            ],
            "image/png": "[encoded data removed]"
          },
          "metadata": {}
        }
      ]
    },
    {
      "cell_type": "markdown",
      "source": [
        "# Task 2"
      ],
      "metadata": {
        "id": "AMQn0bQYSs9q"
      }
    },
    {
      "cell_type": "markdown",
      "source": [
        "## Task 2.1\n",
        "\n",
        "¿En cuántos anuncios se piden conocimientos de Python?\n",
        "\n",
        "336\n"
      ],
      "metadata": {
        "id": "TwtAl5gKSwK8"
      }
    },
    {
      "cell_type": "markdown",
      "source": [
        "## Task 2.2\n",
        "\n",
        "¿Cuál de las 50 tecnologías más demandadas ofrece la mejor relación entre candidatos y ofertas?\n",
        "\n",
        "Seleccione una:\n",
        "1. Javascript\n",
        "2. Azure\n",
        "3. Python\n",
        "4. SAP\n",
        "\n"
      ],
      "metadata": {
        "id": "FKRWi3hTWbSX"
      }
    },
    {
      "cell_type": "code",
      "source": [
        "import pandas as pd\n",
        "\n",
        "# Crear un DataFrame de ejemplo\n",
        "data = {'Nombre': ['Juan', 'María', 'Pedro', 'Luis', 'Ana'],\n",
        "        'Edad': [25, 30, 35, 40, 45]}\n",
        "df = pd.DataFrame(data)\n",
        "\n",
        "# Buscar la cadena 'a' en la columna 'Nombre'\n",
        "resultado = df['Nombre'].str.contains('a')\n",
        "\n",
        "# Mostrar el resultado\n",
        "print(resultado)\n"
      ],
      "metadata": {
        "id": "h1RAxTpKdZLi",
        "outputId": "56153af5-be1e-4e12-ec67-f3c83b6f2bf4",
        "colab": {
          "base_uri": "https://localhost:8080/"
        }
      },
      "execution_count": 1,
      "outputs": [
        {
          "output_type": "stream",
          "name": "stdout",
          "text": [
            "0     True\n",
            "1     True\n",
            "2    False\n",
            "3    False\n",
            "4     True\n",
            "Name: Nombre, dtype: bool\n"
          ]
        }
      ]
    },
    {
      "cell_type": "markdown",
      "source": [
        "Vamos con la tarea 2.2"
      ],
      "metadata": {
        "id": "HgrWn-UIeGUg"
      }
    },
    {
      "cell_type": "code",
      "source": [
        "!git clone https://github.com/financieras/bigdata.git"
      ],
      "metadata": {
        "id": "zzE6tgiReMqd",
        "outputId": "c1a9c225-246f-46fa-ebce-c6a9e38041e2",
        "colab": {
          "base_uri": "https://localhost:8080/"
        }
      },
      "execution_count": 2,
      "outputs": [
        {
          "output_type": "stream",
          "name": "stdout",
          "text": [
            "Cloning into 'bigdata'...\n",
            "remote: Enumerating objects: 18, done.\u001b[K\n",
            "remote: Counting objects: 100% (18/18), done.\u001b[K\n",
            "remote: Compressing objects: 100% (16/16), done.\u001b[K\n",
            "remote: Total 18 (delta 7), reused 0 (delta 0), pack-reused 0\u001b[K\n",
            "Receiving objects: 100% (18/18), 180.11 KiB | 15.01 MiB/s, done.\n",
            "Resolving deltas: 100% (7/7), done.\n"
          ]
        }
      ]
    },
    {
      "cell_type": "code",
      "source": [
        "import pandas as pd\n",
        "import matplotlib.pyplot as plt\n",
        "pth = \"bigdata/dataset_reto.csv\"\n",
        "df = pd.read_csv(pth)"
      ],
      "metadata": {
        "id": "iNlAIls8eTTV"
      },
      "execution_count": 3,
      "outputs": []
    },
    {
      "cell_type": "code",
      "source": [
        "df[\"Skills\"][31]"
      ],
      "metadata": {
        "id": "AxGdeXmced2J",
        "outputId": "2a505083-e5dd-4ec5-e2af-4b5dc580006e",
        "colab": {
          "base_uri": "https://localhost:8080/",
          "height": 35
        }
      },
      "execution_count": 23,
      "outputs": [
        {
          "output_type": "execute_result",
          "data": {
            "text/plain": [
              "\"['oracle', 'access', 'sql server', 'mysql']\""
            ],
            "application/vnd.google.colaboratory.intrinsic+json": {
              "type": "string"
            }
          },
          "metadata": {},
          "execution_count": 23
        }
      ]
    },
    {
      "cell_type": "code",
      "source": [
        "import ast\n",
        "\n",
        "# Ejemplo de datos\n",
        "skills = [\"['php', 'lms', 'moodle', 'mysql']\",\n",
        "          \"['scala', 'spark']\",\n",
        "          \"['android']\",\n",
        "          \"['hyper v', 'azure', 'itil', 'mcafee', 'o365']\",\n",
        "          \"['python', 'testing']\",\n",
        "          \"['altium', 'electronica', 'emc', 'spice']\",\n",
        "          \"['cplusplus', 'qtcreator', 'webservices', 'mysql', 'sqlite']\",\n",
        "          \"['oracle', 'access', 'sql server', 'mysql']\"]\n",
        "\n",
        "# Convertir strings a listas de Python\n",
        "skills_list = [ast.literal_eval(skill) for skill in skills]\n",
        "\n",
        "print(skills_list)\n",
        "print(skills_list[0][0])    # ASI LOGRO ACCEDER A LOS SKILLS O TECNOLOGÍAS QUE SE PIDEN EN CADA EMPLEO"
      ],
      "metadata": {
        "id": "v2cXdRImk7ih",
        "outputId": "94277570-d061-4708-ad63-05743239aad8",
        "colab": {
          "base_uri": "https://localhost:8080/"
        }
      },
      "execution_count": 25,
      "outputs": [
        {
          "output_type": "stream",
          "name": "stdout",
          "text": [
            "[['php', 'lms', 'moodle', 'mysql'], ['scala', 'spark'], ['android'], ['hyper v', 'azure', 'itil', 'mcafee', 'o365'], ['python', 'testing'], ['altium', 'electronica', 'emc', 'spice'], ['cplusplus', 'qtcreator', 'webservices', 'mysql', 'sqlite'], ['oracle', 'access', 'sql server', 'mysql']]\n",
            "php\n"
          ]
        }
      ]
    },
    {
      "cell_type": "code",
      "source": [
        "import ast\n",
        "\n",
        "# Convertir strings a listas de Python\n",
        "skills_matrix = [ast.literal_eval(skill) for skill in df[\"Skills\"]]\n",
        "\n",
        "print(skills_matrix)\n",
        "print(skills_matrix[0])\n",
        "print(skills_matrix[0][0])\n",
        "\n",
        "contador = 0\n",
        "for fila in skills_matrix:\n",
        "    for habilidad in fila:\n",
        "        if habilidad == \"python\":\n",
        "            contador += 1\n",
        "\n",
        "print(contador)"
      ],
      "metadata": {
        "id": "NTVmlam4mQV9",
        "outputId": "62255e67-67cc-4fb7-bf57-a7881eb92f89",
        "colab": {
          "base_uri": "https://localhost:8080/"
        }
      },
      "execution_count": 30,
      "outputs": [
        {
          "output_type": "stream",
          "name": "stdout",
          "text": [
            "[['php', 'lms', 'moodle', 'mysql'], ['scala', 'spark'], ['android'], ['hyper v', 'azure', 'itil', 'mcafee', 'o365'], ['python', 'testing'], ['altium', 'electronica', 'emc', 'spice'], ['cplusplus', 'qtcreator', 'webservices', 'mysql', 'sqlite'], ['servicenow'], ['ingenieria', 'informatica', 'ciencias'], ['powercenter', 'oracle', 'teradata'], ['visual basic', 'oracle', '.net'], ['testing'], ['mvc', 'sitecore', '.net'], ['android', 'windows', 'iphone', 'word', 'ipad', 'excel', 'outlook', 'macros', 'powerpoint', 'access', 'vba'], ['banca', 'banksphere'], ['java'], ['negocio', 'consultoria', 'appian'], ['soporte', 'windows'], ['itil', 'redes', 'sistemas'], ['redes'], ['python', 'cplusplus', 'opencv', 'stl', 'directx', 'uml', '.net'], ['c#', '.net', 'api'], ['reactjs', '.net', 'c#'], ['infraestructura', 'cableado estructurado'], ['success factors', 'sap'], ['soporte', 'service desk'], ['it'], ['marketing', 'social media'], ['ios android', 'reactjs', 'ionic', 'nodejs', 'angularjs', 'java', 'rest', 'jira'], ['aws', 'api', 'java', 'kafka', 'spring', 'rabbitmq'], ['devops', '.net', 'angularjs'], ['oracle', 'access', 'sql server', 'mysql'], ['linux', 'backups', 'batch', 'middleware', 'redes'], ['deep learning', 'aws', 'dedvops', 'python', 'inteligencia artificial', 'azure', 'machine learning'], ['soporte', 'batch'], ['windows', 'migracion', 'ingles', 'centos', 'maquinas virtuales', 'oracle'], ['active directory', 'software', 'hardware'], ['wcf', 'sql server', 'servicios web api', 'jira', 'rest', 'xamarin', '.net'], ['linux', 'windows server', 'sql', 'vmware', 'jenkins', 'jira'], ['f5', 'check point.', 'seguridad', 'palo alto', 'fortinet', 'redes', 'juniper'], ['microstrategy'], ['oracle rac', 'asm', 'oracle'], ['backup', '.net'], ['rams', 'debo', 'asbo', 'asfa'], ['android', 'kotlin'], ['dml', 'ddl', 'java', 'openapi 3', 'jmstemplate', 'oracle', 'jira', 'spring'], ['business intelligence', 'etl'], ['desktop', 'azure'], ['web services', 'c/al', 'xml', 'dynamics'], ['java', 'jsf', 'microservicios'], ['testing life cycle', 'bug defect life cycle testing', 'qa', 'testing', 'sdlc'], ['gcp', 'vmware', 'cloud', 'azure'], ['windchill', 'sap'], ['linux', 'windows'], ['sql', 'itil', 'visual basic', '.net'], ['front', 'ionic', 'angularjs'], ['routing', 'firewalls', 'fortinet', 'comunicaciones', 'redes', 'cisco', 'switching'], ['.net', 'mvc', 'sql', 'html', 'javascript', 'c#'], ['mui', 'reactjs', 'typescript', 'redux', 'javascript', 'lodash'], ['scrum'], ['grafana', 'apache', 'ihs', 'jboss', 'kubernetes', 'tomcat', 'elasticsearch', 'api', 'weblogic', 'ldap', 'jenkins', 'kibana'], ['aws', 'linux', 'devops', 'jenkins', 'openshift', 'confluence', 'jira', 'pipelines'], ['plsql', 'jsp', 'rmi', 'java', 'css', 'javascript'], ['sql', '.net', 'angularjs'], ['sql'], ['debian', 'bash', 'linux', 'openstack'], ['scrum', 'git', 'agile', 'java', 'maven', 'unit', 'jira', 'spring'], ['itil', 'helpdesk', 'windows'], ['linux'], ['office 365', 'azure'], ['reactjs', 'nodejs', 'angularjs', 'docker', 'git', 'typescript', 'jenkins', 'vuejs', 'javascript'], ['soporte', 'microinformatica'], ['linux', 'windows', 'office 0365', 'helpdesk', 'soporte'], ['automatizacion', 'robotizacion', 'uipath'], ['css', 'angularjs', 'html', 'javascript', 'frontend'], ['pega cdh'], ['reactjs', 'nodejs'], ['blockchain'], ['documentum'], ['postfix', 'python', 'debian', 'bash', 'lamp'], ['routing', 'ccna', 'wifi', 'wan', 'switching'], ['tpv'], ['ionic', 'java', 'maven', 'hibernate', 'spring'], ['mybatis', 'sonar', 'nodejs', 'angularjs', 'sql', 'java', 'maven', 'git', 'jenkins', 'spring'], ['tsm', 'hots', 'z/os', 'control m', 'ams', 'vsam'], ['soporte', 'ingles', 'mac os'], ['pl/sql'], ['kanban', 'scrum', 'devops'], ['aws', 'nagios', 'hyper v', 'vmware', 'veeambackup', 'lan/san', 'azure', 'vsphere'], ['ios', 'swift', 'cocoa touch', 'objectivec', 'xcode', 'rxswift', 'appcode'], ['sharepoint', 'power apps', 'microsoft teams', 'c#', 'power platform', 'power automate', 'power bi', '.net', 'o365'], ['ansible', 'python', 'java', 'vmware', 'gitlab'], ['reactjs', 'css', 'hooks', 'html', 'javascript'], ['sistemas', 'operador'], ['java', 'spring', 'angularjs'], ['c', 'tuxedo', 'weblogic', 'osb', 'oracle', 'rest'], ['redes', 'seguridad'], ['analisis de datos', 'data analyst'], ['bbdd', 'project manager'], ['kubernetes', 'mongo db', 'git', 'sql', 'java', 'redis', 'spring'], ['.net', 'ingles', 'pl/sql', 'angularjs', 'c#'], ['windows', 'ticketing'], ['pentaho data integration', 'cmi', 'apache hop', 'bi', 'sql', 'etl'], ['scala', 'spark'], ['aws', 'ios', 'devops', 'kubernetes', 'azure', 'kotlin'], ['sap', 'central finance', 's4h finance', 'abap'], ['sql', 'c#', 'javascript', '.net'], ['san', 'linux', 'windows', 'hyper v', 'nfs', 'vmware', 'azure', 'iscsi'], ['java'], ['control m'], ['cobol/400', 'as/400'], ['cypress.io', 'java', 'vuejs'], ['linux', 'red hat', 'hp ux'], ['linux', 'terraform', 'windows'], ['ios'], ['balanceadores', 'cisco', 'firewalls'], ['active directory', 'sistemas operativos'], ['sharepoint', '.net', 'pl/sql', 'azure', 'c#'], ['php', 'symfony'], ['.net', 'c#'], ['aws', 'datacenter', 'cloud', 'azure'], ['reactjs', '.net'], ['java', 'liferay'], ['aws', 'oracle cloud', 'openshift'], ['ebs', 'oracle'], ['sql', 'oracle', 'pl/sql'], ['sap'], ['linux', 'kubernetes'], ['ciberseguridad', 'siem'], ['sql server'], ['sql', 'data', 'kibana'], ['reactjs', 'angularjs'], ['jboss', 'java', 'hibernate', 'mysql', 'spring'], ['python', 'r', 'spark', 'sql', 'data', 'machine learning'], ['linux', 'jboss', 'kubernetes', 'python', 'tomcat', 'jenkis', 'documentum', 'gitlab', 'shell scripting', 'redhat'], ['unix', 'linux'], ['.net', 'angularjs'], ['python', 'sql'], ['adobe', 'photoshop', 'ilustrator'], ['aws', 'terraform', 'ansible', 'jenkins', 'azure', 'iac', 'git hub'], ['linux', 'soap', 'codigo abierto', 'tomcat', 'navision', 'mysql', 'php'], ['java', 'microservicios'], ['mainframe', 'cics', 'z/os', 'host', 'db2'], ['software', 'hardware'], ['java', 'microservicios'], ['ofimatica', 'linux', 'windows'], ['cabinas', 'ibm', 'almacenamiento', 'switches', 'incidencias', 'trubbleshotting', 'storage', 'administrador', 'hitachi', 'tecnico', '.net'], ['qa', 'tester', 'alm'], ['robotica', 'cplusplus', 'rtos', 'sw', 'motion control', 'oop'], ['java'], ['vmware', 'switching', 'cisco', 'firewall'], ['redes', 'microinformatica', 'switches', 'configuracion'], ['office', 'pmo'], ['appian'], ['lan', 'wan'], ['redes', 'cisco'], ['redes', 'cisco', 'remedy'], ['apache', 'thymeleaf', 'mvc', 'jee7.', 'java', 'hibernate', 'oracle', 'informix', 'spring', '.net'], ['deep learning', 'devops', 'python', 'inteligencia artificial', 'docker', 'java', 'machine learning'], ['ibm cloud', 'cloud'], ['java', 'ingles', 'bbdd', 'qa'], ['spring', 'java 8', 'angularjs'], ['sql server', '.net', 'c#'], ['excel', 'pmo', 'power point', 'cloud'], ['oracle data masking', 'odi', 'goldengate'], ['mongodb', 'mockito', 'java', 'maven', 'cloudbees', 'mysql', 'postgresql', 'github', 'spring'], ['java', 'microservicios', 'api'], ['php', 'java', 'microsoft'], ['sql', 'oracle'], ['spark streaming', 'bbdd', 'kafka streams'], ['swagger', 'mongodb', 'microservicios', 'java', 'junit', 'kafka', 'spring'], ['ftp', 'snmp', 'nfs', 'aix', 'tcp ip', 'dell', 'hhtp', 'windows sever', 'oracle', 'san', 'linux', 'hp ux', '.net', 'brocade', 'ssh', 'hyper v', 'hp', 'vmware', 'emc', 'ibm'], ['reactjs', 'nodejs', 'xamarin', 'angularjs'], ['pega'], ['it', 'seguros'], ['correctivos', 'sla', 'mantenimiento', 'kpi', 'preventivos'], ['argus', 'fluke'], ['itil', 'itsm', 'gestion del cambio'], ['software'], ['java'], ['navision', 'sap'], ['selenium', 'tester'], ['linux'], ['java', 'spring', 'javaee'], ['erp', 'basic', 'c', 'logica booleana', 'office 365'], ['ios', 'android', 'scrum', 'java', 'agile'], ['linux', 'windows', 'devops', 'azure', 'pipelines'], ['linux', 'windows', 'sql', 'scripting', 'vmware', 'cloud', 'redes', 'oracle', '.net'], ['ha', 'dr', 'dmo', 'sap', 'sum'], ['azure'], ['.net', 'c#'], ['confluence', 'miro', 'tableau', 'jira'], ['bmc', 'control m'], ['sap'], ['sql', 'spark', 'azure'], ['machine learning', 'qlik', 'kibana', 'inteligencia artificial'], ['salesforce'], ['php', 'symfony', 'mysql'], ['altium', 'hardware'], ['python', 'aws', 'azure'], ['objective c', 'ios', 'swift', 'ticketing'], ['microservicios', 'agile', 'java', 'excel', 'spring'], ['python', 'cplusplus', 'octave', 'matlab'], ['redes', 'infraestructura'], ['python', 'sql'], ['office 365', 'ticketing'], ['sap'], ['sem', 'google ads'], ['soporte', 'microinformatica'], ['instalacion', 'microinformatica', 'configuracion'], ['redes', 'wi fi', 'tcp / ip'], ['audiovisual', 'informatica'], ['java', 'spring', 'angularjs'], ['helpdesk'], ['vmware', 'linux'], ['dns', 'active directory', 'windows', 'pmp'], ['active directory', 'windows', 'windows server'], ['navision', 'dynamics'], ['java', 'tomcat', 'jboss'], ['java', 'android'], ['iso', 'qms'], ['electronica', 'gps'], ['html', 'javascript', 'css'], ['java', 'mysql', 'qa', 'api'], ['c#', '.net'], ['java', 'microsoft'], ['seo', 'sem', 'ecommerce'], ['software', 'soporte', 'ticketing'], ['aws', 'virtualizacion', 'linux', 'desarrollo software', 'inteligencia artificial', 'cloud', 'azure', 'redes'], ['cplusplus', '.net'], ['c#', '.net'], ['soporte', 'microinformatica'], ['python', 'django'], ['big data', 'inteligencia artificial', 'iot'], ['ionic', 'angularjs'], ['jira', 'agile'], ['tuxedo', 'middleware'], ['devops', 'kubernetes'], ['javascript', 'ruby on rails'], ['java', 'outsystems'], ['cpd', 'datacenter'], ['cplusplus', 'javascript', '.net', 'c#'], ['maquetado', 'configuracion de equipos'], ['hiper v', 'linux', 'windows', 'sql server', 'checkpoint', 'vmware', 'fortinet', 'mysql', 'cisco', '.net'], ['golang', 'elastic', 'kafka'], ['c#', 'agile', '.net'], ['j2ee', 'oracle'], ['html', 'angularjs'], ['java', 'sap', 'abap'], ['python', 'r', 'data'], ['shopify', 'ecommerce'], ['python', 'data', 'tensorflow'], ['php', 'angularjs'], ['reactjs', 'typescript', 'css', 'javascript', 'html'], ['kubernetes', 'docker', 'api', 'vmware', 'rest'], ['inventor', 'solidworks', 'autocad'], ['ssis', 'bi', 'power bi'], ['java', 'spring'], ['qa', 'testing'], ['transporte inteligente', 'conduccion autonoma', 'aeronautica'], ['marketing', 'social media'], ['unix', 'linux', 'windows', 'sql', 'oracle'], ['ciberseguridad', 'linux'], ['soporte', 'microinformatica'], ['fotovoltaica'], ['spring', 'angularjs'], ['protractor', 'javascript', 'nodejs', 'qa'], ['lan', 'cisco', 'wan'], ['aws', 'cloud'], ['python', 'cplusplus'], ['zoom', 'google workspace'], ['.net'], ['agile'], ['javascript'], ['sccm', 'windows', 'active directory', 'exchange 2019', 'mcp'], ['reactjs', 'scrum', 'nodejs', 'angularjs', 'java', 'safe', '.net'], ['backup', 'ubiquiti', 'windows', 'teletrabajo', 'nube', 'helpdesk', 'hyper v', '365', 'azure', 'synology', 'vpn'], ['windows', 'windows server', 'dhcp', 'office', 'adobe.', 'vpn', 'dns'], ['helpdesk', 'office', 'windows'], ['outlook o365', 'firewall'], ['c#', 'agile', '.net'], ['cmms', 'scada'], ['seo', 'sem', 'ecommerce'], ['python', 'c', 'matlab'], ['citrix', 'vmware', 'azure', 'aws'], ['python', 'nosql', 'sql', 'scala', 'etl'], ['marketing'], ['microsoft 365', 'o365'], ['seo'], ['cucumber', 'cypress', 'qa', 'selenium'], ['rup', 'scrum', 'kanban'], ['scrum'], ['social ads', 'meta ads', 'redes sociales', 'google analytics', 'facebook', 'google ads'], ['aws', 'qa'], ['abap', 'sap'], ['.net'], ['sql', 'data', 'snowflake'], ['.net'], ['salesforce', 'salesforce marketing'], ['sap'], ['navision', 'sage', 'sap'], ['jefe proyecto'], ['cplusplus', 'tdd'], ['sap'], ['i+d'], ['ciberseguridad', 'siem', 'linux', 'windows', 'mdm'], ['java', 'javascript'], ['microsoft 365'], ['video', 'digital video'], ['java', 'mysql'], ['javascript', 'nodejs'], ['monitorizacion', 'linux', 'windows'], ['nodejs'], ['java', 'selenium'], ['it', 'auditoria'], ['java', 'aws'], ['sonarqube', 'jenkins', 'kubernetes'], ['analyst', 'it'], ['salesforce'], ['fta', 'fmeca', 'hazard analysis'], ['opengl', 'vulkan', 'unity', 'directx', 'unreal'], ['vmware', 'hpe simplivity'], ['rac', 'rman', 'oracle', 'linux'], ['kubernetes', 'microservicios', 'docker', 'java', 'spring'], ['php'], ['tomcat', 'was'], ['microsof 365', 'redes'], ['shell scripting', 'linux', 'windows', 'terraform'], ['python'], ['natural', 'adabas', 'jcl'], ['task sequence', 'windows', 'pxe', 'ms365', 'windows 10', 'office 365', 'o365'], ['sharepoint', 'c#', '.net'], ['nmap', 'burp', 'nessus'], ['aws', 'datacenter', 'cloud', 'azure'], ['reactjs', 'javascript', 'html5'], ['aws', 'vmware', 'terraform'], ['banca', 'desarrollo', 'banksphere'], ['telco', 'bts', 'huawei', 'integracion equipos ericsson', 'nokia', 'rru', 'bbu'], ['unix'], ['software', 'red', 'hardware'], ['machine learning', 'chatbots'], ['apache', 'linux', 'jboss', 'ticketing', 'tomcat', 'was', 'middleware', 'weblogic'], ['networking', 'cisco'], ['testing'], ['reactjs', 'angularjs'], ['linux', 'cloud', 'kubernetes'], ['jboss', 'java', 'hibernate', 'mysql', 'spring'], ['apache', 'tomcat', 'angularjs', 'scripting', 'jenkins'], ['jboss', 'linux red hat', 'solaris', 'isam', 'aix', 'webseal', 'phython'], ['sistemas', 'jefe proyecto'], ['microservicios', 'api', 'java', 'sprinboot', 'spring'], ['javascript', 'reactjs', 'typescript', 'nodejs'], ['figma', 'javascript', 'hook', 'reactjs'], ['tfs', 'sql', 'vs', 'diseno', 'web', '.net'], ['php', 'java', 'python', 'ruby'], ['cloud'], ['sistema', 'elasticstack'], ['share point', '.net', 'powershall'], ['testlink', 'banca', 'jenkins'], ['linux', 'devops', 'java', 'maven', 'powerapps', 'github'], ['linux'], ['pl/sql', 'excel', 'oracle', 'power bi', 'vba'], ['python'], ['sharepoint', 'teradata', 'power center', 'peoplesoft', 'sas'], ['java', 'eclipse', 'alm', 'git'], ['ciberseguridad'], ['aws', 'spark', 'scala', 'data', 'hadoop'], ['java', 'reactjs', 'html5', 'css'], ['weblogic', 'solaris', 'oracle'], ['telecomunicaciones', 'helpdesk', 'informatica'], ['javascript', 'c#'], ['sharepoint'], ['linux'], ['veritas', 'avamar', 'cloud', 'onprem'], ['tiketing', 'windows'], ['banca', 'it', 'tarjetas', 'riesgos'], ['gcp', 'aws', 'backup', 'terraform', 'mongodb', 'networking', 'azure'], ['soporte', 'jenkins', 'jira', 'git'], ['sap', 's4'], ['aws', 'linux', 'google cloud platform', 'jboss', 'nas', 'docker', 'shell scripting', 'azure', 'ibm cloud'], ['service desk'], ['helpdesk', 'service desk'], ['it', 'service desk'], ['paloalto', 'seguridad', 'fortinet'], ['sql', 'unix', 'oracle', 'siebel'], ['erp', 'crm', 'lms', 'azure', 'dynamics', 'moodle', 'emailing'], ['marketing', 'comunicacion', 'seo', 'rss', 'inbound', 'ux'], ['telco', 'integracion', 'telecomunicaciones', '5g', 'antenas', 'isdp', 'mbb', 'rru', 'bbu', '4g'], ['domo', 'qlik nprinting', 'tableau', 'qlik sense'], ['aws', 'cypress', 'java', 'junit', 'javascript'], ['cobol', 'cics', 'db2'], ['scrum', 'api', 'java', 'maven', 'jenkins', 'spring'], ['sql server', 'data', 'sap', 't sql', 'power bi'], ['active directory', 'software. office', 'hardware', 'sistemas operativos'], ['javascript', 'nodejs', 'typescript', 'mongodb'], ['css', 'mirth', 'html', 'lis'], ['sql server'], ['calidad', 'qa', 'testing'], ['testrail', 'testlink', 'postman', 'quality assurance', 'testing', 'selenium', 'testeo unitario'], ['j2ee', 'jsp', 'sql', 'java', 'css', 'javascript', 'html'], ['testlink', 'manual', 'tester'], ['hyper v', 'azure', 'itil', 'mcafee', 'o365'], ['jasmine', 'nodejs', 'angularjs', 'gitlab', 'typescript', 'jenkins', 'css', 'karma', 'agile', 'html'], ['tsm', 'hots', 'z/os', 'control m', 'ams', 'vsam'], ['uipath', 'rpa', 'blueprism'], ['integracion', 'ericsson', '4g/5g', 'telco alturas', 'antenas', 'sotfware/hardware'], ['rxjs', 'angularjs', 'es6', 'typescript', 'redux', 'css', 'scss', 'javascript', 'html'], ['soporte redes', 'altura', 'tpv'], ['soporte', 'windows'], ['j2ee', 'java'], ['abap', 'sap'], ['cobol', 'pl/sql'], ['java', 'android', 'kotlin'], ['eclipse', 'git', 'java', 'desarrollador', 'programador'], ['irpf', 'iva'], ['c#', '.net'], ['java', 'vertx'], ['java', 'jpa', 'pl/sql'], ['apache', 'aws', 'jboss', 'tomcat', 'nagios', 'red hat', 'mysql', 'postgresql', 'oracle'], ['java', 'spring'], ['terraform', 'ansible', 'python', 'azure', 'cloud'], ['scrum', 'confluence', 'java', 'maven', 'lambdas', 'metodologias agiles', 'jira', 'spring'], ['php', 'laravel'], ['ciberseguridad', 'iso 21434'], ['python', 'r', 'machine learning', 'ia'], ['html', 'reactjs'], ['excel', 'sap'], ['typescript', 'angularjs'], ['slm', 'qmm', 'dg taxud', 'qa', 'fqp', 'itil'], ['operacion', 'control m'], ['nacar'], ['python', 'data'], ['mulesoft'], ['redshift'], ['sap'], ['soporte', 'microinformatica'], ['itil', 'agile', 'pmp'], ['f5', 'lan', 'wan', 'redes', 'cisco', 'infoblox'], ['oracle', 'access', 'sql server', 'mysql'], ['.net'], ['excel', 'pmo'], ['blockchain', 'data', 'inteligencia artificial'], ['sap'], ['j2ee', 'java'], ['unix', 'helpdesk', 'cics', 'z/os', 'vmware', 'azure', 'db2'], ['java', 'spring'], ['visual basic 6', 'c#', 'sql server', 'crystal reports'], ['c#', '.net'], ['apache', 'thymeleaf', 'mvc', 'jee7.', 'java', 'hibernate', 'oracle', 'informix', 'spring', '.net'], ['microsoft', 'microsoft 365'], ['oracle', 'pl/sql', 'exadata'], ['.net', 'angularjs'], ['weblogic', 'java', 'oracle', 'oracle service bus'], ['servicios web', 'sql', 'java', 'javascript', 'css', 'oracle', 'html'], ['kubernetes', 'nosql', 'angularjs', 'sql', 'java', 'javascript', 'spring', 'javaview'], ['less', 'typescript', 'html5', 'css', 'javascript'], ['java', 'spring'], ['jpa', 'tomcat', 'axis', 'git', 'weblogic', 'java', 'maven', 'hibernate', 'postgresql', 'oracle', 'rest', 'spring'], ['sourcetree', 'apache cordova', 'nodejs', 'sql server', 'digital signage', 'mysql', 'express.js', 'javascript', 'itbucket', 'sqlite'], ['cplusplus', '.net', 'sql server'], ['windows', 'migracion', 'ingles', 'centos', 'maquinas virtuales', 'oracle'], ['wcf', 'c#', 'wpf', 'bbdd', '.net'], ['ise', 'ingeniera', '.net', 'teletrabajo', 'networking', 'ingeniero', 'redes', 'cisco', 'vmware velocloud'], ['c#', 'angularjs', '.net', 'azure'], ['pam', 'ad', 'gdi'], ['j2ee', 'java', 'web services', 'hibernate', 'spring'], ['mvc', 'sitecore'], ['paperjs', 'css', 'html5', 'angularjs'], ['java'], ['reactjs', 'mvc', 'bbdd', 'angularjs', 'api', 'spa', 'azure', 'cloud', '.net'], ['java selenium', 'qa', 'tester'], ['linux', 'ruby'], ['java'], ['scrum', 'c#', 'git', 'kanvan', '.net'], ['server sql', 'devops', 'openshift'], ['j2ee', 'java'], ['sql', 'cplusplus'], ['scrum', 'python', 'appium', 'java', 'selenium', 'kanban', '.net'], ['mcafee', 'itil', 'symantec'], ['android', 'cplusplus', 'java', 'sdk', 'kptlin', 'rest', 'sqlite'], ['java', 'tomcat', 'jboss'], ['microsoft', 'sql server', 'itnow', 'azure', '.net'], ['linux', 'windows'], ['javascript', 'google analytics'], ['java', 'linux.', 'c', 'cplusplus'], ['crm', 'microsoft', 'dynamics'], ['cajeros', 'qa', 'tester'], ['python'], ['ios', 'android', 'swift', 'java', 'kotlin'], ['teradata', 'sql assistant', 'telecomunicaciones', 'bi', 'exadata', 'sql developer', 'oracle', 'etl'], ['arquitectura de software'], ['j2ee', 'ifpug', 'sap'], ['c#', '.net'], ['jefe proyecto', 'agile'], ['plex', 'rpg/db2', 'as400'], ['css', 'javascript', 'html5'], ['after effects', 'photoshop', 'krita', 'illustrator'], ['sql', 'snowflake', 'etl'], ['ios', 'reactjs', 'swift', 'objetivec', 'ionic', 'angularjs'], ['paas', 'big data', 'cloud'], ['java', 'spring'], ['python', 'r', 'data'], ['azure', 'iot', 'scada', 'o365'], ['power bi', 'bi'], ['power bi', 'power apps', 'power autoamate', 'power platform'], ['ionic', 'cordova'], ['python', 'java', 'spring'], ['impresoras', 'redes', 'windows', 'microinformatica'], ['bbdd', '.net'], ['windows', 'linx', 'sql', 'bpm', 'java', 'bss/oss', 'itil', 'oracle'], ['soporte'], ['helpdesk'], ['docker', 'sql', 'java', 'jenkins', 'oracle', 'rest', 'jira', 'spring'], ['rpg', 'cobol', 'rpgfree', 'plex', 'mqseries', 'sql', 'as400'], ['sql', 'java'], ['firmware', 'hardware'], ['veeva', 'javascript', 'php'], ['cplusplus'], ['c#', '.net'], ['ciberseguridad'], ['android', 'jenkins'], ['itil', 'ciberseguridad', 'agile'], ['itil', 'prince', 'scrum'], ['python', 'r', 'sql'], ['office', 'windows'], ['php', 'laravel'], ['backup', 'back up'], ['microsoft office', 'microinformatica'], ['vmware'], ['gradle', 'maquetacion', 'liferay', 'maven', 'seo', 'freemarker', 'adt'], ['powercenter', 'spark', 'tableau', 'scala', 'java', 'power bi'], ['redes', 'soporte'], ['java', 'typescript', 'html', 'angularjs'], ['seo', 'google analytics'], ['qa', 'testing'], ['itil', 'price2', 'scrum', 'pmp'], ['magento'], ['flutter', 'angularjs'], ['java', 'microservicios'], ['aws', 'ciberseguridad', 'azure'], ['citrix', 'vmware'], ['cplusplus', 'c#', '.net', 'catia'], ['agile', 'scrum'], ['fortran', 'linux', 'python', 'cplusplus', 'freebsd', 'c', 'macos'], ['checkpoint', 'meraki', 'fortinet', 'palo alto', 'cisco'], ['virtualizacion', 'linux'], ['cplusplus', 'c'], ['swagger', 'soap', 'api', 'java', 'rest', 'spring'], ['software', 'ciberseguridad', 'aplicaciones', 'hardware', 'telefonia movil', 'videoconferencia', 'sistemas'], ['typescript', '.net', 'c#', 'angularjs'], ['aeronautica'], ['tomcat', 'api', 'java', 'hibernate', 'mysql'], ['edi', 'xml', 'navision', 'oracle', 'sap', 'php', 'css', 'javascript', 'html'], ['aws', 'devops'], ['linux', 'django', 'python', 'docker', 'sql'], ['javascript', 'nodejs'], ['web services', 'sap'], ['sap'], ['aws', 'terraform', 'ansible', 'devops', 'kubernetes', 'bash', 'azure'], ['soporte', 'windows'], ['host', 'pl1/db2'], ['php', 'laravel'], ['reactjs', 'vuejs'], ['python', 'mqtt', 'golang', 'postgresql'], ['3d', 'gis', 'bim', 'cad'], ['cplusplus', 'ros'], ['unix', 'oracle cloud'], ['power bi', 'dynamics'], ['active directory'], ['php'], ['php', 'symfony'], ['nist', 'so 27001', 'csf iso 22301'], ['html', 'javascript', 'angularjs'], ['sass', 'laravel', 'mariadb', 'html5', 'mysql', 'php', 'css', 'javascript'], ['powercenter', 'spark', 'tableau', 'scala', 'java', 'power bi'], ['powercenter', 'spark', 'tableau', 'scala', 'java', 'power bi'], ['reactjs', 'css', 'jsx', 'git', 'js', 'html', 'scss'], ['suse', 'linux', 'centos'], ['cryogenics', 'superconducting detectors', 'mixers', 'vacuum techniques', 'quasi optics'], ['java', '.net', 'abap'], ['java', 'c#'], ['scrum', 'servicios digitales'], ['facebook ads', 'instagram ads', 'youtube ads', 'google ads'], ['waf', 'ids', 'firewalls', 'ips'], ['helpdesk', 'office', 'windows'], ['photoshop', 'illustrator', 'word', 'excel', 'html5', 'gimp', 'powerpoint'], ['fortinet'], ['ios', 'swift'], ['linux', 'windows'], ['azure', 'kubernetes', '.net', 'docker'], ['power bi'], ['mern', 'reactjs', 'nodejs', 'angularjs'], ['reactjs'], ['power bi', 'tableau'], ['soporte', 'windows', 'microinformatica', 'web'], ['itil', 'agile', 'scrum'], ['sap'], ['compliance', 'cloud'], ['vmware', 'azure', 'windows server'], ['pmp'], ['nodejs', 'angularjs'], ['tomcat', 'websphere', 'jboss'], ['mulesoft', 'scrum', 'agile'], ['pmp'], ['six sigma black belt', 'wcm', 'pmp'], ['it', 'sla'], ['.net'], ['reactjs', 'angularjs', 'vuejs'], ['apple', 'microsoft', 'linux'], ['navision', 'business central', 'dynamics'], ['navision', 'business central'], ['reactjs', 'typescript'], ['aws', 'google cloud', 'azure'], ['cplusplus', 'opengl'], ['cplusplus'], ['ids', 'siem', 'linux', 'waf', 'windows', 'fw'], ['agile'], ['java', 'qa', 'tester', 'selenium'], ['python'], ['rpg', 'cobol', 'rpgfree', 'mqseries', 'sql', 'as400'], ['sql', 'java', 'powercenter', 'etl'], ['sql', 'java', 'spring'], ['.net'], ['cplusplus'], ['power bi', 'snowflake'], ['html', 'reactjs', 'css'], ['angularjs'], ['java', 'plsql', 'shell scripting'], ['python', 'ubuntu', 'c'], ['software', 'ticketing', 'hardware', 'lan', 'wan'], ['nodejs', 'angularjs', 'sass/scss', 'typecript', 'css', 'javascript', 'html'], ['java', 'jenkins', 'backend', 'frontend', 'spring'], ['sharepoint', 'sql server'], ['sql', 'uml'], ['java', 'apache', 'solr'], ['reactjs', 'nodejs', 'microservicios', 'azure', 'cloud'], ['angularjs', 'sass/scss', 'typescript', 'css', 'javascript', 'html'], ['tfs', 'sql', 'vs', 'diseno', 'web', '.net'], ['pki', 'linux', 'windows'], ['unix', 'vmware', 'linux', 'red hat'], ['testing'], ['analytics', 'google analytics'], ['apache solr', 'ecommerce'], ['soa', 'bpm', 'osb', 'kanban', 'oracle', 'agile'], ['jsf', 'pl/sql', 'java', 'oracle', 'spring'], ['aws', 'apache', 'tomcat', 'jboss/wildfly', 'weblogic', 'cloud', 'azure', '.net'], ['bussiness intelligence.', 'bi', 'data', 'etl'], ['powercenter', 'etl'], ['software testing', 'scrum', 'azure'], ['centro autorizador'], ['sr', 'sd', 'sap'], ['scom', 'microsoft system center'], ['cplusplus', 'rtos'], ['reactjs'], ['delphi', 'oracle', 'pl/sql'], ['backup'], ['aws', 'cloud'], ['itsm', 'microsoft', 'cmdb'], ['apache', 'tomcat', 'angularjs', 'scripting', 'jenkins'], ['aws', 'python', 'spark', 'git', 'scala', 'java', 'sql', 'maven', 'confluence', 'jira'], ['jpa', 'java', 'maven', 'quarkus', 'hibernate', 'rest', 'postgis', 'sping'], ['abap', 'sap'], ['vmware', 'linux'], ['sap'], ['jsf', 'linux', 'jpa', 'jee', 'bbdd', 'weblogic', 'java', 'hibernate', 'oracle', 'spring'], ['java', 'angularjs'], ['java', 'qa', 'tester'], ['ar', 'vr'], ['talend', 'pl/sql', 'java', 'power bi', '.net'], ['php', 'laravel', 'postgresql'], ['unix', 'shell scripting'], ['reactjs', 'swift', 'android', 'scrum', 'bootstrap', 'linux', 'git', 'angularjs', 'sql', 'typescript', 'html5', 'css', 'javascript'], ['bbdd', 'sas'], ['cypress', 'jmeter', 'postman', 'qa', 'karate', 'selenium', 'cucumber', 'java'], ['postfix', 'python', 'debian', 'bash', 'lamp'], ['fpd', 'chaps', 'medios de pago'], ['ms office', 'soporte', 'windows 10', 'outlook', 'windows 7'], ['reactjs', 'bootstrap', 'nodejs', 'sencha', 'angularjs', 'jquery', 'vuejs', 'html'], ['elipse', 'linux', 'ansible', 'vcenter', 'vmware', 'red hat', 'rhel', 'oracle', 'jre'], ['java', 'oracle', 'spring', 'microservicios'], ['rest', 'spring', 'soap', 'microservicios'], ['html', 'reactjs', 'css'], ['java'], ['reactjs', 'bi', 'powebi', 'nodejs', 'angularjs'], ['unix', 'linux'], ['angularjs'], ['software', 'sage', 'hardware', 'exchange', 'citrix', 'redes', 'microinformatica'], ['call center', 'pmo', 'contact center'], ['.net', 'sql server', 'angularjs', 'sql', 'jquery', 'html5', 'css', 'javascript', 'c#'], ['tester'], ['xamarin', '.net'], ['unix', 'pl/sql', 'cplusplus'], ['.net', 'xamarin', 'c#', 'visual studio'], ['nodejs', 'sql', 'jquery', 'php', 'html', 'javascript'], ['mvc', 'sql server', 'angularjs', 'git', '.net'], ['qa', 'tester'], ['reactjs'], ['openapi maven', 'api', 'ddd', 'java', 'spring'], ['php', 'java', 'python', 'ruby'], ['crm', 'genesys', 'cti', 'contact center'], ['java', 'cplusplus'], ['veritas', 'avamar', 'cloud'], ['java', 'spring'], ['discovery', 'assessment', 'cmdb', 'atrium cmdb', 'middleware', 'bmc discovery', 'power bi'], ['reactjs', 'web 3', 'git', 'blockchain', 'typescript', 'javascript'], ['db2'], ['mvc', '.net'], ['python'], ['linux', 'data'], ['outlook', 'office 365'], ['nodejs', 'git', 'docker', 'java', 'jenkins', 'mysql', 'jira'], ['grc', 'ciberseguridad', 'iso27001'], ['rack', 'switch', 'telecomunicaciones', 'router', 'cpd', 'fibra optica', 'ap'], ['e2e', 'rxjs', 'angularjs', 'cucumber', 'jenkins', 'scss', 'javascript'], ['it', 'sap'], ['outlook', 'adobe'], ['backup', 'ios', 'android', 'windows', 'ticketing', 'helpdesk', 'microsoft 365', 'windows server', 'vpn'], ['prince', 'pmp'], ['marketing', 'rrss'], ['nmap', 'nessus', 'ciberseguridad', '.net'], ['sql', 'scrum'], ['power bi', 'data', 'etl'], ['project manager'], ['sql', 'sas base', 'sas enterprise guide', 'sas'], ['software', 'telco', '4g/5g', 'antenas', 'hardware', 'bts', 'huawei', 'rru'], ['kubernetes', 'json', 'vmware', 'yaml', 'cloud'], ['java', 'microservicios'], ['shell scripting', 'exchange', 'office 365', 'azure'], ['php', 'javascript'], ['c#', 'mvc', '.net', 'siss'], ['java', 'liferay', 'javascript'], ['java'], ['bcp', 'drp', 'security', '27005', 'idpo', 'gdpr', 'firewalls', 'it', 'iso', '27001'], ['cima', 'on boarding', 'kyc'], ['vmware', 'wintel'], ['reactjs'], ['powercenter', 'idq', 'sql server', 'etl'], ['kubernetes', 'python', 'robotics', 'bash', 'api', 'git', 'ci/cd', 'jinja', 'yaml', 'mongobd', 'helm', 'kibana'], ['javascript', 'reactjs', 'typescript'], ['ingles', 'qa', 'java', 'cucumber', 'automatizacion', 'javascript', 'tester'], ['angularjs'], ['hasura', 'soa', 'bdd', 'nodejs', 'nestjs', 'microservicios', 'ci/cd', 'typescript', 'javascript', 'tdd', 'graphql'], ['aws', 'kubernetes', 'docker', 'java', 'eks'], ['java', 'spring'], ['bootstrap', 'angularjs', 'typescript', 'html5', 'css', 'javascript'], ['php', 'drupal', 'wordpress'], ['ip', 'rtn', 'tx', 'nce', 'wireless', 'atn', 'dwdm'], ['java', 'devops'], ['sql', 'java', 'mendix'], ['sql', '.net'], ['murex', 'soporte', 'microstrategy'], ['programador', 'pl/sql', 'remoto', 'osb', 'desarrollador', 'oracle', 'agile', 'kangan'], ['soporte', 'sql', 'java', 'poo', 'postgresql'], ['c#', 'visual basic', '.net', 'mysql'], ['backup', 'patching', 'linux', 'bbdd'], ['python', 'sql'], ['python', 'qa', 'docker'], ['ckan', 'xml', 'api', 'owl', 'sparql', 'web service'], ['desarrollo de software', 'software', 'telecomunicaciones', 'e business suite', 'oracle', 'agile'], ['host', 'cobol'], ['.net'], ['reactjs', 'microservicios', 'mockito', 'java', 'angularjs', 'colas', 'jenkins', 'kafka', 'openshift', 'desarrollador'], ['html', 'javascript', 'nodejs', 'css'], ['ats', 'excel'], ['erp', 'office 365'], ['qa', 'testing'], ['electronica'], ['sql', 'mongodb', 'data', 'etl'], ['ciberseguridad', 'terraform', 'ansible'], ['vmware', 'soporte', 'microinformatica'], ['oracle', 'sql server'], ['electronica', 'access point', 'wifi', 'lan', 'redes'], ['linux', 'qa', 'git', 'sql', 'selenium'], ['css', 'html5', 'angularjs'], ['sap'], ['python', 'selenium', 'qa', 'gherkin'], ['java', 'selenium', 'testing'], ['microsoft', 'office', 'windows', 'ticketing'], ['kubernetes', 'microservicios', 'docker', 'java', 'spring'], ['cau', 'sccm', 'active directory'], ['elk', 'devops'], ['aws', 'python', 'lambda', 'pandas', 'data', 's3'], ['github actions', 'iac', 'kubernetes', 'docker'], ['kubernetes', 'docker', 'microservicios', 'java', 'cloud', 'spring'], ['sccm', 'windows'], ['j2ee', 'java'], ['networking', 'cisco'], ['php', 'symphony'], ['active directory', 'gpo', 'windows server'], ['java', 'oracle', 'sl/sql'], ['ios', 'swift', 'mvvm'], ['unix', 'cplusplus', 'c', 'angularjs', 'java', 'oracle', 'plsql'], ['helpdesk', 'workplace'], ['control m', 'bacht'], ['android', 'agile', 'kotlin'], ['san', 'nas', 'hitachi', 'cabinas ibm', 'emc', '.net'], ['soporte', 'microinformatica'], ['java', 'github', 'spring'], ['agile'], ['java', 'jsf', 'sprig'], ['host', 'cobol'], ['backup', 'cabinas', 'almacenamiento'], ['php', 'linux', 'windows', 'shell scripting'], ['lan', 'wan'], ['solid works', '3d'], ['backup', 'commvault', 'veem backup'], ['active directory', 'office 365'], ['arcmap', 'arcgis'], ['devops'], ['ios'], ['optimus', 'power bi'], ['android', 'kotlin'], ['java', 'jsf', 'spring', 'microservicios'], ['redes'], ['cobol', 'microfocus', 'mainframe', 'linux', 'windows', 'z/os', 'pl1'], ['liferay', 'dxp'], ['.net', 'angularjs'], ['product manager'], ['pmo'], ['aso', 'apx', 'jira', 'jenkins'], ['angularjs'], ['ci/cd', 'jenkins', 'azure', 'api'], ['power bi', 'google analytics'], ['murex'], ['scrum', 'objetivec', 'java', 'cocoa', 'kanban', 'rest', 'swagger openapi', 'kotlin'], ['scrum', 'agile', 'pmp'], ['ci/cd', 'ciberseguridad'], ['laravel', 'vuejs'], ['php', 'docker'], ['python', 'big data'], ['python', 'grafana', 'linux', 'kibana'], ['python', 'django'], ['oracle'], ['html', 'javascript'], ['pmp', 'itil', 'prince', 'project manager'], ['itil', 'jefe proyecto', 'delivery manager'], ['aws', 'reactjs'], ['helpdesk', 'it'], ['aws', 'mongodb', 'json', 'angularjs', 'css', 'html'], ['aws', 'api', 'java', 'kafka', 'spring', 'rabbitmq'], ['php', 'javascript', 'mysql'], ['java'], ['oracle'], ['testrail', 'testlink', 'postman', 'quality assurance', 'testing', 'selenium', 'testeo unitario'], ['psicologia', 'ade', 'sociologia'], ['sql oracle', 'remedy', 'pl/sql', 'jira'], ['qa', 'testing', 'cucumber', 'automation', 'gherkin', 'atdd', 'javascript'], ['ciberseguridad'], ['prince 2', 'project management', 'pmp'], ['qiskit', 'quantum experience'], ['java', 'spring'], ['php', 'laravel'], ['lan', 'microsoft', '.net', 'wan'], ['active directory', 'windows server'], ['c#', '.net'], ['ciberseguridad', 'word', 'power point', 'excel', 'outlook'], ['project lead'], ['python', 'data', 'tensorflow'], ['hive', 'linux', 'spark 2x', 'batch', 'git', 'scala', 'cdh', 'hdfs'], ['sharepoint', 'javascript', '.net', 'c#'], ['control m', 'linux', 'windows'], ['python', 'qa', 'gherkin'], ['c#', '.net'], ['salesforce'], ['bootstrap', 'typescript', 'angularjs'], ['computer vision', 'robotica', 'inteligencia artificial'], ['sap'], ['cto'], ['linux'], ['citrix', 'vmware', '.net'], ['jenkins sonarqube.', 'qa', 'git', 'maven', 'tester'], ['itil', 'ciberseguridad'], ['cisco', 'firewall'], ['pm', 'director de proyectos', 'project manager'], ['magerit', 'pilar', 'ciberseguridad'], ['project management', 'project manager'], ['php', 'javascript', 'sql server', 'jquery'], ['sap'], ['spark', 'hadoop', 'etl'], ['php', 'symfony'], ['mcafee', 'arcsight', 'splunk', 'alienvault'], ['reactjs', 'javascript', 'angularjs'], ['php', 'drupal', 'outsystems'], ['python', 'java'], ['ios', 'android', 'so'], ['helpdesk', 'sistemas'], ['django', 'python', 'git', 'angularjs', 'jenkins', 'html', 'javascript', 'twisted'], ['ansible', 'linux', 'redhat'], ['jira'], ['lan', 'redes', 'cisco', 'wan'], ['community management', 'redes sociales'], ['java', 'tomcat', 'jboss'], ['microsoft powerpoint', 'microsoft excel'], ['java', 'linux'], ['j2ee', 'drupal', 'python'], ['python', 'java', 'javascript', 'angularjs'], ['gitlab', 'jenkins'], ['hive', 'alteryx', 'python', 'sql', 'data', 'jira', 'tableau', 'impala'], ['helpdesk', 'informatica', 'gestion de incidencias'], ['mongodb', 'microservicios', 'java', 'azure', 'spring'], ['marketing', 'ecommerce'], ['power platform'], ['scala', 'big data', 'spark', 'hadoop'], ['banca', 'treasury', 'ingles', 'java', 'calypso'], ['excel'], ['awx', 'ansible'], ['testing', 'linux', '.net', 'docker'], ['sistemas'], ['zabbix', 'splunk'], ['hive', 'mongodb', 'big data', 'spark', 'scala', 'java', 'gitflow', 'kafka', 'hadoop', 'spring'], ['python', 'linux'], ['java', 'jira', 'selenium'], ['sap'], ['microfocus', 'windows'], ['.net', 'azure'], ['cpd', 'unix', 'control m'], ['python', 'linux', 'php'], ['nodejs', 'git', 'api', 'javascript', 'jira'], ['python', 'ajax', 'git', 'laravel', 'webservices', 'mysql', 'php', 'javascript', 'svn'], ['aws', 'reactjs', 'nodejs'], ['aws', 'reactjs', 'nodejs', 'cloud formation', 'codebuild', 'dynamo db', 'graphql'], ['typescript', '.net', 'c#', 'angularjs'], ['java', 'angularjs'], ['sem', 'ecommerce'], ['sap'], ['electronica', 'scrum', 'pmp'], ['postgresql', 'troubleshooting', 'tunning'], ['electronica', 'microcontroladores', 'c', 'linux'], ['electronica'], ['remedy', 'office 365'], ['angularjs'], ['mdm workspace', 'telefonia', 'vmware', 'prodis quantum', 'videostreaming'], ['python'], ['html', 'sharepoint', 'office 365'], ['windows'], ['django', 'python', 'docker', 'jenkins', 'mysql', 'mongobd'], ['j2ee', 'java', 'web'], ['solidedge'], ['sap'], ['php', 'java', 'html5', 'css'], ['software', 'javascript'], ['linux', 'windows', 'python', 'api', 'azure', 'jira'], ['j2ee', 'java'], ['sql', 'oracle', '.net'], ['java'], ['dast', 'sast'], ['microsoft office'], ['nodejs'], ['kotlin', 'angularjs'], ['spark'], ['wordpress', 'woocommerce'], ['sage', 'sql server', 'navision', 'sap', 'oracle'], ['mern', 'reactjs', 'nodejs'], ['hardware'], ['linux', 'windows'], ['calidad', 'amfe'], ['intersystems cache'], ['redux', 'reactjs'], ['python', 'cuda'], ['dynamics'], ['sql', 'java', 'unix', 'xml'], ['java'], ['aws'], ['c#', '.net'], ['seo', 'marketing', 'sem', 'ecommerce'], ['terraform', 'kubernetes', 'google cloud', 'ci/cd', 'gitlab', 'ecommerce'], ['microsoft 365', 'windows'], ['edr/xdr', 'kill chain', 'mitre att&ck'], ['sap'], ['sap'], ['analytical software', 'business analyst'], ['microsoft office'], ['microsoft server', 'sharepoint', 'o365'], ['software'], ['sql', 'oracle'], ['pmp'], ['telecomunicaciones', 'aeronautica'], ['visual basic', '.net', 'c#', 'lims'], ['as/400', 'os400'], ['navision'], ['salesforce', 'crm'], ['windows', 'o365'], ['salesforce'], ['selenium', 'cucumber'], ['reactjs', 'typescript'], ['php', 'magento'], ['sharepoint'], ['css', 'htm', 'angularjs'], ['aws', 'terraform'], ['python', 'api'], ['winforms', 'c#', 'visual studio', 'sql', 'it', 'escritorio', 'blazor', '.net'], ['.net', 'azure'], ['host', 'natural', 'adabas'], ['cobol'], ['bpm'], ['contenidos', 'it'], ['unix', 'windows', 'python', 'waterfall', 'delta', 'sap', 'svn'], ['maven', 'jenkins', 'devops'], ['jazmine', 'qa', 'sonar', 'qunit'], ['apache', 'workflow', 'linux', 'jboss', 'tomcat', 'iis', 'was', 'middleware', 'ibm is', 'weblogic', 'ngynx'], ['aws', 'scrum', 'nodejs', 'angularjs', 'sass', 'git', 'typescript', 'css', 'scss', 'javascript', 'html'], ['api', 'service', 'idocs', 'sap', 'web service'], ['ios', 'android', 'moviles', 'aplicaciones', 'java', 'sdk', 'ktx', 'kotlin'], ['j2ee', 'unix', 'solaris', 'oracle'], ['lan', 'redes', 'wan'], ['linux', 'windows', 'ansible', 'python', 'php'], ['java', 'middleware'], ['crm', 'dynamics'], ['murex', 'java', 'cplusplus'], ['soporte moviles', 'ticketing', 'active directory', 'conexion remoto', 'office 365'], ['itil', 'oracle', 'sql server', 'mysql'], ['.net', 'angularjs'], ['elk', 'apache cxf', 'docker', 'microservicios', 'java', 'soap/xml', 'sql', 'jenkins', 'oracle', 'rest'], ['sql', 'visual basic', 'c#'], ['equation'], ['microsoft'], ['postman', 'selenium', 'qa', 'tester'], ['soap', 'pega', 'devops'], ['aws', 'cloud', 'azure'], ['ericsson', '4g / 5g', 'ss.rr.', 'antenas', 'cursos telco', 'bts', 'huawei', 'bbu', 'rru', 'nokia'], ['planificador control m', 'opc', 'control m', 'scripting'], ['windows', 'qa', 'sw', 'office', 'confluence', 'jira'], ['symfony', 'web apis', 'docker', 'sql', 'angularjs', 'laravel', 'git', 'php', 'javascript'], ['.net'], ['php', 'lms', 'moodle', 'mysql'], ['soporte', 'linux', 'windows'], ['soap', 'sql server', 'git', 'jquery', 'jenkins', 'mysql', 'php', 'html', 'javascript', 'rest'], ['css', 'symfony', 'php', 'html', 'oracle'], ['soap', 'http', 'git', 'java', 'maven', 'restfull', 'webflux', 'spring'], ['python', 'unix', '.net', 'appian'], ['python', 'etl'], ['python', 'machine learning', 'data', 'data science'], ['redes', 'telcomunicaciones', 'datacenter', 'ms office'], ['bitbucket', 'devops', 'git', 'ci/cd', 'jenkins', 'azure'], ['java', 'spring'], ['qa', 'tester'], ['php', '.net'], ['javascript'], ['cplusplus', 'linux', 'scada'], ['reactjs', 'java', 'redux', 'javascript', 'frontend'], ['data science', 'python', 'r', 'scala', 'data analyst'], ['angularjs'], ['vrf', 'asr903', 'switch', 'ospf', 'rip', 'asr920', 'networking', 'bgp', 'asr902', 'mpls', 'cisco'], ['ios'], ['.net', 'c#', 'angularjs'], ['java', 'ingles', 'api'], ['java', 'android', 'kotlin'], ['java', 'api', 'spring', 'microservicios'], ['arquitecto', 'soluciones', 'seguros'], ['php', 'mysql'], ['mainframe', 'cobol', 'microfocus', 'batch'], ['telco', '.net'], ['citrix', 'soporte'], ['testlink', 'tester', 'cilantrum', 'qa', 'confluence', 'jira'], ['indesign', 'bootstrap', 'ilustrator', 'photoshop', 'css', 'diseno', 'html', 'programacion'], ['reactjs', 'symfony', 'git', 'laravel', 'php', 'prestashop', 'javascript', 'woocommerce', 'shopify', 'magento'], ['openshift', 'devops', 'kubernetes'], ['suse', 'unix', 'linux', 'redhat'], ['cloudera', 'sistemas', 'big data', 'n2'], ['microinformatica'], ['testlink', 'qa', 'jira', 'tester'], ['power apps', 'power virtual agents', 'power autoamate', 'power platform', 'azure', 'power bi'], ['ssis', 'bi', 'sql server', 'sql', 'biml', 'ssas'], ['routing', 'isis', 'ip', 'ospf', 'datacom', 'isp', 'bgp', 'mpls', 'switching'], ['mvc', '.net'], ['cypress', 'jasmine', 'nodejs', 'qa', 'selenium', 'java', 'javascript', 'tester'], ['mac', 'apple'], ['drupal', 'git', 'jquery', 'php', 'javascript'], ['scripting', 'linux', 'windows', 'cloud'], ['scrum', 'microservicios', 'angularjs', 'java', 'spring'], ['itil', 'elastic'], ['cabinas', 'windows server', 'citrix', 'vmware', 'vdi'], ['testlink', 'banca', 'jenkins'], ['python', 'drupal'], ['reactjs', 'oracle', 'angularjs'], ['networking', 'fibra'], ['cplusplus', 'software'], ['python', 'r', 'machine learning'], ['microstrategy', 'bi'], ['aws', 'scrum', 'unit test', 'mockito', 'microservicios', 'java', 'maven', 'git', 'docker', 'confluence', 'junit5', 'agile', 'spring'], ['bi', 'etl'], ['python', 'r'], ['itil', 'vulnerabilidad', 'servicios', 'siem'], ['pl/sql', 'sql server', 'api', 'java', 'blazor', '.net'], ['cplusplus', 'unreal'], ['javascript', 'typescript', 'angularjs'], ['java'], ['hardware', 'microinformatica'], ['helpdesk'], ['ciberseguridad', 'hacking etico'], ['sql', 'nosql', '.net'], ['rpa', 'bpm'], ['checkpoint', 'lan', 'wan', 'palo alto', 'cisco', 'wi fi'], ['java', 'spring'], ['sistemas', 'administrador', 'nagios'], ['oracle ebs', 'r2r', 'erp'], ['linux', 'windows', 'typescript', 'html5', 'mysql', 'php', 'css', 'javascript'], ['jpa', 'orm', 'git', 'sql', 'java', 'hibernate', 'spring'], ['telecomunicaciones', 'kpi', 'excel', 'redes', 'cisco'], ['cplusplus', 'c', 'qa'], ['marketing', 'bing', 'google ads'], ['vmware', 'linux', 'windows'], ['marketing'], ['mecanica orbital'], ['oracle', 'pl/sql'], ['soap', 'visual studio', 'c#', 'ingles', 'frances', 'rest', '.net'], ['marketing'], ['scrum', 'devops', 'git', 'jenkins', 'kanban', 'agile'], ['data', 'inteligencia artificial'], ['.net', 'direct3d', 'eyeshot', 'unity3d', 'c#'], ['katalon', 'jmeter', 'selinum', 'testing', 'automatizacion', 'tester'], ['power bi', 'bi', 'snowflake', 'kpis'], ['itsm', 'microsoft', 'cmdb'], ['kubernetes', 'microservicios', 'api', 'java', 'spring'], ['java', 'javascript', 'html5', 'css'], ['opentext', 'documentum', 'agile', 'j2ee'], ['desarrollador', 'bus broker', 'consultor', 'tibco'], ['cobol', 'microfocus', 'mainframe', 'linux', 'jcl', 'batch'], ['laravel', 'vuejs'], ['confluence', 'jira', 'jenkins', 'docker'], ['software', 'automotive spice', 'edrive'], ['lan', 'redes', 'cisco', 'wan'], ['reactjs', 'microservicios', 'mockito', 'java', 'angularjs', 'colas', 'jenkins', 'kafka', 'openshift', 'desarrollador'], ['testrail', 'testlink', 'postman', 'quality assurance', 'testing', 'selenium', 'testeo unitario'], ['java', 'qa', 'tester'], ['qa', 'testing'], ['mac', 'soporte', 'win', 'jamf'], ['qa', 'tester'], ['reactjs', 'javascript', 'typescript'], ['android', 'unit testing', 'view binding', 'mantis', 'git', 'rest', 'dagger', 'jira', 'retrofit', 'svn', 'mvp', 'solid', 'mvvm', 'kotlin'], ['sistemas', 'maquetado', 'hardware', 'configuracion'], ['linux', 'kubernetes'], ['movilidad', 'ios', 'android', 'kotlin'], ['soap', 't pl/sql', 'java api', 'git', 'java', 'web services', 'maven', 'javascript', 'jira', 'res'], ['objective c', 'ios', 'swift'], ['redes'], ['erp', 'microsoft', 'crm', 'navision', 'dynamics', '.net'], ['objective c', 'ios', 'swift', 'movilidad'], ['aws', 'linux', 'google cloud platform', 'jboss', 'nas', 'docker', 'shell scripting', 'azure', 'ibm cloud'], ['ens', 'seguridad', 'iso27000'], ['software', 'hardware', 'ticketing'], ['aws', 'linux', 'windows', 'azure', 'cisco'], ['it', 'service desk'], ['it', 'service desk'], ['blockchain'], ['hyper v', 'azure', 'itil', 'mcafee', 'o365'], ['java', 'microservicios', 'devops', 'aws'], ['php', 'it', 'linux', 'mysql'], ['oes', 'suse', 'linux', 'edirectoy'], ['sistemas', 'administrador', 'redhat', 'balanceadores'], ['python', 'aws', 'security'], ['php', 'java'], ['qa', 'testing'], ['.net', 'sap'], ['it', 'service desk'], ['nodejs', 'vuejs'], ['microstrategy', 'teradata'], ['cisco', 'palo alto', 'fortinet'], ['lan', 'wan', 'm365'], ['sonarqube', 'sql', 'java', 'jenkins', 'kiuwan'], ['restful', 'sql', 'java', 'hibernate', 'spring'], ['python', 'ansible', 'devops'], ['soporte', 'maquetacion equipos'], ['postgresql'], ['middleware'], ['redes'], ['cplusplus', 'c', '.net'], ['visual studio', 'nosql', 'sql', 'java', 'desarrollo web'], ['linux'], ['redes', 'linux', 'windows', 'cloud'], ['ansible', 'shell scripting', 'devops'], ['java', 'microservicios'], ['oracle', 'basis', 'sap'], ['data', 'azure'], ['mvc', '.net', 'c#', 'angularjs'], ['microsoft', 'dynamics'], ['redes', 'soporte'], ['cplusplus', 'linux', 'c'], ['seo', 'marketing', 'google analitycs', 'google my business'], ['sql server', 'bi', 'azure'], ['java', 'sap', 'abap'], ['java', 'nodejs', 'angularjs'], ['linux', 'windows'], ['java', 'typescript', 'aws'], ['reactjs'], ['sap'], ['ax/f&o', 'erp', 'microsoft'], ['visual studio 2019', 'c#', 'mvc', 'sql server', 'linq', '.net'], ['telecomunicaciones', 'itiil', 'service manager'], ['helpdesk'], ['java', 'spring', 'kotlin'], ['.net'], ['servicenow'], ['grafana', 'python', 'r', 'spark', 'kibana'], ['cobol'], ['linux', 'kubernetes', 'openshift'], ['javascript', 'angularjs'], ['http', 'eai', 'soap'], ['angularjs'], ['kubernetes', 'devops', 'docker'], ['ionic', 'angularjs'], ['aws', 'azure'], ['html', 'reactjs', 'javascript', 'typescript'], ['dynatrace', 'servicenow'], ['adobe analytics', 'adobe target', 'jira', 'confluence'], ['ciberseguridad'], ['.net'], ['aws', 'kubernetes', 'docker', 'angularjs', 'hibernate', 'azure', 'spring'], ['cplusplus'], ['qa', 'testing'], ['google cloud', 'cloud'], ['aws'], ['sharepoint', 'guidewire'], ['vmware', 'windows server'], ['paloalto', 'seguridad', 'sistemas', 'redes', 'cisco'], ['shell scripting', 'windows', 'azure', 'o365'], ['java', 'swing'], ['java', 'spring', 'docker'], ['javascript', 'qa', 'git'], ['outlook', 'office 365'], ['sql', 'java', 'oracle', 'c'], ['ticketing', 'active directory', 'wifi', 'lan', 'wan', 'office 365'], ['gis', 'java', 'data', 'ia', '.net'], ['cobol', 'cics', 'db2'], ['mvc', '.net', 'c#'], ['sap'], ['helpdesk', 'ofimatica', 'erp', 'programacion'], ['itil', 'service desk'], ['pl/sql'], ['sql', 'veeva', 'data', 'tableau'], ['aws', 'exchange server', 'teletrabajo', 'sistemas escritorio', 'sistemas operativos', 'sistemas servidor', 'sql server', 'azure', 'soporte tecnico', 'vpn'], ['visualbasic', '.net'], ['aws', '.net', 'git', 'sql', 'angularjs', 'sitecore', 'c#'], ['routing', 'swiching', 'so linux', 'aruba', 'palo alto', 'fortinet'], ['office', 'windows'], ['qa', 'testing'], ['php', 'symfony', 'sql', 'postgresql'], ['erp', 'office 365'], ['cisco', 'teldat', 'juniper'], ['servidores', 'infraestructuras'], ['3d', 'smd'], ['helpdesk'], ['java', 'spring'], ['j2ee', 'java', 'oracle', 'mysql'], ['sql', '.net', 'ssrs'], ['php', 'java', 'cobol', '.net'], ['software'], ['agile'], ['ios', 'android', 'xamarin'], ['cad 3d', 'adobe'], ['java', 'mongodb', 'sql server'], ['aws', 'reactjs', 'apache', 'git', 'docker', 'nginx'], ['sap'], ['jefe de proyecto'], ['aws', 'big data', 'etl'], ['power bi', 'power query'], ['sql', 'java'], ['j2ee', 'java', 'javascript'], ['sap', 'abap'], ['remedy'], ['windows', 'office 365'], ['software', 'hardware'], ['apache cluster', 'middleware', 'jboss'], ['selenium', 'qa', 'jira', 'git'], ['java', 'javascript', 'agile', 'testing'], ['mockito', 'java', 'junit', 'javascript', 'rest', 'version control'], ['sistemas operativos', 'ticketing'], ['redes', 'ccie', 'ccnp'], ['cplusplus', 'c'], ['soporte', 'microinformatica'], ['adobe analytics', 'search console', 'html', 'sem', 'google ads'], ['google ads'], ['python', 'r', 'power bi'], ['sharepoint', 'microsoftservers', '.net', 'sql', 'c#', 'o365'], ['python', 'sem', 'r', 'data'], ['lan', 'cisco', 'troubleshooting'], ['php', 'java', 'mysql'], ['lan', 'telefonia', 'wan', 'adsl'], ['doors', 'jira'], ['j2ee', 'java'], ['java', 'spring'], ['sap'], ['seo', 'html'], ['vmware'], ['reactjs'], ['sql', 'sql server'], ['product manager', 'jira'], ['aws', 'nodejs'], ['sql', '.net', 'c#', 'visual studio'], ['customer experience', 'ux/ui'], ['sap'], ['e commerce'], ['robotica', 'plc'], ['scrum', 'kubernetes', 'python', 'docker', 'jenkins', 'azure', 'backend'], ['linux', 'windows', 'soap', 'lua', 'application servers', 'xml', 'sql', 'office', 'webservices'], ['sql', 'python'], ['python', 'vuejs'], ['sql', 'airflow', 'python', 'google cloud platform'], ['marketing', 'office 365'], ['word', 'excel', 'office'], ['informatica', 'soporte'], ['facebook ads', 'illustrator cs5', 'instagram', 'pothoshop cs5'], ['python', 'simulink', 'labview', 'matlab'], ['solidworks', 'electronica'], ['java', 'spring'], ['fibra', 'windows', 'wifianalyzer', 'cmd', 'redes'], ['ciberseguridad'], ['solidworks', 'lean manufacturing', 'smed', '5s'], ['sql', 'javascript', 'mysql'], ['power bi', 'ciberseguridad', 'servicenow'], ['java', 'angularjs'], ['php', 'symfony'], ['dynamics'], ['electronica'], ['spring', 'api'], ['solid works', '3d', 'sketch'], ['docker', 'cloud', 'kubernetes'], ['java'], ['cplusplus', 'qt'], ['excel', 'office'], ['plc'], ['pscad', 'pss/e', 'digsilent powerfactory'], ['python', 'cplusplus', 'c', 'vhdl'], ['active directory', 'microsoft', 'azure'], ['postgresql', 'oracle', 'mongodb'], ['power bi', 'big data cloudera', 'azure'], ['java', 'angularjs'], ['sap'], ['analyst', 'data'], ['python', 'r', 'machine', 'spark'], ['sonarqube', 'rest/soap', 'kubernetes', 'orm', 'docker', 'java', 'maven', 'selenium', 'cucumber', 'hibernate', 'querydsl', 'spring'], ['unity', 'c#'], ['active directory'], ['ax', 'dynamics', 'axapta'], ['postgresql', 'google cloud platform', 'sql server'], ['sccm', 'shell scripting', 'microsoft office 365', 'microsoft exchange'], ['ios', 'android', 'cordova', 'ionic', 'xcode', 'angularjs'], ['teleco', 'cae'], ['o sip', 'protocolos qsig', 'cisco call', 'voip', 'mx one v7', 'alcatel oxe', 'isdn'], ['host', 'mvs', 'db2', 'jcl'], ['vmware', 'linux', 'red hat'], ['f5', 'palo alto', 'fortinet'], ['it', 'consultoria'], ['sql server', 'angularjs', 'git', 'java', 'jenkins', 'spring'], ['liferay'], ['tester', 'testing'], ['ils', 'doors'], ['java', 'microservicios'], ['swagger', 'scrum', 'solace', 'pl/sql', 'sql', 'maven', 'junit', 'openapi', 'jpa', 'spring', 'postman', 'datasources', 'git', 'hibernate', 'rest', 'rabbitmq', 'java', 'kafka', 'jira'], ['git', 'nodejs', 'angularjs'], ['zabbix', 'linux', 'ansible', 'bash', 'openstack'], ['ios', 'android', 'agile'], ['cplusplus', 'c'], ['microinformatica'], ['microinformatica'], ['j2ee', 'java', 'liferay'], ['python', 'tsql', 'databricks', 'sql'], ['scrum', 'ingles', 'qa', 'testing', 'manual', 'xray', 'confluence', 'jira', 'funcional', 'agile', 'istqb'], ['soapui', 'apache', 'sonar', 'mockito', 'java 7', 'soap/xml', 'sql', 'maven', 'git', 'jenkins', 'docker', 'oracle', 'rest', 'spring'], ['redux', 'hooks', 'reactjs', 'context'], ['java', 'maven', 'docker'], ['sql', 'microsoft', 'sql server'], ['qa', 'tester'], ['mobile', 'qa', 'testing', 'selenium', 'tester'], ['api'], ['active directory', 'ticketing'], ['servicedesk', 'cloud', 'redes', 'cisco', 'servicenow'], ['ms office', 'soporte', 'windows 10', 'outlook', 'windows 7'], ['soa', 'oracle service bus', 'jenkins', 'oracle', 'svn'], ['linux', 'wintel', 'sap'], ['servlets', 'java', 'eclipse'], ['kubernetes', 'api', 'docker', 'java', 'microservicios', 'git', 'web services', 'oracle'], ['jpa', 'j2ee', 'angularjs', 'quartz', 'maven', 'hibernate', 'sqly', 'rest', 'spring'], ['java', 'aws', 'spring', 'angularjs'], ['checkpoint', 'fortinet', 'cisco', 'stonegate', '.net'], ['instalacion', 'maquetado', 'swicthes', 'router'], ['sql', '.net'], ['aws', 'cypress', 'jest', 'qa', 'junit', 'nunit'], ['sap'], ['cypress', 'testlink', 'jmeter', 'jest', 'mantis', 'appium', 'git', 'selenium', 'gitlab', 'webdriverio', 'jenkins', 'mocha', 'junit', 'jira'], ['reactjs', 'angularjs', 'jquery', 'javascript', 'frontend'], ['bootstrap', 'css', 'suite adobe', 'html', 'javascript'], ['check point', 'tcp/ip', 'f5', 'wifi', 'fortinet', 'cisco', 'stonegate'], ['xamarin', 'c#'], ['magento'], ['python'], ['python', 'aws', 'data'], ['sql', 'soporte', 'ciberseguridad'], ['avro', 'confluent', 'spinnaker', 'cosmosdb', 'mongodb', 'kafka /', 'github / github actions', 'java', 'azure', 'redis', 'grpc', 'spring', '.net'], ['devops', 'openshift'], ['html', 'css', 'angularjs'], ['mongodb', 'python', 'postgesql', 'pandas', 'elasticsearch', 'git'], ['redes', 'cisco', 'balanceadores f5', 'checkpoint'], ['shell scripting', 'windows', 'homologador'], ['sql', 'dwh', 'snowflake', 'etl'], ['visualizacion', 'qlik', 'data'], ['soporte', 'windows'], ['eclipse', 'java', 'maven', 'jenkins', 'hibernate', 'oracle', 'spring'], ['unix', 'administracion', 'linux', 'seguridad', 'hp ux', 'sistemas', 'redhat'], ['perl', 'linux', 'go', 'python', 'cplusplus', 'scada', 'adms'], ['j2ee', 'java', 'spring', 'angularjs'], ['magento', 'sistrix', 'google tag manager', 'screaming frog', 'drupal', 'google analytics', 'seo', 'wordpress', 'linkbuilding', 'ahrefs', 'semrush', 'google data studio', 'prestashop', 'google search console'], ['sql', 'ssis', 'excel'], ['murex', 'p&l', 'calypso', 'fi flow'], ['natural', 'adabas'], ['windows', 'hyper v'], ['scrum', 'microservicios', 'angularjs', 'java', 'spring'], ['fi', 'co', 'sap'], ['vb script', 'ansible', 'visual studio', 'json', 'elastic', 'sql', 'scripting', 'shell scripting', 'rest', '.net'], ['opentext', 'documentum', 'agile', 'j2ee'], ['sql', 'reactjs', '.net'], ['.net', 'tfs', 'sql', 'oracle', 'javascript', 'uml', 'c#'], ['typescript', 'angularjs'], ['python', 'r', 'machine learning'], ['objective c', 'ios', 'swift'], ['kubernetes', 'sql', 'oaut', 'java', 'mysql', 'spring'], ['banca', 'spring', 'kafka'], ['software', '.net', 'desarrollo', 'devops'], ['linux', 'nagios', 'windows', 'prometheus'], ['as400'], ['ios', 'swift'], ['pl/sql', 'medio de pago'], ['windows 10', 'soporte', 'service desk', 'office 0365'], ['nemesis', 'cobol', 'jcl'], ['flink', 'python', 'spark', 'git', 'sql', 'scala', 'maven', 'confluence', 'jira'], ['sharepoint', '.net', 'c#'], ['firmware'], ['wcf', 'c#', 'wpf', 'ingles', 'xaml', '.net'], ['cplusplus', 'c'], ['java', 'oracle', 'rest', 'soap'], ['big data', 'inteligencia artificial', 'data science'], ['vpn', 'routing', 'wifi', 'firewalls'], ['visio', 'clickup', 'microsoft office'], ['salesforce', 'soporte'], ['reactjs', 'kubernetes', 'ux', 'nodejs', 'docker', 'cloud', 'javascript', 'web'], ['word', 'excel'], ['vmware', 'virtualizacion', 'vsphere'], ['javascript', 'typescript', 'angularjs'], ['grafana', 'mongodb', 'kubernetes', 'git', 'docker', 'java', 'microservicios', 'jenkins', 'kafka', 'oracle', 'spring', 'kotlin'], ['unix', 'shell scripting'], ['telecomunicaciones'], ['oracle', 'pl/sql'], ['apache', 'linux', 'soap', 'sql server', 'git', 'docker', 'laravel', 'jenkins', 'postgresql', 'php', 'css', 'javascript', 'rest', 'html'], ['redux', 'hooks', 'reactjs'], ['visual studio', 'cplusplus', 'qt', 'qml', 'javascript'], ['sql server', 'power platform'], ['active directory', 'linux', 'windows', 'gpo'], ['basis', 'sap'], ['elipse', 'linux', 'ansible', 'vcenter', 'vmware', 'red hat', 'rhel', 'oracle', 'jre'], ['ios', 'android', 'flutter'], ['c#', '.net'], ['ingles', 'plsql', 'data'], ['elk', 'elastic'], ['sql', 'power bi', 'snowflake'], ['cobol'], ['hardware', 'microinformatica'], ['java', 'spring'], ['contcat center', 'genesys'], ['vmware', 'vsphere'], ['typescript', 'nodejs'], ['php', 'drupal', 'moodle'], ['cobol', 'cics', 'db2'], ['cobol', 'mainframe', 'cisc', 'control m', 'host'], ['ansible', 'devops', 'python', 'excel', 'rundeck', 'machine learning', 'servicenow'], ['ad', 'o365'], ['backup', 'linux', 'windows'], ['unix', 'soporte', 'linux'], ['impresoras', 'switches', 'routers'], ['natural', 'adabas', 'jcl'], ['bmc', 'linux', 'windows', 'active directory', 'tomcat', 'iam'], ['aws', 'python', 'spark', 'scala', 'sql'], ['citrix', 'nutanix', 'windows', 'wintel'], ['windows', 'hyper v', 'vmware', 'red hut', 'nas san', '.net'], ['sap'], ['windows', 'ticketing', 'lan', 'wan', 'office'], ['java', 'nodejs', 'agile', '.net'], ['gestion', 'tiketing', 'incidencias', 'jira'], ['aws', 'api', 'java', 'kafka', 'spring', 'rabbitmq'], ['ansible', 'linux', 'redhat'], ['sql', '.net'], ['css', 'java', 'html', 'javascript', 'spring'], ['telecomunicaciones'], ['photosohp', 'illustrator'], ['bbdd sql', 'java', 'html5', 'php', 'css', 'javascript'], ['sap'], ['liferay', 'jira', 'servicenow'], ['itil', 'service desk'], ['testing', 'linux', '.net', 'docker'], ['wordpress', 'marketing'], ['android'], ['social ads', 'marketing digital', 'google ads'], ['python'], ['wifi', 'red', 'eventos', 'fira'], ['qa', 'tester'], ['apache', 'ansible', 'kubernetes', 'python', 'visualicese', 'prometheus', 'git', 'docker', 'jenkis', 'oracle'], ['software', 'embedded'], ['ansible', 'active directory', 'ovm', 'windows server', 'satellite', 'rhel', 'olvm', 'red hat enterprise linux'], ['java', 'angularjs', 'microservicios'], ['sap'], ['zabbix', 'eon', 'bmc patrol', 'centreon'], ['windows', 'hardware', 'java', 'microsoft power apps', 'redes'], ['mongodb', 'j2ee', 'java', 'hibernate', 'mysql', 'spring'], ['.net', 'mvc 4', 'git', 'jenkins', 'jira', 'c#'], ['sql', 'python', 'oracle', 'etl'], ['scrum', 'confluence', 'java', 'html5', 'kanban', 'php', 'css', 'javascript', 'jira'], ['css', 'html5'], ['java', 'spring'], ['business central', 'dynamics'], ['murex', 'calypso', 'scrum'], ['xml', 'rest', 'soap'], ['.net', 'wpf', 'cplusplus', 'visual basic', 'git', 'c#'], ['linux'], ['java', 'consul', 'nomad', 'docker'], ['cloud'], ['siem', 'firewall', 'cloud'], ['qa'], ['redes', 'cisco', 'comunicaciones'], ['kubernetes', 'ingles', 'git', 'docker', 'java', 'microservicios', 'jenkins', 'cloud', 'junit', 'azure', 'spring'], ['itil'], ['python', 'data'], ['sap'], ['reactjs', 'nodejs', '3d blender', 'three.js', 'javascript'], ['java'], ['control m'], ['python', 'redes'], ['iso 27001', 'ciberseguridad', 'pci dss', 'gdpr'], ['powerapps', '.net', 'azure'], ['sistemas', 'cloud'], ['jsf', 'angularjs', 'java', 'hibernate', 'spring'], ['sqlserver', 'mainframe', 'monitorizacion', 'linux', 'windows'], ['ionic', 'angularjs'], ['devops', 'junit'], ['python', 'oracle', 'linux', 'shell scripting'], ['confluence', 'jira', 'test link', 'tester'], ['software'], ['j2ee', 'java'], ['sistemas'], ['javascript', '3d', 'typescript'], ['javascript'], ['sccm', 'xenapps', 'active directory', 'microsoft 365', 'sql server', 'windows server', 'citrix', 'shell scripting', 'scom', 'adsf'], ['sap'], ['software'], ['sql', 'looker', 'power bi', 'power query'], ['css', 'javascript', 'html5', '.net'], ['unity', 'c#'], ['angularjs'], ['java', 'plsql', 'spring', 'unix'], ['c#', 'json', '.net', 'xml'], ['indesing', 'photoshop', 'illustrator'], ['python', 'r', 'scala', 'data', 'machine learning'], ['scrum'], ['jira', 'git'], ['java', 'qa'], ['java', 'pl/sql'], ['.net'], ['java', 'spring', 'microservicios'], ['confluence', 'clarity', 'jira'], ['unigraphics', 'siemens nx'], ['electronica'], ['altium', 'electronica', 'emc', 'spice'], ['cplusplus', 'rtos'], ['cplusplus'], ['aws', 'etl'], ['mongodb', 'ticketing', 'iaas', 'tunning', 'exadata', 'oracle oci', 'paas', 'oracle', 'db2', 'etl'], ['bi', 'qliksense'], ['dynamics'], ['cplusplus', 'linux'], ['pmo'], ['pmo', 'project manager'], ['xamarin'], ['payments'], ['vmware'], ['sql server', 'c#', '.net'], ['rack', 'soporte', 'remedy', 'wifi', 'lan'], ['linux', 'windows'], ['jira', 'agile'], ['sql', 'excel'], ['ids', 'nids', 'firewall', 'hids', 'ips'], ['redes', 'informatica'], ['.net'], ['telecomunicaciones', 'java', 'excel'], ['software'], ['python', 'golang'], ['routers', 'android', 'linux', 'windows', 'switches', 'hardware', 'windows server', 'mac', 'outlook', 'office', 'aps'], ['helpdesk', 'windows'], ['after', 'premiere', 'vmix'], ['cplusplus'], ['dynatrace', 'cloud'], ['css', 'mysql', 'php', 'html', 'javascript'], ['software', 'ciberseguridad', 'sistemas', 'bases de datos', 'soporte tecnico', 'redes'], ['cplusplus', 'bash scripting', 'c'], ['lopd', 'ciberseguridad'], ['word', 'excel', 'outlook'], ['sage'], ['electronica', 'robotica', 'plc'], ['axapta'], ['dataform', 'python', 'google cloud', 'docker', 'sql', 'java', 'dbt', 'tableau'], ['php', 'laravel'], ['php', 'laravel'], ['magerit', 'iso 27005'], ['siemens', 'visual basic', 'plc'], ['lopd', 'iso27001', 'ens'], ['helpdesk', 'zoom', 'teams'], ['java', 'oracle', 'spring', 'sql server'], ['java', 'spring', 'aws'], ['python', 'r', 'scala'], ['product management'], ['java'], ['pmp'], ['android', 'kotlin'], ['angularjs'], ['san', 'nas', 'hyper v', 'windows server', 'linux redhat', 'nextcloud', 'pfsense'], ['odoo', 'reactjs', 'django', 'python', 'ionic', 'next js', 'laravel', 'php'], ['reactjs', 'mongodb', 'ionic', 'nodejs', 'expressjs', 'angularjs', 'api', 'cpanel', 'github', 'redux', 'javascript'], ['ds', 'big data', 'databricks', 'azure'], ['ciberseguridad'], ['it', 'ict'], ['morphx', 'dynamics', 'c#', 'x++'], ['java', 'eclipse'], ['workplace', 'adds', 'windows server'], ['it', 'project manager'], ['crm', 'e commerce'], ['rpg', 'ibm power9'], ['it', 'project manager'], ['navision'], ['go', 'cplusplus', 'scala', 'java', 'kotlin'], ['gdpr', 'dpia'], ['html', 'webpack', 'javascript', 'css'], ['windows', 'active directory', 'microsoft', 'endpoint', 'redes'], ['apache', 'linux', 'windows', 'iis', 'docker', 'sql', 'asterisk', 'voip'], ['unix', 'bases de datos', 'mainframe', 'windows'], ['confluence', 'jira', 'scrum', 'jira service desk'], ['j2ee', 'java', 'agile'], ['devops', 'mvc', 'java', 'backend', 'spring'], ['c#', 'visual basic', 'orm', 'sql', 'javascript', '.net'], ['analisis', 'bigdata', 'data', 'businessintelligence', 'microstrategy', 'snowflake'], ['active directory'], ['nsx t', 'vmware horizon', 'wsxi', 'vcenter', 'vmware', 'vsan'], ['sql', 'cplusplus', 'c', 'vb'], ['avro', 'aks', 'confluent', 'cosmosdb', 'mongodb', 'kubernetes', 'spinnaker', 'kafka /', 'docker', 'java', 'azure', 'github', 'redis', 'grpc', 'spring'], ['avro', 'aks', 'confluent', 'cosmosdb', 'mongodb', 'kubernetes', 'spinnaker', 'docker', 'github / github actions', 'java', 'azure', 'kafka', 'redis', 'grpc', 'spring'], ['.net'], ['terraform', 'ansible', 'kubernetes', 'devops', 'docker', 'jenkins', 'azure', 'argocd'], ['unix', 'linux', 'java', 'plsql', 'spring'], ['java', 'microservicios'], ['java', 'azure'], ['weblogic', 'apache', 'tomcat', 'jboss'], ['patrol', 'bmc helix operation management', '.net'], ['linux', 'devops', 'cplusplus', 'c', 'antlr', 'java'], ['java'], ['nas/san/das', 'windows', 'wintel'], ['ingles', 'microsoft', 'data', 'azure'], ['angularjs'], ['python', 'sql tsql', 'databricks'], ['sap'], ['ios', 'android', 'cplusplus', 'html5/java script.', 'frontend'], ['sas', 'sap'], ['.net', 'visual studio'], ['.net'], ['apachetomcat', 'mockito', 'api', 'java', 'maven', 'junit'], ['drive', 'scrum', 'qa', 'power point', 'excel', 'jira', 'tester'], ['c#', 'angularjs', 'azure', 'cloud', '.net'], ['azure'], ['nutanix'], ['ticketing', 'sistemas operativos', 'active directory', 'office', 'microinformatica'], ['unix', 'cobol'], ['java'], ['html', 'javascript', 'css', 'aws'], ['bbdd', 'api', 'sql', 'data', 'confluence', 'jira', 'xray'], ['nagios', 'linux', 'windows'], ['discovery', 'cmdb', 'service mapping', 'cloud management', 'asset management', 'servicenow'], ['testing', 'sap'], ['o2o'], ['ansible', 'devops', 'git', 'ci/cd', 'jenkins', 'jira'], ['windows 11', 'workplace', 'windows 10', 'office o365', 'outlook', 'shell scripting', 'forms', 'skype', 'teams'], ['bpm', 'uml', 'cloud'], ['oracle', 'pl/sql'], ['adobe experience manager', 'java', 'maven', 'jenkins', 'github'], ['qa', 'tester'], ['mvc', 'pruebas', 'code first', 'jquerry', '.net'], ['power bi', 'crystal report', 'qlik'], ['java', 'angularjs'], ['cplusplus', 'javascript', 'typescript', '3d'], ['ci/cd', 'git', 'jenkins', 'openshift'], ['sso', 'keycloak', 'cas', 'java', 'ldap'], ['agile', 'xp', 'scrum', 'kanban'], ['sql', 'cplusplus', 'c', 'vb'], ['figma', 'design thinking', 'ux/ui', 'adobe xd'], ['reactjs', 'typescript'], ['agile', 'prince2', 'project', 'pmp'], ['nosql', 'angularjs', 'sql', 'java', 'vuejs', 'javascript', 'spring', 'javaview'], ['soap', 'gihub', 'java', 'rest', 'agile', 'spring'], ['helpdesk', 'service desk'], ['helpdesk', 'service desk'], ['databases', 'programming', 'java', 'analytics', 'c#'], ['java'], ['agile', 'qa', 'tester'], ['confluence', 'jira', 'jenkins', 'docker'], ['mejora continua'], ['figma', 'ux', 'diseno', 'sketch'], ['windows', 'seguridad', 'exchange', 'sistemas', 'networking', 'redes'], ['six sigma', 'aris', 'ea'], ['windows', '.net'], ['routers', 'f5', 'tcp/ip', 'ccna', 'huawei', 'redes', 'cisco', 'stonegate', '.net'], ['scrum', 'ingles', 'java', 'oracle', 'agile'], ['cypress', 'jasmine', 'nodejs', 'qa', 'selenium', 'java', 'javascript', 'tester'], ['cobol', 'microfocus', 'mainframe', 'enterprise server'], ['telecomunicaciones'], ['loyalty', 'textil', 'ecommerce'], ['.net', 'ajax', 'mvc', 'xml', 'git', 'sql', 'hmtl', 'vb', 'xls', 'javascript', 'c#'], ['html', 'javascript', 'typescript', 'css'], ['html', 'css', 'angularjs'], ['unix', 'administracion', 'linux', 'seguridad', 'hp ux', 'sistemas', 'redhat'], ['nodejs', 'vuejs'], ['splunk', 'devops', 'openshift'], ['tcp/ip', 'f5', 'wifi', 'checkpoint', 'fortinet', 'redes', 'cisco'], ['dynatrace', 'linux', 'windows'], ['marketing', 'tag management', 'google analytics'], ['linux', 'windows'], ['plataformas commerce de alimentacion', 'stakeholders'], ['test case', 'pruebas'], ['soapui', 'linux', 'windows', 'qa', 'sql', 'jira'], ['powerbuilder'], ['soporte', 'microinformatica'], ['control m', 'linux', 'networking', 'ticketing'], ['worpress', 'bash', 'ticketing'], ['broadsoft', 'telecomunicaciones', 'centrex', 'sip', 'wireshark', 'voip', 'dns', 'cisco', 'broadwork'], ['struts', 'j2ee', 'java', 'hibernate', 'jsp', 'spring'], ['redes', 'vmware', 'ciberseguridad', 'windows server'], ['figma', 'photoshop', 'illustrator', 'flex', 'css', 'ux', 'html'], ['java', 'spring'], ['helpdesk', 'service desk'], ['javascript', 'nodejs', 'angularjs'], ['kodu', 'lego wedo 2.0', 'app inventor', 'makecode', 'scratch', 'tinkercad', 'gimp', 'micro:bit'], ['sap'], ['ariba', 'sap'], ['host', 'paternon', 'cobol', 'db2'], ['confluence', 'jira'], ['cau', 'soporte', 'windows'], ['drupal', 'android', 'angularjs'], ['nodejs', 'angularjs', 'sass', 'typecript', 'css', 'scss', 'javascript', 'html'], ['pmp'], ['sas'], ['servidores', 'sales', 'security', 'partners', 'account', 'data center'], ['cplusplus', 'qt'], ['testing', 'linux', '.net', 'docker'], ['crm', 'azure', 'dynamics', 'javascript', '.net'], ['php'], ['c#', '.net', 'angularjs'], ['sql', 'sas'], ['sap'], ['quality assurance', 'qa'], ['radio', '.net'], ['java', 'spring'], ['big data', 'data'], ['powercenter', 'powerpoint', 'shell scripting', 'etl'], ['aws', 'jenkins', 'azure', 'git'], ['python', 'linux', 'jenkins'], ['wordpress', 'plesk', 'joomla'], ['dynamics', 'ms 365'], ['sql', 'power bi'], ['php', 'laravel'], ['business intelligence', 'etl'], ['linux', 'jenkins'], ['labview'], ['visual basic 6', 'sql server', 'crystal reports'], ['software', 'hardware'], ['sap'], ['esx', 'vdi', 'linux', 'windows'], ['abap', 'fiori', 'sap'], ['crm', 'marketing digital', 'sap'], ['sql', '.net'], ['python', 'aws', 'docker'], ['unix', 'linux', 'terraform', 'kubernetes', 'cloud', 'mysql', 'postgresql', 'ansble', 'oracle'], ['ospfm vrf', 'telecomunicaciones', 'bgp', 'mpls', 'redes'], ['php', 'java'], ['cplusplus', 'c'], ['.net'], ['pl/sql', '.net'], ['postman', 'qa', 'java', 'selenium', 'tester', 'newman'], ['java'], ['veeva', 'trueblue', 'dynamics', 'iqvia'], ['powerapps', 'agile'], ['proxmox', 'microsoft365', 'active directory', 'vmware', 'mysql', 'dns'], ['aws', 'terraform', 'devops', 'kubernetes', 'docker', 'cloud'], ['t sql', 'sql server'], ['c#', 'css', 'tfs', 'sql server', 'web services', 'jquery', 'dynamics', 'html', 'javascript', '.net'], ['odi', 'pl/sql', 'oracle', 'qlik', 'obiee'], ['j2ee', 'java', 'uml'], ['.net', 'mvc', 'angularjs', 'microsoft visual studio', 'microsoft visual code', 'c#'], ['microsoft', 'office', 'windows'], ['w3c', 'une', 'accesibilidad', 'accesibilidad web'], ['j2ee', 'java'], ['webtop', 'scrum', 'soa', 'java', 'documentum', 'process builder', 'javascript', 'rest', 'agile', 'wfm'], ['microinformatica'], ['meta4', 'oracle', 'nominas', '.net'], ['java', 'ios', 'android', 'kotlin'], ['oracle', 'pl/sql', 'powerbuilder'], ['java', 'pl/sql', 'shell scripting'], ['linux', 'windows'], ['java', 'spring'], ['proxy', 'firewall'], ['gcp', 'aws', 'azure'], ['access'], ['oracle'], ['scrum', 'agile', 'kanban', 'git'], ['power bi', 'business intelligence'], ['seguridad', 'onda', 'matlab', 'simulink', 'vhdl', 'criptografia', 'radio', 'datalinks', 'comunicaciones'], ['sd wan'], ['fc', 'unix', 'veritas volume manager', 'linux', 'san', 'almacenamiento', 'veritas cluster server', 'storage'], ['mikrotik', 'redes', 'cisco', 'ubiquiti'], ['ms access', 'a3 erp', 'navision', 'dynamics', 'vba'], ['sharepoint', 'helpdesk', 'microsoft', 'exchange', 'azure'], ['reactjs', 'clean code', 'angularjs', 'typescript', 'redux', 'javascript'], ['angularjs', 'sql', 'typescript', 'html5', 'css'], ['lan', 'cisco', 'nortel'], ['tfs', 'sql', 'javascript', 'agile', '.net'], ['sap'], ['linux', 'testing'], ['php', 'laravel'], ['google adwords', 'tableau', 'google analytics'], ['microfocus'], ['marketing'], ['saas'], ['python', 'django'], ['aws', 'nodejs'], ['vmware', 'linux', 'windows server'], ['routing', 'networking', 'switching'], ['sap'], ['electricidad'], ['sharepoint', 'javascript', 'dynamics'], ['scripting', 'ci/cd', 'redes', 'devops'], ['java', 'spring'], ['java', 'elasticsearch', 'apache solr'], ['ceh', 'ciberseguridad', 'cism', 'crisc', 'cissp', 'cisa'], ['aws', 'linux', 'bbdd', 'servidores web...', 'azure', 'google cloud gcp'], ['vpn', 'redes', 'cisco'], ['android', 'api'], ['cobol', 'as/400'], ['vba', 'sql server', 'mysql'], ['visual basic', 'progress', 'java', 'php', 'c#'], ['marketing'], ['sap'], ['active directory', 'mdm', 'azure', 'o365'], ['qa', 'testlink'], ['perl', 'unix', 'ads', 'linux', 'awr'], ['qa', 'testing'], ['simulink', 'matlab'], ['ciberseguridad'], ['sap'], ['vmware', 'linux', 'windows'], ['python', 'cplusplus', 'c', 'java', '.net'], ['.net', 'mvc', 'webforms', 'sql server', 'c#', 'entity'], ['java', 'spring'], ['java', 'microservicios'], ['php', 'laravel'], ['agile', 'jira', 'confluence'], ['wordpress', 'prestashop', 'ecommerce'], ['facebook ads', 'google ads', 'google analytics'], ['ciberseguridad'], ['office 365', 'navision', '.net'], ['facebook ads', 'sem', 'analytics', 'google ads'], ['usb', 'fibra optica'], ['photosohp', 'illustrator'], ['mean', 'angularjs'], ['redes', 'seguridad'], ['iso', 'qms'], ['ios', 'swift'], ['telecomunicaciones', 'python', 'matlab'], ['ios', 'swift'], ['salesforce'], ['azure'], ['altium', 'electronica', 'orcad'], ['cplusplus', 'c'], ['sap', 'abap'], ['nmap', 'burp', 'nessus', '.net'], ['java', 'oracle', 'pl/sql', 'apex'], ['scrum'], ['i+d'], ['cloudera', 'hortonworks'], ['nodejs', 'angularjs'], ['angularjs', 'sass', 'typescript', 'html5', 'css', 'javascript'], ['aws', 'spring', 'cloud', 'angularjs'], ['sap'], ['solidworks', '3d'], ['rohs', 'reach'], ['gcp', 'aws', 'devops', 'azure'], ['microsoft', 'dynamics'], ['sql', 'bi', 'etl'], ['gcp', 'aws', 'kubernetes', 'docker', 'azure'], ['soporte', 'adobe'], ['sql', 'python', 'scala', 'r'], ['sap'], ['agile workflow', 'test case', 'ux'], ['bootstrap.', 'symfony', 'jquery', 'php', 'css', 'javascript', '.net'], ['telecomunicaciones', 'cplusplus', 'c', 'aeronautica'], ['gcp', 'dbt', 'sql'], ['agile'], ['agile'], ['linux', 'red hat'], ['.net', 'c#'], ['remedy', 'nagios', 'jira', 'servicenow'], ['agile', 'devops'], ['sql', 'html', 'sap', 'abap'], ['linux', 'laravel', 'mysql', 'php', 'vuejs'], ['aws', 'exchange server', 'teletrabajo', 'sistemas escritorio', 'sistemas operativos', 'sistemas servidor', 'sql server', 'azure', 'soporte tecnico', 'vpn'], ['sccm', 'soporte de red', 'intune', 'windows'], ['php', 'shopify'], ['python', 'java', 'javascript'], ['javascript', '.net', 'c#'], ['tcp/ip', 'windows', 'lan', 'mac', 'microinformatica'], ['aws', 'cloud', 'azure'], ['power bi', 'tableau', 'etl'], ['software', 'cloud'], ['redes', 'sw', 'wlan', 'hw'], ['sql', 'cognos', 'power bi'], ['gpos', 'active directory', 'iis', 'windows server', 'dhcp', 'fortinet', 'office 365', 'cisco asa', 'dns', 'vmware vsphere'], ['cplusplus', 'c'], ['sql', '.net'], ['sap'], ['bw4', 's4'], ['movilidad', 'web', 'cloud'], ['itil', 'balanceadores', 'wan', 'agile'], ['apache', 'sql', 'mariadb', 'php', 'html', 'pentaho', 'python', 'drupal', 'debian', 'erps', 'kpis', 'power bi', 'etl', 'ubuntu', 'linux', 'civicrm', 'sql server', 'git', 'postgresql', 'crm', 'docker', 'api', 'mysql', 'javascript'], ['revit', 'iot', 'autocad', 'audiovisuales'], ['telecomunicaciones', 'i+d'], ['sql', 'business intelligence', 'data'], ['project manager'], ['seo', 'wordpress'], ['reactjs', 'bootstrap', 'angularjs', 'htm5', 'jquery', 'css', 'ux', '.net'], ['linux centos', 'backup', 'antivirus', 'windows server', 'vmware'], ['sharepoint', 'css', 'c#', 'c', 'dnn', 'html', 'javascript', '.net'], ['talent management', 'talent delivery'], ['electronica'], ['aws', 'kubernetes'], ['android', 'servicios web', 'eclipse', 'sql', 'java'], ['electronica', 'robotica', 'plc'], ['reactjs', 'mongodb', 'c#', 'nodejs', 'sql server', 'api', 'sql', 'docker', 'gitlab', 'github', 'mysql', 'javascript', 'graphql', '.net'], ['devops', 'business central nav', 'json', 'transact sql', 'xml', 'api', 'sql', 'git', 'azure', '.net'], ['java', 'oracle', 'spring', 'sql server'], ['java', 'web scraping', 'desarrollo web'], ['linux', 'mysql', 'laravel', 'vuejs', 'php'], ['reactjs', 'mongodb', 'nodejs', 'git', 'mysql', 'javascript'], ['sap'], ['sap'], ['marketing', 'ecommerce'], ['php', 'pdf'], ['salesforce', 'apex'], ['salesforce', 'apex'], ['visual basic', '.net', 'c#', 'lims'], ['cplusplus', 'linux', 'c', 'unit testing'], ['checkpoint', 'aruba', 'meraki', 'palo alto', 'fortinet', 'cisco'], ['cplusplus', 'oracle', 'ms sql'], ['sql', 'cplusplus', 'c', 'vb'], ['qa', 'tester'], ['scrum'], ['helpdesk'], ['python', 'cplusplus'], ['identidades', 'iam', 'accesos'], ['monitorizacion', 'ansible', 'elastic', 'sistemas', 'dynatrace', 'cloud'], ['blueprism'], ['helpdesk'], ['java', 'cobol'], ['canal oficina', 'absis'], ['python', 'telecomunicaciones', 'multimedia', 'sql', 'css', 'javascript', 'html'], ['sip', 'cisco call', 'qsig', 'voip', 'mx one v7', 'alcatel oxe', 'isdn'], ['unit test', 'eclipse', 'bash', 'git', 'agile', 'java', 'maven', 'confluence', 'rest', 'jira', 'spring'], ['php', 'java', 'eclipse', 'spring'], ['helpdesk'], ['helpdesk', 'service desk'], ['helpdesk'], ['power bi', 'sap'], ['unix', 'linux', 'terraform', 'kubernetes', 'cloud', 'mysql', 'postgresql', 'ansble', 'oracle'], ['c#', 'css', 'tfs', 'sql server', 'web services', 'jquery', 'dynamics', 'html', 'javascript', '.net'], ['sql server', 'docker', 'laravel', 'symphony', 'php', 'oracle'], ['trello', 'postman', 'qa', 'testing', 'confluence', 'jira'], ['okr', 'nexus', 'api', 'metricas', 'lesss', 'safe'], ['firmware', 'c', 'plc', 'cplusplus'], ['switches', 'routers', 'maquetado', 'configuracion'], ['apache', 'tomcat', 'rabbit', 'mirth'], ['backup', '.net', 'veritas', 'commvault', 'hitachi', 'itil', 'ibm', 'veem'], ['sharepoint', 'windows', 'autopilot', 'azure', 'mobileron', 'ad', 'ios', 'android', 'linux', 'smartphone', 'intune', 'vpn', 'ca', '4g', 'soti', 'apple', 'vmware', 'wlan', 'ldap', 'mdm', 'tablet'], ['objective c', 'ios', 'it', 'swift'], ['cypress', 'jmeter', 'postman', 'qa', 'karate', 'selenium', 'cucumber', 'java'], ['aws', 'python', 'spark', 'scala', 'data', 'azure'], ['prometheus', 'maven', 'red hat', 'azure', 'nexus', 'kubernetes', 'sonar', 'eks', 'jenkins', 'openshift', 'kibana', 'gcp', 'grafana', 'terraform', 'ansible', 'elasticsearch', 'git', 'gogs', 'aws', 'gks', 'aks', 'cloud'], ['aws', 'step functions', 'spark', 'emr', 'data', 'cdk', 's3', 'etl'], ['api', 'angularjs', 'microservicios', 'sql', '.net', 'rabbitmq'], ['aws', 'nodejs', 'angularjs', 'java', 'php'], ['sap'], ['itsm', 'servicenow'], ['itsm', 'servicenow'], ['kubernetes', 'microservicios', 'mockito', 'java', 'maven', 'sql', 'hibernate', 'jenkins', 'junit', 'spring'], ['angularjs', 'servlets', 'java', 'bpm', 'junit', 'oracle', 'spring'], ['python', 'snowflake', 'azure'], ['c#', '.net', 'api'], ['marketing', 'google tag manager', 'tag manager', 'google'], ['dynatrace', 'monitorizacion'], ['sap'], ['aws', 'python', 'docker', 'typecript', 'cloud', 'cdk'], ['ionic', 'angularjs'], ['ionic', 'ajax', 'json', 'xml', 'angularjs', 'sql', 'git', 'html', 'javascript', '.net', 'xsl'], ['reactjs', 'css', 'angularjs', 'git', 'vuejs', 'html'], ['azure', 'microsoft 365', 'dynamics', 'power platform'], ['analisis', 'qa'], ['angularjs', 'java', 'jquery', 'jenkins', 'html5', 'confluence', 'css', 'javascript', 'rest', 'jira'], ['java'], ['aws', 'python', 'nodejs', 'typescript', 'rest'], ['java', 'javascript', 'bancksphere'], ['edr', 'ndr', 'ciberseguridad', 'siem'], ['python'], ['reactjs', 'javascript'], ['redes', 'linux', 'windows server'], ['vmware', 'windows server'], ['active directory'], ['c#', '.net'], ['sccm', 'windows', 'active directory', 'windows server', 'windows 10'], ['scrum', 'python', 'data', 'ia', 'machine learning', 'agile'], ['redes', 'voip'], ['nutanix', 'linux', 'windows', 'hiperconvergencia', 'azure'], ['python'], ['java', 'angularjs'], ['sap'], ['bi', 'data', 'azure'], ['python', 'java'], ['reactjs', 'nodejs'], ['sql', 'azure', 'datalake'], ['salesforce', 'crm'], ['aws', 'cloud'], ['javascript', 'nodejs', 'vuejs'], ['windows 10', 'soporte', 'service desk', 'office 0365'], ['unix', 'ansible', 'veritas', 'infoscale', 'shell scripting', 'yaml', 'opensvc'], ['airwatch', 'mdm', 'mobility'], ['powercli', 'nutanix', 'openstack', 'ansible', 'vmware', 'shell scripting', 'vsan', 'vsphere', 'github', 'kibana'], ['oracle', 'pl/sql'], ['o2o', 'view'], ['api', 'devsecops', 'ci/cd', 'cloud', 'confluence', 'jira'], ['hubspot'], ['j2ee', 'java', 'aws', 'microservicios'], ['r', 'programacion'], ['javascript', 'nodejs', 'typescript', 'vuejs'], ['java', 'microservicios'], ['php', 'moodle', 'mysql'], ['html', 'css', 'angularjs'], ['python', 'sas'], ['analisis funcional', 'agile'], ['splunk'], ['soapui', 'gerrit', 'gosu', 'xml', 'intellij idea', 'git', 'java', 'xpath', 'jenkins', 'h2', 'mssql'], ['java', 'c'], ['java', 'plsql', 'spring'], ['cobol', 'as/400'], ['cloud'], ['oracle', 'powerbuilder'], ['oracle ebs'], ['soporte', 'ticketing'], ['python', 'databricks', 'sql'], ['weblogic', 'apache', 'tomcat', 'jboss'], ['sql', 'pentaho', 'bi', 'etl'], ['php', 'wordpress', 'laravel', 'blockchain'], ['.net'], ['soporte', 'windows', 'ticketing'], ['servicedesk remedy', 'servicenow'], ['microfocus enterprise server'], ['endtoend', 'xray', 'tester', 'api'], ['microsoft', 'azure', 'o365'], ['java', 'eclipse', 'selenium', 'git'], ['sharepoint', 'oracle', '.net'], ['python', 'reactjs', 'power bi'], ['aws', 'vmware'], ['java', 'qa', 'selenium', 'cucumber'], ['git', 'vuejs'], ['php', 'symfony'], ['.net', 'c#'], ['dynamics'], ['bi', 'qlikview', 'qliksense'], ['citrix', 'vmware', 'windows'], ['sap'], ['murex'], ['reactjs', 'javascript', 'html5'], ['linux', 'satelite', 'ansible', 'kubernetes', 'docker', 'shell scripting', 'red hat'], ['unit test', 'eclipse', 'git', 'java', 'maven', 'confluence.', 'rest', 'jira', 'spring'], ['reactjs', 'octupus', 'jenkins', 'rest api', 'principios solid', 'patrones de diseno', 'oracle', 'sqlite'], ['mac', 'mac os', 'soporte tecnico'], ['marketplaces', 'marketing automation', 'marketing digital', 'ux', 'google analytics', 'mailchimp', 'seo', 'shopify', 'backend', 'frontend', 'e commerce'], ['python', 'pl/sql', 'sql', 'excel', 'oracle'], ['angularjs', 'microservicios', 'java', 'oracle', 'spring', '.net'], ['marketing', 'comunicacion', 'seo', 'rss', 'inbound', 'ux'], ['typescript', 'nodejs', 'vuejs'], ['telecomunicaciones', 'office'], ['apache', 'jboss', 'tomcat', 'middleware', 'weblogic', 'oracle'], ['java'], ['consultora', 'consultor', 'scm', 'sap'], ['python'], ['helpdesk', 'soporte'], ['connect', 'microservicios', 'api', 'java', 'desarrollador', 'programador'], ['spring', 'angularjs'], ['redes', 'soporte'], ['oracle', 'sql server', 'mysql'], ['microinformatica'], ['oracle', 'middleware', 'jboss'], ['oracle', 'pl/sql'], ['.net', 'entity'], ['jsf', 'angularjs', 'java', 'html', 'javascript', 'spring'], ['java'], ['sap'], ['aws', 'cloud', 'azure'], ['soporte', 'microinformatica'], ['kafka', 'spring', 'microservicios'], ['unity', 'c#'], ['cplusplus', 'c'], ['windows', 'active directory', 'citrix', 'vmware', 'database', 'firewall', 'cisco'], ['java'], ['soporte', 'ticketing'], ['kubeflow', 'mlops', 'datarobot', 'machine learning', 'automl'], ['solaris'], ['helpdesk', 'soporte'], ['helpdesk'], ['java', 'spring'], ['php', 'codeigniter'], ['maquetado de equipos', 'microinformatica', 'instalacion de equipos'], ['itsm', 'microsoft', 'cmdb'], ['cau', 'soporte', 'windows'], ['seguridad', 'firewall'], ['java', 'angularjs'], ['cobol'], ['citrix', 'soporte'], ['cplusplus', 'rtos'], ['reclutamiento', 'it', 'seleccion'], ['vmware', 'windows server'], ['sistemas', 'informatica', 'soporte'], ['remedy', 'jira'], ['java', 'api', 'microservicios'], ['eclipse', 'subversion', 'pruebas', 'alm', 'git', 'java', 'funcional'], ['servicenow'], ['salesforce'], ['apache', 'linux', 'windows', 'jboss'], ['seguros', 'j2ee', 'sql', 'java', '.net'], ['j2ee', 'java', 'spring', 'microservicios'], ['ecommerce'], ['mulesoft'], ['php', 'drupal'], ['.net'], ['java', 'spring', 'angularjs'], ['cloud'], ['desarrollador', 'bus broker', 'consultor', 'tibco'], ['aws', 'microservicios', 'angularjs', 'java', 'azure', 'cloud', 'agile', 'spring'], ['sap'], ['gcp', 'aws', 'kubernetes', 'docker', 'git', 'azure', 'rest', 'kotlin'], ['ubuntu', 'apache', 'linux', 'debian', 'windows server'], ['ingeniero', 'gestion de proyectos', 'electrico', 'tecnico'], ['macintosh', 'soporte', 'linux', 'windows'], ['aws', 'postman', 'api', 'azure', 'itil', 'rest'], ['tester', 'qa', 'selenium', 'cucumber', 'agile'], ['python', 'bi', 'sql', 'databricks', 'azure'], ['abap'], ['.net'], ['seo', 'saas', 'chrome', 'ryte'], ['linux', 'windows'], ['azure', 'm365', 'ad', 'windows server'], ['project manager', 'infraestructuras'], ['risk analysis', 'project management'], ['unix', 'linux', 'terraform', 'kubernetes'], ['java', 'spring'], ['java', 'azure'], ['java'], ['sql', 'power bi'], ['cplusplus', 'c'], ['cplusplus', 'c', 'drivers'], ['mongodb', 'microservicios', 'mockito', 'java', 'maven', 'junit', 'spring'], ['java', 'spring', 'microservicios'], ['cobol', 'cics', 'db2'], ['soporte', 'nagios'], ['bootstrap', 'angularjs'], ['software'], ['electronica', 'i+d'], ['itsm', 'servicenow'], ['cisco', 'fortigate'], ['java', 'spring'], ['aiv', 'satcom'], ['java', 'tpv'], ['.net', 'angularjs'], ['php', 'mysql'], ['android', 'kotlin'], ['cisco', 'vmware', 'windows server'], ['.net', 'angularjs'], ['fta', 'fmeca'], ['scrum'], ['java', 'azure', 'aws'], ['python', 'java'], ['java', 'reactjs', 'javascript'], ['autocad', 'ansys', 'cype 3d'], ['sql', 'java', 'spring'], ['sccm', 'xenapps', 'active directory', 'microsoft 365', 'sql server', 'windows server', 'citrix', 'shell scripting', 'scom', 'adsf'], ['scrum', 'python', 'sql', 'java', 'agile'], ['solidworks', '3d', 'autocad'], ['sap', 'abap'], ['lan', 'wan', 'ticketing'], ['impresoras', 'switches', 'routers'], ['software', 'windows', 'hardware'], ['terraform', 'devops'], ['machine learning'], ['service now', 'service desk', 'jira'], ['selenium', 'cypress', 'qa'], ['html', 'css', 'vuejs'], ['redux', 'reactjs'], ['sql server', 'windows server'], ['nodejs'], ['t sql'], ['canigo', 'mongodb', 'java', 'hibernate', 'kafka', 'openshift', 'spring'], ['.net', 'c#'], ['sage'], ['security', 'linux', 'logs'], ['.net', 'azure'], ['reactjs', 'nodejs'], ['reactjs'], ['.net', 'c#'], ['figma', 'adobexd', 'ui/ux'], ['datalinks 3', '.net', 'radioenlaces 3', 'gns3 3'], ['telecomunicaciones', 'electronica', 'matlab'], ['php', 'java'], ['devops', 'azure'], ['linux', 'jboss', 'kubernetes', 'python', 'tomcat', 'jenkis', 'documentum', 'gitlab', 'shell scripting', 'redhat'], ['sap'], ['python', 'cplusplus', 'c', 'html'], ['reactjs', 'ux', 'c#', 'angularjs'], ['sap'], ['cplusplus', 'opengl'], ['java', 'open api', '.net', 'api'], ['electronica', 'c', 'cplusplus', 'labview'], ['nacar'], ['ios', 'swift', 'xcode'], ['cplusplus'], ['webservices rest', 'eclipse', 'java', 'php', 'spring'], ['sap'], ['power bi', 'tableau'], ['python', 'sql', 'javascript', 'php'], ['ajax', 'json', 'xml', 'mysql', 'php', 'html', 'javascript', 'saml'], ['linux', '.net', 'dell poweredge', 'solaris', 'hp ux', 'proliant', 'ibm as400'], ['dynamics'], ['java', 'pl/sql'], ['ios'], ['cpd'], ['dynamics'], ['blazor', '.net'], ['windows', 'ip', 'visual studio', 'bbdd', 'angularjs', 'access', '.net'], ['office', 'windows'], ['analisis funcional', 'eni', 'kpis'], ['pmo'], ['cplusplus', 'visual studio'], ['nodejs', 'angularjs'], ['aws', '.net', 'azure'], ['linux', 'windows'], ['digital product management', 'a/b testing'], ['storeonce', 'vmware', 'veaam backup'], ['c#', '.net'], ['sql server', '.net', 'c#'], ['xaml', 'javascript', '.net', 'angularjs'], ['cybersecurity', 'iso27001'], ['informatica', 'soporte'], ['sql server'], ['servicenow'], ['kubernetes', 'openshift'], ['angularjs'], ['sql'], ['soa', 'subversion', 'angularjs', 'git', 'java', 'maven', 'jira', 'uml', 'web'], ['reactjs', 'linux', 'mysql', 'nodejs', 'docker', 'vuejs', 'php'], ['aws'], ['.net'], ['qa', 'testing'], ['sql server'], ['aws', 'siem', 'linux', 'windows', 'kubernetes', 'python', 'git', 'azure', 'jira'], ['gcp', 'aws', 'bitbucket', 'english', 'gitlab', 'terraform code', 'azure', 'github'], ['cplusplus', 'meta trader', 'c#', 'ninja trader'], ['java'], ['java', 'spring'], ['java'], ['cplusplus', 'c#', 'angularjs'], ['ios', 'xcode', 'llb'], ['java', 'android', 'javascript', 'agile'], ['wordpress', 'marketing digital', 'digitalizacion de documentos'], ['edi', 'xml', 'navision', 'oracle', 'sap', 'php', 'css', 'javascript', 'html'], ['vpn', 'active directory', 'windows'], ['sap'], ['sql server', '.net', 'c#'], ['dast', 'sast', 'ciberseguridad', 'iast'], ['html', 'javascript', 'wordpress', 'css'], ['ruby', 'ruby on rails'], ['java'], ['tcp/ip', 'windows'], ['sap'], ['helpdesk', 'cisco'], ['office', 'windows'], ['unix'], ['analytics', 'qa', 'ecommerce'], ['apache', 'css', 'ecommerce', 'jquery', 'mysql', 'php', 'html', 'prestashop', 'desarrollo web'], ['android', 'kotlin'], ['erp'], ['sql', 'excel'], ['sql', 'db2'], ['java', 'spring'], ['.net', 'c#'], ['java', 'angularjs'], ['python', 'cplusplus', 'c#'], ['security', 'servicenow'], ['aws', 'cloud'], ['amazon ads', 'google ads'], ['reactjs', '.net', 'angularjs'], ['scrum'], ['ios', 'android', 'windows', 'redes', 'microinformatica'], ['iso', 'sora'], ['javascript', '.net'], ['siem', 'pmp'], ['ios'], ['aws', '.net', 'azure'], ['.net'], ['sql', 'bi', 'etl'], ['marketing', 'software'], ['oracle'], ['toip', 'mdm', 'voip'], ['sql', 'postgresql', 'etl'], ['psim', 'matlab'], ['cplusplus'], ['cisco', 'ipt'], ['cplusplus', 'visual c'], ['sql', 'oracle', 'cloudsql', 'goldengate'], ['microservicios', 'ddd', 'java', 'cloud', 'tdd', 'rest', 'spring'], ['vmware', 'linux', 'windows'], ['.net'], ['nosql', 'oracle', 'pmp'], ['qa', 'testing'], ['aws', 'soap', 'kubernetes', 'git', 'rest'], ['css', 'ajax', 'sql', 'jquery', 'html', 'xhtml', 'javascript', '.net'], ['c#', 'windows server', 'microsoft office', 'visual studio'], ['sql', 'unity', '.net', 'entity'], ['.net'], ['scrum'], ['oracle'], ['jsf', 'struts', 'java', 'hibernate', 'spring'], ['navision'], ['confluence', 'java', 'bitbucket', 'jira'], ['iso', 'iso27000', 'nist'], ['sql server', 'etl'], ['python', 'json ld', 'xml', 'neo4j', 'java', 'sparql', 'nlp', 'cypher'], ['milestone', 'desico', '.net', 'cctv'], ['it strategy'], ['cisa', 'crisc', 'cism', 'cissp'], ['sql', 'oracle', 'sap'], ['it', 'ot'], ['php', 'symfony', 'mysql', 'git'], ['c#', 'wpf', 'microsoft', 'sql server', 'bases de datos', '.net', 'sql microsoft'], ['eclipse', 'sql', 'java', 'maven', 'mysql', 'postgresql', 'spring'], ['java', 'pl/sql', 'shell scripting'], ['marketing', 'magento', 'adobe commerce', 'ecommerce', 'adobe'], ['j2ee', 'microservicios', 'java', 'junit', 'spring'], ['visual basic', 'progress', 'java', 'php', 'c#'], ['dax', 'powerquery', 'bbdd', 'sql', 'power bi'], ['active directory', 'office'], ['java', 'microservicios'], ['sap'], ['qlikview'], ['sql server', '.net'], ['linux', 'ep', 'oracle', 'bw', 'sap', 'po wintel'], ['wintel', 'windows', 'power shall'], ['sap'], ['administracion electronica'], ['scrum', 'kanban', 'itil', 'pmo', 'agile'], ['scrum', 'bpmn', 'kanban', 'itil', 'pmo', 'agile'], ['tcp/ip', 'lan', 'wan', 'azure', 'cisco', '.net'], ['helpdesk'], ['helpdesk'], ['opc', 'plc'], ['java', 'oracle'], ['postman', 'selenium'], ['ssis', 'sql server', 'paas', 'azure', 'cloud', 't sql', 'etl'], ['angularjs'], ['aws', 'apache', 'linux', 'bbdd', 'json', 'api', 'scripting', 'postgresql', 'php', 'css', 'javascript', 'html'], ['redes', 'soporte'], ['bmc', 'unix', 'linux', 'mft', 'sql', 'sap', 'aft'], ['android', 'java', 'jenkins', 'confluence', 'jira', 'kotlin'], ['objective c', 'ios', 'swift'], ['ionic', 'android'], ['dax', 'powerquery', 'bi', 'bbdd', 'o snowflake', 'sql', 'azure', 'modelado', 'synapse', 'power bi'], ['sap', 'fi', 'abap'], ['monitorizacion', 'office 0365', 'soporte', 'service desk', 'windows 10'], ['soporte', 'wifi', 'fortinet', 'redes', 'switching'], ['qa', 'tester'], ['python', 'aws', 'java'], ['sap'], ['microsoft', 'microsoft 365'], ['control m', 'linux', 'networking', 'ticketing'], ['vuejs'], ['jira', 'technical writter'], ['java', 'jsf', 'oracle', 'linux'], ['connect', 'microservicios', 'api', 'java', 'desarrollador', 'programador'], ['ios', 'sharepoint', 'android', 'linux', 'aws', 'ad', 'windows server', 'vmware', 'wlan', 'ldap', 'azure', 'cloud', 'vpn', 'mdm'], ['sql server'], ['java', 'quarkus', 'spring'], ['cobol', 'microfocus', 'cics', 'jes', 'db2'], ['remedy', 'operador', 'asistencia'], ['cypress', 'jmeter', 'postman', 'qa', 'karate', 'selenium', 'cucumber', 'java'], ['java', 'angularjs'], ['windows', 'active directory', 'citrix', 'vmware', 'database', 'firewall', 'cisco'], ['scrum', 'mongo db', 'ingles', 'nodejs', 'testing', 'api', 'sql', 'agile', 'typescript', 'oop'], ['funnels sas', 'sas'], ['c#', '.net', 'api'], ['aws', 'python', 'spark', 'scala', 'data', 'azure'], ['mongodb', 'microservicios', 'java', 'sprinboot', 'kafka'], ['redes', 'ofimatica', 'windows', 'ticketing'], ['sbs', 'swap dealer', 'emir', 'dfa'], ['java', 'pl/sql oracle', 'java 8', 'spring'], ['itil', 'scrum', 'office', 'jira'], ['virtualizacion', 'linux', 'monitorizacion'], ['php', 'prestashop', 'git', 'laravel'], ['ofimatica', 'reporting', 'windows'], ['jira xtray', 'tester'], ['ios', 'microinformatica', 'intune', 'sistemas operativos'], ['linux', 'windows', 'jboss', 'ldap', 'sap', 'apache tomcat', 'jira'], ['reactjs'], ['helpdesk'], ['scrum', 'kanban'], ['qa', 'tester'], ['python'], ['wordpress', 'hosting', 'linux', 'ticketing'], ['.net'], ['rescat'], ['powerapps', 'agile'], ['splunk', 'openshift'], ['microservicios'], ['angularjs'], ['struts', 'java'], ['active directory', 'sql', 'dhcp', 'gpo', 'azure', 'dns'], ['microsoft sql database', 'calidad', 'r', 'kpi', 'excel', 'power bi'], ['java'], ['cplusplus'], ['ptn', 'rtn', 'microondas', 'huawei', 'pmw', 'atn'], ['c#', 'sql server', 'git', 'azure', '.net'], ['java'], ['html', 'laravel', 'javascript', 'css'], ['java', 'spring'], ['angularjs'], ['helpdesk', 'usuarios', 'incidencias'], ['software', 'sistemas operativos', 'active directory', 'moviles', 'hardware', 'microinformatica'], ['html', 'css', 'angularjs'], ['c#', 'visual basic', '.net'], ['java'], ['smartcards', 'servidores', 'vmware', 'windows'], ['testrail', 'testlink', 'postman', 'quality assurance', 'testing', 'selenium', 'testeo unitario'], ['google cloud'], ['sistemas', 'alfresco'], ['sql', 'cplusplus', 'c', 'c#'], ['sql', '.net'], ['pscs', 'telecomunicaciones', 'emfs', 'ptts', 'radioelectricas'], ['symfony', 'bbdd', 'php', 'css', 'oracle', 'html'], ['backup', 'virtualizacion', 'terraform', 'mongodb', 'vmware', 'infraestructura', 'azure'], ['citrix', 'vmware'], ['c#', 'visual basic', 'orm', 'sql', 'javascript', '.net'], ['sql', 'oracle'], ['cobol'], ['java', 'tuxedo'], ['security', 'microsoft 365', 'cloud', 'azure'], ['linux', 'soap', 'angularjs', 'sql', 'java', 'git', 'docker', 'postgresql', 'php', 'spring'], ['sap', 'sum', 'dmo'], ['seo', 'saas', 'chrome', 'ryte'], ['java', 'microservicios'], ['reactjs', 'nodejs', '.net'], ['.net', 'c#', 'wpf'], ['java', 'spring'], ['bi', 'business intelligence'], ['cplusplus', 'c'], ['aws', 'azure'], ['.net'], ['ingenieria'], ['reactjs'], ['word', 'excel', 'power point'], ['pentesting'], ['ncr aloha'], ['autocad', 'bim'], ['terraform', 'ansible', 'devops', 'python', 'elasticsearch', 'prometheus', 'ci/cd', 'vmware', 'jenkins', 'azure', 'openshift', 'kira', 'groovy'], ['2lod', 'bpc', 'operaciones', 'riesgo', 'kri', 'office 365'], ['sql', 'java', 'spring'], ['php', 'java', 'eclipse', 'spring'], ['soporte', 'microinformatica'], ['grafana', 'apache', 'ihs', 'jboss', 'kubernetes', 'tomcat', 'elasticsearch', 'api', 'weblogic', 'ldap', 'jenkins', 'kibana'], ['unity', 'c', 'agile'], ['wpo', 'wordpress', 'jquery', 'mysql', 'php', 'css', 'prestashop', 'html'], ['natural', 'adabas'], ['aws', 'cloud', 'microservicios'], ['java', 'jsf', 'microservicios'], ['nodejs', 'express', 'git', 'sql', 'jquery', 'php', 'javascript'], ['java', 'spring', 'kafka'], ['active directory', 'windows', 'windows server'], ['jpa', 'java', 'maven', 'hibernate', 'rest', 'spring'], ['java'], ['java'], ['angularjs'], ['plsql', 'shell scripting', 'tibco'], ['hp', 'unix', 'linux'], ['ansible', 'devops', 'ci/cd', 'jenkins', 'redhat', 'github'], ['pmp', 'electronica', 'sixsigma', 'pmi'], ['seguridad', 'networking', 'servicedesk', 'redes', 'red'], ['java', 'cobol'], ['.net'], ['reactjs'], ['2g', '5g', 'radio', '3g', '4g'], ['servidores', 'apache', 'linux', 'sistemas operativos', 'sistemas', 'ibm'], ['j2ee', 'java', 'oracle', 'pl sql'], ['solid works', '3d cad'], ['android', 'tester'], ['php', 'laravel'], ['ccna', 'seguridad', 'motorola', 'forcepoint', 'itil', 'redes', 'cisco', 'catalyst', 'pmp', 'juniper'], ['scrum', 'e commerce', 'ecommerce'], ['oracle', 'bbdd'], ['java'], ['microinformatica'], ['java', 'bpm oracle', 'angularjs'], ['linux', 'windows', 'microsoft', 'microsoft 365', 'hyper v', 'vmware', 'azure', 'servidores fisicos onsite en cpd'], ['aws', 'reactjs', 'nodejs', 'angularjs', 'java', 'flutterweb', '.net'], ['aws', 'python', 'lambda', 'spark', 'git', 'scala', 'sql', 'athenea', 'maven', 'jira'], ['aws', 'linux', 'ansible', 'docker', 'windows server', 'ci/cd', 'vmware', 'maven', 'jenkins', 'azure', 'mysql', '.net'], ['it'], ['postgresql', 'bases de datos', 'dba'], ['indesign', 'photoshop', 'ilustrator', 'ui', 'rapid prototyping', 'html', 'ux', 'responsive design'], ['soporte', 'microinformatica'], ['qa', 'tester'], ['project management'], ['cplusplus', 'c#'], ['php', 'javascript'], ['robots', 'plc', 'scada'], ['linux', 'testing'], ['ekon', 'sage', 'helpdesk', 'erp', 'sap', 'programacion'], ['python', 'scala'], ['mainframe', 'migracion', 'cobol cics', 'microfocus enterprise server', 'rexx', 'jes', 'db2'], ['mpls', 'networking', 'cisco'], ['eclipse', 'sql', 'java', 'javascript', 'mysql', 'php', 'oracle'], ['navision', '.net', 'dynamics'], ['reactjs', 'javascript', 'angularjs'], ['sharepoint', 'powerapps', 'dynamics', 'powerplatform', 'javascript', '.net'], ['lan', 'wan', 'ticketing'], ['power bi', 'google analytics'], ['helpdesk', 'soporte'], ['agile', 'jira', 'management 3.0', 'scrum'], ['data', 'azure', 'etl'], ['java', 'spring', 'microservicios'], ['natural', 'adabas'], ['workday'], ['vanilla js', 'javascript'], ['plc'], ['marketing'], ['mcafee endpoint security suite', 'epo', 'ips', 'dlp'], ['jira', 'testlink'], ['html', 'c#', 'sql server'], ['testing'], ['java', 'microservices', 'spring'], ['python'], ['analisis funcional', 'riesgos'], ['weblogic'], ['php', 'symfony'], ['angularjs'], ['linux', 'python', 'ingles', 'shell scripting', 'oracle'], ['redes', 'windows', 'microsoft office'], ['oracle', 'pl/sql'], ['lan', 'rack', 'remedy', 'wifi'], ['sql', 'java', 'oracle'], ['redes', 'comunicaciones'], ['microstrategy'], ['business analyst'], ['aws', 'ci/cd'], ['product manager'], ['abap'], ['redes', 'cisco', 'comunicaciones'], ['redux', 'ngrx', 'angularjs'], ['aws', 'cloud', 'azure'], ['marketing', 'diseno grafico'], ['plone', 'zope'], ['sap'], ['itil', 'agile'], ['lean', 'scrum', 'kanban'], ['linux', 'windows'], ['ciberseguridad'], ['software', 'saas'], ['excel'], ['unix', 'linux'], ['marketing digital', 'e commerce'], ['seo', 'marketing', 'sem'], ['c#', 'css', 'tfs', 'sql server', 'web services', 'jquery', 'dynamics', 'html', 'javascript', '.net'], ['aws'], ['fullstack', 'java', 'pl/sql', 'back'], ['sap'], ['siem'], ['machine learning', 'ml'], ['cisco catalyst', 'routers', 'firewalls', 'wi fi', 'switching'], ['sql', 'data', 'dax'], ['salesforce'], ['marketing'], ['seo', 'sem', 'digital marketing'], ['reactjs', 'javascript', 'webcomponent', 'html5'], ['.net'], ['reactjs', 'typescript'], ['it risk'], ['javascript', 'rest', 'vuejs'], ['java', 'angularjs', 'microservicios'], ['angularjs'], ['php', 'mysql'], ['navision', 'dynamics'], ['sap'], ['active directory', 'redes', 'azure'], ['nodejs', 'vuejs'], ['roku', 'javascript'], ['sql', 'java', 'python', 'c#'], ['microservicios'], ['sql'], ['.net'], ['css', 'reactjs', 'javascript', 'html'], ['ci/cd', 'azure', 'aws'], ['sap'], ['testlink', 'spira test', 'scrum', 'hp alm'], ['.net'], ['agile', 'business analyst'], ['javascript', 'angularjs'], ['microinformatica'], ['unix', 'liferay', 'linux'], ['sql', 'linux'], ['gcp', 'terraform', 'ansible', 'go', 'python', 'kubernetes', 'scripting', 'ci/cd', 'azure'], ['apache spark', 'data', 'azure'], ['autocad', 'sap'], ['crm', 'oracle', 'dynamics'], ['lopd', 'iso 27001', 'gdpr'], ['jsf', 'jpa', 'java', 'hibernate', 'spring'], ['python', 'html', 'sql', 'css'], ['software', 'plc', 'hardware'], ['waterfall', 'agile'], ['it', 'consultoria'], ['python', 'linux', 'ansible', 'docker'], ['sql server'], ['sap'], ['pl/sql'], ['blockchain', 'analisis forense', 'ia', 'sistemas biometricos'], ['php', 'aws', 'laravel'], ['bases de datos', 'lenguaje de marcas', 'programacion'], ['electronica', 'project manager'], ['sql', 'python', '.net', 'dynamics'], ['.net'], ['angularjs'], ['typescript', 'vuejs'], ['intersystems', 'pl/sql', 'cache'], ['drupal', 'magento'], ['html', 'reactjs', 'javascript'], ['as400'], ['b2b'], ['python', 'mysql', 'php', 'html', 'javascript'], ['sql server', '.net'], ['python', 'r', 'power bi', 'matlab'], ['daw', 'asir', 'dam'], ['informatica', 'soporte'], ['linux', 'python', 'cplusplus', 'xml', 'java', 'redhat'], ['paginas web', '3d', 'robotica', 'gaming'], ['mail', 'ci/cd', 'maven', 'jms', 'soap', 'http', 'xml', 'jenkins', 'jdc', 'talend', 'json', 'git', 'datastage', 'sap', 'mulesoft', 'rest', 'soa', 'file', 'api', 'mq', 'rfc'], ['servidores', 'tecnologia ip', 'ddns', 'windows', 'nas', 'nvr', 'smb', 'vps', 'portforwarding', 'firewall', 'macos', 'vpn', 'servicios remotos', 'switching'], ['erp'], ['microsoft', 'linux'], ['program manager'], ['sap'], ['autocad', 'electronica', 'eplan', 'google workspace'], ['diseno funcional'], ['php', 'codeigniter'], ['javascript', 'typescript', 'vuejs'], ['biztalk', 'power bi'], ['.net'], ['sap'], ['aws', 'nodejs'], ['selenium'], ['java', 'windows', 'microinformatica'], ['servicenow'], ['vmware'], ['java'], ['java'], ['power bi', 'power apps'], ['php', 'java', 'python'], ['php', 'drupal'], ['odoo'], ['android'], ['hibernate', 'java', 'spring', 'microservicios'], ['.net'], ['kpi', 'sla'], ['sap'], ['google analytics', 'seo', 'semrush', 'screaming frog'], ['java', 'spring', 'microservicios'], ['aws', 'azure'], ['active directory', 'microsoft 365', 'windows'], ['python', 'java', 'spark', 'kafka'], ['.net'], ['php', 'javascript'], ['java', 'microservicios'], ['lead gen', 'sales', 'presentation skills', 'negotiation'], ['power bi', 'bi', 'microsoft', 'sql server'], ['qa', 'tester'], ['marketing'], ['python', 'aws', 'redhat linux', 'windows'], ['ci/cd', 'agile'], ['java', 'microservicios'], ['itil', 'osi', 'tcp/ip'], ['html', 'reactjs', 'css', 'vuejs'], ['css', 'html5', 'angularjs'], ['marketing'], ['electronica', 'automatica'], ['c#', 'ionic', 'nodejs', 'sql server', 'runtime capacitor', 'api', 'docker', 'typescript', 'visual studio code', 'javascript', '.net', 'entity framework'], ['sql', 'java', 'spring', 'git'], ['python'], ['.net'], ['c#', '.net'], ['java', 'reactjs'], ['crm', 'onestream'], ['sap'], ['marketing', 'excel', 'office'], ['preventa', 'it'], ['java', 'microservicios'], ['java', 'docker', 'spring', 'microservicios'], ['msa', 'fmea', 'apqp'], ['java', 'kafka'], ['spark', 'scala', 'java', 'kafka', 'impala'], ['hibernate', 'java', 'spring'], ['marketing', 'hubspot'], ['sap'], ['itil'], ['pmp'], ['sap'], ['java', 'spring'], ['sap'], ['scala', 'google cloud dataflow', 'spark'], ['visual basic', '.net', 'c#', 'lims'], ['python', 'redes', 'perl'], ['java', 'spring'], ['sql server', '.net', 'c#', 'api'], ['css', 'sql server', 'mysql', 'php', 'html', 'javascript'], ['java'], ['aws', 'reactjs', 'amazon web services', 'typescript', 'redux'], ['php', 'magento'], ['aws', 'google cloud platform', 'jenkins'], ['aws', 'ci/cd'], ['nodejs', 'express'], ['aws', 'devops', 'kubernetes', 'amazon web server', 'docker', 'ci/cd', 'scripting', 'azure', 'kafka'], ['soporte', 'microinformatica'], ['ppm', 'pmp'], ['java', 'microservices'], ['fam', 'gid', 'sailpoint', 'cloud'], ['oracle'], ['.net'], ['python'], ['cloud'], ['java', 'desarrollador', 'oracle', 'developer'], ['bc', 'navision', 'nav', 'dynamics'], ['android', 'sqlserver', '.net', 'azure', 'c#'], ['jasmine', 'nodejs', 'angularjs', 'karma', 'agile'], ['c#', 'azure'], ['graphql', 'rest', 'api'], ['html', 'ux/ui', 'css'], ['qa'], ['reactjs', 'nodejs'], ['java', 'angularjs'], ['devops'], ['java', 'jsf', 'oracle'], ['.net', 'kubernetes', 'sql', 'web service json', 'c#'], ['ci/cd', 'devops'], ['java', 'microservices'], ['aws', 'c#'], ['jefe proyecto', 'sap'], ['workplace', 'dlp'], ['murex'], ['cloud'], ['abap', 'sap'], ['abap', 'btp', 'api', 'bas', 'sap'], ['java', 'spring'], ['bts', 'huawei', 'bbu', 'rru', 'trabajos altura', 'nokia', 'cambio de antenas'], ['telco'], ['5g', 'ericsson', '4g'], ['huawei', 'redes', 'nokia'], ['oracle', 'pl/sql'], ['python', 'vuejs'], ['ionic', 'angularjs'], ['gaming', 'webpack', 'frontend', 'rollup'], ['marketing', 'redes sociales'], ['cyberark', 'pam'], ['pam', 'gid', 'sailpoint'], ['big data'], ['python', 'erp', 'crm', 'odoo'], ['php', 'symfony', 'nodejs', 'angularjs'], ['java', 'spring'], ['sql'], ['python', 'javascrip', 'nodejs', 'php', 'html'], ['openshift'], ['python', 'r', 'big data'], ['java', 'mysql'], ['cyberark', 'pam', 'saas'], ['java', 'spring'], ['rams'], ['cplusplus', 'android', 'c'], ['julia', 'fame', 'big data', 'sas', 'microstrategy', 'power bi'], ['julia', 'fame', 'big data', 'sas', 'microstrategy', 'power bi'], ['julia', 'fame', 'sas', 'data', 'microstrategy', 'power bi'], ['php', 'java', 'hibernate', 'spring'], ['big data', 'data'], ['cyberark', 'pam', 'gid', 'sailpoint'], ['nodejs', 'angularjs'], ['python', 'data', 'spark'], ['java', 'android', 'kotlin'], ['seguros', 'testing'], ['nodejs', 'angularjs'], ['citrix', 'windows', 'sql server', 'azure'], ['dynamics'], ['bi', 'jira'], ['oracle.jet', 'reactjs', 'angularjs'], ['wordpress', 'mockups'], ['java', '.net'], ['scrum', 'bitbucket', 'jira', 'kanban'], ['sql server', '.net'], ['telecomunicaciones', 'excel', 'oceane', 'access', '.net'], ['mdg', 'sap'], ['sql', 'firebase', 'android', 'kotlin'], ['python', 'delphi', 'jquery', 'javascript', '.net'], ['php', 'kubernetes', 'symfony', 'postgresql', 'elasticsearch', 'docker', 'gitlab ci', 'mysql', 'redis', 'message queues'], ['helpdesk'], ['helpdesl', 'it'], ['helpdesk', 'it'], ['java', 'spring'], ['figma', 'ux', 'axure', 'html5'], ['cypress', 'jmeter', 'postman', 'qa', 'karate', 'selenium', 'cucumber', 'java'], ['reactjs', 'git', 'typescript', 'redux', 'css', 'javascript', 'html'], ['principio solid', 'clean code', 'api', 'ddd', 'java', 'arquitectura hexagonal', 'alta disponibilidad'], ['administracion', 'windows', 'telecomunicaciones', 'sql server', 'hyper v', 'sql', 'citrix', 'flexibilidad', 'dns'], ['oracle', 'erp fi'], ['helpdesk', 'active directory', 'azure', 'ticketing'], ['sql', 'sharepoint'], ['python', 'sql', 'data'], ['ciberseguridad'], ['backend', 'frontend'], ['c#', '.net'], ['.net'], ['huawei', 'solar'], ['sap'], ['sap'], ['ci/cd', 'aks', 'cloud', 'azure'], ['seguridad', 'siem'], ['java', 'cplusplus', 'c', 'qt'], ['sap', 'abap'], ['ios', 'android', 'xamarin'], ['cloud', 'azure'], ['grafana', 'ansible', 'python', 'git', 'jenkins'], ['java'], ['scala', 'spark'], ['informatica', 'notion'], ['qradar', 'ciberseguridad'], ['fam', 'gid', 'sailpoint', 'cloud'], ['sap'], ['cplusplus', 'scripts', 'sql', 'postgresql', 'oracle'], ['itsm', 'servicenow'], ['aws', 'azure'], ['postman', 'selenium'], ['j2ee', 'sql', 'java', 'css', 'javascript', 'spring', 'html'], ['pega', 'soap'], ['nextjs', 'reactjs', 'nodejs', 'express'], ['ingles', 'loyalty', 'producto', 'product manager'], ['devops', 'bash', 'json', 'git', 'gitlab', 'shell scripting', 'jenkins', 'azure', 'github'], ['agile', 'jira', 'scrum'], ['jira'], ['soapui', 'gerrit', 'gosu', 'xml', 'intellij idea', 'git', 'java', 'xpath', 'jenkins', 'h2', 'mssql'], ['soapui', 'gerrit', 'gosu', 'xml', 'intellij idea', 'git', 'java', 'xpath', 'jenkins', 'h2', 'mssql'], ['c#', 'r', 'xml', 'git', 'typescript', 'xpath', 'postgresql', 'mssql', 'oracle', '.net'], ['windows', 'active directory', 'citrix', 'vmware', 'database', 'firewall', 'cisco'], ['aws', 'microservicios', 'docker', 'java', 'maven', 'jenkins', 'kafka', 'spring', 'rabbitmq'], ['go', 'kubernetes', 'active directory', 'microservicios', 'git', 'java', 'maven', 'jenkins', 'kafka', 'openshift', 'spring', 'rabbitmq'], ['backup', 'gui', '.net', 'cli'], ['terraform', 'ansible', 'puppet', 'lan', 'wan', 'cisco'], ['php', 'ionic', 'js', 'microservicios'], ['weblogic', 'oracle'], ['unix', 'ansible', 'resto api', 'shell scripting', 'yaml', 'rhel'], ['soporte'], ['soporte'], ['backup'], ['active directory', 'linux', 'windows'], ['ckan', 'python', 'api', 'sparql', 'data', 'web service', 'solr'], ['voip', 'centralitasip', 'redes', 'telefonosip', 'pbx'], ['lan', 'redes', 'seguridad', 'wan'], ['j2ee', 'java', 'sql'], ['aws', 'soporte', 'unix/linux', 'worksplaces'], ['spring', 'angularjs'], ['java', 'microservicios'], ['reactjs', 'javascript', 'nodejs', 'typescript'], ['angularjs', 'jquery', 'jenkins', 'html5', 'confluence', 'css', 'javascript', 'rest', 'jira'], ['sql', 'power bi', 'dax', 'power query'], ['redes'], ['vuejs', 'reactjs', 'angularjs'], ['jdbc', 'pl/sql', 'api', 'sql', 'java', 'data', 'azure', 'oracle', 'agile'], ['ios', 'swift', 'ci fastlane', 'chromecast'], ['reactjs'], ['mongodb', 'microservicios', 'java', 'sprinboot', 'kafka'], ['ios', 'android', 'linux', 'windows', 'office 0365', 'soporte', 'mac'], ['linux', 'windows', 'office 0365', 'cetreon', 'soporte', 'remedy', 'nagios', 'jira'], ['javascript', 'vuejs'], ['redux', 'reactjs'], ['java'], ['soporte', 'microinformatica'], ['java', 'microservicios'], ['terraform', 'azure', 'devops'], ['cobol 400', 'rpg400', 'rpg/400', 'cobol400', 'cobol/400', 'rpg 400'], ['html', 'frontend', 'css'], ['digital', 'crm', 'data', 'ecommerce'], ['aws', 'reactjs', 'nodejs', 'azure', 'javascript'], ['redes', 'windows'], ['python', 'sql', 'selenium', 'qliksense', 'power bi'], ['eks', 'azure'], ['oracle', '.net'], ['bootstrap', '.net', 'webforms', 'jquery', 'postgresql', 'css', 'javascript', 'c#'], ['java'], ['sql', 'ssms', 'tsql', 'server'], ['soporte', 'microinformatica'], ['linux', 'brocade windows sever', 'hp ux', 'hp', 'aix', 'dell', 'oracle', 'emc', 'ibm', '.net'], ['cplusplus'], ['ciberseguridad', 'windows'], ['c#', '.net', 'mysql'], ['azure', '.net', 'api'], ['soporte', 'control m', 'pwd'], ['python', 'bi', 'sql', 'business intelligence', 'hadoop'], ['python'], ['.net'], ['javascript es6', 'css', 'html5', 'sap'], ['scrum', 'suite atlassian', 'agile'], ['apache', 'jboss', 'tomcat', 'middleware', 'red hat'], ['java', 'owcs', 'cms'], ['.net'], ['redes', 'cisco'], ['gcp', 'ciberseguridad'], ['sistemas', 'informatica', 'redes'], ['j2ee', 'solaris', 'jackson', 'angularjs', 'weblogic', 'java', 'hibernate', 'css', 'oracle', 'hmtl5', '.net', 'spring'], ['php', 'green code', 'javascript', 'green it'], ['aws'], ['kubernetes', 'docker'], ['java', 'spring', 'microservicios'], ['routing', 'routers', 'ticketing', 'soporte', 'voip', 'ffth'], ['marketing'], ['salesforce'], ['sql', 'pmp', 'cmmi'], ['java', 'github', 'jenkins', 'mysql'], ['reactjs', 'vuejs'], ['linux', 'nagios', 'gestion incidencias', 'sql', 'scripting', 'vmware', 'shell scripting', 'mysql', 'jira'], ['java', 'agile', 'angularjs'], ['java'], ['.net'], ['angularjs'], ['rocket', 'discovery', 'ocp', 'mesosphere', 'sparta', 'stratio', 'gosec', 'governance', 'command center'], ['c#'], ['reactjs', 'java8', 'sencha', 'angularjs', 'java', 'hibernate', 'kafka', 'oracle', 'spring'], ['jsf', 'angularjs', 'java', 'html', 'javascript', 'spring'], ['rac', 'rman', 'oracle', 'dataguard'], ['indesign', 'photoshop', 'illustrator', 'python', 'canva', 'wordpress', 'office', 'rrss'], ['redes'], ['unix', 'cobol', 'ksh', 'sql', 'oracle', 'db2'], ['digital marketing'], ['python', 'deep learning', 'r', 'machine learning'], ['tic', 'office'], ['javascript', '.net', 'c#', 'azure'], ['ios', 'reactjs', 'android', 'flutter', 'sqliteapis rest', 'git', 'java', 'redux', 'kotlin'], ['java', 'oracle', 'spring'], ['google marketing platform', 'tag manager', 'shopping', 'ppc', 'data studio', 'display', 'optimize', 'cpc', 'search', 'analytics', 'cpa', 'dsp', 'ssp', 'sem', 'cpl', 'dmp'], ['cypress', 'jasmine', 'nodejs', 'qa', 'selenium', 'java', 'javascript', 'tester'], ['unix', 'cobol', 'oracle', 'linux'], ['java', 'mvc', 'spring'], ['angularjs'], ['soap', 'clean code', 'codigo legacy', 'api', 'sql', 'angularjs', 'php', 'css', 'javascript', 'html'], ['cto'], ['helpdesk', 'windows server', 'vmware', 'firewall', 'office 365', 'redes'], ['apache', 'json', 'api', 'scripting', 'postgresql', 'php', 'css', 'javascript', 'html'], ['bootstrap', 'reactjs', 'symfony', 'angularjs', 'git', 'laravel', 'mysql', 'php', 'css', 'javascript'], ['sql', 'api', 'android', 'kotlin'], ['css', 'angularjs', 'typescript', 'html', 'javascript'], ['insigth', 'bi', 'sql', 'agile', 'analytics', 'business performance', 'data', 'stakeholders', 'jira'], ['networking', 'ciberseguridad', 'linux', 'hosting'], ['cobol', 'cics', 'db2'], ['java', 'cobol'], ['devops', 'scrum master', 'git', 'jenkins', 'kanban', 'confluence', 'agile'], ['j2ee', 'scrum', 'devops', 'calidad del software'], ['scm', 'modulos finance', 'dynamics'], ['python', 'linux'], ['prince2', 'scrum', 'slack', 'microsoft project', 'jira', 'pmp'], ['integromat', 'sendgrid', 'microsoft 365', 'power automate', 'moodle', 'dynamics', 'zapier'], ['linux'], ['python', 'c#'], ['erp', 'lms', 'crm', 'microsoft 365', 'moodle', 'dynamics', 'azure'], ['reactjs', '.net', 'nodejs', 'angularjs', 'java', 'css', 'javascript', 'spring', 'html'], ['angularjs'], ['angularjs', 'laravel', 'php', 'css', 'javascript', 'html'], ['calidad', 'qa', 'testing'], ['documentacion funcional', 'analisis'], ['google analytics'], ['.net'], ['java', 'oracle', 'owcs'], ['soporte', 'microinformatica'], ['fullstack', 'c#', 'sql server', 'angularjs', 'azure', 'backend', '.net'], ['jsf', 'jpa', 'angularjs', 'sql', 'java', 'hibernate', 'spring'], ['reactjs', 'angularjs', 'css', 'javascript', 'frontend', 'html'], ['c#', '.net'], ['cobol', 'cics', 'db2'], ['grafana', 'aws', 'terraform', 'devops', 'kubernetes', 'python', 'git', 'docker', 'ci/cd', 'jenkins', 'azure'], ['sql', 'cobol', 'oracle', 'linux'], ['microservicios', 'git', 'java', 'maven', 'mockito', 'junit', 'spring'], ['java', 'maven', 'spring', 'programacion funcional'], ['jpa', 'soap', 'git', 'java', 'maven', 'hibernate', 'oracle', 'rest', 'spring'], ['sql', 'qa', 'alm'], ['nutanix', 'linux', 'windows', 'hiperconvergencia', 'azure'], ['power bi'], ['nexus', 'jboss', 'sonar', 'tomcat', 'java', 'jenkins', 'php', 'oracle', '.net'], ['ms office', 'windows'], ['reactjs'], ['java'], ['data lake', 'python', 'spark', 'sql', 'vsc'], ['office', 'sap'], ['python', 'java', 'sql', 'angularjs'], ['2g', '5g', 'radio', '3g', '4g'], ['java', 'spring', 'absis2'], ['scrum master', 'jira'], ['cobol', 'microfocus', 'cics', 'partenon', 'mq', 'gipih', 'db2'], ['office', 'windows'], ['inventor', 'autocad'], ['wintel', 'hyper v', 'lan', 'vmware', 'wlan', 'vlan'], ['unix', 'cobol'], ['dns', 'cisco', 'dhcp', 'firewalls'], ['drupal', 'jquery', 'mysql', 'php', 'css', 'javascript'], ['apache', 'linux', 'sql server', 'git', 'jquery', 'jenkins', 'soap rest', 'oracle', 'php', 'javascript'], ['data'], ['datastudio', 'power bi'], ['seo', 'sem', 'marketing digital'], ['mantis', 'qa', 'katalon', 'testing'], ['sql', 'c#', '.net', 'vb'], ['python', 'php'], ['marketing'], ['tester', 'qa', 'selenium', 'cucumber', 'agile'], ['microsoft', '.net'], ['javascript', 'angularjs'], ['python', 'bash'], ['devops', 'pl/sql', 'microservicios', 'java', 'azure', 'oracle'], ['soap', 'sql oracle', 'xml', 'angularjs', 'api', 'java', '.net', 'xsl'], ['qa', 'tester'], ['visual studio', 'sql', 'data', 'javascript', '.net'], ['python', 'aws'], ['gcp', 'apache airflow', 'data'], ['sql', 'oracle', 'pl/sql'], ['unix', 'linux'], ['helpdesk', 'soporte'], ['j2ee', 'maven', 'db2', 'jpa', 'sonar', 'angularjs', 'openshift', 'oracle', 'spring', 'reactjs', 'hibernate', 'rest', 'tomcat', 'eclipse', 'was', 'java', 'jquery', 'cloud', 'kafka', 'javascript'], ['salesforce'], ['postgresql', 'java'], ['cyberark', 'pam', 'cloud', 'saas'], ['jdbc', 'api', 'sql/plsql', 'data', 'azure', 'oracle', 'mdm'], ['analytics', 'data'], ['cobol', 'db2', 'jcl'], ['sql', 'qa', 'tester', 'alm'], ['sql', 'java', 'typescript', 'css', 'javascript', 'html'], ['crm', 'mba', 'sap', 'itil', 'pmo'], ['reactjs', 'mongo db', 'elastic search', 'git', 'laravel', 'mysql', 'php', 'javascript'], ['php', 'prestashop'], ['java', '.net'], ['active directory', 'sccm', 'exchange', 'wintel'], ['oracle', 'pl/sql'], ['analisis it', 'agile'], ['batch', 'big data'], ['itil', 'pmp'], ['unirx', 'webgl', 'unity', 'xr'], ['aws', 'cloud', 'azure'], ['angularjs'], ['ci/cd', 'spark'], ['reactjs', 'nodejs', 'angularjs', 'javascript', 'rest', '.net'], ['sql', 'java', 'hibernate'], ['oracle', 'linux'], ['windows', 'ticketing', 'soporte', 'itil', 'microinformatica'], ['elk', 'json', 'api', 'java', 'mysql', 'spring'], ['.net', 'docker'], ['javascript', 'nodejs', 'vuejs'], ['php', 'laravel', 'symfony'], ['j2ee', 'java', 'spring'], ['linux', 'windows'], ['ecommerce', 'scrum', 'api'], ['html', 'javascript', 'typescript', 'css'], ['nodejs'], ['java', 'vuejs'], ['pl/sql', '.net'], ['data science', 'python', 'natural', 'big data', 'inteligencia artificial', 'nlp'], ['cobol'], ['microservicios', 'sql', 'java', 'sprinboot', 'junit', 'spring'], ['abap'], ['scrum', 'ingles', 'java', 'oracle', 'agile'], ['distribuidos', 'middleware', 'app web'], ['spring', 'jenkins', 'cloud', 'microservicios'], ['kubernetes', 'azure', 'openshift'], ['virtualizacion', 'ticketing'], ['aws', 'visual basic', 'docker', 'sql', 'cucumber', 'nunit', '.net', 'tibco'], ['xml', 'microservicios', 'sql', 'java', 'css', 'rest', 'spring'], ['datascience', 'ia'], ['php', 'java', '.net'], ['ios', 'android', 'hardware', 'sistemas operativos'], ['serverless', 'terraform', 'jenkins', 'devops'], ['apple', 'windows'], ['seo', 'sem'], ['html', 'javascript', 'css', 'angularjs'], ['python', 'nodejs', 'mysql', 'php', 'css', 'javascript', 'html'], ['python', 'vuejs', 'css', 'javascript', 'flask'], ['soapui', 'testlink', 'python', 'qa', 'git', 'sql', 'selenium', 'cucumber', 'jenkins', 'jira'], ['php', 'sevidores', 'linux'], ['reactjs', 'c#', 'angularjs', 'vuejs', 'javascript', '.net'], ['sql', 'excel', 'sas'], ['active directory', 'sql', 'dhcp', 'gpo', 'azure', 'dns'], ['python'], ['python', 'rest', 'soap', 'api'], ['active directory', 'windows'], ['helpdesk', 'active directory', 'windows'], ['ciberseguridad', 'linux', 'windows'], ['active directory', 'software', 'office', 'hardware'], ['terraform', 'veeam backup', 'go', 'python', 'ansible', 'elk', 'cp/ip', 'puppet', 'dhcp', 'shell scripting', 'dns', 'recovery', 'splunk'], ['ms office o365', '.net', 'sql server', 'microsoft visual studio', 'c#'], ['java', 'bases de datos', 'arquitectura', 'gestion desarrollo de software', 'agile'], ['soap', 'delphi', 'json', 'middleware', 'xml', 'api', 'java', 'vb', 'oracle'], ['microstrategy'], ['sap'], ['service manager', 'microsoft system center'], ['sensores', 'rf', 'vhdl'], ['ionic', 'javascript', 'angularjs'], ['citrix', 'soporte'], ['software', 'erp', 'implantacion', 'atlassian', 'itil', 'jira', 'consultoria', 'istqb'], ['unix', 'administracion', 'linux', 'seguridad', 'hp ux', 'sistemas', 'redhat'], ['helpdesk', 'microinformatica'], ['scrum', 'nodejs', 'angularjs', 'typescript', 'confluence', 'jira', 'javascript', 'agile'], ['cloud'], ['reactjs', 'javascript', 'typescript'], ['storage'], ['oracle', 'pl/sql'], ['redes', 'informatica', 'microinformatica'], ['aws', 'cloud'], ['virtualizacion', 'linux', 'monitorizacion'], ['aws', 'linux'], ['linux', 'git', 'wordpress', 'mysql', 'php', 'javascript'], ['ios', 'android', 'cplusplus', 'kotlin'], ['aws', 'cloud'], ['cau', 'sistemas', 'atencion a usuarios'], ['san', 'linux', 'windows', 'hyper v', 'nfs', 'vmware', 'azure', 'iscsi'], ['redes', 'seguridad'], ['delphi', 'linux', 'windows'], ['redes'], ['bc', 'al', 'nav', 'navision', 'dynamics'], ['java', 'oracle', 'spring'], ['procurve', 'cisco', 'aruba'], ['cplusplus', 'c', 'drivers'], ['reactjs', 'c#', 'visual studio', 'mvc', 'sql server', 'linq', '.net'], ['cplusplus', 'scripts', 'sql', 'postgresql', 'oracle'], ['javascritp', 'postman', 'qa', 'selenium', 'tester'], ['oracle', 'mysql'], ['aws'], ['python', 'java', 'iot', 'ia', 'cloudera', 'hadoop'], ['simulink', 'hw', 'vhdl', 'matlab'], ['api', 'microservicios'], ['cplusplus', 'api'], ['java', 'spring'], ['java', 'banca', 'spring', 'microservicios'], ['redes', 'sistemas'], ['linux', 'tcp/ip', 'cplusplus', 'mysql', 'postgresql', 'oracle'], ['ci cd', 'administracion', 'devops', 'git', 'scripting', 'sistemas'], ['redes', 'cisco', 'palo alto', 'fortinet'], ['sqlserver', 'kubernetes', 'mongdb', 'docker', 'java', 'mysql', 'oracle', 'spring'], ['css', 'prestashop', 'javascript', 'woocommerce', 'html', 'magento'], ['php', 'laravel', 'symfony', 'moodle'], ['java'], ['informatica', 'soporte tecnico'], ['webpack', 'reactjs', 'scrum', 'angularjs', 'git', 'typescript', 'jenkins', 'vuejs', 'confluence', 'javascript'], ['ios', 'mvp', 'mvvm'], ['java', 'nodejs', 'agile', '.net'], ['odi', 'pl/sql', 'oracle', 'qlik', 'obiee'], ['visual basic', 'sql', 'web api', 'windows forms', 'webservices', 'web forms', 'javascript', '.net'], ['java', 'api'], ['metologia agile', 'nodejs', 'angularjs', 'sass', 'git', 'typescript', 'bff', 'jenkins', 'confluence', 'css', 'tdd', 'html'], ['scrum', 'gestion', 'nodejs', 'angularjs', 'java', 'spring'], ['unix', 'pl/sql'], ['java', 'liferay'], ['lan', 'wan', 'infraestructura', 'arquitectura', 'redes', 'cisco'], ['unix', 'linux', 'python', 'bash', 'mysql', 'postgresql', 'oracle'], ['php', 'drupal'], ['lo vc', 'sap'], ['instalacion', 'maquetado', 'soporte'], ['telecomunicaciones'], ['devops'], ['java', 'maven', 'java swing', 'postgresql', 'oracle', 'spring'], ['test unitarios', 'mongodb', 'kubernetes', 'test end to end', 'nodejs', 'docker', 'microservicios', 'typescript', 'azure', 'test integracion', 'tdd', 'graphql', 'jira', 'metodologias agile'], ['python', 'spark', 'data', 'azure', 'nlp'], ['sql server', '.net', 'powerbuilder'], ['python', 'ekl', 'yaml'], ['marketing', 'google tag manager', 'tag manager', 'ga4', 'google analytics', 'google'], ['capacitador', 'tic', 'ofimaticas'], ['plc', 'rockwell', 'hmi', 'omron', 'scada', 'siemens'], ['java', 'jenkins', 'spring', 'git'], ['android', 'scrum', 'kotlin', 'git'], ['java', 'arquitectura hexagonal', 'cloud', 'microservicios'], ['active directory', 'microsoft'], ['reactjs', 'scrum', 'angularjs', 'vuejs', 'frontend'], ['aws', 'api', 'docker', 'java', 'sprinboot', 'microservicios', 'solid', 'spring'], ['fpga', 'matlab', 'dsp', 'datalinks', 'microprocesadores'], ['nosql', 'nodejs', 'nestjs', 'sql', 'arquitecturas serverless'], ['pmp'], ['plsql', 'jsp', 'rmi', 'java', 'css', 'javascript'], ['kubernetes', 'openshift'], ['software', 'hardware', 'microinformatica'], ['reactjs', 'symfony', 'angularjs', 'php', 'javascript'], ['sql', 'android', 'sqlite'], ['helpdesk', 'office'], ['laravel', 'php', 'css', 'javascript', 'html'], ['cplusplus', 'ada'], ['office'], ['sql server', '.net', 'c#'], ['redes', 'seguridad', 'firewall'], ['java', 'abap', 'sap'], ['testerail', 'mongodb', 'testlink', 'qa', 'xray'], ['java', 'spring'], ['sql', 'java', 'angularjs'], ['microstrategy business intelligence', 'sas'], ['sccm', 'active directory', 'windows'], ['swagger', 'raml', 'j2ee', 'api', 'blueprint'], ['java', 'spring', 'microservicios'], ['helpdesk', 'hermes', 'vocalcom', 'contact center', 'inconcert'], ['sql', 'sas'], ['hibernate', 'java', 'oracle', 'spring'], ['javascript', 'angularjs'], ['tic', 'lms', 'formacion'], ['.net'], ['java', 'pruebas', 'microservicios', 'api'], ['microservicios', 'sql', 'java', 'oracle sql', 'spring'], ['microsoft', 'opensource'], ['java', 'spring', 'microservicios'], ['terraform', 'devops', 'architect', 'arquitecto', 'azure'], ['sql', 'java', 'front end', 'angularjs'], ['aws', 'flutter', 'python', 'nodejs', 'bbdd', 'testing', 'api', 'angularjs', 'postgresql'], ['weblogic', 'middleware'], ['c#', '.net'], ['linux', 'j2ee', 'java', 'mysql', 'postgresql', 'spring'], ['servicenow'], ['unix', 'filezilla', 'balanceadores', 'exadata', 'weblogic', 'dynatrace', 'dhcp', 'vpn', 'dns', 'oracle'], ['java', 'kubernetes'], ['administracion', 'bbdd'], ['powerbuilder'], ['scrum', 'mockito', 'microservicios', 'java', 'jenkins', 'junit', 'spring', 'rabbitmq'], ['.net', 'razor', 'mvc', 'angularjs', 'typescript', 'web api', 'c#'], ['java', 'software', 'agile'], ['java', 'software', 'agile'], ['macintosh', 'soporte', 'linux', 'windows'], ['python', 'linux', 'windows', 'ansible'], ['angularjs'], ['big data'], ['mac', 'ciberseguridad', 'linux', 'windows'], ['cics db2', 'cobol'], ['python'], ['aws', 'artificial intelligence', 'azure', 'iot'], ['seo', 'sem'], ['sap'], ['redes', 'routers', 'vlan', 'switches'], ['sql', 'linux'], ['php', 'laravel'], ['microsoft excel', 'mrp'], ['blazor', '.net'], ['zynq', 'fpga', 'xilinx'], ['roadmap'], ['linux', 'jira'], ['gestion de procesos'], ['linux', 'windows'], ['sql', 'python', 'no sql'], ['scrum', 'kanban'], ['salesforce'], ['android', 'kotlin'], ['iso'], ['electronica', 'informatica'], ['telecomunicaciones', 'software'], ['java', 'microservices', 'api'], ['ws', 'mvc', '.net', 'wpf'], ['electronica'], ['project manager', 'pmp'], ['mecanica'], ['ci/cd', 'sonarqube', 'jenkins', 'devops'], ['sql', 'redes'], ['virtualizacion', 'linux'], ['altium', 'hardware'], ['python', 'java', 'machine learning', 'scala'], ['aws', 'data', 'etl'], ['sql', 'java', 'javascript', '.net'], ['scala', 'spark', 'hadoop'], ['electronica', 'automatizacion'], ['salesforce'], ['reactjs', 'nextjs', 'nodejs', 'typescript', 'redux', 'html'], ['it architecture'], ['soap', 'python', 'nosql', 'sql', 'rest'], ['qa', 'testing'], ['marketing'], ['java', 'oracle', 'pl/sql'], ['consultoria digital'], ['php', 'mysql', 'magento'], ['microsoft'], ['reactjs'], ['agile', '.net'], ['soap', 'mqseries', 'testing', 'angularjs', 'microservicios', 'java', 'selenium', 'html5', 'junit', 'css', 'jms', 'javascript', 'rest', 'jira'], ['marketing', 'email marketing', 'newsletter', 'rrss'], ['solidworks'], ['php', 'magento'], ['solidworks', 'proengineer', 'autocad'], ['apache', 'json', 'api', 'scripting', 'postgresql', 'php', 'css', 'javascript', 'html'], ['lan', 'wan', 'tcp/ip', 'firewall'], ['windows'], ['dynamics'], ['abap', 'sap'], ['python', 'r'], ['java'], ['sistemas', 'cloud'], ['electronica'], ['java', 'spring'], ['adobe photoshop', 'salesforce', 'wordpress', 'google analytics'], ['bi', 'navision'], ['sql', 'erp', '.net'], ['pmp', 'scrum', 'pmi'], ['project manager'], ['pv syst', 'pvsol', 'autocad'], ['marketing'], ['hibernate', 'java', 'spring'], ['php', '.net'], ['marketing'], ['ekon', 'sage', 'erp', 'sap', 'programacion'], ['soporte', 'microinformatica'], ['scala', 'java'], ['typescript', 'angularjs'], ['transformacion digital'], ['scala', 'elasticsearch', 'spark', 'hadoop'], ['java', 'oracle', 'spring'], ['ciberseguridad'], ['.net', 'angularjs'], ['ericsson', 'sia'], ['infoarchive'], ['wordpress', 'moodle', 'php', 'css', 'javascript', 'html'], ['aws', 'azure'], ['lan', 'wan', 'itil', 'service now', 'microsoft office suite'], ['catia v5'], ['windward'], ['javascrip', 'java', 'hibernate', 'php', 'jsp', 'sql phyton'], ['css', 'javascript', 'html'], ['research', '.net'], ['markets', 'murex dev', 'murex', 'cplusplus', 'xml', 'java'], ['sql', 'oracle', 'powerbuilder'], ['oracle rac', 'oracle', 'exadata'], ['murex', 'calypso', 'fi flow'], ['unix', 'linux', 'pl/sql', 'sql', 'tibco'], ['java', 'nodejs', 'agile', '.net'], ['msql', '.net', 'mvc', 'angularjs', 'azure', 'c#'], ['reactjs', 'nodejs', 'angularjs', 'vuejs', 'javascript'], ['java'], ['java', 'spring'], ['ios', 'android', 'ionic', 'objective c', 'java', 'kotlin'], ['redux', 'reactjs'], ['webservices', '.net', 'c#', 'dynamics'], ['crm', 'azure', 'dynamics', 'javascript', '.net'], ['j2ee', 'java'], ['tic', 'ciberseguridad', 'big data', 'iot'], ['javascript', '.net', 'jquery'], ['mongodb', 'sql', 'scala', 'spark streaming', 'kafka streams'], ['data', 'azure'], ['eclipse', 'sql', 'java', 'maven', 'hibernate', 'swing', 'spring'], ['aws', 'azure', 'devops', 'cloud'], ['linux', 'red hat'], ['shell scripting', 'azure'], ['linux', 'red hat'], ['aws', 'cloud', 'azure'], ['ws', 'api', 'jquery', 'mysql', 'php', 'html', 'javascript'], ['sql', 'unix', 'cobol', 'oracle'], ['power bi', 'power apps', 'power automate', 'power platform'], ['helpdesk', 'usuarios', 'incidencias'], ['calidad'], ['scala', 'java', 'python', 'spark'], ['transac sql', 'reactjs', 'microservicios', 'java', 'pl sql', 'spring'], ['modelo orm', 'c#', 'xml', 'ms sql server', 'sql', 'javascript', 'entity framework 6', 'xslsq', 'html', 'tecnologia ajax', '.net'], ['cloud', 'microservicios'], ['c#', 'vb6', 'sql server', 'crystal reports'], ['cplusplus', 'c'], ['php', 'html', 'js', 'css'], ['pl/sql'], ['devops', 'kubernetes', 'cd', 'middleware', 'ci', 'redhat'], ['nsx t', 'cisco nexus lan', 'vcenter', 'vmware', 'vsan', 'esxi'], ['t sql', '.net'], ['java', 'spring'], ['remedy'], ['big query', 'google cloud'], ['azure'], ['bpc', 'sap', 'abap'], ['symfony', 'lamp', 'mysql', 'php', 'javascript'], ['google tag manager', 'google data studio', 'google analytics'], ['hp', 'unix', 'linux'], ['reactjs', '.net', 'angularjs'], ['maquetacion', 'soporte', 'windows'], ['symfony', 'jsp', 'java', 'laravel', 'openshift', 'kafka', 'spring'], ['scrum master', 'squad'], ['aws', 'azure'], ['php', 'drupal'], ['host', 'pl1'], ['ldap', 'azure'], ['data', 'azure'], ['rpg', 'as400'], ['.net', 'angularjs'], ['i+d+i', 'i+d'], ['cype', 'autocad'], ['sharepoint', 'office 365'], ['networking', 'windows'], ['java', 'typescript'], ['firmware', 'c'], ['redes', 'informatica', 'soporte tecnico'], ['.net', 'c#'], ['unix', 'cobol', 'db2/ims', 'jcl', 'pli'], ['virtualizacion', 'nutanix', 'windows', 'wintel', 'citrix'], ['mongodb', 'java', 'hibernate', 'openshift', 'kafka', 'spring'], ['typescript', 'nodejs', 'vuejs'], ['reactjs', 'devops', 'python', 'google cloud', 'java', 'vuejs', 'agile'], ['rxjs', 'angularjs', 'javascript es6', 'akita', 'ngrx', 'typescript', 'css', 'redux ngxs'], ['hosting', 'uml', 'negociacion'], ['powercenter', 'spark', 'tableau', 'scala', 'java', 'power bi'], ['pl/sql'], ['sql', 'pl/sql'], ['aws', 'kubernetes', 'nodejs', 'nosqls', 'git', 'typescript', 'mysql', 'javascript', 'rest', 'jira'], ['php', 'laravel'], ['cisco', 'ciberseguridad'], ['css', 'html5', 'angularjs'], ['angularjs'], ['sql', 'java', 'mybatis', 'spring'], ['linux', 'jboss', 'python', 'bash', 'nginx', 'azuew'], ['apache', 'linux', 'windows', 'iis', 'docker', 'sql', 'asterisk', 'voip'], ['php', 'java', '.net'], ['redes', 'windows', 'ticketing'], ['unix', 'cobol'], ['cplusplus', 'c', 'sql', 'vb', '.net'], ['fi', 'co', 'sap'], ['reactjs'], ['word', 'ofimatica', 'excel'], ['team working', 'mainframe', 'functional analisys'], ['python', 'teamcity', 'qa', 'jenkins'], ['java', 'plsql', 'shell scripting'], ['ci/cd', 'devops', 'azure'], ['cplusplus', 'c'], ['jsf', 'jee', 'ingles', 'java', 'postgresql', 'oracle'], ['microsoft'], ['.net'], ['angularjs'], ['reactjs', 'octupus', 'jenkins', 'rest api', 'principios solid', 'patrones de diseno', 'oracle', 'sqlite'], ['python', 'aws'], ['genesys', 'json'], ['qa', 'testing'], ['java', 'spring'], ['marketing digital'], ['autocad'], ['javascript', 'typescript', 'nodejs'], ['linux', 'windows', 'active directory', 'ms exchange', 'vmware', 'wlan', 'vpn'], ['angularjs'], ['comercial', 'aapp', 'tic', 'ventas'], ['soporte', 'microinformatica'], ['ios', 'android'], ['java', 'javascript'], ['sap'], ['java', 'spring'], ['oracle', 'mysql'], ['symfony', 'git', 'sql', 'jquery', 'php', 'javascript'], ['aws', 'terraform', 'devops', 'docker', 'java'], ['linux', 'scrum', 'sql', 'java', 'agile'], ['software', 'reactjs'], ['java', 'spring'], ['linux', 'cloud', 'kubernetes'], ['reactjs', 'devops', 'api'], ['unix', 'linux', 'veeam', 'commvault', '.net'], ['ios', 'android', 'flutter'], ['scala', 'big data', 'spark'], ['doors', 'jira', 'satcom', 'git'], ['java', 'scrum', 'c#'], ['python', 'r'], ['malware', 'tread hunting', 'ciberseguridad', 'ciberinteligencia'], ['grafana', 'python', 'nagios', 'prometheus', 'kibana'], ['reactjs', 'flutter', 'python', 'js', 'css', 'html'], ['telco', 'autocad'], ['iso 27001', 'seguridad', 'sgsi'], ['python', 'bi', 'spark', 'scala', 'java', 'sql', 'data', 'databricks'], ['remedy', 'elasticksearch', 'confluence', 'jira', 'kibana'], ['spring', 'angularjs'], ['java', 'frances', 'hibernate', 'spring'], ['vuejs', 'reactjs', 'angularjs'], ['cplusplus', 'c', 'sistemas embebidos'], ['servicios web', 'pl/sql', 'sql', 'java', 'oracle', 'css', 'javascript', 'html'], ['cplusplus', 'rtos'], ['reactjs', 'devops', 'redux', 'laravel', 'typescript', 'php', 'javascript'], ['iso 27001', 'power bi', 'ciberseguridad'], ['lan', 'soporte', 'wan'], ['testrail', 'testlink', 'postman', 'quality assurance', 'qa', 'testing', 'selenium', 'testeo unitario'], ['microservicios'], ['sql', 'c#', '.net', 'angularjs'], ['devops', 'cloud'], ['c#', '.net'], ['clean code', 'java', 'testing', 'microservicios'], ['impresoras', 'telefonia ip', 'etc', 'microinformatica'], ['oracle erp', 'oracle'], ['microinformatica'], ['angularjs', 'microservicios', 'java', 'oracle', 'spring', '.net'], ['ciberseguridad'], ['tic', 'ti', 'it', 'pmo', 'project management'], ['vba', '.net', 'c#'], ['tester'], ['bbdd', 'angularjs', 'java', 'spring', 'c#'], ['java'], ['cordova', 'capacitor', 'ionic', 'git', 'jenkins', 'confluence', 'jira'], ['nas', 'san', 'linux', 'windows'], ['java', 'javascript'], ['npd', 'nodejs', 'angularjs', 'java', 'hibernate', 'microprofile', 'jakarta'], ['aws', 'python', 'docker', 'typecript', 'cloud', 'cdk'], ['aws', 'lider', 'datadog', 'java', 'dynatrace', 'leader', 'github', 'spring', 'arquitect'], ['linux', 'windows', 'office', 'redes', 'oracle'], ['ciberseguridad', 'linux'], ['software', 'embebido'], ['aws', 'postresql', 'git', 'laravel', 'vuejs', 'php'], ['java', 'spring'], ['java', 'reactjs', 'nodejs', 'vuejs'], ['java', 'linux', 'spring'], ['dns', 'linux', 'ldap'], ['linux', 'windows', '.net', 'hyper v'], ['huawei', 'isdp'], ['j2ee', 'cmmi dev', 'soa', '.net'], ['gcp', 'filestore', 'google cloud', 'cloud', 'azure'], ['windows'], ['.net'], ['python', 'r', 'machine learning'], ['criptografia', 'ciberseguridad'], ['python', 'java'], ['scrum'], ['aws', 'azure'], ['software', 'hardware'], ['ciberseguridad'], ['oscp'], ['javascript', 'angularjs'], ['docker', 'testing', 'microservicios'], ['ciberseguridad', 'secops'], ['java', 'reactjs', '.net'], ['linux', 'windows'], ['ssas', 'ssis', 'bi', 'microsoft'], ['pl/sql', 'billing', 'tickets'], ['cplusplus', 'powerapp', 'java', 'power automate', 'moodle', 'vb'], ['oracle'], ['.net'], ['ps', 'fips', 'co', 'sap'], ['veeam backup', 'active directory', 'microsoft 365', 'aruba', 'fortinet', 'azure', 'windows defender'], ['ciberseguridad', 'word', 'power point', 'excel', 'outlook'], ['java', 'oracle', 'spring'], ['less', 'css', 'symfony', 'drupal', 'ajax', 'docker', 'sass', 'git', 'jquery', 'html5', 'jenkins', 'mysql', 'php', 'azure', 'javascript'], ['aws', 'cloud'], ['2lod', 'bpc', 'operaciones', 'riesgo', 'kri', 'office 365'], ['sistemas', 'soporte', 'incidencias', 'microinformatica'], ['aws', 'exchange server', 'teletrabajo', 'sistemas escritorio', 'sistemas operativos', 'soporte', 'sistemas servidor', 'sql server', 'azure', 'vpn', 'microinformatica'], ['altium', 'electronica'], ['python'], ['php', 'symfony'], ['linux', 'jenkins', 'azure'], ['microsoft sql', 'sage'], ['c#', '.net'], ['linux', 'ccna', 'microsoft', 'java', 'cisco'], ['reactjs', 'javascript', 'angularjs', 'vuejs'], ['lan', 'networking'], ['java'], ['.net', 'css', 'apache cordova', 'sql server', 'jquery', 'vb', 'php', 'html', 'javascript', 'phonegap', 'c#'], ['sql', 'devops', '.net', 'api'], ['java', 'maven', 'jenkins', 'git'], ['redes', 'soporte', 'windows'], ['java', 'liferay'], ['java'], ['cypress', 'c#', 'postman', 'testcafe', 'selenium', '.net'], ['java', 'spring', 'angularjs'], ['.net', 'angularjs', 'sql', 'git', 'jenkins', 'c#'], ['java', 'android', 'json', 'kotlin'], ['mobile ran', 'ip', 'wdm/otn', 'wifi', 'converged voice ims', 'iptv'], ['java', 'reactjs'], ['java', 'spring'], ['indesign', 'photoshop', 'ilustrator', 'css', 'javascript', 'html'], ['consultora', 'consultor', 'scm', 'sap'], ['consultora', 'consultor', 'sap'], ['confluence', 'spark', 'scala', 'sql', 'data', 'kafka', 'cloudera', 'jira'], ['linux', 'testing'], ['seguridad', 'mcafee', 'firewall'], ['labview'], ['tuxedo'], ['seguridad', 'networking', 'servicedesk', 'redes', 'red'], ['reactjs', 'scrum', 'angularjs', 'java', 'azure'], ['electronica'], ['electronica'], ['c#', '.net'], ['beckhoff', 'kuka', 'plc', 'ethercat'], ['wordpress', 'javascript'], ['android', 'kotlin'], ['sql server', '.net'], ['redes'], ['java', 'angularjs'], ['machine learning', 'data'], ['soa', 'java', 'rest'], ['cplusplus'], ['seo', 'marketing', 'sem'], ['php'], ['reactjs', 'vuejs'], ['soporte', 'microinformatica'], ['linux', 'windows server'], ['murex'], ['c#', '.net'], ['electronica', 'solidworks', 'c', 'plc'], ['comex', 'cobol'], ['php', 'reactjs'], ['security', 'cybersecurity'], ['docker', 'kubernetes'], ['c#', '.net'], ['cad 3d', 'adobe'], ['java', 'spring'], ['ios', 'swift'], ['power bi', 'sql server'], ['solidworks', 'autocad'], ['big data'], ['marketing', 'photoshop'], ['lean'], ['google cloud', 'terraform'], ['dynamics'], ['erp', 'crm'], ['oracle'], ['cplusplus', 'c'], ['erp oracle'], ['sistemas', 'doors', 'ils'], ['java'], ['php', 'laravel'], ['selenium', 'qa'], ['json', 'rest', 'api'], ['sap'], ['vuejs'], ['marketing digital', 'office'], ['dynamics'], ['data', 'sdms'], ['reactjs'], ['java', 'spring'], ['analisis funcional'], ['solidworks'], ['xml', 'sage'], ['navision', 'dynamics'], ['python', 'r'], ['cybersecurity'], ['it manager', 'microinformatica'], ['java', 'spring'], ['sap'], ['cots', 'office'], ['devops'], ['marketing'], ['marketing digital'], ['ciberseguridad', 'margerit pilar'], ['python', 'machine learning'], ['java'], ['aws', 'reactjs', 'nodejs', 'typescript', 'postgresql'], ['java', 'typescript', 'spring', 'kotlin'], ['css', 'javascript', 'typescript', 'html'], ['sap'], ['java', 'spring'], ['redes', '.net'], ['electronica', 'tia portal', 'cplusplus', 'eplan'], ['bi', 'sql server'], ['big data'], ['python', 'java', 'linux'], ['odoo', 'sap'], ['oracle', 'pl/sql'], ['redes', 'cisco', 'juniper'], ['scrum'], ['php', 'sql'], ['test', 'autosar'], ['windows server', 'hyper v', 'itil', 'agile', 'pmp'], ['python', 'cplusplus', 'c', 'matlab'], ['python', 'java', 'cplusplus'], ['ionic'], ['testing', 'microservicios'], ['growth', 'marketing digital', 'ecommerce'], ['angularjs'], ['hyperlynx', 'ltspice'], ['itil', 'azure'], ['c#', 'wpf'], ['qa', 'c#'], ['aws'], ['sistemas', 'hardware'], ['sql', 'power bi'], ['software', 'telecomunicaciones', 'ml', 'satcom', 'ai'], ['cyber security', 'sap'], ['.net', 'visual studio', 'git', 'sql', 'linq', 'c#'], ['informatico', 'redes', 'soporte tecnico'], ['java', 'pl/sql oracle', 'java 8', 'spring'], ['soporte', 'remedy', 'linux'], ['servomotores', 'plc', 'cplusplus', 'visual basic', 'c', 'html5', 'cnc'], ['marketing', 'instagram', 'linkedin', 'twitter', 'facebook', 'sap', 'web'], ['ciberseguridad'], ['reactjs', 'angularjs'], ['mikrotik', 'redes'], ['js css', 'linux', 'python', 'wordpress', 'php', 'prestashop'], ['sap'], ['itil', 'sap'], ['python', 'java', 'scripting'], ['sql', 'java', 'jenkins', 'spring'], ['enterprise architect', 'uml'], ['docker', 'java', 'jenkins', 'kafka', 'spring', 'kotlin'], ['reactjs', 'git', 'java', 'oracle', 'spring'], ['sql', 'cplusplus', 'visual basic', 'c'], ['argus', 'fluke'], ['windows', 'seguridad', 'exchange', 'sistemas', 'networking', 'cyberark'], ['radares', 'soporte'], ['siem', 'waf', 'av', 'seguridad', 'edr', 'dlp'], ['scrum', 'microservicios'], ['salesforce', 'java', 'reactjs', 'sap'], ['sharepoint', 'teams', 'office 365', 'exchange'], ['aws', 'cypress', 'java', 'junit', 'javascript'], ['active directory', 'terraform', 'azure'], ['oracle'], ['oracle'], ['python', 'java', 'oracle'], ['ransonware', 'vulnerabilidades', 'ciberseguridad'], ['linux', 'python', 'ingles', 'shell scripting', 'oracle'], ['routers', 'teldat', 'cisco'], ['backup', 'unix', 'linux', 'centos', 'redhat', '.net'], ['soporte', 'seguridad'], ['css', 'angularjs', 'sap', 'html', 'c#'], ['cognos', 'odi', 'python', 'powercenter', 'big data', 'java', 'cloud', 'tableau'], ['qlik', 'power bi', 'data services', 'tableau'], ['python', 'c', 'spark', 'scala', 'java'], ['mobile', 'qa', 'testing', 'selenium', 'tester'], ['salesforce', 'marketing', 'cloud'], ['linux', 'python', 'cplusplus', 'c', 'scripting'], ['hardware software.', 'nsx t', 'hardware', 'api', 'vrealize', 'vmware', 'cloud foundation', 'microsoft windows server', 'cdp'], ['c#', '.net'], ['azure'], ['fastreports', 'delphi', 'plsql', 'ingles'], ['low code', 'appian'], ['active directory', 'ticketing'], ['blueprism', 'uipath'], ['ssis', 'power bi', 'ssas', 'ssrs'], ['aws', 'terraform', 'devops', 'kubernetes', 'docker', 'cloud'], ['python', 'c', 'spark', 'scala', 'java'], ['scrum', 'webservies', 'sql', 'rest', 'jira', '.net'], ['arquitecto', 'seguridad', 'cloud'], ['linux', 'tcp/ip', 'windows', 'balanceadores', 'radware', 'seguridad', 'checkpoint', 'sistemas', 'comunicaciones', 'dns', 'cisco'], ['apex', 'reports', 'c#', 'itsm', 'oracle', 'forms', 'plsql', '.net'], ['reactjs', 'bootstrap', 'angularjs', 'css', 'c#', 'entity framework'], ['zabbix', 'eon', 'bmc patrol', 'centreon'], ['pl/sql'], ['postman', 'python', 'qa', 'testing', 'selenium', 'java'], ['cognos', 'pentaho', 'oracle bi', 'talend', 'microsoft bi', 'informatica powercenter', 'oracle odi', 'datastage', 'qlikview', 'msis', 'microstrategy', 'kettle', 'ibm'], ['ios', 'scrum', 'testflight', 'http', 'swfit', 'api', 'sdk', 'gitlab', 'fastlane', 'solid'], ['rpa', '.net', 'uipath'], ['php', 'css', 'javascript'], ['redes'], ['soapui', 'cypress', 'linux', 'postman', 'cucumber', 'selenium', 'gherkin', 'jira'], ['sacada', 'modbus', 'plc', 'wincc', 'siemens', 'scheneider', '.net'], ['sap'], ['absis', 'jira'], ['normativa de seguridad', 'smart building'], ['sap'], ['aws', 'nodejs', 'git', 'gitflow', 'typescript', 'javascript', 'tdd'], ['newsql', 'oauth2', 'nosql', 'git', 'sql', 'java', 'networking', 'samlv2 oidc', 'cloud', 'sap', 'cap', 'odata', 'rest', 'spring', 'cloud foundry'], ['dns', 'dhcp', 'windows', 'gpo'], ['php', 'wordpress'], ['cabinas', 'windows server', 'citrix', 'vmware', 'vdi'], ['apex', 'cplusplus', 'visual basic', 'java', 'salesforce', 'javascript', 'spring', '.net'], ['malware', 'ciberseguridad', 'dfir', 'forense'], ['devops'], ['storage', 'windows', 'wintel'], ['sql', 'meta erp', 'html', 'javascript', '.net'], ['linux'], ['openshift', 'cloud', 'kubernetes'], ['testing', 'maquetas'], ['linux', 'windows', 'microsoft', 'microsoft 365', 'hyper v', 'vmware', 'azure', 'servidores fisicos onsite en cpd'], ['comercial', 'tic', 'ventas'], ['aws', 'scss', 'typescript', 'html'], ['j2ee', 'angularjs', 'java', 'oracle', 'javascript'], ['helpdesk'], ['jasmine cypress', 'angularjs', 'sass', 'typescript', 'css', 'javascript', 'html'], ['reactjs', 'redux', 'git', 'javascript es6', 'angularjs', 'yup', 'formik', 'css', 'jira', 'html'], ['linux', 'jboss', 'kubernetes', 'python', 'tomcat', 'jenkis', 'documentum', 'gitlab', 'shell scripting', 'redhat'], ['selenium', 'automation', 'qa', 'cucumber'], ['javascript', 'reactjs', 'typescript'], ['informatica', 'soporte tecnico'], ['java', 'jee'], ['python', 'ci/cd', 'ansible', 'devops'], ['call traces', '.net', 'optimization tableau'], ['ios', 'android', 'windows', 'redes', 'microinformatica'], ['svelve', 'angularjs', 'php', 'javascript', 'desarrollo web'], ['itsm', 'servicenow'], ['cognos', 'pentaho', 'oracle bi', 'talend', 'powercenter', 'microsoft bi', 'oracle odi', 'datastage', 'qlikview', 'msis', 'microstrategy', 'kettle', 'ibm'], ['.net'], ['linux', 'devops', 'kubernetes', 'middleware', 'scripting', 'jenkins', 'red'], ['aws', 'cloud'], ['gestion proyectos', 'it', 'project manager'], ['powercenter', 'plsql', 'iics'], ['cplusplus', 'sql server'], ['cplusplus'], ['ios', 'android', 'cordova', 'objective c', 'maven', 'xamarin'], ['php', 'drupal'], ['ios', 'android', 'java', 'sap', 'salesforce', '.net'], ['java', 'android', 'kotlin'], ['css', 'nodejs', 'git', 'angularjs', 'html'], ['angularjs'], ['sap'], ['angularjs'], ['ios', 'swift'], ['sqlserver', 'j2ee', 'subversion', 'angularjs', 'java', 'maven', 'hibernate', 'jenkins', 'jpa webservices', 'oracle', 'spring'], ['f5', 'nsx t', 'radware', 'seguridad', 'fortinet', 'balanceadores', 'cisco'], ['soporte', 'office', 'windows'], ['ghg protocol', 'pas 2050', 'iso 14064'], ['oracle'], ['php', 'drupal'], ['libevent', 'threads', 'ctest', 'cuda', 'odb', 'cplusplus', 'qt', 'c', 'mysql++', 'cppunit', 'openmp'], ['vvmware', 'windows', 'microsoft', 'nagios', '.net'], ['reactjs'], ['microsoft office', 'helpdesk', 'active directory', 'sistemas operativos', 'wireless', 'backup restore', 'office 365', 'informatica', '.net'], ['java', 'spring'], ['sap'], ['java', 'reactjs', 'javascript', 'angularjs'], ['bayesian optimization', 'python', 'probabilistic models gaussian processes', 'machine learning', '.net'], ['abap', 'sap'], ['android', 'cucumber', 'gitlab', 'gherkin', 'intellij'], ['it'], ['labview'], ['windows', 'maquinas virtuales', 'office', 'redes', 'microsof'], ['soapui', 'pruebas', 'java', 'js', 'junit', 'test'], ['java', 'sap', 'script', 'abap'], ['business central', 'microsoft', 'nav', 'navision', 'dynamics'], ['reactjs', 'html', 'sql server', 'typescript', 'css', 'javascript', 'c#'], ['sql', 'qa'], ['active directory'], ['lan', 'rack', 'remedy', 'wifi'], ['ui', 'angularjs'], ['sistemas operativos', 'bases de datos', 'redes'], ['windows', 'microsoft office'], ['mongodb', 'c#', 'angularjs', 'microservicios', 'solid', '.net'], ['ios', 'android', 'linux', 'windows'], ['seguridad'], ['aws', 'kubernetes', 'docker', 'java', 'eks'], ['txn', 'api'], ['docker', 'angularjs', 'java', 'git', 'jira', 'spring'], ['reactjs', 'energias renovables', 'scrum', 'waterfall', 'agile', '.net'], ['redes'], ['qa', 'hp', 'selenium', 'automatizacion', 'tester'], ['.net'], ['navision', 'business central'], ['scala', 'spark'], ['javascript'], ['solidworks', 'office'], ['unix', 'linux', 'windows', 'sql', 'shell scripting'], ['php', 'symfony', 'mysql'], ['active directory', 'soporte', 'office 365'], ['indesing', 'photoshop', 'illustrator'], ['aws', '.net'], ['reactjs', 'html5', 'angularjs'], ['verilog', 'vhdl'], ['linux'], ['itil', 'office 365'], ['gcp', 'azure'], ['lan', 'redes', 'wan'], ['oracle'], ['dynamics'], ['iot'], ['android', 'kotlin'], ['java'], ['python', 'django'], ['scrum', 'agile', 'kanban', 'git'], ['itil', 'linux', 'azure'], ['tableau', 'business inteligence'], ['c#', '.net'], ['reactjs', 'nodejs'], ['computer vision', 'deep learning', 'ai'], ['objective c', 'ios', 'swift'], ['solidworks'], ['electronica', 'aeronautica'], ['artifactory', 'jenkins', 'sonarqube'], ['selenium', 'qa'], ['.net', 'c#'], ['sql server', '.net'], ['automatizacion pruebas', 'qa', 'tester'], ['java'], ['pmp'], ['data scientist', 'machine learning'], ['abap', 'sap'], ['java'], ['huawei', 'cisco', 'fortinet'], ['java', 'php', 'css', 'javascript', 'hmtl5'], ['photoshop', 'illustrator'], ['software', 'hardware'], ['marketing'], ['azure'], ['confluence', 'bitbucket', 'jira', 'atlassian'], ['ciberseguridad'], ['electronica'], ['bs', 'ieee', 'une en', 'csa', 'ul', 'iec'], ['scrum master'], ['php'], ['sap'], ['sap'], ['sql', 'power bi'], ['solidworks', 'autocad'], ['python', 'cplusplus', 'matlab'], ['reactjs'], ['reactjs', '.net', 'angularjs'], ['python', 'django'], ['ci/cd', 'devops', 'aws'], ['redes', 'power bi', 'azure'], ['java', 'reactjs', 'kotlin'], ['electronica'], ['robots', 'plc', 'scada'], ['ciberseguridad'], ['osint', 'ediscovery'], ['8d', 'apqp', 'ppap', 'spc', 'amfe'], ['java', 'sql nosql'], ['redes', 'vlan'], ['sql', 'python', 'data'], ['agile'], ['java', 'hibernate'], ['c#', '.net'], ['power bi'], ['c#', 'go', 'kubernetes'], ['bbdd sql', 'java', 'html5', 'php', 'css', 'javascript'], ['seo', 'digital marketing'], ['solidworks'], ['c#', 'xamarin', '.net'], ['unix', 'ciberseguridad', 'tcp/ip'], ['helpdesk'], ['java', 'pl/sql', 'spring'], ['c#', 'wpf', 'cplusplus', 'visual basic', 'git', '.net'], ['jefe de proyecto'], ['product manager', 'product owner'], ['python', 'cplusplus'], ['c#', 'delphi', '.net'], ['telecomunicaciones', 'electronica'], ['big data'], ['vuejs', 'reactjs', 'angularjs'], ['j2ee', 'java', 'spring'], ['java', 'aws'], ['navision', 'dynamics'], ['aws'], ['nist', 'iso27001'], ['pmp'], ['python', 'big data'], ['marketing digital'], ['pmo'], ['python', 'cplusplus', 'c', 'matlab'], ['abap', 'workflows', 'webservices', 'sap', 'pi/xi', 'fiori'], ['gcp', 'aws', 'azure'], ['c#', '.net'], ['unity', 'c#', 'angularjs'], ['oracle', 'ef core', '.net'], ['java', 'magicinfo'], ['bpm', 'appian'], ['murex'], ['linux', 'windows', 'bbdd', 'ssoo', 'redes'], ['pl', '.net', 'select', 'git', 'sql', 'git flow', 'c#'], ['nodejs'], ['sql', 'iam'], ['java', 'spring'], ['cisco', 'linux', 'windows', 'vmware'], ['esx', 'vdi', 'linux', 'windows'], ['android', 'firebase', 'seguridad', 'dagger', 'retrofit', 'mvp'], ['storage', 'san', 'svc'], ['android', 'retrofit', 'firebase', 'api', 'git', 'rxjava', 'dagger', 'mvvm', 'tests', 'rest', 'jira', 'kotlin'], ['project manager', 'pmp'], ['aws', 'cloud', 'azure'], ['abap', 'sap'], ['kubernetes', 'angularjs', 'docker', 'java', 'maven', 'spring'], ['sharepoint', 'visual studio'], ['backup', 'storage', 'veeam', '.net'], ['ms office', 'tia portal siemens', 'eplan', 'somachine schneider electric'], ['java'], ['sap'], ['php', 'apache', 'linux', 'mysql'], ['aws', 'terraform', 'api'], ['java', 'jsf', 'oracle', 'linux'], ['sql', 'oracle', 'databases'], ['cobol'], ['qa', 'tester', 'testing'], ['cplusplus'], ['backup', 'unix', 'linux', 'windows', 'aix', 'storage', 'vdi'], ['j2ee', 'eclipse', 'opensource', 'angularjs', 'sql', 'java', 'maven', 'oracle', 'spring'], ['soporte', 'microinformatica'], ['basis', 'sap'], ['linux'], ['sap'], ['php', 'moodle', 'mysql'], ['windows', 'ip', 'visual studio', 'bbdd', 'angularjs', 'access', '.net'], ['.net', 'angularjs'], ['scala', 'python', 'big data', 'sql'], ['lan', 'jira'], ['yagni', 'mvc', 'docker', 'ddd', 'api', 'kiss', 'tdd', 'solid', '.net'], ['python', 'c', 'spark', 'scala', 'java'], ['backup', 'unix', 'linux', 'windows', 'aix', 'storage', 'vdi'], ['bess', 'scada'], ['linux', 'ingles', 'networking', 'administrador', 'sysadmin'], ['python', 'java', 'rpa', 'vbscript', 'ocr'], ['oracle', 'exadata'], ['sonar', 'api', 'java', 'jenkins', 'confluence', 'github', 'solid', 'jira', 'spring'], ['unix', 'aix', 'open vms', 'solaris'], ['aws', 'c#', 'sql server', 'angularjs', 'azure', 'vuejs', '.net'], ['unix', 'hp ux'], ['aws', 'cypress', 'java', 'junit', 'javascript'], ['ciberseguridad', 'sonar', 'active directory', 'java', 'webflux', 'spring'], ['nodejs'], ['os/400', 'as/400'], ['windows', 'office 365'], ['sap'], ['ios', 'android', 'swift', 'java', 'kotlin'], ['ios', 'swift'], ['java', 'spring'], ['sap'], ['windows', 'sap'], ['soporte', 'windows', 'microinformatica'], ['agile', 'pmp'], ['php', 'javascript', 'scada', '.net'], ['vmware', 'kubernetes', 'docker'], ['ios', 'swift'], ['python', 'cplusplus'], ['scada'], ['marketing'], ['nagios', 'servicenow'], ['ios', 'swift'], ['html', 'email marketing', 'dynamics'], ['odoo', 'sage', 'sap'], ['hmi', 'plc', 'scada'], ['ciberseguridad'], ['java', 'cplusplus'], ['redes', 'voip'], ['java'], ['java', 'spring'], ['marketing'], ['plc'], ['sql', 'sap'], ['sql'], ['reactjs', 'javascript'], ['automatizacion', 'robotica'], ['sql', 'oracle'], ['aws', 'kubernetes', 'docker', 'angularjs', 'hibernate', 'azure', 'spring'], ['sql', 'sas'], ['java'], ['pmp'], ['cloudera', 'big data'], ['ios', 'xcode'], ['telecomunicaciones', 'redes', 'informatica'], ['sap'], ['python', 'cplusplus'], ['java'], ['siemens', 'plc', 'omron'], ['figma', 'photoshop', 'ui', 'adobe xd', 'ux/ui'], ['python', 'big data', 'azure'], ['aws', 'google cloud', 'spark', 'nifi', 'hbase', 'azure', 'kafka'], ['sql', 'python', 'bi', 'etl'], ['marketing'], ['middleware', 'jboss'], ['blockchain', 'devops'], ['php'], ['plc', 'c#', 'visual studio'], ['ran', 'redes'], ['sql', '.net', 'angularjs'], ['criptografia', 'gnss'], ['mirth'], ['php', 'navision', 'business central'], ['vmware', 'linux', 'windows'], ['python', 'cplusplus', 'linux'], ['android', 'kotlin'], ['java', 'spring'], ['testing'], ['inventor', 'solidworks', 'autocad'], ['plc', 'scada'], ['java'], ['java', 'html', 'xhtml', 'css'], ['ciberseguridad', 'guardium'], ['ciberseguridad'], ['ingenieria'], ['vmware', 'azure', 'windows server'], ['python', 'java'], ['software', 'ticketing', 'moviles', 'hardware', 'microinformatica'], ['pruebas', 'software', 'radioenlaces', 'datalinks'], ['linux', 'windows', 'switches', 'sdm', 'redes'], ['aws', 'talend'], ['google cloud platform'], ['angularjs', 'paperjs', 'microservicios', 'html5', 'css'], ['photoshop', 'soap', 'maya', 'flash', '3dstudio', 'api', 'purejs', 'html5', 'php', 'css'], ['java', 'spring'], ['redux', 'hooks', 'reactjs', 'sql server'], ['5g', 'redes', '4g'], ['marketing', 'ofimatica', 'diseno grafico', 'office'], ['ios', 'sdk', 'swift'], ['lan', 'redes', 'wan'], ['software'], ['laravel', 'jquery', 'mysql', 'php', 'css'], ['aws', 'mongodb', 'postgresql', 'docker', 'rest ap', 'java', 'ci/cd', 'liquibase', 'mysql', 'redis', 'oop', 'flyway', 'spring'], ['hive', 'kudu', 'spark', 'scala', 'sql', 'java', 'kafka', 'hdfs', 'metodologia scrum', 'impala'], ['ms sql', 'j2ee', 'pl/sql', 'json', 'xml', 'java', 'jquery', 'javascript', 'css', 'oracle', 'html'], ['sql', 'linux'], ['redes', 'radiofrecuencia', 'generador'], ['business central', '.net', 'dynamics'], ['windows', 'cau', 'soporte', 'zentyal linux', 'windows server', 'sistemas', 'ofimatica', 'cloud', 'redes', '.net'], ['dba', 'c#', 'cplusplus', 'mvc', 'pl/sql', 'oracle', '.net'], ['java', 'docker', 'spring', 'aws'], ['qlick', 'pentaho', 'qlik'], ['java', 'spring', 'microservicios'], ['virtualizacion', 'office 365', 'windows', 'azure'], ['ciberseguridad', 'jira'], ['reactjs', 'bootstrap', 'mvc', 'nodejs', 'sql', 'typescript', 'javascript'], ['ios', 'mvm', 'swift'], ['soa', 'git', 'java', 'web services', 'spring'], ['python', 'fastapi', 'django', 'flask'], ['sap'], ['spring'], ['javascript', 'vuejs'], ['objective c', 'ios', 'swift'], ['android', 'kotlin'], ['c#', '.net'], ['vmware', 'linux', 'windows', 'veeam backup'], ['sap', 'abap'], ['efqm', 'pmp'], ['python', 'cplusplus', 'c'], ['java'], ['helpdesk'], ['ios', 'swift'], ['rest', 'javascript', 'json', 'xml'], ['angularjs'], ['dynamics'], ['java', 'android', 'kotlin'], ['redes', 'firewall', 'switch'], ['java'], ['sap'], ['java', 'spring'], ['scala', 'java', 'python', 'spark'], ['criptografia', 'ciberseguridad'], ['c#', '.net'], ['android', 'kotlin'], ['vuejs'], ['ciberseguridad'], ['sharepoint', 'reactjs'], ['dns', 'active directory', 'dhcp'], ['css', 'html5', 'angularjs'], ['python', 'r', 'machine learning'], ['cobol', 'cics', 'db2'], ['microsoft business central'], ['php', 'nodejs'], ['sql', 'oracle', 'sql server'], ['ci/cd', 'boomi', 'azure'], ['sap'], ['javascript', 'microservicios'], ['sql'], ['linux'], ['cisco', 'linux', 'vmware'], ['sap'], ['openlayers', 'google maps api', 'gis'], ['sql', 'linux', 'windows', 'sap'], ['ids', 'nids', 'firewall', 'hids', 'ips'], ['java', 'microservicios'], ['aws', 'linux'], ['machine learning', 'big data', 'data science'], ['business analysis', 'it'], ['project manager'], ['reactjs'], ['sysops', 'aws', 'devops'], ['sap'], ['aws', 'cloud', 'devops'], ['navision'], ['sap'], ['active directory', 'sql server', 'hyper v'], ['python', 'marketing digital', 'etl'], ['java', 'spring', 'cloud'], ['cybersecurity'], ['ecommerce', 'api'], ['oracle', 'pl/sql'], ['aws', 'redshift', 'spark'], ['abap', 'sap'], ['sentinel', 'ciberseguridad'], ['marketing'], ['sap'], ['.net', 'c#'], ['sap'], ['java', 'javascript', 'banksphere'], ['abap iv', 'sap'], ['c#', 'r', 'xml', 'git', 'typescript', 'xpath', 'postgresql', 'mssql', 'oracle', '.net'], ['apache', 'tomcat', 'was', 'jboss'], ['redes inalambricas', 'software', 'radioenlaces', 'datalinks'], ['gis'], ['java', 'javascript', 'html5', 'css'], ['office', 'windows'], ['hcm', 'sap'], ['.net', 'c#'], ['pvsyst', 'presto'], ['wlanguages', 'webservice', 'windev', 'soa', 'hyperfile', 'scm', 'rest', 'jira'], ['reactjs', 'oracle', 'angularjs'], ['reactjs'], ['nodejs', 'angularjs'], ['sql server', 't sql', '.net', 'c#'], ['reactjs', 'angularjs', 'java', 'vuejs', 'javascript', 'spring'], ['red', 'linux', 'windows', 'windows server'], ['vmware'], ['vcenter', 'esxi', 'vsan', 'vmware'], ['software tecnologico'], ['sistemas', 'software', 'microinformatica', 'infraestructuras'], ['plc', 'scada'], ['marketing'], ['c#', '.net'], ['reactjs'], ['navision', 'dynamics'], ['abap'], ['cplusplus'], ['redes', 'informatica', 'microinformatica'], ['active directory', 'windows', 'ticketing'], ['jpa', 'gwt', 'jboss', 'soap', 'web services', 'hibernate', 'oracle', 'spring', '.net'], ['scrum', 'gestion', 'agile', 'safe', 'project management'], ['vmware', 'linux', 'red hat'], ['reactjs', 'typescript', 'nodejs'], ['oracle', 'pl/sql'], ['terraform', 'devops', 'cloud'], ['servicenow'], ['navision', 'business central'], ['sql', '.net', 'etl'], ['routing', 'firewall', 'switching', 'tipping point'], ['reactjs'], ['serveless', 'java', 'cloud', 'devops'], ['python', 'aws', 'docker'], ['ios', 'swift'], ['python'], ['bigquery', 'python', 'sqlalchemy', 'api', 'sql', 'flask'], ['mongodb', 'scrum', 'nodejs', 'angularjs', 'java', 'agile'], ['windows', 'erp', 'microsoft 365', 'soporte tecnico', 'redes'], ['cisco', 'tcp/ip', 'fortinet'], ['ariba', 'sap'], ['android', 'xamarin'], ['angularjs'], ['ios', 'android'], ['java', 'bases de datos', 'arquitectura', 'gestion desarrollo de software', 'agile'], ['php', 'javascript', 'sql', 'angularjs'], ['bgp', 'vpn', 'mpls', 'cisco', 'juniper'], ['redes', 'seguridad'], ['reactjs', 'nodejs'], ['html', 'reactjs', 'javascript', 'nodejs'], ['software', 'windows', 'ticketing', 'plataforma computacional', 'hardware', 'maquetado', 'office 365'], ['plex', 'java', 'cobol'], ['winforms', 'c#', 'pl/sql', 'oracle', 'rest', '.net', 'entity'], ['telecomunicaciones'], ['host', 'paternon', 'cobol', 'db2'], ['sccm', 'windows', 'active directory', 'office 365', 'azure', 'exchange online', 'teams'], ['sqlserver', 'linux', 'sql', 'mysql', 'oracle'], ['cobol'], ['sistemas', 'redes'], ['backup', 'linux', 'windows', 'active directory', 'vmware', 'storage', 'bases de datos', 'vsphere'], ['test', 'linux', 'jenkins'], ['gcp', 'aws', 'architecture', 'devops', 'caf', 'finops', 'azure', 'landing zones', 'cloud'], ['apache', 'linux', 'windows', 'jboss'], ['software', 'soporte', 'formacion', 'prevencion de riesgos laborales', 'informatica', 'prl'], ['android', 'kotlin'], ['abap', 'sap'], ['winforms', 'c#', 'sql server', 'crystal reports', '.net'], ['python', 'sql'], ['terraform', 'devops', 'jmeter', 'postman', 'microservicios', 'java', 'selenium', 'jenkins', 'azure', 'spring'], ['redes neuronales', 'python', 'full stack', 'elastik database', 'nlp'], ['aws', 'sonarqube', 'kubernetes', 'docker', 'java', 'sdlc', 'fortify', 'azure', 'kiuwan'], ['sql', 'java', 'cyberark'], ['linux', 'ansible', 'kubernetes', 'docker', 'vmware', 'red hat'], ['angularjs', 'ci/cd', 'iot', 'azure', '.net'], ['tcp/ip', 'dmz', 'nat', 'seguridad', 'firewall'], ['j2ee', 'pl/sql', 'java', 'javascript', 'c#'], ['telecomunicaciones', 'electronica'], ['magento', 'prestashop', 'marketing', 'ecommerce'], ['salesforce'], ['firmware', 'hardware', 'testing'], ['gcp', 'aws', 'azure'], ['javascript', 'typescript', 'vuejs'], ['sap'], ['linux', 'jenkins'], ['sql', 'html', 'javascript', 'css'], ['itil', '.net'], ['marketing'], ['sap'], ['ansible', 'devops', 'chief', 'puppet', 'docker'], ['java', 'cplusplus'], ['sql', 'microsoft office'], ['vmware', 'azure'], ['istqb', 'jira', 'hpalm'], ['postgresql', 'nodejs', 'spring', 'angularjs'], ['cplusplus', 'c', 'gnss'], ['marketing'], ['security', 'cissp'], ['jenkins', 'testing'], ['robotica'], ['apache', 'virtualizacion', 'conectividad', 'memcached', 'redes', 'varnish'], ['sage'], ['ciberseguridad'], ['big data', 'azure', 'etl'], ['sap'], ['jetpack', 'android', 'kotlin'], ['mejora continua'], ['sql server', 'windows server'], ['cplusplus', 'c', 'firmware', 'autosar'], ['jenkins', 'testing'], ['open api', 'swagger', 'aysnc api'], ['cibersecurity'], ['sql', 'python', 'iis', 'linux'], ['electronica', 'c', 'cplusplus', 'labview'], ['azure', 'etl'], ['networking', 'windows'], ['python', 'jenkins', 'bamboo'], ['sap'], ['electronica'], ['kenshoo', 'google search ads 360', 'marin'], ['sap'], ['sharepoint', 'microsoft teams'], ['seo', 'marketing', 'google analytics'], ['tensorflow', 'yolo', 'aws'], ['java', 'c#'], ['aws', 'azure'], ['java', 'salesforce'], ['ils', 'doors'], ['java', 'oracle', 'tpf'], ['aws', 'scrum', 'c#', 'web apis', 'git', 'azure', 'rest services', '.net'], ['bbdd', 'sas'], ['python', 'malware', 'hacking', 'shell scripting'], ['angularjs', 'sql', 'typescript', 'html5', 'css', 'rest apis', 'c#'], ['malware', 'ciberseguridad', 'seguridad', 'soc'], ['vpn', 'cisco', 'juniper'], ['sass typescript', 'css', 'angularjs', 'html', 'javascript'], ['mvc', '.net'], ['ticketing'], ['.net'], ['vmware', 'linux', 'windows'], ['abap', 'sap'], ['apache', 'wordpress', 'sql server', 'dynamics'], ['selenide', 'testing', 'java', 'selenium', 'jenkins'], ['linux', 'windows', 'middleware'], ['sonarqube', 'nexus', 'kubernetes', 'docker', 'job git', 'jenkins', '.net'], ['service desk'], ['javascript', 'nodejs'], ['cplusplus', 'c'], ['big data'], ['unix', 'cyberark', 'windows'], ['sap'], ['reactjs', 'css', 'angularjs', 'vuejs', 'html', 'javascript'], ['itil', 'service desk'], ['helpdesk'], ['vmware', 'windows server'], ['nodejs'], ['weblogic', 'java'], ['oracle', 'sql server'], ['devops'], ['reactjs'], ['analisis'], ['seo', 'marketing digital'], ['postman', 'scrum', 'qa', 'agile'], ['linux'], ['power apps', 'power platform'], ['linux', 'azure'], ['itil', 'citrix', 'service desk', 'windows'], ['css', 'javascript', 'html5'], ['apache', 'nginx', 'drupal', 'linux'], ['sap'], ['elk', 'logstach', 'kibana'], ['salesforce', 'java', 'reactjs', 'angularjs'], ['back end', 'front end', 'pl/sql', 'angularjs', 'java', 'oracle', 'spring'], ['odoo', 'linux', 'windows', 'python', 'docker', 'git', 'postgresql', 'css', 'javascript', 'html'], ['sap'], ['java', 'informatica'], ['cplusplus', 'linux'], ['datos maestros', 'datos', 'sap'], ['unix', 'batch', 'pl/sql', 'sql', 'clearcase', 'oracle'], ['azure', 'cloud', 'angularjs'], ['reactjs', 'scrum', 'nodejs', 'angularjs', 'java', 'safe', '.net'], ['hyperledger', 'mongodb', 'go', 'wavemaker', 'python', 'fabric', 'nodejs', 'angularjs', 'sql', 'postgresql', 'javascript'], ['mvc', 'sql', 'laravel', 'html5', 'mysql', 'php', 'css', 'javascript'], ['nodejs', 'angularjs', 'sql', 'git', 'github'], ['ax', 'erp', 'dynamics'], ['software', 'it', 'application'], ['dynamics'], ['virtualizacion', 'linux', 'windows server', 'lan', 'vmware', 'wan', 'base de datos', 'firmware', 'cisco', 'oracle', 'red'], ['windows', 'seguridad', 'ofimatica', 'redes', 'microinformatica'], ['helpdesk', 'wordpress', 'prestashop', 'windows server'], ['oracle'], ['pmp'], ['data'], ['cplusplus', 'c'], ['seguridad', 'http'], ['altium'], ['aws', '.net', 'azure'], ['redux', 'reactjs', 'javascript'], ['iso27001'], ['c#', '.net'], ['catia'], ['sql', 'java', 'spring'], ['c#', '.net'], ['pvsyst', 'electronics'], ['sql', 'java'], ['erp'], ['active directory', 'soporte', 'microinformatica'], ['sap'], ['unigraphics', 'siemens nx'], ['reactjs', 'javascript', 'vuejs'], ['erp'], ['gmp', 'pmp'], ['hibernate', 'java', 'spring'], ['java', 'javascript', 'html'], ['pmp', 'lean', 'scrum', 'kanban'], ['cad'], ['dynamics', 'axapta'], ['qa', 'windows', 'sql server'], ['openjdk', 'java', 'openapi'], ['itil', 'sap'], ['google analytics', 'google ads'], ['cplusplus', 'c'], ['java'], ['do 178c', 'documentacion', 'do 254'], ['siemens', 'omrom'], ['dynamics'], ['j2ee', 'java'], ['sql', 'python', 'bases de datos'], ['java', 'android'], ['aws', 'reactjs', 'nodejs', 'vuejs', 'javascript'], ['google cloud platform', 'cloud', 'azure'], ['php', 'laravel'], ['bigquery', 'aws', 'dataproc', 'google cloud platform', 'presto', 'kubernetes', 'spark', 'scala', 'azure', 'cloudera'], ['ajax', 'joomla', 'wordpress', 'java', 'jquery', 'mysql', 'php', 'javascript'], ['altium', 'electronica', 'microcontroladores'], ['python', 'r', 'sql'], ['electronica'], ['css', 'javascript', 'html', 'angularjs'], ['bi', 'data', 'big qwery'], ['swift', 'android'], ['java'], ['marketing'], ['vmware', 'san'], ['spring', 'devops', 'angularjs'], ['uas', 'uav', 'aeronautica'], ['javascript', 'smart tv', 'html5'], ['pvsyst', 'office'], ['unity', '3d', 'c#'], ['vmware', 'linux', 'windows', 'veeam backup'], ['ensamblador', 'c'], ['sql server', 'etl'], ['java', 'spring'], ['html', 'reactjs', 'css'], ['pentesting', 'ciberseguridad', 'hacking etico'], ['google cloud'], ['power bi', 'etl'], ['java', 'kubernetes', 'docker'], ['ids', 'waf', 'nids', 'firewall', 'hids', 'ips'], ['navision', 'business central'], ['aws', 'iaas paas', 'azure'], ['active directory', 'windows'], ['cisco', 'sip', 'voip'], ['gcp', 'big query', 'google cloud'], ['sql', 'power bi'], ['linux', 'windows', 'vsphere'], ['java', 'spring'], ['.net'], ['python', 'cplusplus', 'linux'], ['plc', 'scada'], ['solid works', '3d', 'sketch'], ['reactjs', '.net', 'angularjs'], ['3d', 'cad'], ['banca', 'spring', 'kafka'], ['less', 'css', 'symfony', 'drupal', 'ajax', 'docker', 'sass', 'git', 'jquery', 'html5', 'jenkins', 'mysql', 'php', 'azure', 'javascript'], ['sql', 'java', 'mysql'], ['software ag', 'wso2', 'api', 'ibm broker', 'mulesoft', 'tibco'], ['unix', 'oracle', 'sql server', 'cloud'], ['linux', 'windows', 'dynamics'], ['marketing'], ['linux', 'suse', 'redhat'], ['html', 'javascript', 'css'], ['ubiquiti', 'windows', 'sage', 'nas', 'windows server', 'firewall', 'a3'], ['backup', 'switchs', 'impresoras', 'hardware', 'redes'], ['cplusplus', 'c#'], ['windows', 'azure'], ['.net'], ['xslt', 'bpel', 'jdeveloper', 'bpm', 'br', 'xpath', 'wsdl'], ['soporte', 'windows'], ['php', 'laravel', 'angularjs'], ['agile', 'scrum'], ['gestion de proyectos'], ['openshift', 'azure', 'docker'], ['abap', 'sap'], ['tcms', 'c', 'cplusplus'], ['electronica'], ['cplusplus', 'c#'], ['aws', 'azure'], ['java', 'cplusplus', 'gnss'], ['cplusplus', 'c#'], ['safe', 'scrum', 'kanban'], ['sharepoint', 'c#', '.net'], ['vpn', 'redes'], ['redux', 'reactjs', 'typescript'], ['active directory', 'microsoft 365', 'wsus'], ['openedge', 'progress'], ['sharepoint', 'marketing', 'bi'], ['sql', 'bi', 'etl'], ['oracle'], ['talent solutions'], ['sql', 'python', 'power bi', 'etl'], ['sql server', 'crystal reports'], ['sql', 'windows'], ['python', 'cplusplus', 'c#'], ['sql'], ['php', 'codeigniter', 'laravel', 'symfony'], ['cplusplus', 'c'], ['windows', 'office 365'], ['altium', 'electronica', 'microcontroladores'], ['android', 'kotlin'], ['ubuntu', 'apache', 'linux', 'kubernetes', 'opensource', 'rocky', 'php'], ['python', 'r', 'data', 'azure', 'power bi'], ['agile'], ['jira', 'atlassian'], ['azure', 'cloud'], ['soap', 'tdd', 'salesforce commerce cloud', 'ci/cd', 'sdlc', 'storefront reference architecture sfra', 'salesforce', 'javascript', 'rest'], ['python', 'vba', 'git'], ['saas'], ['rundeck', 'devops', 'servicenow'], ['electronica', 'cplusplus'], ['sql', 'tableau', 'agile', 'kanban'], ['cplusplus', 'microcontroladores'], ['nodejs'], ['nodejs', 'microservicios'], ['aso', 'apx'], ['cybersecurity', 'linux', 'windows'], ['kubernetes', 'openshift'], ['java', 'spring'], ['sap'], ['sql', 't sql'], ['codigo resenas', 'ci/cd', 'programacion en pares', 'tdd', 'ruby'], ['linux', 'python', 'bash', 'mysql', 'postgresql'], ['erp', 'progress 4gl', 'base de datos'], ['jboss', 'java', 'hibernate', 'mysql', 'spring'], ['reactjs', 'css', 'scss', 'blazor', 'c#'], ['java', 'cypress', 'zahori', 'selenium'], ['sap'], ['ktor', 'koin', 'android', 'flow', 'arrow fx', 'okhttp', 'room', 'workmanager', 'jetpack navigation', 'dagger2', 'kotlin multiplatform', 'retrofit', 'sqldelight'], ['software'], ['sage x3', 'sage'], ['cplusplus', 'c'], ['.net', 'c#'], ['cplusplus', 'linux', 'hardware'], ['seo', 'semrush', 'google data studio', 'google search console'], ['bi', 'power bi'], ['php', 'laravel', 'symfony'], ['sap'], ['sql', 'mysql', 'postgresql'], ['unity', 'blender', '.net', 'vr/ar', 'javascript', 'c#'], ['c#'], ['newsql', 't sql', 'nosql', 'sql server', 'tde', 'html', 'javascript'], ['crm'], ['microsoft', 'office', 'windows'], ['angularjs'], ['solidworks', 'plc'], ['machine learning', 'data science'], ['cybersecurity', 'telecommunications'], ['active directory', 'vert.x', 'microservicios', 'java', 'quarkus', 'arquitectura hexagonal'], ['appian'], ['terraform', 'kubernetes', 'jenkins', 'cloud', 'helm'], ['telecomunicaciones', 'electronica', 'pcb', 'cad'], ['marketing digital'], ['information technology', '.net'], ['erp', 'sap'], ['angularjs', 'java', 'postgresql', 'css', 'spring', 'html'], ['.net', 'mvc', 'windows forms', 'vb', 'html', 'javascript', 'c#'], ['css', 'symfony', 'laravel', 'php', 'html', 'javascript'], ['nodejs', 'vuejs'], ['cplusplus', 'sql sever', 'access', 'c#'], ['reactjs', 'typescript', 'redux', 'css', 'javascript', 'graphql', 'html'], ['aws', 'cloud', 'azure'], ['j2ee', 'java'], ['sql', '.net', 'c#', 'wpf'], ['lan', 'redes', 'vmware', 'wireless'], ['dynamics'], ['soporte', 'sql', 'java', 'poo', 'postgresql'], ['sql', 'java', 'python'], ['mongodb', 'gatsby', 'java', 'wordpress', 'php', 'css', 'html'], ['cau', 'oracle', 'sqlserver', 'mysql'], ['cinematico', 'catia'], ['secdevops', 'linux'], ['erp', 'f&o', 'dynamics'], ['bootstrap', 'ms sql', 'scrum', 'ajax', 'git', 'tsql', 'kanban', 'css', 'javascript', 'agile', 'html'], ['abap', 'sap'], ['dynamics'], ['symfony', 'drupal', 'wordpress', 'laravel', 'php', 'css', 'prestashop', 'javascript', 'html'], ['less', 'css', 'symfony', 'drupal', 'ajax', 'docker', 'sass', 'git', 'jquery', 'html5', 'jenkins', 'mysql', 'php', 'azure', 'javascript'], ['ios'], ['sass', 'css', 'html5'], ['php', 'laravel', 'vuejs'], ['.net', 'visual studio', 'python', 'git', 'ci/cd', 'azure', 'c#'], ['sistemas', 'redes', 'sql server'], ['java', 'qa', 'selenium', 'cucumber'], ['ax', 'erp', 'dynamics'], ['windows', 'oficce'], ['css', 'git', 'nuxt.js', 'vuejs', 'html', 'javascript'], ['sql', '.net', 'ssrs'], ['microstrategy', 'sql'], ['.net', 'c#'], ['seo', 'digital marketing'], ['azure', 'dynamics'], ['postgresql', 'java', 'docker'], ['visio', 'clickup', 'microsoft office'], ['maven', 'rational team concert', 'jenkins', 'artifactory'], ['java', 'spring'], ['solidworks'], ['microstrategy', 'bi', 'etl'], ['google analytics', 'seo', 'google ads'], ['selenium', 'qa', 'junit'], ['itil', 'prince 2', 'agile'], ['social ads', 'marketing', 'display', 'seo', 'sem'], ['.net', 'angularjs'], ['c#', '.net', 'azure'], ['sap'], ['python', 'shell scripting'], ['seo', 'marketing digital'], ['android', 'kotlin'], ['jpa', 'java', 'hibernate', 'mysql', 'spring'], ['java', 'jsf', 'spring'], ['chef', 'circleci', 'terraform', 'ansible', 'puppet', 'devops jenkins', 'git', 'dynatrace', 'gocd', 'helm'], ['ruby', 'ruby on rails'], ['python', 'testing'], ['javascript', 'c#', 'angularjs'], ['sap'], ['java', 'reactjs', 'objectivec', 'kotlin'], ['iot', 'product management'], ['usb', 'fibra optica'], ['programme management'], ['scrum', 'confluence', 'java', 'html5', 'kanban', 'php', 'css', 'javascript', 'jira'], ['gcp', 'aws'], ['c#', '.net'], ['gcp', 'aws', 'linux'], ['nodejs', 'angularjs'], ['sql', 'bi', 'etl'], ['reactjs', 'swift', 'kotlin'], ['api', 'angularjs'], ['altium', 'hardware'], ['erp'], ['marketing'], ['software', 'desarrollo'], ['reactjs', 'nodejs'], ['marketing', 'office'], ['parcheado', 'seguridad', 'incidencias', 'fine tunning', 'versionado', 'casb', 'automatizaciones', 'dlp'], ['c#', '.net'], ['data', 'etl'], ['.net', 'visual studio', 'git', 'ci/cd', 'azure', 'c#'], ['java', 'spring', 'mysql'], ['python', 'cplusplus', 'c#'], ['symfony', 'mysql', 'bbdd', 'tailwind', 'git', 'sass', 'laravel', 'html5', 'vuejs', 'php', 'css', 'javascript'], ['reactjs', 'j2ee', 'angularjs', 'java', 'spring'], ['java', 'spring'], ['odoo', 'android', 'linux', 'windows'], ['pgsql', 'python', 'html5', 'mysql', 'php', 'css'], ['unix', 'control m', 'zos'], ['marketing'], ['java', 'spring'], ['cplusplus', '3d'], ['weblogic', 'webservices'], ['java'], ['product design'], ['electronica'], ['reactjs', 'sql server', 'microservicios', 'angularjs', 'git', 'mariadb', 'mysql', '.net'], ['fibra optica', 'router', 'windows'], ['ios', 'android', 'windows', 'veeam backup', 'microsoft 365', 'vmware', 'office'], ['objective c', 'ios', 'swift'], ['vmwware', 'kubernetes'], ['soporte', 'microinformatica'], ['java', 'nodejs'], ['itil', 'servicenow'], ['business central'], ['windows', 'excel', 'tableau'], ['ciberseguridad', 'linux', 'windows'], ['frontend'], ['linux', 'azure'], ['cplusplus', 'matlab'], ['java', 'spring'], ['python', 'linux', 'shell scripting'], ['seguridad', 'tcp/ip'], ['qa', 'git', 'sql', 'java', 'tester'], ['php', 'python', 'oracle forms', 'pl/sql', 'sql', 'oracle reports', 'postgresql', 'oracle', 'oracle bi publisher'], ['sql', 'oracle', 'pl/sql'], ['cisco', 'ccna'], ['backup', 'san', 'dell emc', 'hp', 'vmware', 'veeam', 'fortinet', 'firewall', 'watchguard', 'sonicwall', 'switching'], ['linux', 'python', 'cplusplus', 'c', 'html5', 'javascript'], ['sql', 'tableau', 'etl'], ['itil', 'windows'], ['ingenieria de software', 'ingenieria de sistemas'], ['java', 'spring'], ['fiori', 'abap'], ['linux', 'windows'], ['java', 'linux', 'cplusplus'], ['sap'], ['cobol', 'db2'], ['ansible', 'active directory', 'ovm', 'windows server', 'satellite', 'rhel', 'olvm', 'red hat enterprise linux'], ['agile', 'project manager'], ['qa', 'tester'], ['java', 'angularjs'], ['indesign', 'photoshop', 'premiere', 'illustrator'], ['ids', 'siem', 'waf', 'nids', 'firewall', 'hids', 'ips'], ['sap'], ['sql', 'data studio', 'tableu'], ['ciberseguridad'], ['go', 'python', 'cplusplus', 'c', 'rust'], ['linux', 'json', 'wso2', 'api', 'microservicios', 'scripting', 'javascript'], ['java', 'android'], ['cloud', 'ansible', 'devops'], ['marketing'], ['quality', 'electronic', 'sap'], ['calidad'], ['absis', 'java', 'oracle', 'javascript', 'spring'], ['html', 'bootstrap', 'javascript', 'css'], ['c#', '.net'], ['linux', 'jira', 'testing', 'git'], ['youtrack', 'jira'], ['python', 'c', 'spark', 'scala', 'java'], ['oracle'], ['software', 'windows', 'hardware'], ['sqlserver', 'slim', 'propel', 'mysql', 'git', 'angularjs', 'laravel', 'jquery', 'extjs', 'php', 'javascript'], ['pmp'], ['vmware', 'linux', 'windows server'], ['sql', '.net', 'visual studio'], ['iso 27001', 'ciberseguridad', 'isms'], ['service now', 'service desk', 'jira'], ['dml', 'ddl', 'google workspace', 'docker', 'azure', 'postgresql', 'rest', '.net'], ['cplusplus'], ['electronica', 'windows'], ['bitbucket..', 'swagger', 'mongodb', 'kubernetes', 'oauth', 'api', 'docker', 'java', 'mockito', 'git', 'jenkins', 'openid connect', 'github', 'junit'], ['pm', 'project manager'], ['spring', 'microservicios'], ['sql', 'linux'], ['abas', 'sage x3', 'office 365'], ['kanban', 'scrum', '.net'], ['power bi', 'tableau'], ['ciberseguridad'], ['marketing digital'], ['python', 'cplusplus', 'c', 'java'], ['marketing', 'meta ads', 'seo', 'sem', 'google ads'], ['sophos', 'fortinet'], ['aws', 'sqs', 's3', 'sns'], ['ciberseguridad'], ['pmp', 'sap'], ['selenium', 'fitnesse', 'puppet'], ['.net', 'angularjs'], ['php'], ['power bi', 'data', 'tableau'], ['ciberseguridad'], ['java'], ['python', 'machine learning'], ['aws', 'azure'], ['c#', '.net'], ['.net', 'azure'], ['.net'], ['active directory', 'veam backup'], ['kubernetes', 'docker'], ['software'], ['reactjs', 'nodejs'], ['cplusplus', 'c'], ['sharepoint', 'active directory', 'windows'], ['electronica', 'wifi'], ['erp'], ['java', 'spring'], ['html', 'reactjs', 'javascript', 'css'], ['.net'], ['azure', 'devops'], ['bi', 'azure', 'etl'], ['java', 'scrum', 'kanban'], ['adobe campaign'], ['sql', 'r', 'machine learning', 'python'], ['sql', 'power bi', 'etl'], ['ciberseguridad'], ['electronica', 'sai', 'office'], ['java', 'xml'], ['sap'], ['power bi', 'business inteligence'], ['python', 'scala', 'azure'], ['drones'], ['php', 'html', 'javascript', 'css'], ['c#', '.net'], ['php', 'laravel', 'symfony'], ['php', 'magento'], ['linux', 'windows'], ['aws', 'mongodb', 'json', 'angularjs', 'css', 'html'], ['cplusplus', 'c#'], ['php', 'laravel', 'vuejs'], ['bases de datos', 'lenguaje de marcas', 'programacion'], ['abap', 'sap'], ['symfony', 'ecommerce', 'php', 'prestashop', 'javascript'], ['php', 'laravel'], ['telecomunicaciones', 'informatica', 'hardware'], ['vuejs'], ['java', 'spring', 'angularjs'], ['python', 'orcaflex', 'fast', 'bladed'], ['malware', 'phishing'], ['pki', 'ids', 'linux', 'windows', 'firewall'], ['java', 'pega', '.net', 'clouds'], ['power bi'], ['.net', 'tdd', 'mvc', 'api', 'ci/cd', 'php', 'javascript', 'web', 'c#'], ['postgresql', 'java', 'sql server'], ['reactjs', 'design', 'nodejs', 'ui', 'vuejs', 'ux'], ['scrum'], ['sistemas'], ['sap'], ['java'], ['i+d'], ['ios', 'swift'], ['angularjs'], ['angularjs'], ['android', 'kotlin'], ['seo', 'google analytics'], ['aws', 'google cloud', 'azure'], ['java', 'spring'], ['java', '.net'], ['.net'], ['omron', 'plc'], ['python', 'qa', 'testing'], ['ciberseguridad', 'siem', 'azure'], ['php', 'symfony'], ['php', 'lavarel'], ['python', 'shell scripting', 'ansible', 'docker'], ['autocad', 'solidwork'], ['word', 'marketing', 'excel', 'crm'], ['flutter', '.net'], ['php', 'javascript', 'jquery', 'mysql'], ['git', 'laravel', 'vuejs', 'php', 'css', 'saas', 'html'], ['cplusplus', 'stl'], ['reactjs'], ['indesign', 'photoshop', 'ux/ui', 'illustrator'], ['pmp', 'project manager'], ['event viewer', 'soporte', 'process monitor'], ['php', 'javascript'], ['.net'], ['cplusplus', '.net'], ['sap'], ['scrum', 'agile'], ['python', 'flask'], ['tls', 'dns sec', 'ssl', 'ssh'], ['reactjs', 'c#', 'angularjs'], ['kubernetes', 'aws', 'devsecops', 'openstack'], ['c#', 'visual basic', '.net'], ['crm', 'office 365'], ['c#', '.net'], ['html'], ['qa', 'testing'], ['python', 'java', 'javascript'], ['python', 'data'], ['weblogic', 'apache', 'tomcat', 'middleware'], ['.net'], ['seo', 'marketing', 'google analytics'], ['azure'], ['windows', 'mcsa', 'itial', 'hypervisor', 'vmware'], ['sql', 'excel', 'etl'], ['as400'], ['c#', 'sql', 'javascript', 'jira', '.net'], ['postman', 'json', 'xml', 'scripting', 'azure', 'rest', '.net'], ['php', 'reactjs', 'nodejs', 'docker'], ['zabbix', 'linux', 'windows', 'footprint', 'service now'], ['software', 'hardware', 'microinformatica'], ['j2ee', 'eclipse', 'pl/sql', 'json', 'xml', 'java', 'html', 'javascript'], ['php', 'laravel', 'mysql'], ['angularjs', 'java', 'typescript', 'spring', 'kotlin'], ['telecomunicaciones', 'informatica'], ['sql', 'sql server'], ['java'], ['office 365'], ['reactjs'], ['oracle cloud', '.net'], ['c#', '.net'], ['java', 'android'], ['pick', 'google cloud'], ['ci/cd', 'linux'], ['sql', 'salesforce'], ['java'], ['sql', 'http', 'ip'], ['python', 'aws', 'redshift', 'glue'], ['php'], ['oracle', 'access', 'sql server'], ['sap'], ['sql', 'oracle'], ['cplusplus'], ['linux', 'windows'], ['sistemas', 'seguridad', 'redes'], ['navision', 'business central'], ['php', 'wordpress', 'prestashop'], ['java', 'microservicios'], ['linux', 'kubernetes'], ['sql', 'power bi', 'tableau'], ['seo', 'marketing', 'sem'], ['agile'], ['ios', 'swift'], ['office 365', 'azure'], ['powerbuilder'], ['marketing'], ['python', 'r', 'power bi', 'matlab'], ['mysql.', 'zabbix', 'proxmox', 'python', 'debian', 'gunicorn', 'nginx'], ['php', 'laravel', 'sql', 'mysql'], ['office 365', 'navision', '.net'], ['mongodb', 'go', 'nodejs', 'elasticsearch', 'typescript', 'mysql', 'php'], ['sql', 'javascript', 'power bi', 'qlikview'], ['python', 'java', 'matlab'], ['communication', '.net'], ['sap'], ['aws', 'mysql', 'etl'], ['html', 'javascript', 'css', 'ui/ux'], ['marketing'], ['redes', 'vlan', 'ccna'], ['sap'], ['.net'], ['seo', 'excel', 'adobe photoshop', 'google analytics'], ['telecomunicaciones', 'python', 'matlab'], ['analytics', 'databases', 'cloud'], ['php', 'laravel'], ['cplusplus', 'linux', 'uml'], ['java'], ['agile', 'jira'], ['qa', 'testing'], ['python'], ['visual basic', 'sql server', 'navision', 'c#'], ['sql server'], ['angularjs', 'typescript', 'html5', 'css', 'javascript'], ['oracle'], ['vpn', 'siem', 'firewall'], ['java'], ['apache', 'tomcat', 'linux', 'ldap'], ['java', 'windows', 'microinformatica'], ['windows', 'sql server', 'windows server', 'office 365', 'cloud', 'azure'], ['reactjs', 'linux', 'mysql', 'nodejs', 'docker', 'vuejs', 'php'], ['php', 'ionic', 'laravel', 'angularjs'], ['helpdesk', 'software', 'hardware'], ['aws', 'scrum', 'capacitor', 'ionic', 'nodejs', 'angularjs', 'lambdas', 'jira confluence', 'agile'], ['routing', 'wifi', 'checkpoint', 'palo alto', 'fortinet', 'switching'], ['windows hyper v', 'meraki', 'cisco', 'windows server'], ['php', 'reactjs', 'nodejs'], ['networking', 'juniper'], ['sql', 'big data', 'kubernetes'], ['c#', 'visual basic', 'microsoft', 'agile', '.net'], ['fortran', 'linux', 'python', 'cplusplus', 'freebsd', 'c', 'macos'], ['informatica', 'tecnologia'], ['bpm', 'appian'], ['kubernetes', 'elk', 'java', 'kafka', 'spring', 'kibana'], ['sap', 'abap'], ['marketing'], ['inology', 'dynamics', 'sap'], ['lan', 'cisco', 'wifi'], ['sap'], ['windows', 'azure'], ['abap', 'sap'], ['itil', 'azure'], ['plc', 'scada'], ['java', 'javascript'], ['erp', 'sap'], ['python', 'r', 'data', 'matlab'], ['.net'], ['ios', 'swift'], ['irm'], ['agile'], ['dynamics'], ['php', 'laravel', 'symfony'], ['erp', 'bi', 'crm'], ['postgresql', 'red hat', 'azure'], ['google analytics', 'seo', 'excel', 'ecommerce', 'powerpoint'], ['analytics', 'bi'], ['reactjs', 'javascript', 'typescript'], ['javascript', '.net'], ['software'], ['cplusplus', '.net', 'c#'], ['salesforce', 'navision'], ['sap'], ['aws', 'google cloud', 'sql server', 'azure'], ['marketing digital', 'e commerce'], ['microsoft', 'office 365'], ['java', 'spring'], ['ios', 'android', 'swift', 'api', 'kotlin'], ['canva', 'adobe creative cloud', 'powtoon'], ['unix', 'citrix', 'windows'], ['python', 'malware', 'shell scripting', 'red team'], ['bitbucket', 'scrum', 'python', 'docker', 'sql', 'scala', 'git', 'jenkins', 'jira'], ['malware'], ['cplusplus', 'linux'], ['linux', 'azure'], ['tuxedo'], ['php'], ['php', 'laravel'], ['html', 'javascript', '.net', 'css'], ['c#', 'ux', '.net'], ['cplusplus', 'linux'], ['firmware', 'c'], ['sql', 'uml'], ['selenium', 'hp alm'], ['php', 'drupal'], ['redes', 'linux', 'windows'], ['linux', 'windows'], ['sharepoint', '.net'], ['frances', 'it', 'project manager', 'desarrollo'], ['seo', 'sem rush', 'google webmaster tools', 'google analytics'], ['osce', 'ciberseguridad', 'oscp', 'oswe'], ['drupal', 'crm'], ['php', 'wordpress', 'laravel'], ['java', 'kubernetes', 'openshift'], ['aws', 'data'], ['aws', 'bash scripting'], ['marketing', 'e commerce'], ['iot', 'data'], ['pmp', 'project manager'], ['dns', 'active directory', 'domain controller'], ['cisco'], ['pki', 'gid', 'firma digital'], ['.net'], ['sap'], ['edr', 'fim', 'sandbox', 'endpoint'], ['telecomunicaciones', 'electronica'], ['ciberseguridad'], ['java', 'selenium', 'testing', 'mockito'], ['html', 'javascript', 'css'], ['aws', 'azure'], ['c#', '.net', 'entity framework'], ['scala', 'big data'], ['aws', 'reactjs', 'kubernetes', 'nodejs', 'docker', 'typescript', 'swarm', 'rabbitmq'], ['php', 'css', 'javascript', 'woocommerce', 'html'], ['sql server', 'azure'], ['servlets', 'java', 'jsp', 'db2'], ['blockchain', 'qa', 'api'], ['salesforce', 'oracle'], ['agile', 'dynamics'], ['ciberseguridad', 'terraform', 'ansible'], ['sap'], ['rest', 'qa', 'soap'], ['pmp', 'project manager'], ['aws', 'vmware', 'azure'], ['aws', 'reactjs', 'nodejs'], ['html', 'reactjs', 'js', 'css'], ['power bi'], ['gherkin'], ['scrum', 'azure'], ['sql server', 'azure', 'microsoft office 365', 'windows server'], ['reactjs', 'symfony', 'angularjs', 'laravel', 'vuejs', 'php', 'cake'], ['php', 'html', 'css'], ['reactjs', 'javascript', 'typescript'], ['software', 'delphi', 'full strack', 'sql', 'lazarus'], ['php', 'java', 'javascript'], ['php', 'laravel', 'symfony'], ['marketing', 'amp script', 'sql', 'cloud', 'salesforce'], ['microsoft powerpoint', 'microsoft excel', 'microsoft word', 'microsoft outlook'], ['soporte'], ['simulink', 'targetlink', 'c'], ['javascript', 'typescript', 'html5', 'angularjs'], ['confluence', 'jira', 'testing'], ['sql', 'javascript', 'pl/sql', 'postgresql'], ['python', 'cplusplus', 'c'], ['solidworks', 'autocad'], ['jira', 'agile'], ['aws', 'linux'], ['seo', 'marketing'], ['nodejs'], ['java', 'microservicios'], ['c#', '.net'], ['.net'], ['aws', 'devops', 'kubernetes', 'docker', 'ci/cd'], ['php', 'rabbitmq'], ['c#'], ['aws', 'azure', 'api'], ['sap'], ['typescript', 'angularjs'], ['virtualizacion', 'linux', 'windows', 'sistemas', 'redes'], ['uml', 'bpml'], ['java'], ['vuejs'], ['java', 'aws', 'microservicios'], ['reactjs', 'javascript', 'nodejs', 'vuejs'], ['ddd', 'tdd', '.net', 'entity'], ['javascript', '.net', 'c#'], ['datos', 'nosql', 'pricing', 'data scientist', 'cloud', 'power bi', 'open source'], ['simulink', 'matlab'], ['java'], ['php', 'symfony'], ['electronica', 'c', 'cplusplus', 'sistemas embebidos'], ['prototype', 'customer journey'], ['marketing', 'excel', 'powerpoint'], ['marketing', 'photoshop'], ['google analytics', 'seo', 'semrush', 'screaming frog'], ['software'], ['php', 'javascript', 'sql'], ['salesforce', 'salesforce b2c', 'cloud'], ['cplusplus', 'c', 'gnss'], ['ruby', 'ruby on rails'], ['java', 'spring'], ['angularjs'], ['sistemas', 'cloud'], ['cplusplus', 'c', 'gnss'], ['ids', 'ciberseguridad', 'siem', 'waf', 'fw'], ['python', 'django'], ['mongo', 'oracle', 'sql server'], ['vmware', 'hyper v', 'cluster ha', 'windows server'], ['python', 'qa'], ['ionic', 'angularjs'], ['python', 'postgresql'], ['python', 'cplusplus', 'java', 'php', 'c#'], ['oracle weblogic', 'linux', 'tomcat', 'tuxedo', 'red hat pacemaker'], ['sql', 'java', 'python', 'r'], ['sql', 'azure', 'etl'], ['marketing', 'ecommerce'], ['google cloud platform', 'azure'], ['sap', 'ecommerce'], ['iso', 'sora'], ['sql server', 'azure', 'etl'], ['barra', 'bloomberg', 'riskmetrics'], ['dns', 'dhcp', 'routiing', 'switch'], ['ux', 'ux/ui'], ['ibm mq', 'oracle soa', 'kafka'], ['python', '.net', 'c#', 'etl'], ['html', 'javascript', 'css', 'angularjs'], ['ciberseguridad'], ['python', 'r'], ['.net', 'c#'], ['microsoft excel', 'dynamics'], ['cplusplus', 'c'], ['java'], ['calidad'], ['j2ee', 'oracle'], ['kotlin'], ['php', 'laravel'], ['python', 'r', 'sql'], ['shell scripting', 'azure'], ['iso 27001', 'itsm'], ['sap'], ['cplusplus'], ['iso 27001', 'it'], ['objective c', 'ios', 'swift'], ['seo', 'marketing', 'sem'], ['power bi', 'sql server', 'etl'], ['nosql', 'etl'], ['software', 'galileo'], ['unix', 'linux', 'windows', 'itil', 'agile', 'pmp'], ['nodejs'], ['oracle', 'sql server'], ['c', 'autosar'], ['seo', 'marketing', 'sem'], ['linux'], ['php', 'laravel', 'sql', 'symphony'], ['sap'], ['sap'], ['patentes'], ['google marketing platform'], ['swift', 'sqlite', 'mysql'], ['.net'], ['j2ee', 'java'], ['soporte'], ['.net', 'kubernetes', 'docker', 'azure', 'c#'], ['sql', 'java', 'tms', 'sap'], ['python', 'cuda'], ['angularjs'], ['python', 'cplusplus', 'c'], ['sap'], ['linux', 'windows', 'python', 'java', 'shell scripting'], ['.net'], ['sap'], ['cplusplus', 'delphi', 'c', 'c#'], ['project manager'], ['postgresql', 'java', 'oracle', 'linux'], ['desarrollo de negocio'], ['sql', 'power bi', 'dax'], ['gcp', 'google cloud'], ['pmp'], ['jekins', 'nexus', 'contenedores'], ['cd', 'ci', 'pipeline', 'ct'], ['python', 'machine learning', 'spark', 'pandas'], ['microsoft excel', 'microsoft word', 'jira'], ['bing ads', 'social ads', 'sem', 'google ads'], ['psim', 'matlab'], ['go', '.net', 'c#'], ['vmware', 'hyper v'], ['python', 'cplusplus', 'c'], ['unix', 'linux', 'cplusplus', 'c', 'gnu'], ['oracle', 'linux', 'devops'], ['xml', 'java', 'html5', 'xls', 'html'], ['java', 'oracle', 'unix'], ['azure'], ['lean'], ['comercial', 'it'], ['flex', 'angularjs', 'sass', 'hmtl', 'typescript', 'css', 'javascript'], ['tomcat', 'websphere', 'jboss'], ['java', 'oracle', 'unix'], ['cplusplus', 'c', 'unix', 'matlab'], ['redes', 'linux', 'windows'], ['erp', 'm3'], ['sap'], ['postgresql', 'sql server', 'azure'], ['python', 'selenium', 'git'], ['sap'], ['control m'], ['html', 'css', 'angularjs'], ['sap'], ['.net', 'angularjs'], ['c#', '.net', 'angularjs'], ['python', 'django'], ['sql', 'aws', 'nodejs', 'express'], ['nodejs', 'sql server', 'angularjs'], ['python', 'r', 'sql'], ['hibernate', 'java', 'jdbc', 'spring'], ['javascript', 'vuejs'], ['sap'], ['php', 'mongodb', 'mysql'], ['php', 'symfony', 'mysql'], ['.net'], ['oracle', 'linux', 'windows', 'sql server'], ['bootstrap', 'bbdd', 'angularjs', 'microservicios', 'postgresql', 'material design', 'spring'], ['python', 'cplusplus'], ['sqa', 'sta'], ['shell scripting', 'azure'], ['seo', 'marketing', 'sem'], ['java'], ['sql', 'rest api'], ['java', 'spring'], ['sql', 'nosql', 'databricks', 'azure'], ['java', 'javascript', 'sap'], ['sap'], ['iso', 'spice', 'cmmi'], ['telecomunicaciones', 'redes', 'aeronautica'], ['html', '.net', 'angularjs'], ['kam'], ['.net'], ['confluence', 'trello', 'jira'], ['ux', 'ux/ui'], ['cplusplus', 'linux', 'c'], ['cplusplus', 'c#'], ['ux', 'ux/ui'], ['simulink', 'firmware', 'embedded software'], ['python', 'cplusplus', 'c', 'c#'], ['sap'], ['customer journey', 'marketing', 'pardot', 'magento'], ['python', 'aws', 'azure', 'etl'], ['html', 'javascript', 'css'], ['sharepoint', 'power bi', 'power automate', 'power apps'], ['php'], ['tomcat', 'eclipse', 'query', 'java', 'spring'], ['project manager'], ['apple', 'microsoft', 'linux'], ['cisa', 'ccnp security'], ['vpn', 'asa', 'cisco', 'firepowers'], ['excel vba', 'jira'], ['ciberseguridad'], ['pm', 'microsoft'], ['objective c', 'ios', 'swift'], ['reactjs'], ['linux', 'python', 'shell scripting', 'yaml', 'groovy'], ['cplusplus', 'qt', 'xml'], ['lstm', 'python', 'ner', 'tensorflow', 'nlp', 'mask facing'], ['j2ee', 'css', 'html', 'xml', 'angularjs', 'webservices', 'spring', 'ext js', 'ajax', 'json', 'sql server', 'hibernate', 'apache tomcat', '.net', 'java server faces', 'websockets', 'java', 'jquery', 'mysql', 'javascript', 'svn'], ['html', '.net', 'sql server'], ['linux', 'windows', 'google suite', 'o365'], ['sql'], ['abap', 'sap'], ['sql', 'clickview', 'power bi'], ['python'], ['security architecture'], ['php'], ['linux', 'windows', 'azure'], ['figma', 'sketch', 'adobe xd', 'html', 'ux/ui'], ['sage x3', 'dynamics', 'jd edwards', 'sap'], ['java', 'spring'], ['cplusplus'], ['php', 'puppet', 'lamp'], ['citrix', 'active directory', 'azure'], ['java', 'maven', 'poo', 'mysql', 'rest', 'spring'], ['ofimatica', 'it'], ['prince2', 'pmp'], ['sap'], ['ux/ui'], ['python', 'django'], ['java', 'microservices'], ['lamp', 'linux', 'mysql'], ['sql', 'power bi'], ['salesforce marketing cloud'], ['java', 'spring'], ['kubernetes', 'docker', 'sql', 'java', 'git', 'rest', 'spring'], ['software', 'web', 'testing', 'angularjs'], ['e commerce'], ['e commerce'], ['cplusplus', 'qt'], ['reactjs', 'angularjs', 'typescript', 'vuejs', 'javascript'], ['genesys suite', 'jira', 'atlassian'], ['osstmm', '.net'], ['firewall', 'checkpoint'], ['data', 'power bi', 'oracle'], ['active directory', 'cisco', 'windows', 'vmware'], ['sql', 'active directory', 'vmware', 'windows'], ['agile'], ['sccm'], ['java'], ['java', 'spring', 'angularjs'], ['php', 'drupal', 'api'], ['abap', 'sap'], ['google data studio', 'tag manager', 'google analytics'], ['reactjs'], ['angularjs'], ['.net', 'c#', 'api'], ['css', 'reactjs', 'javascript', 'html5'], ['telecomunicaciones', 'gnss', 'radiocomunicaciones'], ['aws'], ['sap'], ['sql', 'power bi', 'crm'], ['cplusplus', 'linux', 'visual studio'], ['python', 'typescript', 'angularjs'], ['dynamics'], ['unix', 'seguridad', 'cloud'], ['jest', 'html', 'reactjs', 'redux'], ['windows'], ['vmware', 'windows server'], ['nodejs', 'vuejs'], ['software', 'hardware'], ['reactjs'], ['checkpoint', 'aruba', 'meraki', 'palo alto', 'fortinet', 'cisco'], ['java', 'web services', 'jsp', 'rest', 'spring'], ['python'], ['windows', 'o365'], ['java', 'rest api'], ['vmware', 'linux'], ['reactjs', 'javascript', 'angularjs', 'vuejs'], ['reactjs', 'angularjs'], ['mvc', '.net', 'angularjs'], ['ruby on rails', 'tdd', 'oop', 'desarrollo web', 'ruby'], ['r', 'sas', 'sql', 'ctms', 'edc', 'spss'], ['python', 'cplusplus', 'c#'], ['python', 'qa', 'testing', 'cucumber', 'selenium', 'gherkin'], ['java', 'kotling', 'android'], ['vmware', 'linux', 'windows'], ['cplusplus'], ['aws', 'google cloud platform', 'jenkins'], ['vmware', 'windows server'], ['python'], ['python', 'data factory', 'spark', 'eventhubs'], ['integrador it'], ['php', 'laravel', 'symfony', 'codeingniter'], ['microinformatica'], ['vrealize', 'vcenter', 'vmware', 'vcloud'], ['vcenter', 'windows', 'vsphere'], ['java', 'html', 'javascript'], ['express', 'nodejs', 'angularjs', 'mongodb'], ['power bi'], ['java'], ['python', 'spark', 'docker'], ['agile'], ['search ads 360', 'google adwords', 'bing ads'], ['axapta', 'dynamics'], ['sap', 'abap'], ['symfony', 'gitflow', 'php', 'scss', 'javascript'], ['symfony', 'git'], ['reactjs', 'gitflow', 'twig', 'html', 'scss', 'javascript'], ['salesforce', 'apex'], ['sap'], ['python', 'r'], ['php', 'webservices', 'git'], ['sql', 'abap', 'sap'], ['python', 'java'], ['cplusplus'], ['siem'], ['java', 'rest api'], ['kubernetes', 'git', 'docker', 'maven', 'jenkins'], ['rdf', 'rdfs/owl', 'skos', 'sparql', 'semantic'], ['aws', 'google cloud platform', 'terraform', 'ansible', 'azure'], ['gcp', 'aws', 'grafana', 'terraform', 'linux', 'kubernetes', 'mongo db', 'elk stack', 'prometheus', 'docker', 'git', 'azure', 'helm'], ['aws', 'lamda', 'cloudfront', 'cognito'], ['reactjs', 'javaee', 'nodejs', 'angularjs', 'hibernate', 'html', 'javascript', 'spring'], ['sage x3', 'dynamics', 'jd edwards', 'sap'], ['php', 'reactjs', 'nodejs'], ['agile', 'scrum'], ['ppc', 'marketing'], ['objective c', 'cplusplus', 'android'], ['sap'], ['python', 'labview'], ['j2ee', 'angularjs', 'microservicios', 'java', 'rest', 'agile'], ['reactjs', 'javascript', 'typescript', '.net'], ['sap'], ['ios', 'android', 'swift', 'objective c', 'java', 'kotlin'], ['java', 'restemplate', 'microservicios', 'spring'], ['sql', 'power bi', 'etl'], ['navision'], ['reactjs', 'j2ee', 'angularjs', 'java', 'vuejs', 'javascript'], ['java', 'spring', 'microservicios', 'angularjs'], ['aws', 'kubernetes', 'docker', 'java', 'spring'], ['ppc'], ['qlik'], ['jenkins', 'jira', 'alm'], ['python', 'azure'], ['outsourcing', 'it'], ['analytics'], ['confluence', 'testrate', 'jira', 'x rays'], ['python', 'lua', '.net', 'azure'], ['microsoft ax'], ['scala', 'java', 'r', 'cplusplus'], ['reactjs', 'native'], ['sap'], ['aws', 'reactjs', 'api', 'angularjs', 'ci/cd', 'java', 'azure', 'spring'], ['cplusplus', 'linux', 'c', 'golang'], ['java', 'c#'], ['marketing'], ['navision'], ['sql', 'power bi', 'sap'], ['.net', 'angularjs'], ['ionic', 'ios', 'reactjs', 'android'], ['java', 'spring'], ['c#', 't sql', 'sql server'], ['redux', 'reactjs', 'ecmascript'], ['sdlc'], ['microsoft office', 'prince', 'pmp'], ['zendesk', 'iot', 'intercom'], ['ppc', 'analytics'], ['dynamics'], ['php', 'javascript'], ['recruitment', 'software'], ['python', 'r', 'spark', 'sql', 'hadoop'], ['sap'], ['analytics'], ['git', 'java', 'maven', 'jenkins', 'junit', 'spring'], ['ios', 'android', 'flutter'], ['ui5', 'sap', 'abap', 'javascript', 'fiori'], ['php', 'python'], ['erp', 'mes'], ['sap'], ['aws', 'linux', 'jenkins', 'docker'], ['power bi', '.net'], ['j2ee', 'java', 'hibernate', 'swing', 'java fx'], ['m3', 'sap'], ['qlik', 'power bi'], ['python', '.net'], ['rpgle', 'cobol', 'as/400'], ['ssis', 'ssrs', 'sql server', 'power bi', 'ssas'], ['aws', 'kubernetes', 'cd', 'ci', 'git', 'docker', 'java', 'oracle'], ['tia portal', 'step 7', 'plc']]\n",
            "['php', 'lms', 'moodle', 'mysql']\n",
            "php\n",
            "336\n"
          ]
        }
      ]
    },
    {
      "cell_type": "code",
      "source": [
        "# ponemos todas las tecnologías en una sola lista\n",
        "skills_arr = [elemento for fila in skills_matrix for elemento in fila]\n",
        "len(skills_arr)"
      ],
      "metadata": {
        "id": "-lAH7RG5r2BR",
        "outputId": "e6838de7-9606-4810-b6f9-c3be6c9f1b76",
        "colab": {
          "base_uri": "https://localhost:8080/"
        }
      },
      "execution_count": 31,
      "outputs": [
        {
          "output_type": "execute_result",
          "data": {
            "text/plain": [
              "17512"
            ]
          },
          "metadata": {},
          "execution_count": 31
        }
      ]
    },
    {
      "cell_type": "code",
      "source": [
        "from collections import Counter\n",
        "\n",
        "# Contar la frecuencia de cada elemento\n",
        "frecuencias = Counter(skills_arr)\n",
        "\n",
        "# Frecuencia mínima deseada\n",
        "frecuencia_minima = 50\n",
        "\n",
        "# Crear una lista de tuplas con las claves y valores filtrados según la frecuencia mínima\n",
        "tuplas_filtradas = [(skill, frecuencia) for skill, frecuencia in frecuencias.items() if frecuencia >= frecuencia_minima]\n",
        "\n",
        "# Ordenar la lista de tuplas por frecuencia descendente\n",
        "tuplas_ordenadas = sorted(tuplas_filtradas, key=lambda x: x[1], reverse=True)\n",
        "\n",
        "print(len(tuplas_ordenadas))\n",
        "print(tuplas_ordenadas)"
      ],
      "metadata": {
        "id": "LndoEVx-wCIm",
        "outputId": "b5b7330d-27fa-4934-effc-cdcc1dc0045b",
        "colab": {
          "base_uri": "https://localhost:8080/"
        }
      },
      "execution_count": 35,
      "outputs": [
        {
          "output_type": "stream",
          "name": "stdout",
          "text": [
            "71\n",
            "[('java', 801), ('.net', 469), ('sql', 345), ('linux', 338), ('python', 336), ('javascript', 334), ('angularjs', 333), ('spring', 298), ('azure', 259), ('sap', 258), ('windows', 256), ('php', 243), ('c#', 233), ('oracle', 222), ('reactjs', 219), ('aws', 217), ('cplusplus', 187), ('css', 173), ('html', 160), ('git', 152), ('nodejs', 140), ('redes', 127), ('sql server', 122), ('jira', 117), ('jenkins', 115), ('microservicios', 115), ('docker', 115), ('mysql', 111), ('qa', 111), ('agile', 110), ('cloud', 109), ('vmware', 103), ('kubernetes', 102), ('api', 101), ('soporte', 100), ('scrum', 99), ('typescript', 93), ('android', 92), ('c', 91), ('power bi', 89), ('devops', 85), ('ciberseguridad', 83), ('marketing', 80), ('ios', 78), ('data', 74), ('active directory', 73), ('cisco', 73), ('dynamics', 72), ('vuejs', 71), ('unix', 69), ('pl/sql', 67), ('testing', 66), ('laravel', 65), ('software', 63), ('rest', 62), ('microinformatica', 62), ('selenium', 58), ('helpdesk', 57), ('j2ee', 57), ('etl', 56), ('postgresql', 54), ('itil', 53), ('kotlin', 53), ('maven', 53), ('hibernate', 52), ('html5', 52), ('windows server', 51), ('spark', 50), ('electronica', 50), ('tester', 50), ('cobol', 50)]\n"
          ]
        }
      ]
    }
  ]
}