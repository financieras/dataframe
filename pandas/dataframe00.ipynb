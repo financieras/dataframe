{
  "cells": [
    {
      "cell_type": "markdown",
      "metadata": {
        "id": "view-in-github",
        "colab_type": "text"
      },
      "source": [
        "<a href=\"https://colab.research.google.com/github/financieras/dataframe/blob/main/pandas/dataframe00.ipynb\" target=\"_parent\"><img src=\"https://colab.research.google.com/assets/colab-badge.svg\" alt=\"Open In Colab\"/></a>"
      ]
    },
    {
      "cell_type": "markdown",
      "source": [
        "## Apuntes de Pandas: El DataFrame (DataFrame)\n",
        "\n",
        "Pasemos al pilar central de Pandas y la estructura de datos que usarás en el 95% de los proyectos: el **DataFrame**.\n",
        "\n",
        "### 1\\. Concepto: ¿Qué es un DataFrame?\n",
        "\n",
        "Si una **Serie** era una sola columna, un **DataFrame** es la tabla completa: una **estructura bidimensional** con filas y columnas, muy similar a una hoja de cálculo de Excel o a una tabla de una base de datos.\n",
        "\n",
        "[Image of a spreadsheet with rows and columns]\n",
        "\n",
        "Es la estructura de datos más utilizada en Pandas. Es importante recordar que **cada columna de un DataFrame es, en realidad, una Serie de Pandas**. Todas las columnas comparten el mismo índice de filas.\n",
        "\n",
        "| Componente | Definición |\n",
        "| :--- | :--- |\n",
        "| **Índice ($\\\\text{Index}$)** | Las etiquetas de las **filas** (por defecto, 0, 1, 2...). |\n",
        "| **Columnas ($\\\\text{Columns}$)** | Las etiquetas de las **columnas** (los nombres). |\n",
        "| **Datos ($\\\\text{Data}$)** | Los valores que contiene la tabla. |\n",
        "\n",
        "-----\n",
        "\n",
        "### 2\\. Creación de DataFrames\n",
        "\n",
        "Aunque la forma más habitual de trabajar con DataFrames es cargándolos desde ficheros ($\\\\text{CSV}$, $\\\\text{Excel}$, etc.), es esencial saber crearlos a mano para entender su estructura interna.\n",
        "\n",
        "#### Ejemplo 1: A partir de un Diccionario de Listas ($\\\\text{Método más Común}$)\n",
        "\n",
        "Esta es la forma más directa y popular. Las **claves** del diccionario son los **nombres de las columnas**, y los **valores** son las listas de datos."
      ],
      "metadata": {
        "id": "GFonYkA5JkDL"
      }
    },
    {
      "cell_type": "code",
      "source": [
        "import pandas as pd\n",
        "\n",
        "# Creamos un diccionario donde cada clave es una columna\n",
        "datos_ventas = {\n",
        "    'Dia': ['Lunes', 'Martes', 'Miércoles', 'Jueves'],\n",
        "    'Ventas': [150, 200, 120, 310],\n",
        "    'Visitantes': [25, 35, 18, 40]\n",
        "}\n",
        "\n",
        "# Creamos el DataFrame\n",
        "df_ventas = pd.DataFrame(datos_ventas)\n",
        "\n",
        "print(df_ventas)"
      ],
      "outputs": [],
      "execution_count": null,
      "metadata": {
        "id": "kx2WWg6OJkDR"
      }
    },
    {
      "cell_type": "markdown",
      "source": [
        "**Resultado:**\n",
        "\n",
        "```\n",
        "         Dia  Ventas  Visitantes\n",
        "0      Lunes     150          25\n",
        "1     Martes     200          35\n",
        "2  Miércoles     120          18\n",
        "3     Jueves     310          40\n",
        "```\n",
        "\n",
        "-----\n",
        "\n",
        "#### Ejemplo 2: A partir de una Lista de Diccionarios ($\\\\text{Método Orientado a Filas}$)\n",
        "\n",
        "Este método es muy útil cuando los datos se generan o se recuperan fila por fila (por ejemplo, desde una $\\\\text{API}$). Cada diccionario de la lista representa una **fila**."
      ],
      "metadata": {
        "id": "rzLLrTAdJkDU"
      }
    },
    {
      "cell_type": "code",
      "source": [
        "import pandas as pd\n",
        "\n",
        "# Creamos una lista donde cada diccionario es una fila\n",
        "datos_alumnos = [\n",
        "    {'nombre': 'Ana', 'edad': 22, 'ciudad': 'Madrid'},\n",
        "    {'nombre': 'Luis', 'edad': 25, 'ciudad': 'Barcelona'},\n",
        "    {'nombre': 'Marta', 'edad': 23, 'ciudad': 'Valencia'}\n",
        "]\n",
        "\n",
        "# Creamos el DataFrame\n",
        "df_alumnos = pd.DataFrame(datos_alumnos)\n",
        "\n",
        "print(df_alumnos)"
      ],
      "outputs": [],
      "execution_count": null,
      "metadata": {
        "id": "Oo213uvXJkDW"
      }
    },
    {
      "cell_type": "markdown",
      "source": [
        "**Resultado:**\n",
        "\n",
        "```\n",
        "  nombre  edad     ciudad\n",
        "0    Ana    22     Madrid\n",
        "1   Luis    25  Barcelona\n",
        "2  Marta    23   Valencia\n",
        "```\n",
        "\n",
        "-----\n",
        "\n",
        "### 3\\. Reto Práctico: Dataframe de Países y Capitales\n",
        "\n",
        "**Enunciado:** Crear un $\\\\text{DataFrame}$ llamado $\\\\text{df\\_paises}$ con 3 columnas ($\\\\text{pais}$, $\\\\text{capital}$ y $\\\\text{poblacion}$ en millones) y 4 filas de países a tu elección.\n",
        "\n",
        "A continuación, se muestran los dos métodos principales para resolverlo.\n",
        "\n",
        "#### Solución A: Usando una Lista de Diccionarios ($\\\\text{Tu Propuesta}$)\n",
        "\n",
        "Este método es legible y natural, organizando la información por entidad (fila)."
      ],
      "metadata": {
        "id": "DjWeWO5sJkDX"
      }
    },
    {
      "cell_type": "code",
      "source": [
        "import pandas as pd\n",
        "\n",
        "# Lista donde cada diccionario es una fila\n",
        "df_paises = [\n",
        "    {'pais': 'España', 'capital': 'Madrid', 'poblacion': 49.1},\n",
        "    {'pais': 'Francia', 'capital': 'París', 'poblacion': 68.6},\n",
        "    {'pais': 'Alemania', 'capital': 'Berlín', 'poblacion': 83.6},\n",
        "    {'pais': 'Italia', 'capital': 'Roma', 'poblacion': 58.9}\n",
        "]\n",
        "\n",
        "# Creación del DataFrame\n",
        "df_paises = pd.DataFrame(df_paises)\n",
        "\n",
        "print(df_paises)"
      ],
      "outputs": [],
      "execution_count": null,
      "metadata": {
        "id": "Q2EGa_L2JkDY"
      }
    },
    {
      "cell_type": "markdown",
      "source": [
        "#### Solución B: Usando un Diccionario de Listas ($\\\\text{Método Alternativo}$)\n",
        "\n",
        "Este método es más **conciso** y se alinea con la forma en que Pandas organiza los datos internamente (por columnas)."
      ],
      "metadata": {
        "id": "e2cnR6LlJkDa"
      }
    },
    {
      "cell_type": "code",
      "source": [
        "import pandas as pd\n",
        "\n",
        "# Diccionario donde cada clave es una columna\n",
        "datos_paises = {\n",
        "    'pais': ['España', 'Francia', 'Alemania', 'Italia'],\n",
        "    'capital': ['Madrid', 'París', 'Berlín', 'Roma'],\n",
        "    'poblacion': [49.1, 68.6, 83.6, 58.9]\n",
        "}\n",
        "\n",
        "# Creación del DataFrame\n",
        "df_paises_alt = pd.DataFrame(datos_paises)\n",
        "\n",
        "print(df_paises_alt)"
      ],
      "outputs": [],
      "execution_count": null,
      "metadata": {
        "id": "KH99VrWPJkDb"
      }
    },
    {
      "cell_type": "markdown",
      "source": [
        "**Resultado de ambos métodos:**\n",
        "\n",
        "```\n",
        "       pais capital  poblacion\n",
        "0    España  Madrid       49.1\n",
        "1   Francia   París       68.6\n",
        "2  Alemania  Berlín       83.6\n",
        "3     Italia    Roma       58.9\n",
        "```"
      ],
      "metadata": {
        "id": "uyRGAPvFJkDc"
      }
    }
  ],
  "metadata": {
    "colab": {
      "provenance": [],
      "include_colab_link": true
    },
    "kernelspec": {
      "display_name": "Python 3",
      "name": "python3"
    }
  },
  "nbformat": 4,
  "nbformat_minor": 0
}