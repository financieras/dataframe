{
  "nbformat": 4,
  "nbformat_minor": 0,
  "metadata": {
    "colab": {
      "provenance": [],
      "authorship_tag": "ABX9TyNDiL85hC0DKUAVk8L2+KWT",
      "include_colab_link": true
    },
    "kernelspec": {
      "name": "python3",
      "display_name": "Python 3"
    },
    "language_info": {
      "name": "python"
    }
  },
  "cells": [
    {
      "cell_type": "markdown",
      "metadata": {
        "id": "view-in-github",
        "colab_type": "text"
      },
      "source": [
        "<a href=\"https://colab.research.google.com/github/financieras/dataframe/blob/main/pandas/010_series_1.ipynb\" target=\"_parent\"><img src=\"https://colab.research.google.com/assets/colab-badge.svg\" alt=\"Open In Colab\"/></a>"
      ]
    },
    {
      "cell_type": "markdown",
      "source": [
        "# Series\n",
        "\n",
        "## 1. ¿Qué es una Serie?\n",
        "\n",
        "Una Serie de Pandas es como una **columna en una hoja de cálculo**.  \n",
        "Es un array de una sola dimensión que puede contener cualquier tipo de dato (números, texto, fechas, etc.).\n",
        "\n",
        "La diferencia con las listas es que cada elemento tiene una etiqueta asociada, llamada **índice** (index).\n",
        "\n",
        "Una serie se compone de dos partes:\n",
        "\n",
        "  * **Valores (Values)**: La lista de datos en sí.\n",
        "  * **Índice (Index)**: Las etiquetas que identifican a cada dato.\n",
        "\n",
        "Si no especificamos un índice, Pandas creará uno numérico por defecto que empieza en 0."
      ],
      "metadata": {
        "id": "F6p1yz8vBWi2"
      }
    },
    {
      "cell_type": "code",
      "source": [
        "# El primer paso siempre es importar la librería.\n",
        "# La convención es usar el alias 'pd'.\n",
        "import pandas as pd"
      ],
      "metadata": {
        "id": "rXsgGUtvCVaV"
      },
      "execution_count": 1,
      "outputs": []
    },
    {
      "cell_type": "markdown",
      "source": [
        "## 2. Creación de Series\n",
        "\n",
        "Podemos crear Series de Pandas de varias maneras.\n",
        "\n",
        "### Ejemplo 1: A partir de una lista de Python\n",
        "\n",
        "Es la forma más básica. Pandas asignará un índice numérico automáticamente."
      ],
      "metadata": {
        "id": "ZoIIEB0-Cg98"
      }
    },
    {
      "cell_type": "code",
      "source": [
        "# Creamos una lista\n",
        "frutas_lista = ['Manzana', 'Naranja', 'Pera', 'Plátano']\n",
        "\n",
        "# Creamos la Serie a partir de la lista\n",
        "serie_frutas = pd.Series(frutas_lista)\n",
        "\n",
        "serie_frutas"
      ],
      "metadata": {
        "colab": {
          "base_uri": "https://localhost:8080/",
          "height": 210
        },
        "id": "Q-D3IUjSCtIq",
        "outputId": "e5470f0e-8883-4787-cff9-4ea73d717a69"
      },
      "execution_count": 3,
      "outputs": [
        {
          "output_type": "execute_result",
          "data": {
            "text/plain": [
              "0    Manzana\n",
              "1    Naranja\n",
              "2       Pera\n",
              "3    Plátano\n",
              "dtype: object"
            ],
            "text/html": [
              "<div>\n",
              "<style scoped>\n",
              "    .dataframe tbody tr th:only-of-type {\n",
              "        vertical-align: middle;\n",
              "    }\n",
              "\n",
              "    .dataframe tbody tr th {\n",
              "        vertical-align: top;\n",
              "    }\n",
              "\n",
              "    .dataframe thead th {\n",
              "        text-align: right;\n",
              "    }\n",
              "</style>\n",
              "<table border=\"1\" class=\"dataframe\">\n",
              "  <thead>\n",
              "    <tr style=\"text-align: right;\">\n",
              "      <th></th>\n",
              "      <th>0</th>\n",
              "    </tr>\n",
              "  </thead>\n",
              "  <tbody>\n",
              "    <tr>\n",
              "      <th>0</th>\n",
              "      <td>Manzana</td>\n",
              "    </tr>\n",
              "    <tr>\n",
              "      <th>1</th>\n",
              "      <td>Naranja</td>\n",
              "    </tr>\n",
              "    <tr>\n",
              "      <th>2</th>\n",
              "      <td>Pera</td>\n",
              "    </tr>\n",
              "    <tr>\n",
              "      <th>3</th>\n",
              "      <td>Plátano</td>\n",
              "    </tr>\n",
              "  </tbody>\n",
              "</table>\n",
              "</div><br><label><b>dtype:</b> object</label>"
            ]
          },
          "metadata": {},
          "execution_count": 3
        }
      ]
    },
    {
      "cell_type": "markdown",
      "source": [
        "### Ejemplo 2: Creando una Serie con un índice personalizado\n",
        "\n",
        "Podemos definir nuestras propias etiquetas para el índice, lo que hace que los datos sean mucho más descriptivos. Para ello, usamos el argumento `index`."
      ],
      "metadata": {
        "id": "mFvAHc-uC3uz"
      }
    },
    {
      "cell_type": "code",
      "source": [
        "# Datos de ventas y etiquetas para el índice\n",
        "ventas_datos = [150, 200, 120, 310]\n",
        "dias_semana = ['Lunes', 'Martes', 'Miércoles', 'Jueves']\n",
        "\n",
        "# Creamos la Serie especificando ambos argumentos\n",
        "serie_ventas = pd.Series(data=ventas_datos, index=dias_semana)\n",
        "\n",
        "serie_ventas"
      ],
      "metadata": {
        "colab": {
          "base_uri": "https://localhost:8080/",
          "height": 210
        },
        "id": "I5l5SJYQDKAu",
        "outputId": "8dc86755-617e-4863-868a-6377fadd3022"
      },
      "execution_count": 4,
      "outputs": [
        {
          "output_type": "execute_result",
          "data": {
            "text/plain": [
              "Lunes        150\n",
              "Martes       200\n",
              "Miércoles    120\n",
              "Jueves       310\n",
              "dtype: int64"
            ],
            "text/html": [
              "<div>\n",
              "<style scoped>\n",
              "    .dataframe tbody tr th:only-of-type {\n",
              "        vertical-align: middle;\n",
              "    }\n",
              "\n",
              "    .dataframe tbody tr th {\n",
              "        vertical-align: top;\n",
              "    }\n",
              "\n",
              "    .dataframe thead th {\n",
              "        text-align: right;\n",
              "    }\n",
              "</style>\n",
              "<table border=\"1\" class=\"dataframe\">\n",
              "  <thead>\n",
              "    <tr style=\"text-align: right;\">\n",
              "      <th></th>\n",
              "      <th>0</th>\n",
              "    </tr>\n",
              "  </thead>\n",
              "  <tbody>\n",
              "    <tr>\n",
              "      <th>Lunes</th>\n",
              "      <td>150</td>\n",
              "    </tr>\n",
              "    <tr>\n",
              "      <th>Martes</th>\n",
              "      <td>200</td>\n",
              "    </tr>\n",
              "    <tr>\n",
              "      <th>Miércoles</th>\n",
              "      <td>120</td>\n",
              "    </tr>\n",
              "    <tr>\n",
              "      <th>Jueves</th>\n",
              "      <td>310</td>\n",
              "    </tr>\n",
              "  </tbody>\n",
              "</table>\n",
              "</div><br><label><b>dtype:</b> int64</label>"
            ]
          },
          "metadata": {},
          "execution_count": 4
        }
      ]
    },
    {
      "cell_type": "markdown",
      "source": [
        "### Ejemplo 3: A partir de un diccionario de Python\n",
        "\n",
        "Esta es una forma muy intuitiva. Pandas usará automáticamente:\n",
        "\n",
        "  * Las **claves** del diccionario como el **índice**.\n",
        "  * Los **valores** del diccionario como los **valores** de la Serie."
      ],
      "metadata": {
        "id": "GIr0SzSYDeIt"
      }
    },
    {
      "cell_type": "code",
      "source": [
        "# Creamos un diccionario\n",
        "poblacion_dict = {'Madrid': 3.3, 'Barcelona': 1.6, 'Valencia': 0.8}\n",
        "\n",
        "# Creamos la Serie directamente desde el diccionario\n",
        "serie_poblacion = pd.Series(poblacion_dict)\n",
        "\n",
        "serie_poblacion"
      ],
      "metadata": {
        "colab": {
          "base_uri": "https://localhost:8080/",
          "height": 178
        },
        "id": "odxPJAV7DhrR",
        "outputId": "7fbf693e-475c-46eb-fb7d-b8b0333af6fc"
      },
      "execution_count": 6,
      "outputs": [
        {
          "output_type": "execute_result",
          "data": {
            "text/plain": [
              "Madrid       3.3\n",
              "Barcelona    1.6\n",
              "Valencia     0.8\n",
              "dtype: float64"
            ],
            "text/html": [
              "<div>\n",
              "<style scoped>\n",
              "    .dataframe tbody tr th:only-of-type {\n",
              "        vertical-align: middle;\n",
              "    }\n",
              "\n",
              "    .dataframe tbody tr th {\n",
              "        vertical-align: top;\n",
              "    }\n",
              "\n",
              "    .dataframe thead th {\n",
              "        text-align: right;\n",
              "    }\n",
              "</style>\n",
              "<table border=\"1\" class=\"dataframe\">\n",
              "  <thead>\n",
              "    <tr style=\"text-align: right;\">\n",
              "      <th></th>\n",
              "      <th>0</th>\n",
              "    </tr>\n",
              "  </thead>\n",
              "  <tbody>\n",
              "    <tr>\n",
              "      <th>Madrid</th>\n",
              "      <td>3.3</td>\n",
              "    </tr>\n",
              "    <tr>\n",
              "      <th>Barcelona</th>\n",
              "      <td>1.6</td>\n",
              "    </tr>\n",
              "    <tr>\n",
              "      <th>Valencia</th>\n",
              "      <td>0.8</td>\n",
              "    </tr>\n",
              "  </tbody>\n",
              "</table>\n",
              "</div><br><label><b>dtype:</b> float64</label>"
            ]
          },
          "metadata": {},
          "execution_count": 6
        }
      ]
    },
    {
      "cell_type": "markdown",
      "source": [
        "## 3\\. Reto Práctico: Puntuaciones de Películas\n",
        "\n",
        "**Enunciado:** Crear una Serie llamada `puntuaciones_peliculas` que contenga las puntuaciones (del 1 al 10) de 4 películas, usando el título de la película como índice.\n",
        "\n",
        "A continuación se muestran dos formas de resolverlo."
      ],
      "metadata": {
        "id": "v7a0XJzpDrSM"
      }
    },
    {
      "cell_type": "markdown",
      "source": [
        "### Método 1: Usando un Diccionario\n",
        "\n",
        "Este método es muy claro y lógico. Primero se preparan los datos en estructuras de Python (listas), luego se combinan en un diccionario y, finalmente, se crea la Serie.  \n",
        "Es una solución excelente por su legibilidad."
      ],
      "metadata": {
        "id": "3Z_wJALsD6yt"
      }
    },
    {
      "cell_type": "code",
      "source": [
        "# 1. Definimos las listas\n",
        "titulos = [\"Psycho\", \"Gladiator\", \"Amélie\", \"Inception\"]\n",
        "puntuaciones = [8.7, 9.1, 8.3, 9.0]\n",
        "\n",
        "# 2. Combinamos las listas en un diccionario\n",
        "dic_films = dict(zip(titulos, puntuaciones))\n",
        "\n",
        "# 3. Creamos la Serie a partir del diccionario\n",
        "puntuaciones_peliculas = pd.Series(dic_films)\n",
        "\n",
        "puntuaciones_peliculas"
      ],
      "metadata": {
        "colab": {
          "base_uri": "https://localhost:8080/",
          "height": 210
        },
        "id": "otAPDgfUEKcM",
        "outputId": "26cf61a7-f787-4923-f9d3-b423edf71d44"
      },
      "execution_count": 8,
      "outputs": [
        {
          "output_type": "execute_result",
          "data": {
            "text/plain": [
              "Psycho       8.7\n",
              "Gladiator    9.1\n",
              "Amélie       8.3\n",
              "Inception    9.0\n",
              "dtype: float64"
            ],
            "text/html": [
              "<div>\n",
              "<style scoped>\n",
              "    .dataframe tbody tr th:only-of-type {\n",
              "        vertical-align: middle;\n",
              "    }\n",
              "\n",
              "    .dataframe tbody tr th {\n",
              "        vertical-align: top;\n",
              "    }\n",
              "\n",
              "    .dataframe thead th {\n",
              "        text-align: right;\n",
              "    }\n",
              "</style>\n",
              "<table border=\"1\" class=\"dataframe\">\n",
              "  <thead>\n",
              "    <tr style=\"text-align: right;\">\n",
              "      <th></th>\n",
              "      <th>0</th>\n",
              "    </tr>\n",
              "  </thead>\n",
              "  <tbody>\n",
              "    <tr>\n",
              "      <th>Psycho</th>\n",
              "      <td>8.7</td>\n",
              "    </tr>\n",
              "    <tr>\n",
              "      <th>Gladiator</th>\n",
              "      <td>9.1</td>\n",
              "    </tr>\n",
              "    <tr>\n",
              "      <th>Amélie</th>\n",
              "      <td>8.3</td>\n",
              "    </tr>\n",
              "    <tr>\n",
              "      <th>Inception</th>\n",
              "      <td>9.0</td>\n",
              "    </tr>\n",
              "  </tbody>\n",
              "</table>\n",
              "</div><br><label><b>dtype:</b> float64</label>"
            ]
          },
          "metadata": {},
          "execution_count": 8
        }
      ]
    },
    {
      "cell_type": "markdown",
      "source": [
        "### Método 2: Directamente desde Listas\n",
        "\n",
        "Esta es la forma más \"nativa\" de Pandas cuando ya tienes los datos en listas separadas.  \n",
        "Se evita el paso intermedio de crear el diccionario, haciendo el código un poco más conciso.  \n",
        "Se usan los argumentos `data` e `index`."
      ],
      "metadata": {
        "id": "r3dar0gtBT8l"
      }
    },
    {
      "cell_type": "code",
      "source": [
        "# 1. Definimos las listas\n",
        "titulos = [\"Psycho\", \"Gladiator\", \"Amélie\", \"Inception\"]\n",
        "puntuaciones = [8.7, 9.1, 8.3, 9.0]\n",
        "\n",
        "# 2. Creamos la Serie directamente desde las dos listas\n",
        "puntuaciones_peliculas_directo = pd.Series(data=puntuaciones, index=titulos)\n",
        "\n",
        "puntuaciones_peliculas_directo"
      ],
      "metadata": {
        "colab": {
          "base_uri": "https://localhost:8080/",
          "height": 210
        },
        "id": "9IOX1CuZEggO",
        "outputId": "4062e92a-d2de-46b9-e332-8f2a2011f506"
      },
      "execution_count": 9,
      "outputs": [
        {
          "output_type": "execute_result",
          "data": {
            "text/plain": [
              "Psycho       8.7\n",
              "Gladiator    9.1\n",
              "Amélie       8.3\n",
              "Inception    9.0\n",
              "dtype: float64"
            ],
            "text/html": [
              "<div>\n",
              "<style scoped>\n",
              "    .dataframe tbody tr th:only-of-type {\n",
              "        vertical-align: middle;\n",
              "    }\n",
              "\n",
              "    .dataframe tbody tr th {\n",
              "        vertical-align: top;\n",
              "    }\n",
              "\n",
              "    .dataframe thead th {\n",
              "        text-align: right;\n",
              "    }\n",
              "</style>\n",
              "<table border=\"1\" class=\"dataframe\">\n",
              "  <thead>\n",
              "    <tr style=\"text-align: right;\">\n",
              "      <th></th>\n",
              "      <th>0</th>\n",
              "    </tr>\n",
              "  </thead>\n",
              "  <tbody>\n",
              "    <tr>\n",
              "      <th>Psycho</th>\n",
              "      <td>8.7</td>\n",
              "    </tr>\n",
              "    <tr>\n",
              "      <th>Gladiator</th>\n",
              "      <td>9.1</td>\n",
              "    </tr>\n",
              "    <tr>\n",
              "      <th>Amélie</th>\n",
              "      <td>8.3</td>\n",
              "    </tr>\n",
              "    <tr>\n",
              "      <th>Inception</th>\n",
              "      <td>9.0</td>\n",
              "    </tr>\n",
              "  </tbody>\n",
              "</table>\n",
              "</div><br><label><b>dtype:</b> float64</label>"
            ]
          },
          "metadata": {},
          "execution_count": 9
        }
      ]
    }
  ]
}